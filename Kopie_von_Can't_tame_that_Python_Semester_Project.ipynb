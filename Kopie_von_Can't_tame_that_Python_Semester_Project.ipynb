{
  "nbformat": 4,
  "nbformat_minor": 0,
  "metadata": {
    "colab": {
      "provenance": [],
      "include_colab_link": true
    },
    "kernelspec": {
      "name": "python3",
      "display_name": "Python 3"
    },
    "language_info": {
      "name": "python"
    }
  },
  "cells": [
    {
      "cell_type": "markdown",
      "metadata": {
        "id": "view-in-github",
        "colab_type": "text"
      },
      "source": [
        "<a href=\"https://colab.research.google.com/github/Pramsi/Can-t_tame_that_Python_Semester_Project/blob/multi-label-classification_try/Kopie_von_Can't_tame_that_Python_Semester_Project.ipynb\" target=\"_parent\"><img src=\"https://colab.research.google.com/assets/colab-badge.svg\" alt=\"Open In Colab\"/></a>"
      ]
    },
    {
      "cell_type": "markdown",
      "source": [
        "#Imports"
      ],
      "metadata": {
        "id": "JfslTEBYzR_Y"
      }
    },
    {
      "cell_type": "code",
      "source": [
        "#for data manipulation\n",
        "import numpy as np\n",
        "import pandas as pd\n",
        "\n",
        "#for data visualization\n",
        "import matplotlib.pyplot as plt\n",
        "import seaborn as sns\n",
        "\n",
        "#Other tooling\n",
        "import os\n",
        "\n",
        "#NLP\n",
        "import nltk\n",
        "nltk.download('stopwords')\n",
        "nltk.download('punkt')\n",
        "from nltk.corpus import stopwords\n",
        "from nltk.tokenize import word_tokenize\n",
        "import re\n",
        "!pip install --upgrade emoji\n",
        "import emoji\n",
        "from sklearn.feature_extraction.text import CountVectorizer\n",
        "from sklearn.feature_extraction.text import TfidfVectorizer\n",
        "\n",
        "#Machine Learning\n",
        "from sklearn.model_selection import train_test_split\n",
        "from sklearn.model_selection import GridSearchCV\n",
        "from sklearn.svm import SVC\n",
        "from sklearn.linear_model import LinearRegression\n",
        "from sklearn.linear_model import LogisticRegression\n",
        "from sklearn.ensemble import RandomForestClassifier\n",
        "from sklearn.naive_bayes import MultinomialNB\n",
        "from sklearn.preprocessing import LabelEncoder\n",
        "from sklearn.metrics import classification_report, confusion_matrix\n",
        "from sklearn.metrics import accuracy_score, precision_score, recall_score, f1_score\n",
        "from sklearn.preprocessing import MultiLabelBinarizer\n",
        "from sklearn.multiclass import OneVsRestClassifier"
      ],
      "metadata": {
        "id": "vc3bgf0j7bvu",
        "colab": {
          "base_uri": "https://localhost:8080/"
        },
        "outputId": "0732bc23-204b-4602-8b78-c7f0ada9b17b"
      },
      "execution_count": 87,
      "outputs": [
        {
          "output_type": "stream",
          "name": "stderr",
          "text": [
            "[nltk_data] Downloading package stopwords to /root/nltk_data...\n",
            "[nltk_data]   Package stopwords is already up-to-date!\n",
            "[nltk_data] Downloading package punkt to /root/nltk_data...\n",
            "[nltk_data]   Package punkt is already up-to-date!\n"
          ]
        },
        {
          "output_type": "stream",
          "name": "stdout",
          "text": [
            "Requirement already satisfied: emoji in /usr/local/lib/python3.10/dist-packages (2.9.0)\n"
          ]
        }
      ]
    },
    {
      "cell_type": "markdown",
      "source": [
        "#Import Datafiles"
      ],
      "metadata": {
        "id": "j-_VIWYJQ5Eh"
      }
    },
    {
      "cell_type": "code",
      "source": [
        "# create kaggle directory and add kaggle.json\n",
        "from google.colab import files\n",
        "files.upload()\n",
        "\n",
        "! mkdir -p ~/.kaggle #create kaggle directory\n",
        "! mv kaggle.json ~/.kaggle/ #move json file there\n",
        "! chmod 600 ~/.kaggle/kaggle.json #change permission of the file"
      ],
      "metadata": {
        "id": "c9EF35qmQ8Hp",
        "colab": {
          "base_uri": "https://localhost:8080/",
          "height": 74
        },
        "outputId": "c737e7e2-d619-4668-bcb3-4fbd350a13ab"
      },
      "execution_count": 29,
      "outputs": [
        {
          "output_type": "display_data",
          "data": {
            "text/plain": [
              "<IPython.core.display.HTML object>"
            ],
            "text/html": [
              "\n",
              "     <input type=\"file\" id=\"files-6627954a-3e4f-455f-a9d4-25635b416cff\" name=\"files[]\" multiple disabled\n",
              "        style=\"border:none\" />\n",
              "     <output id=\"result-6627954a-3e4f-455f-a9d4-25635b416cff\">\n",
              "      Upload widget is only available when the cell has been executed in the\n",
              "      current browser session. Please rerun this cell to enable.\n",
              "      </output>\n",
              "      <script>// Copyright 2017 Google LLC\n",
              "//\n",
              "// Licensed under the Apache License, Version 2.0 (the \"License\");\n",
              "// you may not use this file except in compliance with the License.\n",
              "// You may obtain a copy of the License at\n",
              "//\n",
              "//      http://www.apache.org/licenses/LICENSE-2.0\n",
              "//\n",
              "// Unless required by applicable law or agreed to in writing, software\n",
              "// distributed under the License is distributed on an \"AS IS\" BASIS,\n",
              "// WITHOUT WARRANTIES OR CONDITIONS OF ANY KIND, either express or implied.\n",
              "// See the License for the specific language governing permissions and\n",
              "// limitations under the License.\n",
              "\n",
              "/**\n",
              " * @fileoverview Helpers for google.colab Python module.\n",
              " */\n",
              "(function(scope) {\n",
              "function span(text, styleAttributes = {}) {\n",
              "  const element = document.createElement('span');\n",
              "  element.textContent = text;\n",
              "  for (const key of Object.keys(styleAttributes)) {\n",
              "    element.style[key] = styleAttributes[key];\n",
              "  }\n",
              "  return element;\n",
              "}\n",
              "\n",
              "// Max number of bytes which will be uploaded at a time.\n",
              "const MAX_PAYLOAD_SIZE = 100 * 1024;\n",
              "\n",
              "function _uploadFiles(inputId, outputId) {\n",
              "  const steps = uploadFilesStep(inputId, outputId);\n",
              "  const outputElement = document.getElementById(outputId);\n",
              "  // Cache steps on the outputElement to make it available for the next call\n",
              "  // to uploadFilesContinue from Python.\n",
              "  outputElement.steps = steps;\n",
              "\n",
              "  return _uploadFilesContinue(outputId);\n",
              "}\n",
              "\n",
              "// This is roughly an async generator (not supported in the browser yet),\n",
              "// where there are multiple asynchronous steps and the Python side is going\n",
              "// to poll for completion of each step.\n",
              "// This uses a Promise to block the python side on completion of each step,\n",
              "// then passes the result of the previous step as the input to the next step.\n",
              "function _uploadFilesContinue(outputId) {\n",
              "  const outputElement = document.getElementById(outputId);\n",
              "  const steps = outputElement.steps;\n",
              "\n",
              "  const next = steps.next(outputElement.lastPromiseValue);\n",
              "  return Promise.resolve(next.value.promise).then((value) => {\n",
              "    // Cache the last promise value to make it available to the next\n",
              "    // step of the generator.\n",
              "    outputElement.lastPromiseValue = value;\n",
              "    return next.value.response;\n",
              "  });\n",
              "}\n",
              "\n",
              "/**\n",
              " * Generator function which is called between each async step of the upload\n",
              " * process.\n",
              " * @param {string} inputId Element ID of the input file picker element.\n",
              " * @param {string} outputId Element ID of the output display.\n",
              " * @return {!Iterable<!Object>} Iterable of next steps.\n",
              " */\n",
              "function* uploadFilesStep(inputId, outputId) {\n",
              "  const inputElement = document.getElementById(inputId);\n",
              "  inputElement.disabled = false;\n",
              "\n",
              "  const outputElement = document.getElementById(outputId);\n",
              "  outputElement.innerHTML = '';\n",
              "\n",
              "  const pickedPromise = new Promise((resolve) => {\n",
              "    inputElement.addEventListener('change', (e) => {\n",
              "      resolve(e.target.files);\n",
              "    });\n",
              "  });\n",
              "\n",
              "  const cancel = document.createElement('button');\n",
              "  inputElement.parentElement.appendChild(cancel);\n",
              "  cancel.textContent = 'Cancel upload';\n",
              "  const cancelPromise = new Promise((resolve) => {\n",
              "    cancel.onclick = () => {\n",
              "      resolve(null);\n",
              "    };\n",
              "  });\n",
              "\n",
              "  // Wait for the user to pick the files.\n",
              "  const files = yield {\n",
              "    promise: Promise.race([pickedPromise, cancelPromise]),\n",
              "    response: {\n",
              "      action: 'starting',\n",
              "    }\n",
              "  };\n",
              "\n",
              "  cancel.remove();\n",
              "\n",
              "  // Disable the input element since further picks are not allowed.\n",
              "  inputElement.disabled = true;\n",
              "\n",
              "  if (!files) {\n",
              "    return {\n",
              "      response: {\n",
              "        action: 'complete',\n",
              "      }\n",
              "    };\n",
              "  }\n",
              "\n",
              "  for (const file of files) {\n",
              "    const li = document.createElement('li');\n",
              "    li.append(span(file.name, {fontWeight: 'bold'}));\n",
              "    li.append(span(\n",
              "        `(${file.type || 'n/a'}) - ${file.size} bytes, ` +\n",
              "        `last modified: ${\n",
              "            file.lastModifiedDate ? file.lastModifiedDate.toLocaleDateString() :\n",
              "                                    'n/a'} - `));\n",
              "    const percent = span('0% done');\n",
              "    li.appendChild(percent);\n",
              "\n",
              "    outputElement.appendChild(li);\n",
              "\n",
              "    const fileDataPromise = new Promise((resolve) => {\n",
              "      const reader = new FileReader();\n",
              "      reader.onload = (e) => {\n",
              "        resolve(e.target.result);\n",
              "      };\n",
              "      reader.readAsArrayBuffer(file);\n",
              "    });\n",
              "    // Wait for the data to be ready.\n",
              "    let fileData = yield {\n",
              "      promise: fileDataPromise,\n",
              "      response: {\n",
              "        action: 'continue',\n",
              "      }\n",
              "    };\n",
              "\n",
              "    // Use a chunked sending to avoid message size limits. See b/62115660.\n",
              "    let position = 0;\n",
              "    do {\n",
              "      const length = Math.min(fileData.byteLength - position, MAX_PAYLOAD_SIZE);\n",
              "      const chunk = new Uint8Array(fileData, position, length);\n",
              "      position += length;\n",
              "\n",
              "      const base64 = btoa(String.fromCharCode.apply(null, chunk));\n",
              "      yield {\n",
              "        response: {\n",
              "          action: 'append',\n",
              "          file: file.name,\n",
              "          data: base64,\n",
              "        },\n",
              "      };\n",
              "\n",
              "      let percentDone = fileData.byteLength === 0 ?\n",
              "          100 :\n",
              "          Math.round((position / fileData.byteLength) * 100);\n",
              "      percent.textContent = `${percentDone}% done`;\n",
              "\n",
              "    } while (position < fileData.byteLength);\n",
              "  }\n",
              "\n",
              "  // All done.\n",
              "  yield {\n",
              "    response: {\n",
              "      action: 'complete',\n",
              "    }\n",
              "  };\n",
              "}\n",
              "\n",
              "scope.google = scope.google || {};\n",
              "scope.google.colab = scope.google.colab || {};\n",
              "scope.google.colab._files = {\n",
              "  _uploadFiles,\n",
              "  _uploadFilesContinue,\n",
              "};\n",
              "})(self);\n",
              "</script> "
            ]
          },
          "metadata": {}
        },
        {
          "output_type": "stream",
          "name": "stdout",
          "text": [
            "Saving kaggle.json to kaggle.json\n"
          ]
        }
      ]
    },
    {
      "cell_type": "code",
      "source": [
        "#create gitignore and add kaggle\n",
        "%%writefile .gitignore\n",
        ".kaggle/"
      ],
      "metadata": {
        "colab": {
          "base_uri": "https://localhost:8080/"
        },
        "id": "XuqwuyhOkQAL",
        "outputId": "3b105490-0434-4907-ee9b-821f0816f986"
      },
      "execution_count": 30,
      "outputs": [
        {
          "output_type": "stream",
          "name": "stdout",
          "text": [
            "Overwriting .gitignore\n"
          ]
        }
      ]
    },
    {
      "cell_type": "code",
      "source": [
        "#upload brexit dataset\n",
        "!kaggle datasets download -d visalakshiiyer/twitter-data-brexit\n",
        "! mkdir brexitTweets #create folder with files\n",
        "! unzip twitter-data-brexit.zip -d brexitTweets #unzip data and save in folder"
      ],
      "metadata": {
        "id": "8fUep9bVSLwQ"
      },
      "execution_count": null,
      "outputs": []
    },
    {
      "cell_type": "code",
      "source": [
        "!ls -a\n",
        "\n"
      ],
      "metadata": {
        "id": "GyL49wx4Z4G6",
        "outputId": "50919853-9eb6-4a2c-ec86-7bfed29fca6a",
        "colab": {
          "base_uri": "https://localhost:8080/"
        }
      },
      "execution_count": 32,
      "outputs": [
        {
          "output_type": "stream",
          "name": "stdout",
          "text": [
            ".  ..  brexitTweets  .config  .gitignore  sample_data  twitter-data-brexit.zip\n"
          ]
        }
      ]
    },
    {
      "cell_type": "code",
      "source": [
        "#Load Datasets\n",
        "dfAnti = pd.read_csv(\"brexitTweets/TweetDataset_AntiBrexit_Jan-Mar2022.csv\")\n",
        "dfPro = pd.read_csv(\"brexitTweets/TweetDataset_ProBrexit_Jan-Mar2022.csv\")"
      ],
      "metadata": {
        "id": "knFBOlimkmhU"
      },
      "execution_count": 33,
      "outputs": []
    },
    {
      "cell_type": "code",
      "source": [
        "#Check Data\n",
        "dfAnti.head()"
      ],
      "metadata": {
        "id": "STMmIf3CmyxR",
        "colab": {
          "base_uri": "https://localhost:8080/",
          "height": 620
        },
        "outputId": "62d890d3-effa-4e94-9060-e92278196e42"
      },
      "execution_count": 34,
      "outputs": [
        {
          "output_type": "execute_result",
          "data": {
            "text/plain": [
              "   Unnamed: 0                 Date  Headline  \\\n",
              "0           0  09-Jan-2022 11:58PM       NaN   \n",
              "1           1  09-Jan-2022 11:58PM       NaN   \n",
              "2           2  09-Jan-2022 11:58PM       NaN   \n",
              "3           3  09-Jan-2022 11:58PM       NaN   \n",
              "4           4  09-Jan-2022 11:57PM       NaN   \n",
              "\n",
              "                                                 URL  Opening Text  \\\n",
              "0  https://twitter.com/nickynicky77551/statuses/1...           NaN   \n",
              "1  https://twitter.com/lines12345/statuses/148032...           NaN   \n",
              "2  https://twitter.com/millymoo97/statuses/148032...           NaN   \n",
              "3  https://twitter.com/ValueSurplus/statuses/1480...           NaN   \n",
              "4  https://twitter.com/Jackcdawes/statuses/148032...           NaN   \n",
              "\n",
              "                                        Hit Sentence   Source  \\\n",
              "0  RT @cnapan: #JohnsonOut is now running at 218,...  Twitter   \n",
              "1  RT @Femi_Sorry: My point: Any Labour leader wh...  Twitter   \n",
              "2  RT @andy_murray: QT @Nigel_Farage: Please reco...  Twitter   \n",
              "3  RT @mikegalsworthy: We’re the first country in...  Twitter   \n",
              "4  RT @StevePeers: QT @andy_murray: Game, set and...  Twitter   \n",
              "\n",
              "         Influencer         Country  Subregion  ...  \\\n",
              "0  @nickynicky77551         Unknown        NaN  ...   \n",
              "1       @lines12345         Unknown        NaN  ...   \n",
              "2       @millymoo97         Unknown        NaN  ...   \n",
              "3     @valuesurplus  United Kingdom        NaN  ...   \n",
              "4       @jackcdawes  United Kingdom        NaN  ...   \n",
              "\n",
              "                             Twitter Screen Name  \\\n",
              "0                                nicky@nicky7755   \n",
              "1                                          Helen   \n",
              "2                                 seonaid mcgill   \n",
              "3  Rightwing politics is a social virus #BLM 🇵🇸🌈   \n",
              "4   Jack Dawes #FBPEGlobal #JohnsonOut #RejoinEU   \n",
              "\n",
              "                      User Profile Url  \\\n",
              "0  https://twitter.com/nickynicky77551   \n",
              "1       https://twitter.com/lines12345   \n",
              "2       https://twitter.com/millymoo97   \n",
              "3     https://twitter.com/ValueSurplus   \n",
              "4       https://twitter.com/Jackcdawes   \n",
              "\n",
              "                                         Twitter Bio  Twitter Followers  \\\n",
              "0  Ardent Remainer; Rejoiner now, Support NHS 💙 #...             1697.0   \n",
              "1                               Tory hating Remainer               11.0   \n",
              "2  Scottish, European, anti-Brexit, pro-EU, freel...             2129.0   \n",
              "3  Classical Cultural Marxist.\\nAnti Brexit estab...             2420.0   \n",
              "4  Lover of crime & horror fiction, history, & Me...            18304.0   \n",
              "\n",
              "   Twitter Following  Alternate Date Format      Time    State    City  \\\n",
              "0             2576.0            Jan 9, 2022  11:58 PM      NaN     NaN   \n",
              "1               92.0            Jan 9, 2022  11:58 PM      NaN     NaN   \n",
              "2             3880.0            Jan 9, 2022  11:58 PM      NaN     NaN   \n",
              "3             4952.0            Jan 9, 2022  11:58 PM      NaN     NaN   \n",
              "4            19889.0            Jan 9, 2022  11:57 PM  England  London   \n",
              "\n",
              "   Document Tags  \n",
              "0            NaN  \n",
              "1            NaN  \n",
              "2            NaN  \n",
              "3            NaN  \n",
              "4            NaN  \n",
              "\n",
              "[5 rows x 38 columns]"
            ],
            "text/html": [
              "\n",
              "  <div id=\"df-b8a4454a-94e7-41eb-883b-181f7bf9446f\" class=\"colab-df-container\">\n",
              "    <div>\n",
              "<style scoped>\n",
              "    .dataframe tbody tr th:only-of-type {\n",
              "        vertical-align: middle;\n",
              "    }\n",
              "\n",
              "    .dataframe tbody tr th {\n",
              "        vertical-align: top;\n",
              "    }\n",
              "\n",
              "    .dataframe thead th {\n",
              "        text-align: right;\n",
              "    }\n",
              "</style>\n",
              "<table border=\"1\" class=\"dataframe\">\n",
              "  <thead>\n",
              "    <tr style=\"text-align: right;\">\n",
              "      <th></th>\n",
              "      <th>Unnamed: 0</th>\n",
              "      <th>Date</th>\n",
              "      <th>Headline</th>\n",
              "      <th>URL</th>\n",
              "      <th>Opening Text</th>\n",
              "      <th>Hit Sentence</th>\n",
              "      <th>Source</th>\n",
              "      <th>Influencer</th>\n",
              "      <th>Country</th>\n",
              "      <th>Subregion</th>\n",
              "      <th>...</th>\n",
              "      <th>Twitter Screen Name</th>\n",
              "      <th>User Profile Url</th>\n",
              "      <th>Twitter Bio</th>\n",
              "      <th>Twitter Followers</th>\n",
              "      <th>Twitter Following</th>\n",
              "      <th>Alternate Date Format</th>\n",
              "      <th>Time</th>\n",
              "      <th>State</th>\n",
              "      <th>City</th>\n",
              "      <th>Document Tags</th>\n",
              "    </tr>\n",
              "  </thead>\n",
              "  <tbody>\n",
              "    <tr>\n",
              "      <th>0</th>\n",
              "      <td>0</td>\n",
              "      <td>09-Jan-2022 11:58PM</td>\n",
              "      <td>NaN</td>\n",
              "      <td>https://twitter.com/nickynicky77551/statuses/1...</td>\n",
              "      <td>NaN</td>\n",
              "      <td>RT @cnapan: #JohnsonOut is now running at 218,...</td>\n",
              "      <td>Twitter</td>\n",
              "      <td>@nickynicky77551</td>\n",
              "      <td>Unknown</td>\n",
              "      <td>NaN</td>\n",
              "      <td>...</td>\n",
              "      <td>nicky@nicky7755</td>\n",
              "      <td>https://twitter.com/nickynicky77551</td>\n",
              "      <td>Ardent Remainer; Rejoiner now, Support NHS 💙 #...</td>\n",
              "      <td>1697.0</td>\n",
              "      <td>2576.0</td>\n",
              "      <td>Jan 9, 2022</td>\n",
              "      <td>11:58 PM</td>\n",
              "      <td>NaN</td>\n",
              "      <td>NaN</td>\n",
              "      <td>NaN</td>\n",
              "    </tr>\n",
              "    <tr>\n",
              "      <th>1</th>\n",
              "      <td>1</td>\n",
              "      <td>09-Jan-2022 11:58PM</td>\n",
              "      <td>NaN</td>\n",
              "      <td>https://twitter.com/lines12345/statuses/148032...</td>\n",
              "      <td>NaN</td>\n",
              "      <td>RT @Femi_Sorry: My point: Any Labour leader wh...</td>\n",
              "      <td>Twitter</td>\n",
              "      <td>@lines12345</td>\n",
              "      <td>Unknown</td>\n",
              "      <td>NaN</td>\n",
              "      <td>...</td>\n",
              "      <td>Helen</td>\n",
              "      <td>https://twitter.com/lines12345</td>\n",
              "      <td>Tory hating Remainer</td>\n",
              "      <td>11.0</td>\n",
              "      <td>92.0</td>\n",
              "      <td>Jan 9, 2022</td>\n",
              "      <td>11:58 PM</td>\n",
              "      <td>NaN</td>\n",
              "      <td>NaN</td>\n",
              "      <td>NaN</td>\n",
              "    </tr>\n",
              "    <tr>\n",
              "      <th>2</th>\n",
              "      <td>2</td>\n",
              "      <td>09-Jan-2022 11:58PM</td>\n",
              "      <td>NaN</td>\n",
              "      <td>https://twitter.com/millymoo97/statuses/148032...</td>\n",
              "      <td>NaN</td>\n",
              "      <td>RT @andy_murray: QT @Nigel_Farage: Please reco...</td>\n",
              "      <td>Twitter</td>\n",
              "      <td>@millymoo97</td>\n",
              "      <td>Unknown</td>\n",
              "      <td>NaN</td>\n",
              "      <td>...</td>\n",
              "      <td>seonaid mcgill</td>\n",
              "      <td>https://twitter.com/millymoo97</td>\n",
              "      <td>Scottish, European, anti-Brexit, pro-EU, freel...</td>\n",
              "      <td>2129.0</td>\n",
              "      <td>3880.0</td>\n",
              "      <td>Jan 9, 2022</td>\n",
              "      <td>11:58 PM</td>\n",
              "      <td>NaN</td>\n",
              "      <td>NaN</td>\n",
              "      <td>NaN</td>\n",
              "    </tr>\n",
              "    <tr>\n",
              "      <th>3</th>\n",
              "      <td>3</td>\n",
              "      <td>09-Jan-2022 11:58PM</td>\n",
              "      <td>NaN</td>\n",
              "      <td>https://twitter.com/ValueSurplus/statuses/1480...</td>\n",
              "      <td>NaN</td>\n",
              "      <td>RT @mikegalsworthy: We’re the first country in...</td>\n",
              "      <td>Twitter</td>\n",
              "      <td>@valuesurplus</td>\n",
              "      <td>United Kingdom</td>\n",
              "      <td>NaN</td>\n",
              "      <td>...</td>\n",
              "      <td>Rightwing politics is a social virus #BLM 🇵🇸🌈</td>\n",
              "      <td>https://twitter.com/ValueSurplus</td>\n",
              "      <td>Classical Cultural Marxist.\\nAnti Brexit estab...</td>\n",
              "      <td>2420.0</td>\n",
              "      <td>4952.0</td>\n",
              "      <td>Jan 9, 2022</td>\n",
              "      <td>11:58 PM</td>\n",
              "      <td>NaN</td>\n",
              "      <td>NaN</td>\n",
              "      <td>NaN</td>\n",
              "    </tr>\n",
              "    <tr>\n",
              "      <th>4</th>\n",
              "      <td>4</td>\n",
              "      <td>09-Jan-2022 11:57PM</td>\n",
              "      <td>NaN</td>\n",
              "      <td>https://twitter.com/Jackcdawes/statuses/148032...</td>\n",
              "      <td>NaN</td>\n",
              "      <td>RT @StevePeers: QT @andy_murray: Game, set and...</td>\n",
              "      <td>Twitter</td>\n",
              "      <td>@jackcdawes</td>\n",
              "      <td>United Kingdom</td>\n",
              "      <td>NaN</td>\n",
              "      <td>...</td>\n",
              "      <td>Jack Dawes #FBPEGlobal #JohnsonOut #RejoinEU</td>\n",
              "      <td>https://twitter.com/Jackcdawes</td>\n",
              "      <td>Lover of crime &amp; horror fiction, history, &amp; Me...</td>\n",
              "      <td>18304.0</td>\n",
              "      <td>19889.0</td>\n",
              "      <td>Jan 9, 2022</td>\n",
              "      <td>11:57 PM</td>\n",
              "      <td>England</td>\n",
              "      <td>London</td>\n",
              "      <td>NaN</td>\n",
              "    </tr>\n",
              "  </tbody>\n",
              "</table>\n",
              "<p>5 rows × 38 columns</p>\n",
              "</div>\n",
              "    <div class=\"colab-df-buttons\">\n",
              "\n",
              "  <div class=\"colab-df-container\">\n",
              "    <button class=\"colab-df-convert\" onclick=\"convertToInteractive('df-b8a4454a-94e7-41eb-883b-181f7bf9446f')\"\n",
              "            title=\"Convert this dataframe to an interactive table.\"\n",
              "            style=\"display:none;\">\n",
              "\n",
              "  <svg xmlns=\"http://www.w3.org/2000/svg\" height=\"24px\" viewBox=\"0 -960 960 960\">\n",
              "    <path d=\"M120-120v-720h720v720H120Zm60-500h600v-160H180v160Zm220 220h160v-160H400v160Zm0 220h160v-160H400v160ZM180-400h160v-160H180v160Zm440 0h160v-160H620v160ZM180-180h160v-160H180v160Zm440 0h160v-160H620v160Z\"/>\n",
              "  </svg>\n",
              "    </button>\n",
              "\n",
              "  <style>\n",
              "    .colab-df-container {\n",
              "      display:flex;\n",
              "      gap: 12px;\n",
              "    }\n",
              "\n",
              "    .colab-df-convert {\n",
              "      background-color: #E8F0FE;\n",
              "      border: none;\n",
              "      border-radius: 50%;\n",
              "      cursor: pointer;\n",
              "      display: none;\n",
              "      fill: #1967D2;\n",
              "      height: 32px;\n",
              "      padding: 0 0 0 0;\n",
              "      width: 32px;\n",
              "    }\n",
              "\n",
              "    .colab-df-convert:hover {\n",
              "      background-color: #E2EBFA;\n",
              "      box-shadow: 0px 1px 2px rgba(60, 64, 67, 0.3), 0px 1px 3px 1px rgba(60, 64, 67, 0.15);\n",
              "      fill: #174EA6;\n",
              "    }\n",
              "\n",
              "    .colab-df-buttons div {\n",
              "      margin-bottom: 4px;\n",
              "    }\n",
              "\n",
              "    [theme=dark] .colab-df-convert {\n",
              "      background-color: #3B4455;\n",
              "      fill: #D2E3FC;\n",
              "    }\n",
              "\n",
              "    [theme=dark] .colab-df-convert:hover {\n",
              "      background-color: #434B5C;\n",
              "      box-shadow: 0px 1px 3px 1px rgba(0, 0, 0, 0.15);\n",
              "      filter: drop-shadow(0px 1px 2px rgba(0, 0, 0, 0.3));\n",
              "      fill: #FFFFFF;\n",
              "    }\n",
              "  </style>\n",
              "\n",
              "    <script>\n",
              "      const buttonEl =\n",
              "        document.querySelector('#df-b8a4454a-94e7-41eb-883b-181f7bf9446f button.colab-df-convert');\n",
              "      buttonEl.style.display =\n",
              "        google.colab.kernel.accessAllowed ? 'block' : 'none';\n",
              "\n",
              "      async function convertToInteractive(key) {\n",
              "        const element = document.querySelector('#df-b8a4454a-94e7-41eb-883b-181f7bf9446f');\n",
              "        const dataTable =\n",
              "          await google.colab.kernel.invokeFunction('convertToInteractive',\n",
              "                                                    [key], {});\n",
              "        if (!dataTable) return;\n",
              "\n",
              "        const docLinkHtml = 'Like what you see? Visit the ' +\n",
              "          '<a target=\"_blank\" href=https://colab.research.google.com/notebooks/data_table.ipynb>data table notebook</a>'\n",
              "          + ' to learn more about interactive tables.';\n",
              "        element.innerHTML = '';\n",
              "        dataTable['output_type'] = 'display_data';\n",
              "        await google.colab.output.renderOutput(dataTable, element);\n",
              "        const docLink = document.createElement('div');\n",
              "        docLink.innerHTML = docLinkHtml;\n",
              "        element.appendChild(docLink);\n",
              "      }\n",
              "    </script>\n",
              "  </div>\n",
              "\n",
              "\n",
              "<div id=\"df-fb332d7b-9141-451a-9d57-fa79440b0faa\">\n",
              "  <button class=\"colab-df-quickchart\" onclick=\"quickchart('df-fb332d7b-9141-451a-9d57-fa79440b0faa')\"\n",
              "            title=\"Suggest charts\"\n",
              "            style=\"display:none;\">\n",
              "\n",
              "<svg xmlns=\"http://www.w3.org/2000/svg\" height=\"24px\"viewBox=\"0 0 24 24\"\n",
              "     width=\"24px\">\n",
              "    <g>\n",
              "        <path d=\"M19 3H5c-1.1 0-2 .9-2 2v14c0 1.1.9 2 2 2h14c1.1 0 2-.9 2-2V5c0-1.1-.9-2-2-2zM9 17H7v-7h2v7zm4 0h-2V7h2v10zm4 0h-2v-4h2v4z\"/>\n",
              "    </g>\n",
              "</svg>\n",
              "  </button>\n",
              "\n",
              "<style>\n",
              "  .colab-df-quickchart {\n",
              "      --bg-color: #E8F0FE;\n",
              "      --fill-color: #1967D2;\n",
              "      --hover-bg-color: #E2EBFA;\n",
              "      --hover-fill-color: #174EA6;\n",
              "      --disabled-fill-color: #AAA;\n",
              "      --disabled-bg-color: #DDD;\n",
              "  }\n",
              "\n",
              "  [theme=dark] .colab-df-quickchart {\n",
              "      --bg-color: #3B4455;\n",
              "      --fill-color: #D2E3FC;\n",
              "      --hover-bg-color: #434B5C;\n",
              "      --hover-fill-color: #FFFFFF;\n",
              "      --disabled-bg-color: #3B4455;\n",
              "      --disabled-fill-color: #666;\n",
              "  }\n",
              "\n",
              "  .colab-df-quickchart {\n",
              "    background-color: var(--bg-color);\n",
              "    border: none;\n",
              "    border-radius: 50%;\n",
              "    cursor: pointer;\n",
              "    display: none;\n",
              "    fill: var(--fill-color);\n",
              "    height: 32px;\n",
              "    padding: 0;\n",
              "    width: 32px;\n",
              "  }\n",
              "\n",
              "  .colab-df-quickchart:hover {\n",
              "    background-color: var(--hover-bg-color);\n",
              "    box-shadow: 0 1px 2px rgba(60, 64, 67, 0.3), 0 1px 3px 1px rgba(60, 64, 67, 0.15);\n",
              "    fill: var(--button-hover-fill-color);\n",
              "  }\n",
              "\n",
              "  .colab-df-quickchart-complete:disabled,\n",
              "  .colab-df-quickchart-complete:disabled:hover {\n",
              "    background-color: var(--disabled-bg-color);\n",
              "    fill: var(--disabled-fill-color);\n",
              "    box-shadow: none;\n",
              "  }\n",
              "\n",
              "  .colab-df-spinner {\n",
              "    border: 2px solid var(--fill-color);\n",
              "    border-color: transparent;\n",
              "    border-bottom-color: var(--fill-color);\n",
              "    animation:\n",
              "      spin 1s steps(1) infinite;\n",
              "  }\n",
              "\n",
              "  @keyframes spin {\n",
              "    0% {\n",
              "      border-color: transparent;\n",
              "      border-bottom-color: var(--fill-color);\n",
              "      border-left-color: var(--fill-color);\n",
              "    }\n",
              "    20% {\n",
              "      border-color: transparent;\n",
              "      border-left-color: var(--fill-color);\n",
              "      border-top-color: var(--fill-color);\n",
              "    }\n",
              "    30% {\n",
              "      border-color: transparent;\n",
              "      border-left-color: var(--fill-color);\n",
              "      border-top-color: var(--fill-color);\n",
              "      border-right-color: var(--fill-color);\n",
              "    }\n",
              "    40% {\n",
              "      border-color: transparent;\n",
              "      border-right-color: var(--fill-color);\n",
              "      border-top-color: var(--fill-color);\n",
              "    }\n",
              "    60% {\n",
              "      border-color: transparent;\n",
              "      border-right-color: var(--fill-color);\n",
              "    }\n",
              "    80% {\n",
              "      border-color: transparent;\n",
              "      border-right-color: var(--fill-color);\n",
              "      border-bottom-color: var(--fill-color);\n",
              "    }\n",
              "    90% {\n",
              "      border-color: transparent;\n",
              "      border-bottom-color: var(--fill-color);\n",
              "    }\n",
              "  }\n",
              "</style>\n",
              "\n",
              "  <script>\n",
              "    async function quickchart(key) {\n",
              "      const quickchartButtonEl =\n",
              "        document.querySelector('#' + key + ' button');\n",
              "      quickchartButtonEl.disabled = true;  // To prevent multiple clicks.\n",
              "      quickchartButtonEl.classList.add('colab-df-spinner');\n",
              "      try {\n",
              "        const charts = await google.colab.kernel.invokeFunction(\n",
              "            'suggestCharts', [key], {});\n",
              "      } catch (error) {\n",
              "        console.error('Error during call to suggestCharts:', error);\n",
              "      }\n",
              "      quickchartButtonEl.classList.remove('colab-df-spinner');\n",
              "      quickchartButtonEl.classList.add('colab-df-quickchart-complete');\n",
              "    }\n",
              "    (() => {\n",
              "      let quickchartButtonEl =\n",
              "        document.querySelector('#df-fb332d7b-9141-451a-9d57-fa79440b0faa button');\n",
              "      quickchartButtonEl.style.display =\n",
              "        google.colab.kernel.accessAllowed ? 'block' : 'none';\n",
              "    })();\n",
              "  </script>\n",
              "</div>\n",
              "    </div>\n",
              "  </div>\n"
            ]
          },
          "metadata": {},
          "execution_count": 34
        }
      ]
    },
    {
      "cell_type": "markdown",
      "source": [
        "#Preprocessing"
      ],
      "metadata": {
        "id": "W9rOuBxjpMID"
      }
    },
    {
      "cell_type": "code",
      "source": [
        "# label pro and anti tweets and concatenate the two files\n",
        "dfAnti['Position'] = 0\n",
        "dfPro['Position'] = 1\n",
        "\n",
        "df = pd.concat([dfAnti, dfPro])\n",
        "\n",
        "#drop unwanted data\n",
        "df.drop(['Unnamed: 0', 'Date', 'Headline', 'URL', 'Opening Text', 'Source', 'Influencer', 'Country', 'Subregion', 'Language', 'Reach', 'Desktop Reach', 'Mobile Reach', 'Twitter Social Echo', 'Facebook Social Echo', 'Reddit Social Echo', 'National Viewership', 'Engagement', 'AVE', 'Key Phrases', 'Input Name', 'Keywords', 'Twitter Authority', 'Tweet Id', 'Twitter Id', 'Twitter Client', 'Twitter Screen Name', 'User Profile Url', 'Twitter Bio', 'Twitter Followers', 'Twitter Following', 'Alternate Date Format', 'Time', 'State', 'City', 'Document Tags'], axis = 1, inplace=True)\n",
        "\n",
        "#count the data\n",
        "df.Position.value_counts()"
      ],
      "metadata": {
        "id": "lN3eLR7ApSrw",
        "colab": {
          "base_uri": "https://localhost:8080/"
        },
        "outputId": "399e6740-b903-4e3a-d8db-431a5c4a610d"
      },
      "execution_count": 128,
      "outputs": [
        {
          "output_type": "execute_result",
          "data": {
            "text/plain": [
              "0    210574\n",
              "1    147631\n",
              "Name: Position, dtype: int64"
            ]
          },
          "metadata": {},
          "execution_count": 128
        }
      ]
    },
    {
      "cell_type": "code",
      "source": [
        "#Clean Hit Sentence - Remove Retweets\n",
        "df_no_rt = df[df['Hit Sentence'].str.contains(\"RT @\")==False]\n",
        "df_no_qt = df_no_rt[df_no_rt['Hit Sentence'].str.contains(\"QT @\")==False]\n",
        "\n",
        "#how many tweets were retweeted and qoted?\n",
        "print(f'Amount of retweets and quote tweets in percentage:{round(100*(1-len(df_no_qt)/len(df)),1)}%')\n",
        "print(df_no_qt)"
      ],
      "metadata": {
        "id": "avo_xXqw4wG2",
        "colab": {
          "base_uri": "https://localhost:8080/"
        },
        "outputId": "6eedc099-3cf0-45e2-dd64-11cf6fbfd50c"
      },
      "execution_count": 36,
      "outputs": [
        {
          "output_type": "stream",
          "name": "stdout",
          "text": [
            "Amount of retweets and quote tweets in percentage:78.8%\n",
            "                                             Hit Sentence Sentiment  Position\n",
            "7       @JayneMonie1 @HowardJ91352838 @davesumnersmith...   Neutral         0\n",
            "17      @MPIainDS You have made it nigh on impossible ...   Neutral         0\n",
            "21      @TheGhos72578902 @SallyAnnC3 @AndieHalihan @Ch...   Neutral         0\n",
            "36      @snb19692 FPTP - totally discredited! Not leas...  Negative         0\n",
            "39      @pauld4dog @jarviboy1974uk @LloydHardy Superma...   Neutral         0\n",
            "...                                                   ...       ...       ...\n",
            "147604  @sandieshoes We did have a fight, for years, t...   Neutral         1\n",
            "147610  @ExpoSpurs He’s just another pathetic sneering...  Negative         1\n",
            "147613  #BorisJohnsonOut inthegardenforaparty it’s not...   Neutral         1\n",
            "147626  @JamesRobvincent @7nestingwrens He was also fi...   Neutral         1\n",
            "147628  Ludicrous to suggest Boris is insulting Ukrain...  Negative         1\n",
            "\n",
            "[76098 rows x 3 columns]\n"
          ]
        }
      ]
    },
    {
      "cell_type": "code",
      "source": [
        "#How many Pro and Anti Tweets are left\n",
        "df_no_qt.Position.value_counts()"
      ],
      "metadata": {
        "id": "zMglByNwAodV",
        "colab": {
          "base_uri": "https://localhost:8080/"
        },
        "outputId": "162f5958-0dc4-422e-9964-e8062a4421d8"
      },
      "execution_count": 37,
      "outputs": [
        {
          "output_type": "execute_result",
          "data": {
            "text/plain": [
              "1    40387\n",
              "0    35711\n",
              "Name: Position, dtype: int64"
            ]
          },
          "metadata": {},
          "execution_count": 37
        }
      ]
    },
    {
      "cell_type": "code",
      "source": [
        "#Preprocess Helper Functions\n",
        "\n",
        "#to lower case\n",
        "def lowercase(tweet: str) -> str:\n",
        "  preprocessedTweet = str.lower(tweet)\n",
        "  return preprocessedTweet\n",
        "\n",
        "#remove hashtags\n",
        "def remove_hashtags(tweet: str) -> str:\n",
        "  preprocessedTweet = re.sub('#[a-zA-Z0-9_]+','',tweet)\n",
        "  return preprocessedTweet\n",
        "\n",
        "#remove mentions\n",
        "def remove_mentions(tweet: str) -> str:\n",
        "  preprocessedTweet = re.sub('@[a-zA-Z0-9_]+','',tweet)\n",
        "  return preprocessedTweet\n",
        "\n",
        "#remove emojis\n",
        "def remove_emojis(tweet: str) -> str:\n",
        "    emoji_pattern = re.compile(\"[\"\n",
        "                               u\"\\U0001F600-\\U0001F64F\"  # emoticons\n",
        "                               u\"\\U0001F300-\\U0001F5FF\"  # symbols & pictographs\n",
        "                               u\"\\U0001F680-\\U0001F6FF\"  # transport & map symbols\n",
        "                               u\"\\U0001F700-\\U0001F77F\"  # alchemical symbols\n",
        "                               u\"\\U0001F780-\\U0001F7FF\"  # Geometric Shapes Extended\n",
        "                               u\"\\U0001F800-\\U0001F8FF\"  # Supplemental Arrows-C\n",
        "                               u\"\\U0001F900-\\U0001F9FF\"  # Supplemental Symbols and Pictographs\n",
        "                               u\"\\U0001FA00-\\U0001FA6F\"  # Chess Symbols\n",
        "                               u\"\\U0001FA70-\\U0001FAFF\"  # Symbols and Pictographs Extended-A\n",
        "                               u\"\\U00002702-\\U000027B0\"  # Dingbats\n",
        "                               u\"\\U000024C2-\\U0001F251\"\n",
        "                               \"]+\", flags=re.UNICODE)\n",
        "    return emoji_pattern.sub('', tweet)\n",
        "\n",
        "#remove stopwords\n",
        "def remove_stopwords(tweet: str) -> str:\n",
        "    word_list = tweet.split()\n",
        "    filtered_words = [word for word in word_list if word not in set(stopwords.words('english'))]\n",
        "    return ' '.join(filtered_words)\n",
        "\n",
        "# Function to combine all preprocessing steps\n",
        "def preprocess_tweet(tweet: str) -> str:\n",
        "    tweet = lowercase(tweet)\n",
        "    tweet = remove_hashtags(tweet)\n",
        "    tweet = remove_mentions(tweet)\n",
        "    tweet = remove_stopwords(tweet)\n",
        "    tweet = remove_emojis(tweet)\n",
        "    return tweet"
      ],
      "metadata": {
        "id": "hu0tTVoRFPWJ"
      },
      "execution_count": 38,
      "outputs": []
    },
    {
      "cell_type": "code",
      "source": [
        "# no retweets and no quote tweets / no cleaned column yet\n",
        "df_no_qt.head()"
      ],
      "metadata": {
        "id": "sixZt0u9l-0Y",
        "colab": {
          "base_uri": "https://localhost:8080/",
          "height": 206
        },
        "outputId": "d1104764-71da-42b8-8b9e-265e5ef38f9d"
      },
      "execution_count": 39,
      "outputs": [
        {
          "output_type": "execute_result",
          "data": {
            "text/plain": [
              "                                         Hit Sentence Sentiment  Position\n",
              "7   @JayneMonie1 @HowardJ91352838 @davesumnersmith...   Neutral         0\n",
              "17  @MPIainDS You have made it nigh on impossible ...   Neutral         0\n",
              "21  @TheGhos72578902 @SallyAnnC3 @AndieHalihan @Ch...   Neutral         0\n",
              "36  @snb19692 FPTP - totally discredited! Not leas...  Negative         0\n",
              "39  @pauld4dog @jarviboy1974uk @LloydHardy Superma...   Neutral         0"
            ],
            "text/html": [
              "\n",
              "  <div id=\"df-c9e9c838-ec70-45d5-b213-d77252be0f73\" class=\"colab-df-container\">\n",
              "    <div>\n",
              "<style scoped>\n",
              "    .dataframe tbody tr th:only-of-type {\n",
              "        vertical-align: middle;\n",
              "    }\n",
              "\n",
              "    .dataframe tbody tr th {\n",
              "        vertical-align: top;\n",
              "    }\n",
              "\n",
              "    .dataframe thead th {\n",
              "        text-align: right;\n",
              "    }\n",
              "</style>\n",
              "<table border=\"1\" class=\"dataframe\">\n",
              "  <thead>\n",
              "    <tr style=\"text-align: right;\">\n",
              "      <th></th>\n",
              "      <th>Hit Sentence</th>\n",
              "      <th>Sentiment</th>\n",
              "      <th>Position</th>\n",
              "    </tr>\n",
              "  </thead>\n",
              "  <tbody>\n",
              "    <tr>\n",
              "      <th>7</th>\n",
              "      <td>@JayneMonie1 @HowardJ91352838 @davesumnersmith...</td>\n",
              "      <td>Neutral</td>\n",
              "      <td>0</td>\n",
              "    </tr>\n",
              "    <tr>\n",
              "      <th>17</th>\n",
              "      <td>@MPIainDS You have made it nigh on impossible ...</td>\n",
              "      <td>Neutral</td>\n",
              "      <td>0</td>\n",
              "    </tr>\n",
              "    <tr>\n",
              "      <th>21</th>\n",
              "      <td>@TheGhos72578902 @SallyAnnC3 @AndieHalihan @Ch...</td>\n",
              "      <td>Neutral</td>\n",
              "      <td>0</td>\n",
              "    </tr>\n",
              "    <tr>\n",
              "      <th>36</th>\n",
              "      <td>@snb19692 FPTP - totally discredited! Not leas...</td>\n",
              "      <td>Negative</td>\n",
              "      <td>0</td>\n",
              "    </tr>\n",
              "    <tr>\n",
              "      <th>39</th>\n",
              "      <td>@pauld4dog @jarviboy1974uk @LloydHardy Superma...</td>\n",
              "      <td>Neutral</td>\n",
              "      <td>0</td>\n",
              "    </tr>\n",
              "  </tbody>\n",
              "</table>\n",
              "</div>\n",
              "    <div class=\"colab-df-buttons\">\n",
              "\n",
              "  <div class=\"colab-df-container\">\n",
              "    <button class=\"colab-df-convert\" onclick=\"convertToInteractive('df-c9e9c838-ec70-45d5-b213-d77252be0f73')\"\n",
              "            title=\"Convert this dataframe to an interactive table.\"\n",
              "            style=\"display:none;\">\n",
              "\n",
              "  <svg xmlns=\"http://www.w3.org/2000/svg\" height=\"24px\" viewBox=\"0 -960 960 960\">\n",
              "    <path d=\"M120-120v-720h720v720H120Zm60-500h600v-160H180v160Zm220 220h160v-160H400v160Zm0 220h160v-160H400v160ZM180-400h160v-160H180v160Zm440 0h160v-160H620v160ZM180-180h160v-160H180v160Zm440 0h160v-160H620v160Z\"/>\n",
              "  </svg>\n",
              "    </button>\n",
              "\n",
              "  <style>\n",
              "    .colab-df-container {\n",
              "      display:flex;\n",
              "      gap: 12px;\n",
              "    }\n",
              "\n",
              "    .colab-df-convert {\n",
              "      background-color: #E8F0FE;\n",
              "      border: none;\n",
              "      border-radius: 50%;\n",
              "      cursor: pointer;\n",
              "      display: none;\n",
              "      fill: #1967D2;\n",
              "      height: 32px;\n",
              "      padding: 0 0 0 0;\n",
              "      width: 32px;\n",
              "    }\n",
              "\n",
              "    .colab-df-convert:hover {\n",
              "      background-color: #E2EBFA;\n",
              "      box-shadow: 0px 1px 2px rgba(60, 64, 67, 0.3), 0px 1px 3px 1px rgba(60, 64, 67, 0.15);\n",
              "      fill: #174EA6;\n",
              "    }\n",
              "\n",
              "    .colab-df-buttons div {\n",
              "      margin-bottom: 4px;\n",
              "    }\n",
              "\n",
              "    [theme=dark] .colab-df-convert {\n",
              "      background-color: #3B4455;\n",
              "      fill: #D2E3FC;\n",
              "    }\n",
              "\n",
              "    [theme=dark] .colab-df-convert:hover {\n",
              "      background-color: #434B5C;\n",
              "      box-shadow: 0px 1px 3px 1px rgba(0, 0, 0, 0.15);\n",
              "      filter: drop-shadow(0px 1px 2px rgba(0, 0, 0, 0.3));\n",
              "      fill: #FFFFFF;\n",
              "    }\n",
              "  </style>\n",
              "\n",
              "    <script>\n",
              "      const buttonEl =\n",
              "        document.querySelector('#df-c9e9c838-ec70-45d5-b213-d77252be0f73 button.colab-df-convert');\n",
              "      buttonEl.style.display =\n",
              "        google.colab.kernel.accessAllowed ? 'block' : 'none';\n",
              "\n",
              "      async function convertToInteractive(key) {\n",
              "        const element = document.querySelector('#df-c9e9c838-ec70-45d5-b213-d77252be0f73');\n",
              "        const dataTable =\n",
              "          await google.colab.kernel.invokeFunction('convertToInteractive',\n",
              "                                                    [key], {});\n",
              "        if (!dataTable) return;\n",
              "\n",
              "        const docLinkHtml = 'Like what you see? Visit the ' +\n",
              "          '<a target=\"_blank\" href=https://colab.research.google.com/notebooks/data_table.ipynb>data table notebook</a>'\n",
              "          + ' to learn more about interactive tables.';\n",
              "        element.innerHTML = '';\n",
              "        dataTable['output_type'] = 'display_data';\n",
              "        await google.colab.output.renderOutput(dataTable, element);\n",
              "        const docLink = document.createElement('div');\n",
              "        docLink.innerHTML = docLinkHtml;\n",
              "        element.appendChild(docLink);\n",
              "      }\n",
              "    </script>\n",
              "  </div>\n",
              "\n",
              "\n",
              "<div id=\"df-8693d24a-8248-427a-b345-1d932b0b0e86\">\n",
              "  <button class=\"colab-df-quickchart\" onclick=\"quickchart('df-8693d24a-8248-427a-b345-1d932b0b0e86')\"\n",
              "            title=\"Suggest charts\"\n",
              "            style=\"display:none;\">\n",
              "\n",
              "<svg xmlns=\"http://www.w3.org/2000/svg\" height=\"24px\"viewBox=\"0 0 24 24\"\n",
              "     width=\"24px\">\n",
              "    <g>\n",
              "        <path d=\"M19 3H5c-1.1 0-2 .9-2 2v14c0 1.1.9 2 2 2h14c1.1 0 2-.9 2-2V5c0-1.1-.9-2-2-2zM9 17H7v-7h2v7zm4 0h-2V7h2v10zm4 0h-2v-4h2v4z\"/>\n",
              "    </g>\n",
              "</svg>\n",
              "  </button>\n",
              "\n",
              "<style>\n",
              "  .colab-df-quickchart {\n",
              "      --bg-color: #E8F0FE;\n",
              "      --fill-color: #1967D2;\n",
              "      --hover-bg-color: #E2EBFA;\n",
              "      --hover-fill-color: #174EA6;\n",
              "      --disabled-fill-color: #AAA;\n",
              "      --disabled-bg-color: #DDD;\n",
              "  }\n",
              "\n",
              "  [theme=dark] .colab-df-quickchart {\n",
              "      --bg-color: #3B4455;\n",
              "      --fill-color: #D2E3FC;\n",
              "      --hover-bg-color: #434B5C;\n",
              "      --hover-fill-color: #FFFFFF;\n",
              "      --disabled-bg-color: #3B4455;\n",
              "      --disabled-fill-color: #666;\n",
              "  }\n",
              "\n",
              "  .colab-df-quickchart {\n",
              "    background-color: var(--bg-color);\n",
              "    border: none;\n",
              "    border-radius: 50%;\n",
              "    cursor: pointer;\n",
              "    display: none;\n",
              "    fill: var(--fill-color);\n",
              "    height: 32px;\n",
              "    padding: 0;\n",
              "    width: 32px;\n",
              "  }\n",
              "\n",
              "  .colab-df-quickchart:hover {\n",
              "    background-color: var(--hover-bg-color);\n",
              "    box-shadow: 0 1px 2px rgba(60, 64, 67, 0.3), 0 1px 3px 1px rgba(60, 64, 67, 0.15);\n",
              "    fill: var(--button-hover-fill-color);\n",
              "  }\n",
              "\n",
              "  .colab-df-quickchart-complete:disabled,\n",
              "  .colab-df-quickchart-complete:disabled:hover {\n",
              "    background-color: var(--disabled-bg-color);\n",
              "    fill: var(--disabled-fill-color);\n",
              "    box-shadow: none;\n",
              "  }\n",
              "\n",
              "  .colab-df-spinner {\n",
              "    border: 2px solid var(--fill-color);\n",
              "    border-color: transparent;\n",
              "    border-bottom-color: var(--fill-color);\n",
              "    animation:\n",
              "      spin 1s steps(1) infinite;\n",
              "  }\n",
              "\n",
              "  @keyframes spin {\n",
              "    0% {\n",
              "      border-color: transparent;\n",
              "      border-bottom-color: var(--fill-color);\n",
              "      border-left-color: var(--fill-color);\n",
              "    }\n",
              "    20% {\n",
              "      border-color: transparent;\n",
              "      border-left-color: var(--fill-color);\n",
              "      border-top-color: var(--fill-color);\n",
              "    }\n",
              "    30% {\n",
              "      border-color: transparent;\n",
              "      border-left-color: var(--fill-color);\n",
              "      border-top-color: var(--fill-color);\n",
              "      border-right-color: var(--fill-color);\n",
              "    }\n",
              "    40% {\n",
              "      border-color: transparent;\n",
              "      border-right-color: var(--fill-color);\n",
              "      border-top-color: var(--fill-color);\n",
              "    }\n",
              "    60% {\n",
              "      border-color: transparent;\n",
              "      border-right-color: var(--fill-color);\n",
              "    }\n",
              "    80% {\n",
              "      border-color: transparent;\n",
              "      border-right-color: var(--fill-color);\n",
              "      border-bottom-color: var(--fill-color);\n",
              "    }\n",
              "    90% {\n",
              "      border-color: transparent;\n",
              "      border-bottom-color: var(--fill-color);\n",
              "    }\n",
              "  }\n",
              "</style>\n",
              "\n",
              "  <script>\n",
              "    async function quickchart(key) {\n",
              "      const quickchartButtonEl =\n",
              "        document.querySelector('#' + key + ' button');\n",
              "      quickchartButtonEl.disabled = true;  // To prevent multiple clicks.\n",
              "      quickchartButtonEl.classList.add('colab-df-spinner');\n",
              "      try {\n",
              "        const charts = await google.colab.kernel.invokeFunction(\n",
              "            'suggestCharts', [key], {});\n",
              "      } catch (error) {\n",
              "        console.error('Error during call to suggestCharts:', error);\n",
              "      }\n",
              "      quickchartButtonEl.classList.remove('colab-df-spinner');\n",
              "      quickchartButtonEl.classList.add('colab-df-quickchart-complete');\n",
              "    }\n",
              "    (() => {\n",
              "      let quickchartButtonEl =\n",
              "        document.querySelector('#df-8693d24a-8248-427a-b345-1d932b0b0e86 button');\n",
              "      quickchartButtonEl.style.display =\n",
              "        google.colab.kernel.accessAllowed ? 'block' : 'none';\n",
              "    })();\n",
              "  </script>\n",
              "</div>\n",
              "    </div>\n",
              "  </div>\n"
            ]
          },
          "metadata": {},
          "execution_count": 39
        }
      ]
    },
    {
      "cell_type": "code",
      "source": [
        "# create cleaned tweet column\n",
        "df_no_qt['tweet_clean'] = df_no_qt['Hit Sentence'].apply(preprocess_tweet)"
      ],
      "metadata": {
        "id": "SEWevIIsm3mk",
        "colab": {
          "base_uri": "https://localhost:8080/"
        },
        "outputId": "96868fab-7bcc-4101-dae7-d34c57ac75fb"
      },
      "execution_count": 41,
      "outputs": [
        {
          "output_type": "stream",
          "name": "stderr",
          "text": [
            "<ipython-input-41-7e9d578539c2>:2: SettingWithCopyWarning: \n",
            "A value is trying to be set on a copy of a slice from a DataFrame.\n",
            "Try using .loc[row_indexer,col_indexer] = value instead\n",
            "\n",
            "See the caveats in the documentation: https://pandas.pydata.org/pandas-docs/stable/user_guide/indexing.html#returning-a-view-versus-a-copy\n",
            "  df_no_qt['tweet_clean'] = df_no_qt['Hit Sentence'].apply(preprocess_tweet)\n"
          ]
        }
      ]
    },
    {
      "cell_type": "code",
      "source": [
        "# with cleaned tweet column\n",
        "df_no_qt.head()"
      ],
      "metadata": {
        "id": "jqbgPv2LpJvx",
        "colab": {
          "base_uri": "https://localhost:8080/",
          "height": 206
        },
        "outputId": "b3ea3a4e-3041-4913-c744-811fcb2d7305"
      },
      "execution_count": 42,
      "outputs": [
        {
          "output_type": "execute_result",
          "data": {
            "text/plain": [
              "                                         Hit Sentence Sentiment  Position  \\\n",
              "7   @JayneMonie1 @HowardJ91352838 @davesumnersmith...   Neutral         0   \n",
              "17  @MPIainDS You have made it nigh on impossible ...   Neutral         0   \n",
              "21  @TheGhos72578902 @SallyAnnC3 @AndieHalihan @Ch...   Neutral         0   \n",
              "36  @snb19692 FPTP - totally discredited! Not leas...  Negative         0   \n",
              "39  @pauld4dog @jarviboy1974uk @LloydHardy Superma...   Neutral         0   \n",
              "\n",
              "                                          tweet_clean  \n",
              "7   money’s sunak, (with gove & cummings) behind p...  \n",
              "17  made nigh impossible share european funding st...  \n",
              "21  haven’t wrong yet. said would lose. did. said ...  \n",
              "36  fptp - totally discredited! least derisory 17....  \n",
              "39  supermarkets main brexit supporters quiet. bre...  "
            ],
            "text/html": [
              "\n",
              "  <div id=\"df-36445760-15c5-4823-a933-1583c633006a\" class=\"colab-df-container\">\n",
              "    <div>\n",
              "<style scoped>\n",
              "    .dataframe tbody tr th:only-of-type {\n",
              "        vertical-align: middle;\n",
              "    }\n",
              "\n",
              "    .dataframe tbody tr th {\n",
              "        vertical-align: top;\n",
              "    }\n",
              "\n",
              "    .dataframe thead th {\n",
              "        text-align: right;\n",
              "    }\n",
              "</style>\n",
              "<table border=\"1\" class=\"dataframe\">\n",
              "  <thead>\n",
              "    <tr style=\"text-align: right;\">\n",
              "      <th></th>\n",
              "      <th>Hit Sentence</th>\n",
              "      <th>Sentiment</th>\n",
              "      <th>Position</th>\n",
              "      <th>tweet_clean</th>\n",
              "    </tr>\n",
              "  </thead>\n",
              "  <tbody>\n",
              "    <tr>\n",
              "      <th>7</th>\n",
              "      <td>@JayneMonie1 @HowardJ91352838 @davesumnersmith...</td>\n",
              "      <td>Neutral</td>\n",
              "      <td>0</td>\n",
              "      <td>money’s sunak, (with gove &amp; cummings) behind p...</td>\n",
              "    </tr>\n",
              "    <tr>\n",
              "      <th>17</th>\n",
              "      <td>@MPIainDS You have made it nigh on impossible ...</td>\n",
              "      <td>Neutral</td>\n",
              "      <td>0</td>\n",
              "      <td>made nigh impossible share european funding st...</td>\n",
              "    </tr>\n",
              "    <tr>\n",
              "      <th>21</th>\n",
              "      <td>@TheGhos72578902 @SallyAnnC3 @AndieHalihan @Ch...</td>\n",
              "      <td>Neutral</td>\n",
              "      <td>0</td>\n",
              "      <td>haven’t wrong yet. said would lose. did. said ...</td>\n",
              "    </tr>\n",
              "    <tr>\n",
              "      <th>36</th>\n",
              "      <td>@snb19692 FPTP - totally discredited! Not leas...</td>\n",
              "      <td>Negative</td>\n",
              "      <td>0</td>\n",
              "      <td>fptp - totally discredited! least derisory 17....</td>\n",
              "    </tr>\n",
              "    <tr>\n",
              "      <th>39</th>\n",
              "      <td>@pauld4dog @jarviboy1974uk @LloydHardy Superma...</td>\n",
              "      <td>Neutral</td>\n",
              "      <td>0</td>\n",
              "      <td>supermarkets main brexit supporters quiet. bre...</td>\n",
              "    </tr>\n",
              "  </tbody>\n",
              "</table>\n",
              "</div>\n",
              "    <div class=\"colab-df-buttons\">\n",
              "\n",
              "  <div class=\"colab-df-container\">\n",
              "    <button class=\"colab-df-convert\" onclick=\"convertToInteractive('df-36445760-15c5-4823-a933-1583c633006a')\"\n",
              "            title=\"Convert this dataframe to an interactive table.\"\n",
              "            style=\"display:none;\">\n",
              "\n",
              "  <svg xmlns=\"http://www.w3.org/2000/svg\" height=\"24px\" viewBox=\"0 -960 960 960\">\n",
              "    <path d=\"M120-120v-720h720v720H120Zm60-500h600v-160H180v160Zm220 220h160v-160H400v160Zm0 220h160v-160H400v160ZM180-400h160v-160H180v160Zm440 0h160v-160H620v160ZM180-180h160v-160H180v160Zm440 0h160v-160H620v160Z\"/>\n",
              "  </svg>\n",
              "    </button>\n",
              "\n",
              "  <style>\n",
              "    .colab-df-container {\n",
              "      display:flex;\n",
              "      gap: 12px;\n",
              "    }\n",
              "\n",
              "    .colab-df-convert {\n",
              "      background-color: #E8F0FE;\n",
              "      border: none;\n",
              "      border-radius: 50%;\n",
              "      cursor: pointer;\n",
              "      display: none;\n",
              "      fill: #1967D2;\n",
              "      height: 32px;\n",
              "      padding: 0 0 0 0;\n",
              "      width: 32px;\n",
              "    }\n",
              "\n",
              "    .colab-df-convert:hover {\n",
              "      background-color: #E2EBFA;\n",
              "      box-shadow: 0px 1px 2px rgba(60, 64, 67, 0.3), 0px 1px 3px 1px rgba(60, 64, 67, 0.15);\n",
              "      fill: #174EA6;\n",
              "    }\n",
              "\n",
              "    .colab-df-buttons div {\n",
              "      margin-bottom: 4px;\n",
              "    }\n",
              "\n",
              "    [theme=dark] .colab-df-convert {\n",
              "      background-color: #3B4455;\n",
              "      fill: #D2E3FC;\n",
              "    }\n",
              "\n",
              "    [theme=dark] .colab-df-convert:hover {\n",
              "      background-color: #434B5C;\n",
              "      box-shadow: 0px 1px 3px 1px rgba(0, 0, 0, 0.15);\n",
              "      filter: drop-shadow(0px 1px 2px rgba(0, 0, 0, 0.3));\n",
              "      fill: #FFFFFF;\n",
              "    }\n",
              "  </style>\n",
              "\n",
              "    <script>\n",
              "      const buttonEl =\n",
              "        document.querySelector('#df-36445760-15c5-4823-a933-1583c633006a button.colab-df-convert');\n",
              "      buttonEl.style.display =\n",
              "        google.colab.kernel.accessAllowed ? 'block' : 'none';\n",
              "\n",
              "      async function convertToInteractive(key) {\n",
              "        const element = document.querySelector('#df-36445760-15c5-4823-a933-1583c633006a');\n",
              "        const dataTable =\n",
              "          await google.colab.kernel.invokeFunction('convertToInteractive',\n",
              "                                                    [key], {});\n",
              "        if (!dataTable) return;\n",
              "\n",
              "        const docLinkHtml = 'Like what you see? Visit the ' +\n",
              "          '<a target=\"_blank\" href=https://colab.research.google.com/notebooks/data_table.ipynb>data table notebook</a>'\n",
              "          + ' to learn more about interactive tables.';\n",
              "        element.innerHTML = '';\n",
              "        dataTable['output_type'] = 'display_data';\n",
              "        await google.colab.output.renderOutput(dataTable, element);\n",
              "        const docLink = document.createElement('div');\n",
              "        docLink.innerHTML = docLinkHtml;\n",
              "        element.appendChild(docLink);\n",
              "      }\n",
              "    </script>\n",
              "  </div>\n",
              "\n",
              "\n",
              "<div id=\"df-768f1792-b574-4095-9099-409be35b6466\">\n",
              "  <button class=\"colab-df-quickchart\" onclick=\"quickchart('df-768f1792-b574-4095-9099-409be35b6466')\"\n",
              "            title=\"Suggest charts\"\n",
              "            style=\"display:none;\">\n",
              "\n",
              "<svg xmlns=\"http://www.w3.org/2000/svg\" height=\"24px\"viewBox=\"0 0 24 24\"\n",
              "     width=\"24px\">\n",
              "    <g>\n",
              "        <path d=\"M19 3H5c-1.1 0-2 .9-2 2v14c0 1.1.9 2 2 2h14c1.1 0 2-.9 2-2V5c0-1.1-.9-2-2-2zM9 17H7v-7h2v7zm4 0h-2V7h2v10zm4 0h-2v-4h2v4z\"/>\n",
              "    </g>\n",
              "</svg>\n",
              "  </button>\n",
              "\n",
              "<style>\n",
              "  .colab-df-quickchart {\n",
              "      --bg-color: #E8F0FE;\n",
              "      --fill-color: #1967D2;\n",
              "      --hover-bg-color: #E2EBFA;\n",
              "      --hover-fill-color: #174EA6;\n",
              "      --disabled-fill-color: #AAA;\n",
              "      --disabled-bg-color: #DDD;\n",
              "  }\n",
              "\n",
              "  [theme=dark] .colab-df-quickchart {\n",
              "      --bg-color: #3B4455;\n",
              "      --fill-color: #D2E3FC;\n",
              "      --hover-bg-color: #434B5C;\n",
              "      --hover-fill-color: #FFFFFF;\n",
              "      --disabled-bg-color: #3B4455;\n",
              "      --disabled-fill-color: #666;\n",
              "  }\n",
              "\n",
              "  .colab-df-quickchart {\n",
              "    background-color: var(--bg-color);\n",
              "    border: none;\n",
              "    border-radius: 50%;\n",
              "    cursor: pointer;\n",
              "    display: none;\n",
              "    fill: var(--fill-color);\n",
              "    height: 32px;\n",
              "    padding: 0;\n",
              "    width: 32px;\n",
              "  }\n",
              "\n",
              "  .colab-df-quickchart:hover {\n",
              "    background-color: var(--hover-bg-color);\n",
              "    box-shadow: 0 1px 2px rgba(60, 64, 67, 0.3), 0 1px 3px 1px rgba(60, 64, 67, 0.15);\n",
              "    fill: var(--button-hover-fill-color);\n",
              "  }\n",
              "\n",
              "  .colab-df-quickchart-complete:disabled,\n",
              "  .colab-df-quickchart-complete:disabled:hover {\n",
              "    background-color: var(--disabled-bg-color);\n",
              "    fill: var(--disabled-fill-color);\n",
              "    box-shadow: none;\n",
              "  }\n",
              "\n",
              "  .colab-df-spinner {\n",
              "    border: 2px solid var(--fill-color);\n",
              "    border-color: transparent;\n",
              "    border-bottom-color: var(--fill-color);\n",
              "    animation:\n",
              "      spin 1s steps(1) infinite;\n",
              "  }\n",
              "\n",
              "  @keyframes spin {\n",
              "    0% {\n",
              "      border-color: transparent;\n",
              "      border-bottom-color: var(--fill-color);\n",
              "      border-left-color: var(--fill-color);\n",
              "    }\n",
              "    20% {\n",
              "      border-color: transparent;\n",
              "      border-left-color: var(--fill-color);\n",
              "      border-top-color: var(--fill-color);\n",
              "    }\n",
              "    30% {\n",
              "      border-color: transparent;\n",
              "      border-left-color: var(--fill-color);\n",
              "      border-top-color: var(--fill-color);\n",
              "      border-right-color: var(--fill-color);\n",
              "    }\n",
              "    40% {\n",
              "      border-color: transparent;\n",
              "      border-right-color: var(--fill-color);\n",
              "      border-top-color: var(--fill-color);\n",
              "    }\n",
              "    60% {\n",
              "      border-color: transparent;\n",
              "      border-right-color: var(--fill-color);\n",
              "    }\n",
              "    80% {\n",
              "      border-color: transparent;\n",
              "      border-right-color: var(--fill-color);\n",
              "      border-bottom-color: var(--fill-color);\n",
              "    }\n",
              "    90% {\n",
              "      border-color: transparent;\n",
              "      border-bottom-color: var(--fill-color);\n",
              "    }\n",
              "  }\n",
              "</style>\n",
              "\n",
              "  <script>\n",
              "    async function quickchart(key) {\n",
              "      const quickchartButtonEl =\n",
              "        document.querySelector('#' + key + ' button');\n",
              "      quickchartButtonEl.disabled = true;  // To prevent multiple clicks.\n",
              "      quickchartButtonEl.classList.add('colab-df-spinner');\n",
              "      try {\n",
              "        const charts = await google.colab.kernel.invokeFunction(\n",
              "            'suggestCharts', [key], {});\n",
              "      } catch (error) {\n",
              "        console.error('Error during call to suggestCharts:', error);\n",
              "      }\n",
              "      quickchartButtonEl.classList.remove('colab-df-spinner');\n",
              "      quickchartButtonEl.classList.add('colab-df-quickchart-complete');\n",
              "    }\n",
              "    (() => {\n",
              "      let quickchartButtonEl =\n",
              "        document.querySelector('#df-768f1792-b574-4095-9099-409be35b6466 button');\n",
              "      quickchartButtonEl.style.display =\n",
              "        google.colab.kernel.accessAllowed ? 'block' : 'none';\n",
              "    })();\n",
              "  </script>\n",
              "</div>\n",
              "    </div>\n",
              "  </div>\n"
            ]
          },
          "metadata": {},
          "execution_count": 42
        }
      ]
    },
    {
      "cell_type": "markdown",
      "source": [
        "#Split and Vectorize the data"
      ],
      "metadata": {
        "id": "jRZK-vWy46GK"
      }
    },
    {
      "cell_type": "code",
      "source": [
        "# Set X and y label\n",
        "X_preprocessed = df_no_qt[\"tweet_clean\"]\n",
        "y = df_no_qt[[\"Sentiment\", \"Position\"]].values\n",
        "y_list = [list(map(str, row)) for row in y]"
      ],
      "metadata": {
        "id": "Pk7rg9qE7SFC"
      },
      "execution_count": 129,
      "outputs": []
    },
    {
      "cell_type": "code",
      "source": [
        "# One hot encoding for multiple columns\n",
        "mlb = MultiLabelBinarizer()\n",
        "y_encoded = mlb.fit_transform(y_list)"
      ],
      "metadata": {
        "id": "KlxwiZNfgKou"
      },
      "execution_count": 130,
      "outputs": []
    },
    {
      "cell_type": "code",
      "source": [
        "#Check encoded y labels\n",
        "class_labels = mlb.classes_\n",
        "\n",
        "# Print out the mapping\n",
        "print(\"Encoded Labels mapping:\")\n",
        "for index, original_labels in enumerate(class_labels):\n",
        "    print(f\"Encoded Label: {index} --> Original Label: {original_labels}\")"
      ],
      "metadata": {
        "colab": {
          "base_uri": "https://localhost:8080/"
        },
        "id": "DtJTRvQ6hN5t",
        "outputId": "27f810b7-dca1-4e3a-9d59-17fbbd2a9f43"
      },
      "execution_count": 131,
      "outputs": [
        {
          "output_type": "stream",
          "name": "stdout",
          "text": [
            "Encoded Labels mapping:\n",
            "Encoded Label: 0 --> Original Label: 0\n",
            "Encoded Label: 1 --> Original Label: 1\n",
            "Encoded Label: 2 --> Original Label: Negative\n",
            "Encoded Label: 3 --> Original Label: Neutral\n",
            "Encoded Label: 4 --> Original Label: Not Rated\n",
            "Encoded Label: 5 --> Original Label: Positive\n"
          ]
        }
      ]
    },
    {
      "cell_type": "code",
      "source": [
        "# Encode the y labels\n",
        "#label_encoder = LabelEncoder()\n",
        "#y_encoded = label_encoder.fit_transform(y)"
      ],
      "metadata": {
        "id": "XaGrwBeeV2uk"
      },
      "execution_count": 44,
      "outputs": []
    },
    {
      "cell_type": "code",
      "source": [
        "#check encoded labels\n",
        "#for index, original_label in enumerate(label_encoder.classes_):\n",
        "   # print(f\"Encoded Label: {index} -> Original Label: {original_label}\")"
      ],
      "metadata": {
        "id": "BCi4qDoGjz2O"
      },
      "execution_count": null,
      "outputs": []
    },
    {
      "cell_type": "code",
      "source": [
        "# Split the data\n",
        "X_train, X_test, y_train, y_test = train_test_split(X_preprocessed, y_encoded, test_size=0.3, random_state=42)"
      ],
      "metadata": {
        "id": "jrZDZXE848jb"
      },
      "execution_count": 132,
      "outputs": []
    },
    {
      "cell_type": "code",
      "source": [
        "print('X_train shape: ', X_train.shape)\n",
        "print('X_test shape: ', X_test.shape)\n",
        "print('y_train shape: ', y_train.shape)\n",
        "print('y_test shape: ',y_test.shape)"
      ],
      "metadata": {
        "id": "p85Yh6LOEWJp",
        "outputId": "9af0e481-f132-45e8-d2d3-bc8520d7ce69",
        "colab": {
          "base_uri": "https://localhost:8080/"
        }
      },
      "execution_count": 133,
      "outputs": [
        {
          "output_type": "stream",
          "name": "stdout",
          "text": [
            "X_train shape:  (53268,)\n",
            "X_test shape:  (22830,)\n",
            "y_train shape:  (53268, 6)\n",
            "y_test shape:  (22830, 6)\n"
          ]
        }
      ]
    },
    {
      "cell_type": "code",
      "source": [
        "#Vectorize the data\n",
        "tfidf_vectorizer = TfidfVectorizer(stop_words='english') #make sure that all stopwords are excluded, stopword list might differ\n",
        "tfidf_train = tfidf_vectorizer.fit_transform(X_train)\n",
        "tfidf_test = tfidf_vectorizer.transform(X_test)\n",
        "\n",
        "count_vectorizer = CountVectorizer(stop_words=\"english\") #make sure that all stopwords are excluded\n",
        "count_train = count_vectorizer.fit_transform(X_train)\n",
        "count_test = count_vectorizer.transform(X_test)"
      ],
      "metadata": {
        "id": "9imtn-Ph9VvM"
      },
      "execution_count": 134,
      "outputs": []
    },
    {
      "cell_type": "markdown",
      "source": [
        "#Train Models with Tfidf Vectorizer"
      ],
      "metadata": {
        "id": "Xss2VgWFDWPy"
      }
    },
    {
      "cell_type": "code",
      "source": [
        "# Initialize a Support Vector Classifier (SVC) with a linear kernel\n",
        "# svm_linear_tfidf = SVC(kernel='linear', C=1)\n",
        "\n",
        "# Train the classifier using the tfidf training data and training labels\n",
        "# svm_linear_tfidf.fit(tfidf_train, y_train)"
      ],
      "metadata": {
        "id": "IKQKTioyDgT6"
      },
      "execution_count": null,
      "outputs": []
    },
    {
      "cell_type": "code",
      "source": [
        "# Initialize a Logistic Regression Model\n",
        "log_reg_tfidf = OneVsRestClassifier(LogisticRegression(C=1, solver='lbfgs', max_iter=1000))\n",
        "log_reg_tfidf.fit(tfidf_train, y_train)"
      ],
      "metadata": {
        "colab": {
          "base_uri": "https://localhost:8080/",
          "height": 118
        },
        "id": "NSU9vstMj5kH",
        "outputId": "4a498d4b-158f-42cc-bb56-766f6f7122b0"
      },
      "execution_count": 135,
      "outputs": [
        {
          "output_type": "execute_result",
          "data": {
            "text/plain": [
              "OneVsRestClassifier(estimator=LogisticRegression(C=1, max_iter=1000))"
            ],
            "text/html": [
              "<style>#sk-container-id-14 {color: black;background-color: white;}#sk-container-id-14 pre{padding: 0;}#sk-container-id-14 div.sk-toggleable {background-color: white;}#sk-container-id-14 label.sk-toggleable__label {cursor: pointer;display: block;width: 100%;margin-bottom: 0;padding: 0.3em;box-sizing: border-box;text-align: center;}#sk-container-id-14 label.sk-toggleable__label-arrow:before {content: \"▸\";float: left;margin-right: 0.25em;color: #696969;}#sk-container-id-14 label.sk-toggleable__label-arrow:hover:before {color: black;}#sk-container-id-14 div.sk-estimator:hover label.sk-toggleable__label-arrow:before {color: black;}#sk-container-id-14 div.sk-toggleable__content {max-height: 0;max-width: 0;overflow: hidden;text-align: left;background-color: #f0f8ff;}#sk-container-id-14 div.sk-toggleable__content pre {margin: 0.2em;color: black;border-radius: 0.25em;background-color: #f0f8ff;}#sk-container-id-14 input.sk-toggleable__control:checked~div.sk-toggleable__content {max-height: 200px;max-width: 100%;overflow: auto;}#sk-container-id-14 input.sk-toggleable__control:checked~label.sk-toggleable__label-arrow:before {content: \"▾\";}#sk-container-id-14 div.sk-estimator input.sk-toggleable__control:checked~label.sk-toggleable__label {background-color: #d4ebff;}#sk-container-id-14 div.sk-label input.sk-toggleable__control:checked~label.sk-toggleable__label {background-color: #d4ebff;}#sk-container-id-14 input.sk-hidden--visually {border: 0;clip: rect(1px 1px 1px 1px);clip: rect(1px, 1px, 1px, 1px);height: 1px;margin: -1px;overflow: hidden;padding: 0;position: absolute;width: 1px;}#sk-container-id-14 div.sk-estimator {font-family: monospace;background-color: #f0f8ff;border: 1px dotted black;border-radius: 0.25em;box-sizing: border-box;margin-bottom: 0.5em;}#sk-container-id-14 div.sk-estimator:hover {background-color: #d4ebff;}#sk-container-id-14 div.sk-parallel-item::after {content: \"\";width: 100%;border-bottom: 1px solid gray;flex-grow: 1;}#sk-container-id-14 div.sk-label:hover label.sk-toggleable__label {background-color: #d4ebff;}#sk-container-id-14 div.sk-serial::before {content: \"\";position: absolute;border-left: 1px solid gray;box-sizing: border-box;top: 0;bottom: 0;left: 50%;z-index: 0;}#sk-container-id-14 div.sk-serial {display: flex;flex-direction: column;align-items: center;background-color: white;padding-right: 0.2em;padding-left: 0.2em;position: relative;}#sk-container-id-14 div.sk-item {position: relative;z-index: 1;}#sk-container-id-14 div.sk-parallel {display: flex;align-items: stretch;justify-content: center;background-color: white;position: relative;}#sk-container-id-14 div.sk-item::before, #sk-container-id-14 div.sk-parallel-item::before {content: \"\";position: absolute;border-left: 1px solid gray;box-sizing: border-box;top: 0;bottom: 0;left: 50%;z-index: -1;}#sk-container-id-14 div.sk-parallel-item {display: flex;flex-direction: column;z-index: 1;position: relative;background-color: white;}#sk-container-id-14 div.sk-parallel-item:first-child::after {align-self: flex-end;width: 50%;}#sk-container-id-14 div.sk-parallel-item:last-child::after {align-self: flex-start;width: 50%;}#sk-container-id-14 div.sk-parallel-item:only-child::after {width: 0;}#sk-container-id-14 div.sk-dashed-wrapped {border: 1px dashed gray;margin: 0 0.4em 0.5em 0.4em;box-sizing: border-box;padding-bottom: 0.4em;background-color: white;}#sk-container-id-14 div.sk-label label {font-family: monospace;font-weight: bold;display: inline-block;line-height: 1.2em;}#sk-container-id-14 div.sk-label-container {text-align: center;}#sk-container-id-14 div.sk-container {/* jupyter's `normalize.less` sets `[hidden] { display: none; }` but bootstrap.min.css set `[hidden] { display: none !important; }` so we also need the `!important` here to be able to override the default hidden behavior on the sphinx rendered scikit-learn.org. See: https://github.com/scikit-learn/scikit-learn/issues/21755 */display: inline-block !important;position: relative;}#sk-container-id-14 div.sk-text-repr-fallback {display: none;}</style><div id=\"sk-container-id-14\" class=\"sk-top-container\"><div class=\"sk-text-repr-fallback\"><pre>OneVsRestClassifier(estimator=LogisticRegression(C=1, max_iter=1000))</pre><b>In a Jupyter environment, please rerun this cell to show the HTML representation or trust the notebook. <br />On GitHub, the HTML representation is unable to render, please try loading this page with nbviewer.org.</b></div><div class=\"sk-container\" hidden><div class=\"sk-item sk-dashed-wrapped\"><div class=\"sk-label-container\"><div class=\"sk-label sk-toggleable\"><input class=\"sk-toggleable__control sk-hidden--visually\" id=\"sk-estimator-id-20\" type=\"checkbox\" ><label for=\"sk-estimator-id-20\" class=\"sk-toggleable__label sk-toggleable__label-arrow\">OneVsRestClassifier</label><div class=\"sk-toggleable__content\"><pre>OneVsRestClassifier(estimator=LogisticRegression(C=1, max_iter=1000))</pre></div></div></div><div class=\"sk-parallel\"><div class=\"sk-parallel-item\"><div class=\"sk-item\"><div class=\"sk-label-container\"><div class=\"sk-label sk-toggleable\"><input class=\"sk-toggleable__control sk-hidden--visually\" id=\"sk-estimator-id-21\" type=\"checkbox\" ><label for=\"sk-estimator-id-21\" class=\"sk-toggleable__label sk-toggleable__label-arrow\">estimator: LogisticRegression</label><div class=\"sk-toggleable__content\"><pre>LogisticRegression(C=1, max_iter=1000)</pre></div></div></div><div class=\"sk-serial\"><div class=\"sk-item\"><div class=\"sk-estimator sk-toggleable\"><input class=\"sk-toggleable__control sk-hidden--visually\" id=\"sk-estimator-id-22\" type=\"checkbox\" ><label for=\"sk-estimator-id-22\" class=\"sk-toggleable__label sk-toggleable__label-arrow\">LogisticRegression</label><div class=\"sk-toggleable__content\"><pre>LogisticRegression(C=1, max_iter=1000)</pre></div></div></div></div></div></div></div></div></div></div>"
            ]
          },
          "metadata": {},
          "execution_count": 135
        }
      ]
    },
    {
      "cell_type": "code",
      "source": [
        "print(\"Shape of y_test:\", y_test.shape)\n",
        "print(\"Shape of y_predict:\", y_pred_logreg_tfidf.shape)"
      ],
      "metadata": {
        "colab": {
          "base_uri": "https://localhost:8080/"
        },
        "id": "BYUD80Z5rVpo",
        "outputId": "537637b6-97cc-4108-fc8d-28564f85fc0a"
      },
      "execution_count": 137,
      "outputs": [
        {
          "output_type": "stream",
          "name": "stdout",
          "text": [
            "Shape of y_test: (22830, 6)\n",
            "Shape of y_predict: (22830, 6)\n"
          ]
        }
      ]
    },
    {
      "cell_type": "code",
      "source": [
        "# Initialize a Logistic Regression Model\n",
        "#log_reg_tfidf = LogisticRegression(C=1, solver='lbfgs', max_iter=1000)\n",
        "\n",
        "#Train the Linear Regression Model using the tfidf data\n",
        "#log_reg_tfidf.fit(tfidf_train, y_train)"
      ],
      "metadata": {
        "id": "D1T2vBlTHPfl"
      },
      "execution_count": null,
      "outputs": []
    },
    {
      "cell_type": "code",
      "source": [
        "# Initialize a Random Forest Classifier\n",
        "random_forest_tfidf = RandomForestClassifier(max_depth=None, n_estimators=100, random_state=42)\n",
        "\n",
        "# Fit the Random Forest Classifier on the training data\n",
        "random_forest_tfidf.fit(tfidf_train, y_train)"
      ],
      "metadata": {
        "id": "egJC1gAkHo35",
        "colab": {
          "base_uri": "https://localhost:8080/",
          "height": 75
        },
        "outputId": "0c1aef05-b82b-4593-f88d-709962454a25"
      },
      "execution_count": 51,
      "outputs": [
        {
          "output_type": "execute_result",
          "data": {
            "text/plain": [
              "RandomForestClassifier(random_state=42)"
            ],
            "text/html": [
              "<style>#sk-container-id-5 {color: black;background-color: white;}#sk-container-id-5 pre{padding: 0;}#sk-container-id-5 div.sk-toggleable {background-color: white;}#sk-container-id-5 label.sk-toggleable__label {cursor: pointer;display: block;width: 100%;margin-bottom: 0;padding: 0.3em;box-sizing: border-box;text-align: center;}#sk-container-id-5 label.sk-toggleable__label-arrow:before {content: \"▸\";float: left;margin-right: 0.25em;color: #696969;}#sk-container-id-5 label.sk-toggleable__label-arrow:hover:before {color: black;}#sk-container-id-5 div.sk-estimator:hover label.sk-toggleable__label-arrow:before {color: black;}#sk-container-id-5 div.sk-toggleable__content {max-height: 0;max-width: 0;overflow: hidden;text-align: left;background-color: #f0f8ff;}#sk-container-id-5 div.sk-toggleable__content pre {margin: 0.2em;color: black;border-radius: 0.25em;background-color: #f0f8ff;}#sk-container-id-5 input.sk-toggleable__control:checked~div.sk-toggleable__content {max-height: 200px;max-width: 100%;overflow: auto;}#sk-container-id-5 input.sk-toggleable__control:checked~label.sk-toggleable__label-arrow:before {content: \"▾\";}#sk-container-id-5 div.sk-estimator input.sk-toggleable__control:checked~label.sk-toggleable__label {background-color: #d4ebff;}#sk-container-id-5 div.sk-label input.sk-toggleable__control:checked~label.sk-toggleable__label {background-color: #d4ebff;}#sk-container-id-5 input.sk-hidden--visually {border: 0;clip: rect(1px 1px 1px 1px);clip: rect(1px, 1px, 1px, 1px);height: 1px;margin: -1px;overflow: hidden;padding: 0;position: absolute;width: 1px;}#sk-container-id-5 div.sk-estimator {font-family: monospace;background-color: #f0f8ff;border: 1px dotted black;border-radius: 0.25em;box-sizing: border-box;margin-bottom: 0.5em;}#sk-container-id-5 div.sk-estimator:hover {background-color: #d4ebff;}#sk-container-id-5 div.sk-parallel-item::after {content: \"\";width: 100%;border-bottom: 1px solid gray;flex-grow: 1;}#sk-container-id-5 div.sk-label:hover label.sk-toggleable__label {background-color: #d4ebff;}#sk-container-id-5 div.sk-serial::before {content: \"\";position: absolute;border-left: 1px solid gray;box-sizing: border-box;top: 0;bottom: 0;left: 50%;z-index: 0;}#sk-container-id-5 div.sk-serial {display: flex;flex-direction: column;align-items: center;background-color: white;padding-right: 0.2em;padding-left: 0.2em;position: relative;}#sk-container-id-5 div.sk-item {position: relative;z-index: 1;}#sk-container-id-5 div.sk-parallel {display: flex;align-items: stretch;justify-content: center;background-color: white;position: relative;}#sk-container-id-5 div.sk-item::before, #sk-container-id-5 div.sk-parallel-item::before {content: \"\";position: absolute;border-left: 1px solid gray;box-sizing: border-box;top: 0;bottom: 0;left: 50%;z-index: -1;}#sk-container-id-5 div.sk-parallel-item {display: flex;flex-direction: column;z-index: 1;position: relative;background-color: white;}#sk-container-id-5 div.sk-parallel-item:first-child::after {align-self: flex-end;width: 50%;}#sk-container-id-5 div.sk-parallel-item:last-child::after {align-self: flex-start;width: 50%;}#sk-container-id-5 div.sk-parallel-item:only-child::after {width: 0;}#sk-container-id-5 div.sk-dashed-wrapped {border: 1px dashed gray;margin: 0 0.4em 0.5em 0.4em;box-sizing: border-box;padding-bottom: 0.4em;background-color: white;}#sk-container-id-5 div.sk-label label {font-family: monospace;font-weight: bold;display: inline-block;line-height: 1.2em;}#sk-container-id-5 div.sk-label-container {text-align: center;}#sk-container-id-5 div.sk-container {/* jupyter's `normalize.less` sets `[hidden] { display: none; }` but bootstrap.min.css set `[hidden] { display: none !important; }` so we also need the `!important` here to be able to override the default hidden behavior on the sphinx rendered scikit-learn.org. See: https://github.com/scikit-learn/scikit-learn/issues/21755 */display: inline-block !important;position: relative;}#sk-container-id-5 div.sk-text-repr-fallback {display: none;}</style><div id=\"sk-container-id-5\" class=\"sk-top-container\"><div class=\"sk-text-repr-fallback\"><pre>RandomForestClassifier(random_state=42)</pre><b>In a Jupyter environment, please rerun this cell to show the HTML representation or trust the notebook. <br />On GitHub, the HTML representation is unable to render, please try loading this page with nbviewer.org.</b></div><div class=\"sk-container\" hidden><div class=\"sk-item\"><div class=\"sk-estimator sk-toggleable\"><input class=\"sk-toggleable__control sk-hidden--visually\" id=\"sk-estimator-id-5\" type=\"checkbox\" checked><label for=\"sk-estimator-id-5\" class=\"sk-toggleable__label sk-toggleable__label-arrow\">RandomForestClassifier</label><div class=\"sk-toggleable__content\"><pre>RandomForestClassifier(random_state=42)</pre></div></div></div></div></div>"
            ]
          },
          "metadata": {},
          "execution_count": 51
        }
      ]
    },
    {
      "cell_type": "code",
      "source": [
        "# Initialize Naive Bayes Classifier\n",
        "nb_classifier_tfidf = MultinomialNB()\n",
        "\n",
        "# Fit the Naive Bayes Classifier with the tfidf data\n",
        "nb_classifier_tfidf.fit(tfidf_train, y_train)"
      ],
      "metadata": {
        "id": "fw8SiYSGPmrl",
        "colab": {
          "base_uri": "https://localhost:8080/",
          "height": 75
        },
        "outputId": "c6cc85d7-0348-438f-ef95-8cb121390e16"
      },
      "execution_count": 52,
      "outputs": [
        {
          "output_type": "execute_result",
          "data": {
            "text/plain": [
              "MultinomialNB()"
            ],
            "text/html": [
              "<style>#sk-container-id-6 {color: black;background-color: white;}#sk-container-id-6 pre{padding: 0;}#sk-container-id-6 div.sk-toggleable {background-color: white;}#sk-container-id-6 label.sk-toggleable__label {cursor: pointer;display: block;width: 100%;margin-bottom: 0;padding: 0.3em;box-sizing: border-box;text-align: center;}#sk-container-id-6 label.sk-toggleable__label-arrow:before {content: \"▸\";float: left;margin-right: 0.25em;color: #696969;}#sk-container-id-6 label.sk-toggleable__label-arrow:hover:before {color: black;}#sk-container-id-6 div.sk-estimator:hover label.sk-toggleable__label-arrow:before {color: black;}#sk-container-id-6 div.sk-toggleable__content {max-height: 0;max-width: 0;overflow: hidden;text-align: left;background-color: #f0f8ff;}#sk-container-id-6 div.sk-toggleable__content pre {margin: 0.2em;color: black;border-radius: 0.25em;background-color: #f0f8ff;}#sk-container-id-6 input.sk-toggleable__control:checked~div.sk-toggleable__content {max-height: 200px;max-width: 100%;overflow: auto;}#sk-container-id-6 input.sk-toggleable__control:checked~label.sk-toggleable__label-arrow:before {content: \"▾\";}#sk-container-id-6 div.sk-estimator input.sk-toggleable__control:checked~label.sk-toggleable__label {background-color: #d4ebff;}#sk-container-id-6 div.sk-label input.sk-toggleable__control:checked~label.sk-toggleable__label {background-color: #d4ebff;}#sk-container-id-6 input.sk-hidden--visually {border: 0;clip: rect(1px 1px 1px 1px);clip: rect(1px, 1px, 1px, 1px);height: 1px;margin: -1px;overflow: hidden;padding: 0;position: absolute;width: 1px;}#sk-container-id-6 div.sk-estimator {font-family: monospace;background-color: #f0f8ff;border: 1px dotted black;border-radius: 0.25em;box-sizing: border-box;margin-bottom: 0.5em;}#sk-container-id-6 div.sk-estimator:hover {background-color: #d4ebff;}#sk-container-id-6 div.sk-parallel-item::after {content: \"\";width: 100%;border-bottom: 1px solid gray;flex-grow: 1;}#sk-container-id-6 div.sk-label:hover label.sk-toggleable__label {background-color: #d4ebff;}#sk-container-id-6 div.sk-serial::before {content: \"\";position: absolute;border-left: 1px solid gray;box-sizing: border-box;top: 0;bottom: 0;left: 50%;z-index: 0;}#sk-container-id-6 div.sk-serial {display: flex;flex-direction: column;align-items: center;background-color: white;padding-right: 0.2em;padding-left: 0.2em;position: relative;}#sk-container-id-6 div.sk-item {position: relative;z-index: 1;}#sk-container-id-6 div.sk-parallel {display: flex;align-items: stretch;justify-content: center;background-color: white;position: relative;}#sk-container-id-6 div.sk-item::before, #sk-container-id-6 div.sk-parallel-item::before {content: \"\";position: absolute;border-left: 1px solid gray;box-sizing: border-box;top: 0;bottom: 0;left: 50%;z-index: -1;}#sk-container-id-6 div.sk-parallel-item {display: flex;flex-direction: column;z-index: 1;position: relative;background-color: white;}#sk-container-id-6 div.sk-parallel-item:first-child::after {align-self: flex-end;width: 50%;}#sk-container-id-6 div.sk-parallel-item:last-child::after {align-self: flex-start;width: 50%;}#sk-container-id-6 div.sk-parallel-item:only-child::after {width: 0;}#sk-container-id-6 div.sk-dashed-wrapped {border: 1px dashed gray;margin: 0 0.4em 0.5em 0.4em;box-sizing: border-box;padding-bottom: 0.4em;background-color: white;}#sk-container-id-6 div.sk-label label {font-family: monospace;font-weight: bold;display: inline-block;line-height: 1.2em;}#sk-container-id-6 div.sk-label-container {text-align: center;}#sk-container-id-6 div.sk-container {/* jupyter's `normalize.less` sets `[hidden] { display: none; }` but bootstrap.min.css set `[hidden] { display: none !important; }` so we also need the `!important` here to be able to override the default hidden behavior on the sphinx rendered scikit-learn.org. See: https://github.com/scikit-learn/scikit-learn/issues/21755 */display: inline-block !important;position: relative;}#sk-container-id-6 div.sk-text-repr-fallback {display: none;}</style><div id=\"sk-container-id-6\" class=\"sk-top-container\"><div class=\"sk-text-repr-fallback\"><pre>MultinomialNB()</pre><b>In a Jupyter environment, please rerun this cell to show the HTML representation or trust the notebook. <br />On GitHub, the HTML representation is unable to render, please try loading this page with nbviewer.org.</b></div><div class=\"sk-container\" hidden><div class=\"sk-item\"><div class=\"sk-estimator sk-toggleable\"><input class=\"sk-toggleable__control sk-hidden--visually\" id=\"sk-estimator-id-6\" type=\"checkbox\" checked><label for=\"sk-estimator-id-6\" class=\"sk-toggleable__label sk-toggleable__label-arrow\">MultinomialNB</label><div class=\"sk-toggleable__content\"><pre>MultinomialNB()</pre></div></div></div></div></div>"
            ]
          },
          "metadata": {},
          "execution_count": 52
        }
      ]
    },
    {
      "cell_type": "markdown",
      "source": [
        "Make predictions with Tfidf vectorized data"
      ],
      "metadata": {
        "id": "YYcwinBnQlWY"
      }
    },
    {
      "cell_type": "code",
      "source": [
        "y_pred_logreg_tfidf = log_reg_tfidf.predict(tfidf_test)"
      ],
      "metadata": {
        "id": "5MHHHUb4k18o"
      },
      "execution_count": 118,
      "outputs": []
    },
    {
      "cell_type": "code",
      "source": [
        "# Predict the labels for the tfidf vectorized data using a linear SVM model\n",
        "# y_pred_svm_tfidf = svm_linear_tfidf.predict(tfidf_test)\n",
        "\n",
        "# Predict the labels for the tfidf vectorized data using a logistic regression model\n",
        "y_pred_logreg_tfidf = log_reg_tfidf.predict(tfidf_test)\n",
        "\n",
        "# Predict the labels for the tfidf vectorized data using a Random Forest Classifier\n",
        "y_pred_forest_tfidf = random_forest_tfidf.predict(tfidf_test)\n",
        "\n",
        "# Predict the labels for the tfidf vectorized data using a Naive Bayes Classifier\n",
        "y_pred_nb_tfidf = nb_classifier_tfidf.predict(tfidf_test)"
      ],
      "metadata": {
        "id": "8rj9hvifQvid"
      },
      "execution_count": null,
      "outputs": []
    },
    {
      "cell_type": "markdown",
      "source": [
        "Evaluate our Models with the Tfidf vectorized data"
      ],
      "metadata": {
        "id": "4hGqXe_xSkq7"
      }
    },
    {
      "cell_type": "code",
      "source": [
        "print(f\"Logistic Regression Evaluation:\")\n",
        "#Logistic Regression Evaluation\n",
        "# Calculate and print the accuracy score\n",
        "accuracy_logreg_tfidf = accuracy_score(y_test, y_pred_logreg_tfidf)\n",
        "print(f\"Accuracy: {accuracy_logreg_tfidf}\")\n",
        "\n",
        "# Calculate and print the F1 score\n",
        "f1_logreg_tfidf = f1_score(y_test, y_pred_logreg_tfidf, average='macro')\n",
        "print(f\"F1 Score: {f1_logreg_tfidf}\")\n",
        "\n",
        "# Calculate and print the precision score\n",
        "precision_logreg_tfidf = precision_score(y_test, y_pred_logreg_tfidf, average='macro')\n",
        "print(f\"Precision: {precision_logreg_tfidf}\")\n",
        "\n",
        "# Calculate and print the recall score\n",
        "recall_logreg_tfidf = recall_score(y_test, y_pred_logreg_tfidf, average='macro')\n",
        "print(f\"Recall: {recall_logreg_tfidf}\")\n",
        "\n",
        "print(f\"---------------------------------------------\")"
      ],
      "metadata": {
        "colab": {
          "base_uri": "https://localhost:8080/"
        },
        "id": "4Xbckvvmk8up",
        "outputId": "27a0991c-daae-4a2f-eb05-b3c29b50e44c"
      },
      "execution_count": 94,
      "outputs": [
        {
          "output_type": "stream",
          "name": "stdout",
          "text": [
            "Logistic Regression Evaluation:\n",
            "Accuracy: 0.5130091984231274\n",
            "F1 Score: 0.6533698103806973\n",
            "Precision: 0.7490087257930457\n",
            "Recall: 0.6096744256517197\n",
            "---------------------------------------------\n"
          ]
        }
      ]
    },
    {
      "cell_type": "code",
      "source": [
        "#SVM Evaluation\n",
        "# print(f\"SVM Evaluation:\")\n",
        "# Calculate and print the accuracy score\n",
        "# accuracy_svm_tfidf = accuracy_score(y_test, y_pred_svm_tfidf)\n",
        "# print(f\"Accuracy: {accuracy_svm_tfidf}\")\n",
        "\n",
        "#  Calculate and print the F1 score\n",
        "# f1_svm_tfidf = f1_score(y_test, y_pred_svm_tfidf, average='macro')\n",
        "# print(f\"F1 Score: {f1_svm_tfidf}\")\n",
        "\n",
        "#  Calculate and print the precision score\n",
        "# precision_svm_tfidf = precision_score(y_test, y_pred_svm_tfidf, average='macro')\n",
        "# print(f\"Precision: {precision_svm_tfidf}\")\n",
        "\n",
        "#  Calculate and print the recall score\n",
        "# recall_svm_tfidf = recall_score(y_test, y_pred_svm_tfidf, average='macro')\n",
        "# print(f\"Recall: {recall_svm_tfidf}\")\n",
        "\n",
        "# print(f\"---------------------------------------------\")\n",
        "\n",
        "print(f\"Logistic Regression Evaluation:\")\n",
        "#Logistic Regression Evaluation\n",
        "# Calculate and print the accuracy score\n",
        "accuracy_logreg_tfidf = accuracy_score(y_test, y_pred_logreg_tfidf)\n",
        "print(f\"Accuracy: {accuracy_logreg_tfidf}\")\n",
        "\n",
        "# Calculate and print the F1 score\n",
        "f1_logreg_tfidf = f1_score(y_test, y_pred_logreg_tfidf, average='macro')\n",
        "print(f\"F1 Score: {f1_logreg_tfidf}\")\n",
        "\n",
        "# Calculate and print the precision score\n",
        "precision_logreg_tfidf = precision_score(y_test, y_pred_logreg_tfidf, average='macro')\n",
        "print(f\"Precision: {precision_logreg_tfidf}\")\n",
        "\n",
        "# Calculate and print the recall score\n",
        "recall_logreg_tfidf = recall_score(y_test, y_pred_logreg_tfidf, average='macro')\n",
        "print(f\"Recall: {recall_logreg_tfidf}\")\n",
        "\n",
        "print(f\"---------------------------------------------\")\n",
        "\n",
        "print(f\"Random Forest Evaluation:\")\n",
        "#Random Forest Evaluation\n",
        "# Calculate and print the accuracy score\n",
        "accuracy_forest_tfidf = accuracy_score(y_test, y_pred_forest_tfidf)\n",
        "print(f\"Accuracy: {accuracy_forest_tfidf}\")\n",
        "\n",
        "# Calculate and print the F1 score\n",
        "f1_forest_tfidf = f1_score(y_test, y_pred_forest_tfidf, average='macro')\n",
        "print(f\"F1 Score: {f1_forest_tfidf}\")\n",
        "\n",
        "# Calculate and print the precision score\n",
        "precision_forest_tfidf = precision_score(y_test, y_pred_forest_tfidf, average='macro')\n",
        "print(f\"Precision: {precision_forest_tfidf}\")\n",
        "\n",
        "# Calculate and print the recall score\n",
        "recall_forest_tfidf = recall_score(y_test, y_pred_forest_tfidf, average='macro')\n",
        "print(f\"Recall: {recall_forest_tfidf}\")\n",
        "\n",
        "print(f\"---------------------------------------------\")\n",
        "\n",
        "print(f\"Naive Bayes Classifier Evaluation:\")\n",
        "#Logistic Regression Evaluation\n",
        "# Calculate and print the accuracy score\n",
        "accuracy_nb_tfidf = accuracy_score(y_test, y_pred_nb_tfidf)\n",
        "print(f\"Accuracy: {accuracy_nb_tfidf}\")\n",
        "\n",
        "# Calculate and print the F1 score\n",
        "f1_nb_tfidf = f1_score(y_test, y_pred_nb_tfidf, average='macro')\n",
        "print(f\"F1 Score: {f1_nb_tfidf}\")\n",
        "\n",
        "# Calculate and print the precision score\n",
        "precision_nb_tfidf = precision_score(y_test, y_pred_nb_tfidf, average='macro', zero_division=1)\n",
        "print(f\"Precision: {precision_nb_tfidf}\")\n",
        "\n",
        "# Calculate and print the recall score\n",
        "recall_nb_tfidf = recall_score(y_test, y_pred_nb_tfidf, average='macro', zero_division=1)\n",
        "print(f\"Recall: {recall_nb_tfidf}\")\n",
        "\n",
        "print(f\"---------------------------------------------\")"
      ],
      "metadata": {
        "id": "PEYomfwnSpnd"
      },
      "execution_count": null,
      "outputs": []
    },
    {
      "cell_type": "markdown",
      "source": [
        "#Train Models with Count Vectorizer"
      ],
      "metadata": {
        "id": "nEf17228Jrkf"
      }
    },
    {
      "cell_type": "code",
      "source": [
        "# Initialize a Support Vector Classifier (SVC) with a linear kernel\n",
        "# svm_linear_count = SVC(kernel='linear', C=1)\n",
        "\n",
        "# Train the classifier using the tfidf training data and training labels\n",
        "# svm_linear_count.fit(count_train, y_train)"
      ],
      "metadata": {
        "id": "M-TL_ovPJ6Iv"
      },
      "execution_count": null,
      "outputs": []
    },
    {
      "cell_type": "code",
      "source": [
        "# Initialize a Logistic Regression Model\n",
        "log_reg_count = OneVsRestClassifier(LogisticRegression(C=1, solver='lbfgs', max_iter=1000))\n",
        "\n",
        "#Train the Linear Regression Model using the tfidf data\n",
        "log_reg_count.fit(count_train, y_train)"
      ],
      "metadata": {
        "id": "ACtLyIlXKS4-",
        "colab": {
          "base_uri": "https://localhost:8080/",
          "height": 118
        },
        "outputId": "d9d1d46a-2c6d-4011-cb6d-3316a96180a7"
      },
      "execution_count": 139,
      "outputs": [
        {
          "output_type": "execute_result",
          "data": {
            "text/plain": [
              "OneVsRestClassifier(estimator=LogisticRegression(C=1, max_iter=1000))"
            ],
            "text/html": [
              "<style>#sk-container-id-15 {color: black;background-color: white;}#sk-container-id-15 pre{padding: 0;}#sk-container-id-15 div.sk-toggleable {background-color: white;}#sk-container-id-15 label.sk-toggleable__label {cursor: pointer;display: block;width: 100%;margin-bottom: 0;padding: 0.3em;box-sizing: border-box;text-align: center;}#sk-container-id-15 label.sk-toggleable__label-arrow:before {content: \"▸\";float: left;margin-right: 0.25em;color: #696969;}#sk-container-id-15 label.sk-toggleable__label-arrow:hover:before {color: black;}#sk-container-id-15 div.sk-estimator:hover label.sk-toggleable__label-arrow:before {color: black;}#sk-container-id-15 div.sk-toggleable__content {max-height: 0;max-width: 0;overflow: hidden;text-align: left;background-color: #f0f8ff;}#sk-container-id-15 div.sk-toggleable__content pre {margin: 0.2em;color: black;border-radius: 0.25em;background-color: #f0f8ff;}#sk-container-id-15 input.sk-toggleable__control:checked~div.sk-toggleable__content {max-height: 200px;max-width: 100%;overflow: auto;}#sk-container-id-15 input.sk-toggleable__control:checked~label.sk-toggleable__label-arrow:before {content: \"▾\";}#sk-container-id-15 div.sk-estimator input.sk-toggleable__control:checked~label.sk-toggleable__label {background-color: #d4ebff;}#sk-container-id-15 div.sk-label input.sk-toggleable__control:checked~label.sk-toggleable__label {background-color: #d4ebff;}#sk-container-id-15 input.sk-hidden--visually {border: 0;clip: rect(1px 1px 1px 1px);clip: rect(1px, 1px, 1px, 1px);height: 1px;margin: -1px;overflow: hidden;padding: 0;position: absolute;width: 1px;}#sk-container-id-15 div.sk-estimator {font-family: monospace;background-color: #f0f8ff;border: 1px dotted black;border-radius: 0.25em;box-sizing: border-box;margin-bottom: 0.5em;}#sk-container-id-15 div.sk-estimator:hover {background-color: #d4ebff;}#sk-container-id-15 div.sk-parallel-item::after {content: \"\";width: 100%;border-bottom: 1px solid gray;flex-grow: 1;}#sk-container-id-15 div.sk-label:hover label.sk-toggleable__label {background-color: #d4ebff;}#sk-container-id-15 div.sk-serial::before {content: \"\";position: absolute;border-left: 1px solid gray;box-sizing: border-box;top: 0;bottom: 0;left: 50%;z-index: 0;}#sk-container-id-15 div.sk-serial {display: flex;flex-direction: column;align-items: center;background-color: white;padding-right: 0.2em;padding-left: 0.2em;position: relative;}#sk-container-id-15 div.sk-item {position: relative;z-index: 1;}#sk-container-id-15 div.sk-parallel {display: flex;align-items: stretch;justify-content: center;background-color: white;position: relative;}#sk-container-id-15 div.sk-item::before, #sk-container-id-15 div.sk-parallel-item::before {content: \"\";position: absolute;border-left: 1px solid gray;box-sizing: border-box;top: 0;bottom: 0;left: 50%;z-index: -1;}#sk-container-id-15 div.sk-parallel-item {display: flex;flex-direction: column;z-index: 1;position: relative;background-color: white;}#sk-container-id-15 div.sk-parallel-item:first-child::after {align-self: flex-end;width: 50%;}#sk-container-id-15 div.sk-parallel-item:last-child::after {align-self: flex-start;width: 50%;}#sk-container-id-15 div.sk-parallel-item:only-child::after {width: 0;}#sk-container-id-15 div.sk-dashed-wrapped {border: 1px dashed gray;margin: 0 0.4em 0.5em 0.4em;box-sizing: border-box;padding-bottom: 0.4em;background-color: white;}#sk-container-id-15 div.sk-label label {font-family: monospace;font-weight: bold;display: inline-block;line-height: 1.2em;}#sk-container-id-15 div.sk-label-container {text-align: center;}#sk-container-id-15 div.sk-container {/* jupyter's `normalize.less` sets `[hidden] { display: none; }` but bootstrap.min.css set `[hidden] { display: none !important; }` so we also need the `!important` here to be able to override the default hidden behavior on the sphinx rendered scikit-learn.org. See: https://github.com/scikit-learn/scikit-learn/issues/21755 */display: inline-block !important;position: relative;}#sk-container-id-15 div.sk-text-repr-fallback {display: none;}</style><div id=\"sk-container-id-15\" class=\"sk-top-container\"><div class=\"sk-text-repr-fallback\"><pre>OneVsRestClassifier(estimator=LogisticRegression(C=1, max_iter=1000))</pre><b>In a Jupyter environment, please rerun this cell to show the HTML representation or trust the notebook. <br />On GitHub, the HTML representation is unable to render, please try loading this page with nbviewer.org.</b></div><div class=\"sk-container\" hidden><div class=\"sk-item sk-dashed-wrapped\"><div class=\"sk-label-container\"><div class=\"sk-label sk-toggleable\"><input class=\"sk-toggleable__control sk-hidden--visually\" id=\"sk-estimator-id-23\" type=\"checkbox\" ><label for=\"sk-estimator-id-23\" class=\"sk-toggleable__label sk-toggleable__label-arrow\">OneVsRestClassifier</label><div class=\"sk-toggleable__content\"><pre>OneVsRestClassifier(estimator=LogisticRegression(C=1, max_iter=1000))</pre></div></div></div><div class=\"sk-parallel\"><div class=\"sk-parallel-item\"><div class=\"sk-item\"><div class=\"sk-label-container\"><div class=\"sk-label sk-toggleable\"><input class=\"sk-toggleable__control sk-hidden--visually\" id=\"sk-estimator-id-24\" type=\"checkbox\" ><label for=\"sk-estimator-id-24\" class=\"sk-toggleable__label sk-toggleable__label-arrow\">estimator: LogisticRegression</label><div class=\"sk-toggleable__content\"><pre>LogisticRegression(C=1, max_iter=1000)</pre></div></div></div><div class=\"sk-serial\"><div class=\"sk-item\"><div class=\"sk-estimator sk-toggleable\"><input class=\"sk-toggleable__control sk-hidden--visually\" id=\"sk-estimator-id-25\" type=\"checkbox\" ><label for=\"sk-estimator-id-25\" class=\"sk-toggleable__label sk-toggleable__label-arrow\">LogisticRegression</label><div class=\"sk-toggleable__content\"><pre>LogisticRegression(C=1, max_iter=1000)</pre></div></div></div></div></div></div></div></div></div></div>"
            ]
          },
          "metadata": {},
          "execution_count": 139
        }
      ]
    },
    {
      "cell_type": "code",
      "source": [
        "# Initialize a Random Forest Classifier\n",
        "random_forest_count = RandomForestClassifier(max_depth=None, n_estimators=100, random_state=42)\n",
        "\n",
        "# Fit the Random Forest Classifier on the training data\n",
        "random_forest_count.fit(count_train, y_train)"
      ],
      "metadata": {
        "id": "Cqd1BNtTKfwd",
        "colab": {
          "base_uri": "https://localhost:8080/",
          "height": 75
        },
        "outputId": "b5cb5e45-83dc-459a-b353-23c298f2e5fb"
      },
      "execution_count": 57,
      "outputs": [
        {
          "output_type": "execute_result",
          "data": {
            "text/plain": [
              "RandomForestClassifier(random_state=42)"
            ],
            "text/html": [
              "<style>#sk-container-id-8 {color: black;background-color: white;}#sk-container-id-8 pre{padding: 0;}#sk-container-id-8 div.sk-toggleable {background-color: white;}#sk-container-id-8 label.sk-toggleable__label {cursor: pointer;display: block;width: 100%;margin-bottom: 0;padding: 0.3em;box-sizing: border-box;text-align: center;}#sk-container-id-8 label.sk-toggleable__label-arrow:before {content: \"▸\";float: left;margin-right: 0.25em;color: #696969;}#sk-container-id-8 label.sk-toggleable__label-arrow:hover:before {color: black;}#sk-container-id-8 div.sk-estimator:hover label.sk-toggleable__label-arrow:before {color: black;}#sk-container-id-8 div.sk-toggleable__content {max-height: 0;max-width: 0;overflow: hidden;text-align: left;background-color: #f0f8ff;}#sk-container-id-8 div.sk-toggleable__content pre {margin: 0.2em;color: black;border-radius: 0.25em;background-color: #f0f8ff;}#sk-container-id-8 input.sk-toggleable__control:checked~div.sk-toggleable__content {max-height: 200px;max-width: 100%;overflow: auto;}#sk-container-id-8 input.sk-toggleable__control:checked~label.sk-toggleable__label-arrow:before {content: \"▾\";}#sk-container-id-8 div.sk-estimator input.sk-toggleable__control:checked~label.sk-toggleable__label {background-color: #d4ebff;}#sk-container-id-8 div.sk-label input.sk-toggleable__control:checked~label.sk-toggleable__label {background-color: #d4ebff;}#sk-container-id-8 input.sk-hidden--visually {border: 0;clip: rect(1px 1px 1px 1px);clip: rect(1px, 1px, 1px, 1px);height: 1px;margin: -1px;overflow: hidden;padding: 0;position: absolute;width: 1px;}#sk-container-id-8 div.sk-estimator {font-family: monospace;background-color: #f0f8ff;border: 1px dotted black;border-radius: 0.25em;box-sizing: border-box;margin-bottom: 0.5em;}#sk-container-id-8 div.sk-estimator:hover {background-color: #d4ebff;}#sk-container-id-8 div.sk-parallel-item::after {content: \"\";width: 100%;border-bottom: 1px solid gray;flex-grow: 1;}#sk-container-id-8 div.sk-label:hover label.sk-toggleable__label {background-color: #d4ebff;}#sk-container-id-8 div.sk-serial::before {content: \"\";position: absolute;border-left: 1px solid gray;box-sizing: border-box;top: 0;bottom: 0;left: 50%;z-index: 0;}#sk-container-id-8 div.sk-serial {display: flex;flex-direction: column;align-items: center;background-color: white;padding-right: 0.2em;padding-left: 0.2em;position: relative;}#sk-container-id-8 div.sk-item {position: relative;z-index: 1;}#sk-container-id-8 div.sk-parallel {display: flex;align-items: stretch;justify-content: center;background-color: white;position: relative;}#sk-container-id-8 div.sk-item::before, #sk-container-id-8 div.sk-parallel-item::before {content: \"\";position: absolute;border-left: 1px solid gray;box-sizing: border-box;top: 0;bottom: 0;left: 50%;z-index: -1;}#sk-container-id-8 div.sk-parallel-item {display: flex;flex-direction: column;z-index: 1;position: relative;background-color: white;}#sk-container-id-8 div.sk-parallel-item:first-child::after {align-self: flex-end;width: 50%;}#sk-container-id-8 div.sk-parallel-item:last-child::after {align-self: flex-start;width: 50%;}#sk-container-id-8 div.sk-parallel-item:only-child::after {width: 0;}#sk-container-id-8 div.sk-dashed-wrapped {border: 1px dashed gray;margin: 0 0.4em 0.5em 0.4em;box-sizing: border-box;padding-bottom: 0.4em;background-color: white;}#sk-container-id-8 div.sk-label label {font-family: monospace;font-weight: bold;display: inline-block;line-height: 1.2em;}#sk-container-id-8 div.sk-label-container {text-align: center;}#sk-container-id-8 div.sk-container {/* jupyter's `normalize.less` sets `[hidden] { display: none; }` but bootstrap.min.css set `[hidden] { display: none !important; }` so we also need the `!important` here to be able to override the default hidden behavior on the sphinx rendered scikit-learn.org. See: https://github.com/scikit-learn/scikit-learn/issues/21755 */display: inline-block !important;position: relative;}#sk-container-id-8 div.sk-text-repr-fallback {display: none;}</style><div id=\"sk-container-id-8\" class=\"sk-top-container\"><div class=\"sk-text-repr-fallback\"><pre>RandomForestClassifier(random_state=42)</pre><b>In a Jupyter environment, please rerun this cell to show the HTML representation or trust the notebook. <br />On GitHub, the HTML representation is unable to render, please try loading this page with nbviewer.org.</b></div><div class=\"sk-container\" hidden><div class=\"sk-item\"><div class=\"sk-estimator sk-toggleable\"><input class=\"sk-toggleable__control sk-hidden--visually\" id=\"sk-estimator-id-8\" type=\"checkbox\" checked><label for=\"sk-estimator-id-8\" class=\"sk-toggleable__label sk-toggleable__label-arrow\">RandomForestClassifier</label><div class=\"sk-toggleable__content\"><pre>RandomForestClassifier(random_state=42)</pre></div></div></div></div></div>"
            ]
          },
          "metadata": {},
          "execution_count": 57
        }
      ]
    },
    {
      "cell_type": "code",
      "source": [
        "# Initialize Naive Bayes Classifier\n",
        "nb_classifier_count = MultinomialNB()\n",
        "\n",
        "# Fit the Naive Bayes Classifier with the tfidf data\n",
        "nb_classifier_count.fit(count_train, y_train)"
      ],
      "metadata": {
        "id": "UOokv82WKkrW",
        "colab": {
          "base_uri": "https://localhost:8080/",
          "height": 75
        },
        "outputId": "fb2a67ea-045a-40a1-ebb0-af2ddaad84b9"
      },
      "execution_count": 58,
      "outputs": [
        {
          "output_type": "execute_result",
          "data": {
            "text/plain": [
              "MultinomialNB()"
            ],
            "text/html": [
              "<style>#sk-container-id-9 {color: black;background-color: white;}#sk-container-id-9 pre{padding: 0;}#sk-container-id-9 div.sk-toggleable {background-color: white;}#sk-container-id-9 label.sk-toggleable__label {cursor: pointer;display: block;width: 100%;margin-bottom: 0;padding: 0.3em;box-sizing: border-box;text-align: center;}#sk-container-id-9 label.sk-toggleable__label-arrow:before {content: \"▸\";float: left;margin-right: 0.25em;color: #696969;}#sk-container-id-9 label.sk-toggleable__label-arrow:hover:before {color: black;}#sk-container-id-9 div.sk-estimator:hover label.sk-toggleable__label-arrow:before {color: black;}#sk-container-id-9 div.sk-toggleable__content {max-height: 0;max-width: 0;overflow: hidden;text-align: left;background-color: #f0f8ff;}#sk-container-id-9 div.sk-toggleable__content pre {margin: 0.2em;color: black;border-radius: 0.25em;background-color: #f0f8ff;}#sk-container-id-9 input.sk-toggleable__control:checked~div.sk-toggleable__content {max-height: 200px;max-width: 100%;overflow: auto;}#sk-container-id-9 input.sk-toggleable__control:checked~label.sk-toggleable__label-arrow:before {content: \"▾\";}#sk-container-id-9 div.sk-estimator input.sk-toggleable__control:checked~label.sk-toggleable__label {background-color: #d4ebff;}#sk-container-id-9 div.sk-label input.sk-toggleable__control:checked~label.sk-toggleable__label {background-color: #d4ebff;}#sk-container-id-9 input.sk-hidden--visually {border: 0;clip: rect(1px 1px 1px 1px);clip: rect(1px, 1px, 1px, 1px);height: 1px;margin: -1px;overflow: hidden;padding: 0;position: absolute;width: 1px;}#sk-container-id-9 div.sk-estimator {font-family: monospace;background-color: #f0f8ff;border: 1px dotted black;border-radius: 0.25em;box-sizing: border-box;margin-bottom: 0.5em;}#sk-container-id-9 div.sk-estimator:hover {background-color: #d4ebff;}#sk-container-id-9 div.sk-parallel-item::after {content: \"\";width: 100%;border-bottom: 1px solid gray;flex-grow: 1;}#sk-container-id-9 div.sk-label:hover label.sk-toggleable__label {background-color: #d4ebff;}#sk-container-id-9 div.sk-serial::before {content: \"\";position: absolute;border-left: 1px solid gray;box-sizing: border-box;top: 0;bottom: 0;left: 50%;z-index: 0;}#sk-container-id-9 div.sk-serial {display: flex;flex-direction: column;align-items: center;background-color: white;padding-right: 0.2em;padding-left: 0.2em;position: relative;}#sk-container-id-9 div.sk-item {position: relative;z-index: 1;}#sk-container-id-9 div.sk-parallel {display: flex;align-items: stretch;justify-content: center;background-color: white;position: relative;}#sk-container-id-9 div.sk-item::before, #sk-container-id-9 div.sk-parallel-item::before {content: \"\";position: absolute;border-left: 1px solid gray;box-sizing: border-box;top: 0;bottom: 0;left: 50%;z-index: -1;}#sk-container-id-9 div.sk-parallel-item {display: flex;flex-direction: column;z-index: 1;position: relative;background-color: white;}#sk-container-id-9 div.sk-parallel-item:first-child::after {align-self: flex-end;width: 50%;}#sk-container-id-9 div.sk-parallel-item:last-child::after {align-self: flex-start;width: 50%;}#sk-container-id-9 div.sk-parallel-item:only-child::after {width: 0;}#sk-container-id-9 div.sk-dashed-wrapped {border: 1px dashed gray;margin: 0 0.4em 0.5em 0.4em;box-sizing: border-box;padding-bottom: 0.4em;background-color: white;}#sk-container-id-9 div.sk-label label {font-family: monospace;font-weight: bold;display: inline-block;line-height: 1.2em;}#sk-container-id-9 div.sk-label-container {text-align: center;}#sk-container-id-9 div.sk-container {/* jupyter's `normalize.less` sets `[hidden] { display: none; }` but bootstrap.min.css set `[hidden] { display: none !important; }` so we also need the `!important` here to be able to override the default hidden behavior on the sphinx rendered scikit-learn.org. See: https://github.com/scikit-learn/scikit-learn/issues/21755 */display: inline-block !important;position: relative;}#sk-container-id-9 div.sk-text-repr-fallback {display: none;}</style><div id=\"sk-container-id-9\" class=\"sk-top-container\"><div class=\"sk-text-repr-fallback\"><pre>MultinomialNB()</pre><b>In a Jupyter environment, please rerun this cell to show the HTML representation or trust the notebook. <br />On GitHub, the HTML representation is unable to render, please try loading this page with nbviewer.org.</b></div><div class=\"sk-container\" hidden><div class=\"sk-item\"><div class=\"sk-estimator sk-toggleable\"><input class=\"sk-toggleable__control sk-hidden--visually\" id=\"sk-estimator-id-9\" type=\"checkbox\" checked><label for=\"sk-estimator-id-9\" class=\"sk-toggleable__label sk-toggleable__label-arrow\">MultinomialNB</label><div class=\"sk-toggleable__content\"><pre>MultinomialNB()</pre></div></div></div></div></div>"
            ]
          },
          "metadata": {},
          "execution_count": 58
        }
      ]
    },
    {
      "cell_type": "markdown",
      "source": [
        "Make predictions with Count vectorized data"
      ],
      "metadata": {
        "id": "6Rjr3rWULXeO"
      }
    },
    {
      "cell_type": "code",
      "source": [
        "y_pred_logreg_count = log_reg_count.predict(count_test)"
      ],
      "metadata": {
        "id": "xwiXQ4ZQ6pen"
      },
      "execution_count": 140,
      "outputs": []
    },
    {
      "cell_type": "code",
      "source": [
        "# Predict the labels for the count vectorized data using a linear SVM model\n",
        "# y_pred_svm_count = svm_linear_count.predict(count_test)\n",
        "\n",
        "# Predict the labels for the count vectorized data using a logistic regression model\n",
        "y_pred_logreg_count = log_reg_count.predict(count_test)\n",
        "\n",
        "# Predict the labels for the count vectorized data using a Random Forest Classifier\n",
        "y_pred_forest_count = random_forest_count.predict(count_test)\n",
        "\n",
        "# Predict the labels for the count vectorized data using a Naive Bayes Classifier\n",
        "y_pred_nb_count = nb_classifier_count.predict(count_test)"
      ],
      "metadata": {
        "id": "C1GJV5BRLcTF"
      },
      "execution_count": 59,
      "outputs": []
    },
    {
      "cell_type": "markdown",
      "source": [
        "Evaluate our Models with the Count vectorized data"
      ],
      "metadata": {
        "id": "K3iHTK_DL7pE"
      }
    },
    {
      "cell_type": "code",
      "source": [
        "print(f\"Logistic Regression Evaluation:\")\n",
        "#Logistic Regression Evaluation\n",
        "# Calculate and print the accuracy score\n",
        "accuracy_logreg_count = accuracy_score(y_test, y_pred_logreg_count)\n",
        "print(f\"Accuracy: {accuracy_logreg_count}\")\n",
        "\n",
        "# Calculate and print the F1 score\n",
        "f1_logreg_count = f1_score(y_test, y_pred_logreg_count, average='macro')\n",
        "print(f\"F1 Score: {f1_logreg_count}\")\n",
        "\n",
        "# Calculate and print the precision score\n",
        "precision_logreg_count = precision_score(y_test, y_pred_logreg_count, average='macro')\n",
        "print(f\"Precision: {precision_logreg_count}\")\n",
        "\n",
        "# Calculate and print the recall score\n",
        "recall_logreg_count = recall_score(y_test, y_pred_logreg_count, average='macro')\n",
        "print(f\"Recall: {recall_logreg_count}\")\n",
        "\n",
        "print(f\"---------------------------------------------\")"
      ],
      "metadata": {
        "colab": {
          "base_uri": "https://localhost:8080/"
        },
        "id": "EeDUVTDD6uJN",
        "outputId": "5bac72fb-2030-49a6-e1eb-19599cf67c8f"
      },
      "execution_count": 141,
      "outputs": [
        {
          "output_type": "stream",
          "name": "stdout",
          "text": [
            "Logistic Regression Evaluation:\n",
            "Accuracy: 0.5212001752080596\n",
            "F1 Score: 0.5954861783446034\n",
            "Precision: 0.6943042398087682\n",
            "Recall: 0.5730457161904565\n",
            "---------------------------------------------\n"
          ]
        }
      ]
    },
    {
      "cell_type": "code",
      "source": [
        "#SVM Evaluation\n",
        "# print(f\"SVM Evaluation:\")\n",
        "# Calculate and print the accuracy score\n",
        "# accuracy_svm_count = accuracy_score(y_test, y_pred_svm_count)\n",
        "# print(f\"Accuracy: {accuracy_svm_count}\")\n",
        "\n",
        "# Calculate and print the F1 score\n",
        "# f1_svm_count = f1_score(y_test, y_pred_svm_count, average='macro')\n",
        "# print(f\"F1 Score: {f1_svm_count}\")\n",
        "\n",
        "# Calculate and print the precision score\n",
        "# precision_svm_count = precision_score(y_test, y_pred_svm_count, average='macro')\n",
        "# print(f\"Precision: {precision_svm_count}\")\n",
        "\n",
        "# Calculate and print the recall score\n",
        "# recall_svm_count = recall_score(y_test, y_pred_svm_count, average='macro')\n",
        "# print(f\"Recall: {recall_svm_count}\")\n",
        "\n",
        "# print(f\"---------------------------------------------\")\n",
        "\n",
        "print(f\"Logistic Regression Evaluation:\")\n",
        "#Logistic Regression Evaluation\n",
        "# Calculate and print the accuracy score\n",
        "accuracy_logreg_count = accuracy_score(y_test, y_pred_logreg_count)\n",
        "print(f\"Accuracy: {accuracy_logreg_count}\")\n",
        "\n",
        "# Calculate and print the F1 score\n",
        "f1_logreg_count = f1_score(y_test, y_pred_logreg_count, average='macro')\n",
        "print(f\"F1 Score: {f1_logreg_count}\")\n",
        "\n",
        "# Calculate and print the precision score\n",
        "precision_logreg_count = precision_score(y_test, y_pred_logreg_count, average='macro')\n",
        "print(f\"Precision: {precision_logreg_count}\")\n",
        "\n",
        "# Calculate and print the recall score\n",
        "recall_logreg_count = recall_score(y_test, y_pred_logreg_count, average='macro')\n",
        "print(f\"Recall: {recall_logreg_count}\")\n",
        "\n",
        "print(f\"---------------------------------------------\")\n",
        "\n",
        "print(f\"Random Forest Evaluation:\")\n",
        "#Random Forest Evaluation\n",
        "# Calculate and print the accuracy score\n",
        "accuracy_forest_count = accuracy_score(y_test, y_pred_forest_count)\n",
        "print(f\"Accuracy: {accuracy_forest_count}\")\n",
        "\n",
        "# Calculate and print the F1 score\n",
        "f1_forest_count = f1_score(y_test, y_pred_forest_count, average='macro')\n",
        "print(f\"F1 Score: {f1_forest_count}\")\n",
        "\n",
        "# Calculate and print the precision score\n",
        "precision_forest_count = precision_score(y_test, y_pred_forest_count, average='macro')\n",
        "print(f\"Precision: {precision_forest_count}\")\n",
        "\n",
        "# Calculate and print the recall score\n",
        "recall_forest_count = recall_score(y_test, y_pred_forest_count, average='macro')\n",
        "print(f\"Recall: {recall_forest_count}\")\n",
        "\n",
        "print(f\"---------------------------------------------\")\n",
        "\n",
        "print(f\"Naive Bayes Classifier Evaluation:\")\n",
        "#Logistic Regression Evaluation\n",
        "# Calculate and print the accuracy score\n",
        "accuracy_nb_count = accuracy_score(y_test, y_pred_nb_count)\n",
        "print(f\"Accuracy: {accuracy_nb_count}\")\n",
        "\n",
        "# Calculate and print the F1 score\n",
        "f1_nb_count = f1_score(y_test, y_pred_nb_count, average='macro')\n",
        "print(f\"F1 Score: {f1_nb_count}\")\n",
        "\n",
        "# Calculate and print the precision score\n",
        "precision_nb_count = precision_score(y_test, y_pred_nb_count, average='macro', zero_division=1)\n",
        "print(f\"Precision: {precision_nb_count}\")\n",
        "\n",
        "# Calculate and print the recall score\n",
        "recall_nb_count = recall_score(y_test, y_pred_nb_count, average='macro', zero_division=1)\n",
        "print(f\"Recall: {recall_nb_count}\")\n",
        "\n",
        "print(f\"---------------------------------------------\")"
      ],
      "metadata": {
        "id": "iEE2lnQ2L_1t"
      },
      "execution_count": null,
      "outputs": []
    },
    {
      "cell_type": "code",
      "source": [
        "parameters_log = {'C': [0.1, 1, 10, 100]}\n",
        "\n",
        "# Initialize a Logistic Regression Classifier\n",
        "log_reg_count = LogisticRegression(C=1, solver='lbfgs', max_iter=3000)\n",
        "\n",
        "# Set up GridSearchCV with the SVC, parameter grid, 5-fold cross-validation, and F1 scoring\n",
        "grid_log_reg_count = GridSearchCV(log_reg_count, parameters_log, cv=5, scoring=\"f1_macro\")\n",
        "\n",
        "# Train the GridSearchCV on the scaled training data\n",
        "grid_log_reg_count.fit(count_train, y_train)"
      ],
      "metadata": {
        "id": "b3MkS7zBX07T"
      },
      "execution_count": null,
      "outputs": []
    },
    {
      "cell_type": "code",
      "source": [
        "print(f\"Best Parameters: {grid_log_reg_count.best_params_}\")\n",
        "print(f\"Best F1 - Score: {grid_log_reg_count.best_score_}\")"
      ],
      "metadata": {
        "id": "4D2nn7CLX3ZM"
      },
      "execution_count": null,
      "outputs": []
    },
    {
      "cell_type": "code",
      "source": [
        "def plot_conf_matrix_multiclass(conf_mat, classifier_name, original_label):\n",
        "    #Normalize to get percentages\n",
        "    conf_mat_normalized = conf_mat.astype('float') / conf_mat.sum(axis=1)[:, np.newaxis]\n",
        "\n",
        "    # Set the size of the figure\n",
        "    plt.figure(figsize=(10,7))\n",
        "\n",
        "    # seaborn to create a heatmap of the confusion matrix\n",
        "    sns.heatmap(conf_mat_normalized, annot=True, fmt='.2%', cmap='Blues',\n",
        "                xticklabels=original_label, yticklabels=original_label)\n",
        "\n",
        "    # Label the x-axis as 'Predicted'\n",
        "    plt.xlabel('Predicted')\n",
        "\n",
        "    # Label the y-axis as 'Actual'\n",
        "    plt.ylabel('Actual')\n",
        "\n",
        "    # Set the title of the plot\n",
        "    plt.title(f'Confusion Matrix for {classifier_name}')\n",
        "\n",
        "    # Display the plot\n",
        "    plt.show()"
      ],
      "metadata": {
        "id": "pqaILAY9m20H"
      },
      "execution_count": 146,
      "outputs": []
    },
    {
      "cell_type": "code",
      "source": [
        "conf_matrix_logreg_count_multiclass = confusion_matrix(y_test, y_pred_logreg_count)"
      ],
      "metadata": {
        "id": "PwhoFp9rn37a"
      },
      "execution_count": null,
      "outputs": []
    },
    {
      "cell_type": "code",
      "source": [
        "original_label = [\"Negative\", \"Neutral\", \"Not Rated\", \"Positive\"]\n",
        "plot_conf_matrix_multiclass(conf_matrix_logreg_count_multiclass, \"Logistic Regression with Count Vectorizer\", original_label)"
      ],
      "metadata": {
        "colab": {
          "base_uri": "https://localhost:8080/",
          "height": 641
        },
        "id": "wjfvBoyCn4yB",
        "outputId": "85e3feff-0ebc-4078-eaa6-200d336c0135"
      },
      "execution_count": 145,
      "outputs": [
        {
          "output_type": "display_data",
          "data": {
            "text/plain": [
              "<Figure size 1000x700 with 2 Axes>"
            ],
            "image/png": "[encoded data removed]"
          },
          "metadata": {}
        }
      ]
    },
    {
      "cell_type": "code",
      "source": [],
      "metadata": {
        "id": "Xd99G03SpKa-"
      },
      "execution_count": null,
      "outputs": []
    },
    {
      "cell_type": "code",
      "source": [
        "def visualize_model_output(y_actual, y_predict, mlb):\n",
        "    # Inverse transform the actual and predicted binary matrices to the original labels\n",
        "    y_actual_labels = mlb.inverse_transform(y_test)\n",
        "    y_predict_labels = mlb.inverse_transform(y_pred_logreg_tfidf)\n",
        "\n",
        "    # Create a DataFrame from the actual and predicted label tuples\n",
        "    results = pd.DataFrame({\n",
        "        'Actual Labels': [' '.join(map(str, labels)) for labels in y_actual_labels],\n",
        "        'Predicted Labels': [' '.join(map(str, labels)) for labels in y_predict_labels]\n",
        "    })\n",
        "\n",
        "    # Extract and add the Position column (Anti or Pro Brexit) to the results DataFrame\n",
        "    # Assuming the position is the second label in the MultiLabelBinarizer\n",
        "    results['Position'] = ['Pro Brexit' if '1' in labels else 'Anti Brexit' for labels in results['Actual Labels']]\n",
        "\n",
        "    # Define the sentiment labels\n",
        "    sentiment_labels = ['Negative', 'Neutral', 'Not Rated', 'Positive']\n",
        "\n",
        "    # Initialize plot\n",
        "    fig, axes = plt.subplots(1, 2, figsize=(12, 6), sharey=True)\n",
        "\n",
        "    # Plot for each position\n",
        "    for position_name, ax in zip([\"Anti Brexit\", \"Pro Brexit\"], axes):\n",
        "        # Filter results by position\n",
        "        position_results = results[results['Position'] == position_name]\n",
        "\n",
        "        # Count actual and predicted sentiments\n",
        "        actual_sentiment_counts = pd.Series(0, index=sentiment_labels)\n",
        "        predicted_sentiment_counts = pd.Series(0, index=sentiment_labels)\n",
        "        for labels in position_results['Actual Labels']:\n",
        "            sentiment_labels_actual = labels.split()  # Split labels into individual sentiment labels\n",
        "            for label in sentiment_labels_actual:\n",
        "                if label in sentiment_labels:\n",
        "                    actual_sentiment_counts[label] += 1\n",
        "        for labels in position_results['Predicted Labels']:\n",
        "            sentiment_labels_predicted = labels.split()  # Split labels into individual sentiment labels\n",
        "            for label in sentiment_labels_predicted:\n",
        "                if label in sentiment_labels:\n",
        "                    predicted_sentiment_counts[label] += 1\n",
        "\n",
        "        # Plot\n",
        "        ax.bar(np.arange(len(sentiment_labels)) - 0.2, actual_sentiment_counts, width=0.4, label='Actual', color='blue')\n",
        "        ax.bar(np.arange(len(sentiment_labels)) + 0.2, predicted_sentiment_counts, width=0.4, label='Predicted', color='orange')\n",
        "        ax.set_title(f\"Sentiment Comparison for {position_name} Tweets\")\n",
        "        ax.set_xlabel('Sentiment')\n",
        "        ax.set_xticks(ticks=np.arange(len(sentiment_labels)))\n",
        "        ax.set_xticklabels(sentiment_labels)\n",
        "        ax.set_ylabel('Count')\n",
        "        ax.legend()\n",
        "\n",
        "    plt.tight_layout()\n",
        "    plt.show()\n",
        "\n",
        "# You should call the function with the correct variables\n",
        "visualize_model_output(y_test, y_pred_logreg_tfidf, mlb)"
      ],
      "metadata": {
        "colab": {
          "base_uri": "https://localhost:8080/",
          "height": 607
        },
        "id": "m9XcjW5l7D9V",
        "outputId": "9ce00a2f-9941-4558-b40d-f31e5e1f145e"
      },
      "execution_count": 144,
      "outputs": [
        {
          "output_type": "display_data",
          "data": {
            "text/plain": [
              "<Figure size 1200x600 with 2 Axes>"
            ],
            "image/png": "[encoded data removed]"
          },
          "metadata": {}
        }
      ]
    },
    {
      "cell_type": "code",
      "source": [
        "def visualize_model_output(y_actual, y_predict, mlb):\n",
        "    # Inverse transform the actual and predicted binary matrices to the original labels\n",
        "    y_actual_labels = mlb.inverse_transform(y_test)\n",
        "    y_predict_labels = mlb.inverse_transform(y_pred_logreg_count)\n",
        "\n",
        "    # Create a DataFrame from the actual and predicted label tuples\n",
        "    results = pd.DataFrame({\n",
        "        'Actual Labels': [' '.join(map(str, labels)) for labels in y_actual_labels],\n",
        "        'Predicted Labels': [' '.join(map(str, labels)) for labels in y_predict_labels]\n",
        "    })\n",
        "\n",
        "    # Extract and add the Position column (Anti or Pro Brexit) to the results DataFrame\n",
        "    # Assuming the position is the second label in the MultiLabelBinarizer\n",
        "    results['Position'] = ['Pro Brexit' if '1' in labels else 'Anti Brexit' for labels in results['Actual Labels']]\n",
        "\n",
        "    # Define the sentiment labels\n",
        "    sentiment_labels = ['Negative', 'Neutral', 'Not Rated', 'Positive']\n",
        "\n",
        "    # Initialize plot\n",
        "    fig, axes = plt.subplots(1, 2, figsize=(12, 6), sharey=True)\n",
        "\n",
        "    # Plot for each position\n",
        "    for position_name, ax in zip([\"Anti Brexit\", \"Pro Brexit\"], axes):\n",
        "        # Filter results by position\n",
        "        position_results = results[results['Position'] == position_name]\n",
        "\n",
        "        # Count actual and predicted sentiments\n",
        "        actual_sentiment_counts = pd.Series(0, index=sentiment_labels)\n",
        "        predicted_sentiment_counts = pd.Series(0, index=sentiment_labels)\n",
        "        for labels in position_results['Actual Labels']:\n",
        "            sentiment_labels_actual = labels.split()  # Split labels into individual sentiment labels\n",
        "            for label in sentiment_labels_actual:\n",
        "                if label in sentiment_labels:\n",
        "                    actual_sentiment_counts[label] += 1\n",
        "        for labels in position_results['Predicted Labels']:\n",
        "            sentiment_labels_predicted = labels.split()  # Split labels into individual sentiment labels\n",
        "            for label in sentiment_labels_predicted:\n",
        "                if label in sentiment_labels:\n",
        "                    predicted_sentiment_counts[label] += 1\n",
        "\n",
        "        # Plot\n",
        "        ax.bar(np.arange(len(sentiment_labels)) - 0.2, actual_sentiment_counts, width=0.4, label='Actual', color='blue')\n",
        "        ax.bar(np.arange(len(sentiment_labels)) + 0.2, predicted_sentiment_counts, width=0.4, label='Predicted', color='orange')\n",
        "        ax.set_title(f\"Sentiment Comparison for {position_name} Tweets\")\n",
        "        ax.set_xlabel('Sentiment')\n",
        "        ax.set_xticks(ticks=np.arange(len(sentiment_labels)))\n",
        "        ax.set_xticklabels(sentiment_labels)\n",
        "        ax.set_ylabel('Count')\n",
        "        ax.legend()\n",
        "\n",
        "    plt.tight_layout()\n",
        "    plt.show()\n",
        "\n",
        "# You should call the function with the correct variables\n",
        "visualize_model_output(y_test, y_pred_logreg_count, mlb)\n",
        "\n",
        "\n",
        "\n",
        "\n",
        "\n",
        "\n",
        "\n"
      ],
      "metadata": {
        "id": "5_MRFgkFzJxc",
        "colab": {
          "base_uri": "https://localhost:8080/",
          "height": 607
        },
        "outputId": "644bc77c-0a8a-4ce8-de12-881ab4fd842a"
      },
      "execution_count": 142,
      "outputs": [
        {
          "output_type": "display_data",
          "data": {
            "text/plain": [
              "<Figure size 1200x600 with 2 Axes>"
            ],
            "image/png": "[encoded data removed]"
          },
          "metadata": {}
        }
      ]
    },
    {
      "cell_type": "code",
      "source": [
        "print(\"Shape of y_actual:\", y_test.shape)\n",
        "print(\"Shape of y_predict:\", y_pred_logreg_tfidf.shape)"
      ],
      "metadata": {
        "colab": {
          "base_uri": "https://localhost:8080/"
        },
        "id": "oihZrtXDpOgp",
        "outputId": "95af7f04-a5ab-4166-a117-de6d56735c8c"
      },
      "execution_count": 119,
      "outputs": [
        {
          "output_type": "stream",
          "name": "stdout",
          "text": [
            "Shape of y_actual: (22830, 6)\n",
            "Shape of y_predict: (22830, 6)\n"
          ]
        }
      ]
    }
  ]
}