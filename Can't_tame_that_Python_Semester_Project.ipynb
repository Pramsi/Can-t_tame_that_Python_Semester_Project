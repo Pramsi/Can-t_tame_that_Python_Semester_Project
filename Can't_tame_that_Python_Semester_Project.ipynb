{
  "nbformat": 4,
  "nbformat_minor": 0,
  "metadata": {
    "colab": {
      "provenance": [],
      "include_colab_link": true
    },
    "kernelspec": {
      "name": "python3",
      "display_name": "Python 3"
    },
    "language_info": {
      "name": "python"
    }
  },
  "cells": [
    {
      "cell_type": "markdown",
      "metadata": {
        "id": "view-in-github",
        "colab_type": "text"
      },
      "source": [
        "<a href=\"https://colab.research.google.com/github/Pramsi/Can-t_tame_that_Python_Semester_Project/blob/Shap/Can't_tame_that_Python_Semester_Project.ipynb\" target=\"_parent\"><img src=\"https://colab.research.google.com/assets/colab-badge.svg\" alt=\"Open In Colab\"/></a>"
      ]
    },
    {
      "cell_type": "markdown",
      "source": [
        "#Imports"
      ],
      "metadata": {
        "id": "JfslTEBYzR_Y"
      }
    },
    {
      "cell_type": "code",
      "source": [
        "#for data manipulation\n",
        "import numpy as np\n",
        "import pandas as pd\n",
        "\n",
        "#for data visualization\n",
        "import matplotlib.pyplot as plt\n",
        "import seaborn as sns\n",
        "\n",
        "#Other tooling\n",
        "import os\n",
        "\n",
        "#NLP\n",
        "import nltk\n",
        "nltk.download('stopwords')\n",
        "nltk.download('punkt')\n",
        "from nltk.corpus import stopwords\n",
        "from nltk.tokenize import word_tokenize\n",
        "import re\n",
        "!pip install --upgrade emoji\n",
        "import emoji\n",
        "from sklearn.feature_extraction.text import CountVectorizer\n",
        "from sklearn.feature_extraction.text import TfidfVectorizer\n",
        "\n",
        "#Machine Learning\n",
        "from sklearn.model_selection import train_test_split\n",
        "from sklearn.model_selection import GridSearchCV\n",
        "from sklearn.svm import SVC\n",
        "from sklearn.linear_model import LinearRegression\n",
        "from sklearn.linear_model import LogisticRegression\n",
        "from sklearn.ensemble import RandomForestClassifier\n",
        "from sklearn.naive_bayes import MultinomialNB\n",
        "from sklearn.preprocessing import LabelEncoder\n",
        "from sklearn.metrics import classification_report, confusion_matrix\n",
        "from sklearn.metrics import accuracy_score, precision_score, recall_score, f1_score\n",
        "\n",
        "#Explainable ML\n",
        "!pip install lime\n",
        "from lime.lime_text import LimeTextExplainer\n",
        "from sklearn.pipeline import make_pipeline\n",
        "!pip install shap\n",
        "import shap"
      ],
      "metadata": {
        "id": "vc3bgf0j7bvu",
        "colab": {
          "base_uri": "https://localhost:8080/"
        },
        "outputId": "bb1b5c9e-992d-4890-e145-ca3960ae91c9"
      },
      "execution_count": 1,
      "outputs": [
        {
          "output_type": "stream",
          "name": "stderr",
          "text": [
            "[nltk_data] Downloading package stopwords to /root/nltk_data...\n",
            "[nltk_data]   Package stopwords is already up-to-date!\n",
            "[nltk_data] Downloading package punkt to /root/nltk_data...\n",
            "[nltk_data]   Package punkt is already up-to-date!\n"
          ]
        },
        {
          "output_type": "stream",
          "name": "stdout",
          "text": [
            "Requirement already satisfied: emoji in /usr/local/lib/python3.10/dist-packages (2.9.0)\n",
            "Requirement already satisfied: lime in /usr/local/lib/python3.10/dist-packages (0.2.0.1)\n",
            "Requirement already satisfied: matplotlib in /usr/local/lib/python3.10/dist-packages (from lime) (3.7.1)\n",
            "Requirement already satisfied: numpy in /usr/local/lib/python3.10/dist-packages (from lime) (1.23.5)\n",
            "Requirement already satisfied: scipy in /usr/local/lib/python3.10/dist-packages (from lime) (1.11.4)\n",
            "Requirement already satisfied: tqdm in /usr/local/lib/python3.10/dist-packages (from lime) (4.66.1)\n",
            "Requirement already satisfied: scikit-learn>=0.18 in /usr/local/lib/python3.10/dist-packages (from lime) (1.2.2)\n",
            "Requirement already satisfied: scikit-image>=0.12 in /usr/local/lib/python3.10/dist-packages (from lime) (0.19.3)\n",
            "Requirement already satisfied: networkx>=2.2 in /usr/local/lib/python3.10/dist-packages (from scikit-image>=0.12->lime) (3.2.1)\n",
            "Requirement already satisfied: pillow!=7.1.0,!=7.1.1,!=8.3.0,>=6.1.0 in /usr/local/lib/python3.10/dist-packages (from scikit-image>=0.12->lime) (9.4.0)\n",
            "Requirement already satisfied: imageio>=2.4.1 in /usr/local/lib/python3.10/dist-packages (from scikit-image>=0.12->lime) (2.31.6)\n",
            "Requirement already satisfied: tifffile>=2019.7.26 in /usr/local/lib/python3.10/dist-packages (from scikit-image>=0.12->lime) (2023.9.26)\n",
            "Requirement already satisfied: PyWavelets>=1.1.1 in /usr/local/lib/python3.10/dist-packages (from scikit-image>=0.12->lime) (1.5.0)\n",
            "Requirement already satisfied: packaging>=20.0 in /usr/local/lib/python3.10/dist-packages (from scikit-image>=0.12->lime) (23.2)\n",
            "Requirement already satisfied: joblib>=1.1.1 in /usr/local/lib/python3.10/dist-packages (from scikit-learn>=0.18->lime) (1.3.2)\n",
            "Requirement already satisfied: threadpoolctl>=2.0.0 in /usr/local/lib/python3.10/dist-packages (from scikit-learn>=0.18->lime) (3.2.0)\n",
            "Requirement already satisfied: contourpy>=1.0.1 in /usr/local/lib/python3.10/dist-packages (from matplotlib->lime) (1.2.0)\n",
            "Requirement already satisfied: cycler>=0.10 in /usr/local/lib/python3.10/dist-packages (from matplotlib->lime) (0.12.1)\n",
            "Requirement already satisfied: fonttools>=4.22.0 in /usr/local/lib/python3.10/dist-packages (from matplotlib->lime) (4.46.0)\n",
            "Requirement already satisfied: kiwisolver>=1.0.1 in /usr/local/lib/python3.10/dist-packages (from matplotlib->lime) (1.4.5)\n",
            "Requirement already satisfied: pyparsing>=2.3.1 in /usr/local/lib/python3.10/dist-packages (from matplotlib->lime) (3.1.1)\n",
            "Requirement already satisfied: python-dateutil>=2.7 in /usr/local/lib/python3.10/dist-packages (from matplotlib->lime) (2.8.2)\n",
            "Requirement already satisfied: six>=1.5 in /usr/local/lib/python3.10/dist-packages (from python-dateutil>=2.7->matplotlib->lime) (1.16.0)\n",
            "Requirement already satisfied: shap in /usr/local/lib/python3.10/dist-packages (0.44.0)\n",
            "Requirement already satisfied: numpy in /usr/local/lib/python3.10/dist-packages (from shap) (1.23.5)\n",
            "Requirement already satisfied: scipy in /usr/local/lib/python3.10/dist-packages (from shap) (1.11.4)\n",
            "Requirement already satisfied: scikit-learn in /usr/local/lib/python3.10/dist-packages (from shap) (1.2.2)\n",
            "Requirement already satisfied: pandas in /usr/local/lib/python3.10/dist-packages (from shap) (1.5.3)\n",
            "Requirement already satisfied: tqdm>=4.27.0 in /usr/local/lib/python3.10/dist-packages (from shap) (4.66.1)\n",
            "Requirement already satisfied: packaging>20.9 in /usr/local/lib/python3.10/dist-packages (from shap) (23.2)\n",
            "Requirement already satisfied: slicer==0.0.7 in /usr/local/lib/python3.10/dist-packages (from shap) (0.0.7)\n",
            "Requirement already satisfied: numba in /usr/local/lib/python3.10/dist-packages (from shap) (0.58.1)\n",
            "Requirement already satisfied: cloudpickle in /usr/local/lib/python3.10/dist-packages (from shap) (2.2.1)\n",
            "Requirement already satisfied: llvmlite<0.42,>=0.41.0dev0 in /usr/local/lib/python3.10/dist-packages (from numba->shap) (0.41.1)\n",
            "Requirement already satisfied: python-dateutil>=2.8.1 in /usr/local/lib/python3.10/dist-packages (from pandas->shap) (2.8.2)\n",
            "Requirement already satisfied: pytz>=2020.1 in /usr/local/lib/python3.10/dist-packages (from pandas->shap) (2023.3.post1)\n",
            "Requirement already satisfied: joblib>=1.1.1 in /usr/local/lib/python3.10/dist-packages (from scikit-learn->shap) (1.3.2)\n",
            "Requirement already satisfied: threadpoolctl>=2.0.0 in /usr/local/lib/python3.10/dist-packages (from scikit-learn->shap) (3.2.0)\n",
            "Requirement already satisfied: six>=1.5 in /usr/local/lib/python3.10/dist-packages (from python-dateutil>=2.8.1->pandas->shap) (1.16.0)\n"
          ]
        }
      ]
    },
    {
      "cell_type": "markdown",
      "source": [
        "#Import Datafiles"
      ],
      "metadata": {
        "id": "j-_VIWYJQ5Eh"
      }
    },
    {
      "cell_type": "code",
      "source": [
        "# create kaggle directory and add kaggle.json\n",
        "from google.colab import files\n",
        "files.upload()\n",
        "\n",
        "! mkdir -p ~/.kaggle #create kaggle directory\n",
        "! mv kaggle.json ~/.kaggle/ #move json file there\n",
        "! chmod 600 ~/.kaggle/kaggle.json #change permission of the file"
      ],
      "metadata": {
        "colab": {
          "base_uri": "https://localhost:8080/",
          "height": 73
        },
        "id": "c9EF35qmQ8Hp",
        "outputId": "5f66eb4d-aa5c-4936-99a2-3e22fcb66482"
      },
      "execution_count": 2,
      "outputs": [
        {
          "output_type": "display_data",
          "data": {
            "text/plain": [
              "<IPython.core.display.HTML object>"
            ],
            "text/html": [
              "\n",
              "     <input type=\"file\" id=\"files-da95dc01-55d2-4e70-bab8-8803f23d5f97\" name=\"files[]\" multiple disabled\n",
              "        style=\"border:none\" />\n",
              "     <output id=\"result-da95dc01-55d2-4e70-bab8-8803f23d5f97\">\n",
              "      Upload widget is only available when the cell has been executed in the\n",
              "      current browser session. Please rerun this cell to enable.\n",
              "      </output>\n",
              "      <script>// Copyright 2017 Google LLC\n",
              "//\n",
              "// Licensed under the Apache License, Version 2.0 (the \"License\");\n",
              "// you may not use this file except in compliance with the License.\n",
              "// You may obtain a copy of the License at\n",
              "//\n",
              "//      http://www.apache.org/licenses/LICENSE-2.0\n",
              "//\n",
              "// Unless required by applicable law or agreed to in writing, software\n",
              "// distributed under the License is distributed on an \"AS IS\" BASIS,\n",
              "// WITHOUT WARRANTIES OR CONDITIONS OF ANY KIND, either express or implied.\n",
              "// See the License for the specific language governing permissions and\n",
              "// limitations under the License.\n",
              "\n",
              "/**\n",
              " * @fileoverview Helpers for google.colab Python module.\n",
              " */\n",
              "(function(scope) {\n",
              "function span(text, styleAttributes = {}) {\n",
              "  const element = document.createElement('span');\n",
              "  element.textContent = text;\n",
              "  for (const key of Object.keys(styleAttributes)) {\n",
              "    element.style[key] = styleAttributes[key];\n",
              "  }\n",
              "  return element;\n",
              "}\n",
              "\n",
              "// Max number of bytes which will be uploaded at a time.\n",
              "const MAX_PAYLOAD_SIZE = 100 * 1024;\n",
              "\n",
              "function _uploadFiles(inputId, outputId) {\n",
              "  const steps = uploadFilesStep(inputId, outputId);\n",
              "  const outputElement = document.getElementById(outputId);\n",
              "  // Cache steps on the outputElement to make it available for the next call\n",
              "  // to uploadFilesContinue from Python.\n",
              "  outputElement.steps = steps;\n",
              "\n",
              "  return _uploadFilesContinue(outputId);\n",
              "}\n",
              "\n",
              "// This is roughly an async generator (not supported in the browser yet),\n",
              "// where there are multiple asynchronous steps and the Python side is going\n",
              "// to poll for completion of each step.\n",
              "// This uses a Promise to block the python side on completion of each step,\n",
              "// then passes the result of the previous step as the input to the next step.\n",
              "function _uploadFilesContinue(outputId) {\n",
              "  const outputElement = document.getElementById(outputId);\n",
              "  const steps = outputElement.steps;\n",
              "\n",
              "  const next = steps.next(outputElement.lastPromiseValue);\n",
              "  return Promise.resolve(next.value.promise).then((value) => {\n",
              "    // Cache the last promise value to make it available to the next\n",
              "    // step of the generator.\n",
              "    outputElement.lastPromiseValue = value;\n",
              "    return next.value.response;\n",
              "  });\n",
              "}\n",
              "\n",
              "/**\n",
              " * Generator function which is called between each async step of the upload\n",
              " * process.\n",
              " * @param {string} inputId Element ID of the input file picker element.\n",
              " * @param {string} outputId Element ID of the output display.\n",
              " * @return {!Iterable<!Object>} Iterable of next steps.\n",
              " */\n",
              "function* uploadFilesStep(inputId, outputId) {\n",
              "  const inputElement = document.getElementById(inputId);\n",
              "  inputElement.disabled = false;\n",
              "\n",
              "  const outputElement = document.getElementById(outputId);\n",
              "  outputElement.innerHTML = '';\n",
              "\n",
              "  const pickedPromise = new Promise((resolve) => {\n",
              "    inputElement.addEventListener('change', (e) => {\n",
              "      resolve(e.target.files);\n",
              "    });\n",
              "  });\n",
              "\n",
              "  const cancel = document.createElement('button');\n",
              "  inputElement.parentElement.appendChild(cancel);\n",
              "  cancel.textContent = 'Cancel upload';\n",
              "  const cancelPromise = new Promise((resolve) => {\n",
              "    cancel.onclick = () => {\n",
              "      resolve(null);\n",
              "    };\n",
              "  });\n",
              "\n",
              "  // Wait for the user to pick the files.\n",
              "  const files = yield {\n",
              "    promise: Promise.race([pickedPromise, cancelPromise]),\n",
              "    response: {\n",
              "      action: 'starting',\n",
              "    }\n",
              "  };\n",
              "\n",
              "  cancel.remove();\n",
              "\n",
              "  // Disable the input element since further picks are not allowed.\n",
              "  inputElement.disabled = true;\n",
              "\n",
              "  if (!files) {\n",
              "    return {\n",
              "      response: {\n",
              "        action: 'complete',\n",
              "      }\n",
              "    };\n",
              "  }\n",
              "\n",
              "  for (const file of files) {\n",
              "    const li = document.createElement('li');\n",
              "    li.append(span(file.name, {fontWeight: 'bold'}));\n",
              "    li.append(span(\n",
              "        `(${file.type || 'n/a'}) - ${file.size} bytes, ` +\n",
              "        `last modified: ${\n",
              "            file.lastModifiedDate ? file.lastModifiedDate.toLocaleDateString() :\n",
              "                                    'n/a'} - `));\n",
              "    const percent = span('0% done');\n",
              "    li.appendChild(percent);\n",
              "\n",
              "    outputElement.appendChild(li);\n",
              "\n",
              "    const fileDataPromise = new Promise((resolve) => {\n",
              "      const reader = new FileReader();\n",
              "      reader.onload = (e) => {\n",
              "        resolve(e.target.result);\n",
              "      };\n",
              "      reader.readAsArrayBuffer(file);\n",
              "    });\n",
              "    // Wait for the data to be ready.\n",
              "    let fileData = yield {\n",
              "      promise: fileDataPromise,\n",
              "      response: {\n",
              "        action: 'continue',\n",
              "      }\n",
              "    };\n",
              "\n",
              "    // Use a chunked sending to avoid message size limits. See b/62115660.\n",
              "    let position = 0;\n",
              "    do {\n",
              "      const length = Math.min(fileData.byteLength - position, MAX_PAYLOAD_SIZE);\n",
              "      const chunk = new Uint8Array(fileData, position, length);\n",
              "      position += length;\n",
              "\n",
              "      const base64 = btoa(String.fromCharCode.apply(null, chunk));\n",
              "      yield {\n",
              "        response: {\n",
              "          action: 'append',\n",
              "          file: file.name,\n",
              "          data: base64,\n",
              "        },\n",
              "      };\n",
              "\n",
              "      let percentDone = fileData.byteLength === 0 ?\n",
              "          100 :\n",
              "          Math.round((position / fileData.byteLength) * 100);\n",
              "      percent.textContent = `${percentDone}% done`;\n",
              "\n",
              "    } while (position < fileData.byteLength);\n",
              "  }\n",
              "\n",
              "  // All done.\n",
              "  yield {\n",
              "    response: {\n",
              "      action: 'complete',\n",
              "    }\n",
              "  };\n",
              "}\n",
              "\n",
              "scope.google = scope.google || {};\n",
              "scope.google.colab = scope.google.colab || {};\n",
              "scope.google.colab._files = {\n",
              "  _uploadFiles,\n",
              "  _uploadFilesContinue,\n",
              "};\n",
              "})(self);\n",
              "</script> "
            ]
          },
          "metadata": {}
        },
        {
          "output_type": "stream",
          "name": "stdout",
          "text": [
            "Saving kaggle.json to kaggle.json\n"
          ]
        }
      ]
    },
    {
      "cell_type": "code",
      "source": [
        "#create gitignore and add kaggle\n",
        "%%writefile .gitignore\n",
        ".kaggle/"
      ],
      "metadata": {
        "colab": {
          "base_uri": "https://localhost:8080/"
        },
        "id": "XuqwuyhOkQAL",
        "outputId": "43777189-1eac-4a98-9293-46215d3545f3"
      },
      "execution_count": 3,
      "outputs": [
        {
          "output_type": "stream",
          "name": "stdout",
          "text": [
            "Overwriting .gitignore\n"
          ]
        }
      ]
    },
    {
      "cell_type": "code",
      "source": [
        "#upload brexit dataset\n",
        "!kaggle datasets download -d visalakshiiyer/twitter-data-brexit\n",
        "! mkdir brexitTweets #create folder with files\n",
        "! unzip twitter-data-brexit.zip -d brexitTweets #unzip data and save in folder"
      ],
      "metadata": {
        "colab": {
          "base_uri": "https://localhost:8080/"
        },
        "id": "8fUep9bVSLwQ",
        "outputId": "3fc9fbb9-84be-41f9-c566-f23108ebf9fe"
      },
      "execution_count": null,
      "outputs": [
        {
          "output_type": "stream",
          "name": "stdout",
          "text": [
            "twitter-data-brexit.zip: Skipping, found more recently modified local copy (use --force to force download)\n",
            "mkdir: cannot create directory ‘brexitTweets’: File exists\n",
            "Archive:  twitter-data-brexit.zip\n",
            "replace brexitTweets/TweetDataset_AntiBrexit_Jan-Mar2022.csv? [y]es, [n]o, [A]ll, [N]one, [r]ename: "
          ]
        }
      ]
    },
    {
      "cell_type": "code",
      "source": [
        "!ls -a\n"
      ],
      "metadata": {
        "id": "GyL49wx4Z4G6"
      },
      "execution_count": null,
      "outputs": []
    },
    {
      "cell_type": "code",
      "source": [
        "#Load Datasets\n",
        "dfAnti = pd.read_csv(\"brexitTweets/TweetDataset_AntiBrexit_Jan-Mar2022.csv\")\n",
        "dfPro = pd.read_csv(\"brexitTweets/TweetDataset_ProBrexit_Jan-Mar2022.csv\")"
      ],
      "metadata": {
        "id": "knFBOlimkmhU"
      },
      "execution_count": null,
      "outputs": []
    },
    {
      "cell_type": "code",
      "source": [
        "#Check Data\n",
        "dfAnti.head()"
      ],
      "metadata": {
        "id": "STMmIf3CmyxR"
      },
      "execution_count": null,
      "outputs": []
    },
    {
      "cell_type": "markdown",
      "source": [
        "#Preprocessing"
      ],
      "metadata": {
        "id": "W9rOuBxjpMID"
      }
    },
    {
      "cell_type": "code",
      "source": [
        "# label pro and anti tweets and concatenate the two files\n",
        "dfAnti['Position'] = 0\n",
        "dfPro['Position'] = 1\n",
        "\n",
        "df = pd.concat([dfAnti, dfPro])\n",
        "\n",
        "#drop unwanted data\n",
        "df.drop(['Unnamed: 0', 'Date', 'Headline', 'URL', 'Opening Text', 'Source', 'Influencer', 'Country', 'Subregion', 'Language', 'Reach', 'Desktop Reach', 'Mobile Reach', 'Twitter Social Echo', 'Facebook Social Echo', 'Reddit Social Echo', 'National Viewership', 'Engagement', 'AVE', 'Key Phrases', 'Input Name', 'Keywords', 'Twitter Authority', 'Tweet Id', 'Twitter Id', 'Twitter Client', 'Twitter Screen Name', 'User Profile Url', 'Twitter Bio', 'Twitter Followers', 'Twitter Following', 'Alternate Date Format', 'Time', 'State', 'City', 'Document Tags'], axis = 1, inplace=True)\n",
        "\n",
        "#count the data\n",
        "df.Position.value_counts()"
      ],
      "metadata": {
        "id": "lN3eLR7ApSrw"
      },
      "execution_count": null,
      "outputs": []
    },
    {
      "cell_type": "code",
      "source": [
        "#Clean Hit Sentence - Remove Retweets\n",
        "df_no_rt = df[df['Hit Sentence'].str.contains(\"RT @\")==False]\n",
        "df_no_qt = df_no_rt[df_no_rt['Hit Sentence'].str.contains(\"QT @\")==False]\n",
        "\n",
        "#how many tweets were retweeted and qoted?\n",
        "print(f'Amount of retweets and quote tweets in percentage:{round(100*(1-len(df_no_qt)/len(df)),1)}%')\n",
        "print(df_no_qt)"
      ],
      "metadata": {
        "id": "avo_xXqw4wG2"
      },
      "execution_count": null,
      "outputs": []
    },
    {
      "cell_type": "code",
      "source": [
        "#How many Pro and Anti Tweets are left\n",
        "df_no_qt.Position.value_counts()"
      ],
      "metadata": {
        "id": "zMglByNwAodV"
      },
      "execution_count": null,
      "outputs": []
    },
    {
      "cell_type": "code",
      "source": [
        "#Preprocess Helper Functions\n",
        "\n",
        "#to lower case\n",
        "def lowercase(tweet: str) -> str:\n",
        "  preprocessedTweet = str.lower(tweet)\n",
        "  return preprocessedTweet\n",
        "\n",
        "#remove hashtags\n",
        "def remove_hashtags(tweet: str) -> str:\n",
        "  preprocessedTweet = re.sub('#[a-zA-Z0-9_]+','',tweet)\n",
        "  return preprocessedTweet\n",
        "\n",
        "#remove mentions\n",
        "def remove_mentions(tweet: str) -> str:\n",
        "  preprocessedTweet = re.sub('@[a-zA-Z0-9_]+','',tweet)\n",
        "  return preprocessedTweet\n",
        "\n",
        "#remove emojis\n",
        "def remove_emojis(tweet: str) -> str:\n",
        "    emoji_pattern = re.compile(\"[\"\n",
        "                               u\"\\U0001F600-\\U0001F64F\"  # emoticons\n",
        "                               u\"\\U0001F300-\\U0001F5FF\"  # symbols & pictographs\n",
        "                               u\"\\U0001F680-\\U0001F6FF\"  # transport & map symbols\n",
        "                               u\"\\U0001F700-\\U0001F77F\"  # alchemical symbols\n",
        "                               u\"\\U0001F780-\\U0001F7FF\"  # Geometric Shapes Extended\n",
        "                               u\"\\U0001F800-\\U0001F8FF\"  # Supplemental Arrows-C\n",
        "                               u\"\\U0001F900-\\U0001F9FF\"  # Supplemental Symbols and Pictographs\n",
        "                               u\"\\U0001FA00-\\U0001FA6F\"  # Chess Symbols\n",
        "                               u\"\\U0001FA70-\\U0001FAFF\"  # Symbols and Pictographs Extended-A\n",
        "                               u\"\\U00002702-\\U000027B0\"  # Dingbats\n",
        "                               u\"\\U000024C2-\\U0001F251\"\n",
        "                               \"]+\", flags=re.UNICODE)\n",
        "    return emoji_pattern.sub('', tweet)\n",
        "\n",
        "#remove stopwords\n",
        "def remove_stopwords(tweet: str) -> str:\n",
        "    word_list = tweet.split()\n",
        "    filtered_words = [word for word in word_list if word not in set(stopwords.words('english'))]\n",
        "    return ' '.join(filtered_words)\n",
        "\n",
        "# Function to combine all preprocessing steps\n",
        "def preprocess_tweet(tweet: str) -> str:\n",
        "    tweet = lowercase(tweet)\n",
        "    tweet = remove_hashtags(tweet)\n",
        "    tweet = remove_mentions(tweet)\n",
        "    tweet = remove_stopwords(tweet)\n",
        "    tweet = remove_emojis(tweet)\n",
        "    return tweet"
      ],
      "metadata": {
        "id": "hu0tTVoRFPWJ"
      },
      "execution_count": null,
      "outputs": []
    },
    {
      "cell_type": "code",
      "source": [
        "# no retweets and no quote tweets / no cleaned column yet\n",
        "df_no_qt.head()"
      ],
      "metadata": {
        "id": "sixZt0u9l-0Y"
      },
      "execution_count": null,
      "outputs": []
    },
    {
      "cell_type": "code",
      "source": [
        "# create cleaned tweet column\n",
        "df_no_qt['tweet_clean'] = df_no_qt['Hit Sentence'].apply(preprocess_tweet)"
      ],
      "metadata": {
        "id": "SEWevIIsm3mk"
      },
      "execution_count": null,
      "outputs": []
    },
    {
      "cell_type": "code",
      "source": [
        "# with cleaned tweet column\n",
        "df_no_qt.head()"
      ],
      "metadata": {
        "id": "jqbgPv2LpJvx"
      },
      "execution_count": null,
      "outputs": []
    },
    {
      "cell_type": "markdown",
      "source": [
        "#Split and Vectorize the data"
      ],
      "metadata": {
        "id": "jRZK-vWy46GK"
      }
    },
    {
      "cell_type": "code",
      "source": [
        "# Set X and y label\n",
        "X_preprocessed = df_no_qt[\"tweet_clean\"]\n",
        "y = df_no_qt[\"Sentiment\"]"
      ],
      "metadata": {
        "id": "Pk7rg9qE7SFC"
      },
      "execution_count": null,
      "outputs": []
    },
    {
      "cell_type": "code",
      "source": [
        "# Encode the y labels\n",
        "label_encoder = LabelEncoder()\n",
        "y_encoded = label_encoder.fit_transform(y)"
      ],
      "metadata": {
        "id": "XaGrwBeeV2uk"
      },
      "execution_count": null,
      "outputs": []
    },
    {
      "cell_type": "code",
      "source": [
        "#check encoded labels\n",
        "for index, original_label in enumerate(label_encoder.classes_):\n",
        "    print(f\"Encoded Label: {index} -> Original Label: {original_label}\")"
      ],
      "metadata": {
        "id": "BCi4qDoGjz2O"
      },
      "execution_count": null,
      "outputs": []
    },
    {
      "cell_type": "code",
      "source": [
        "# Split the data\n",
        "X_train, X_test, y_train, y_test = train_test_split(X_preprocessed, y_encoded, test_size=0.3, random_state=42)"
      ],
      "metadata": {
        "id": "jrZDZXE848jb"
      },
      "execution_count": null,
      "outputs": []
    },
    {
      "cell_type": "code",
      "source": [
        "print('X_train shape: ', X_train.shape)\n",
        "print('X_test shape: ', X_test.shape)\n",
        "print('y_train shape: ', y_train.shape)\n",
        "print('y_test shape: ',y_test.shape)"
      ],
      "metadata": {
        "id": "p85Yh6LOEWJp"
      },
      "execution_count": null,
      "outputs": []
    },
    {
      "cell_type": "code",
      "source": [
        "#Vectorize the data\n",
        "tfidf_vectorizer = TfidfVectorizer(stop_words='english') #make sure that all stopwords are excluded, stopword list might differ\n",
        "tfidf_train = tfidf_vectorizer.fit_transform(X_train)\n",
        "tfidf_test = tfidf_vectorizer.transform(X_test)\n",
        "\n",
        "count_vectorizer = CountVectorizer(stop_words=\"english\") #make sure that all stopwords are excluded\n",
        "count_train = count_vectorizer.fit_transform(X_train)\n",
        "count_test = count_vectorizer.transform(X_test)"
      ],
      "metadata": {
        "id": "9imtn-Ph9VvM"
      },
      "execution_count": null,
      "outputs": []
    },
    {
      "cell_type": "markdown",
      "source": [
        "#Train Models with Tfidf Vectorizer"
      ],
      "metadata": {
        "id": "Xss2VgWFDWPy"
      }
    },
    {
      "cell_type": "code",
      "source": [
        "# Initialize a Support Vector Classifier (SVC) with a linear kernel\n",
        "# svm_linear_tfidf = SVC(kernel='linear', C=1)\n",
        "\n",
        "# Train the classifier using the tfidf training data and training labels\n",
        "# svm_linear_tfidf.fit(tfidf_train, y_train)"
      ],
      "metadata": {
        "id": "IKQKTioyDgT6"
      },
      "execution_count": null,
      "outputs": []
    },
    {
      "cell_type": "code",
      "source": [
        "# Initialize a Logistic Regression Model\n",
        "log_reg_tfidf = LogisticRegression(C=1, solver='lbfgs', max_iter=1000)\n",
        "\n",
        "#Train the Linear Regression Model using the tfidf data\n",
        "log_reg_tfidf.fit(tfidf_train, y_train)"
      ],
      "metadata": {
        "id": "D1T2vBlTHPfl"
      },
      "execution_count": null,
      "outputs": []
    },
    {
      "cell_type": "code",
      "source": [
        "# Initialize a Random Forest Classifier\n",
        "random_forest_tfidf = RandomForestClassifier(max_depth=None, n_estimators=100, random_state=42)\n",
        "\n",
        "# Fit the Random Forest Classifier on the training data\n",
        "random_forest_tfidf.fit(tfidf_train, y_train)"
      ],
      "metadata": {
        "id": "egJC1gAkHo35"
      },
      "execution_count": null,
      "outputs": []
    },
    {
      "cell_type": "code",
      "source": [
        "# Initialize Naive Bayes Classifier\n",
        "nb_classifier_tfidf = MultinomialNB()\n",
        "\n",
        "# Fit the Naive Bayes Classifier with the tfidf data\n",
        "nb_classifier_tfidf.fit(tfidf_train, y_train)"
      ],
      "metadata": {
        "id": "fw8SiYSGPmrl"
      },
      "execution_count": null,
      "outputs": []
    },
    {
      "cell_type": "markdown",
      "source": [
        "Make predictions with Tfidf vectorized data"
      ],
      "metadata": {
        "id": "YYcwinBnQlWY"
      }
    },
    {
      "cell_type": "code",
      "source": [
        "# Predict the labels for the tfidf vectorized data using a linear SVM model\n",
        "# y_pred_svm_tfidf = svm_linear_tfidf.predict(tfidf_test)\n",
        "\n",
        "# Predict the labels for the tfidf vectorized data using a logistic regression model\n",
        "y_pred_logreg_tfidf = log_reg_tfidf.predict(tfidf_test)\n",
        "\n",
        "# Predict the labels for the tfidf vectorized data using a Random Forest Classifier\n",
        "y_pred_forest_tfidf = random_forest_tfidf.predict(tfidf_test)\n",
        "\n",
        "# Predict the labels for the tfidf vectorized data using a Naive Bayes Classifier\n",
        "y_pred_nb_tfidf = nb_classifier_tfidf.predict(tfidf_test)"
      ],
      "metadata": {
        "id": "8rj9hvifQvid"
      },
      "execution_count": null,
      "outputs": []
    },
    {
      "cell_type": "markdown",
      "source": [
        "Evaluate our Models with the Tfidf vectorized data"
      ],
      "metadata": {
        "id": "4hGqXe_xSkq7"
      }
    },
    {
      "cell_type": "code",
      "source": [
        "#SVM Evaluation\n",
        "# print(f\"SVM Evaluation:\")\n",
        "# Calculate and print the accuracy score\n",
        "# accuracy_svm_tfidf = accuracy_score(y_test, y_pred_svm_tfidf)\n",
        "# print(f\"Accuracy: {accuracy_svm_tfidf}\")\n",
        "\n",
        "#  Calculate and print the F1 score\n",
        "# f1_svm_tfidf = f1_score(y_test, y_pred_svm_tfidf, average='macro')\n",
        "# print(f\"F1 Score: {f1_svm_tfidf}\")\n",
        "\n",
        "#  Calculate and print the precision score\n",
        "# precision_svm_tfidf = precision_score(y_test, y_pred_svm_tfidf, average='macro')\n",
        "# print(f\"Precision: {precision_svm_tfidf}\")\n",
        "\n",
        "#  Calculate and print the recall score\n",
        "# recall_svm_tfidf = recall_score(y_test, y_pred_svm_tfidf, average='macro')\n",
        "# print(f\"Recall: {recall_svm_tfidf}\")\n",
        "\n",
        "# print(f\"---------------------------------------------\")\n",
        "\n",
        "print(f\"Logistic Regression Evaluation:\")\n",
        "#Logistic Regression Evaluation\n",
        "# Calculate and print the accuracy score\n",
        "accuracy_logreg_tfidf = accuracy_score(y_test, y_pred_logreg_tfidf)\n",
        "print(f\"Accuracy: {accuracy_logreg_tfidf}\")\n",
        "\n",
        "# Calculate and print the F1 score\n",
        "f1_logreg_tfidf = f1_score(y_test, y_pred_logreg_tfidf, average='macro')\n",
        "print(f\"F1 Score: {f1_logreg_tfidf}\")\n",
        "\n",
        "# Calculate and print the precision score\n",
        "precision_logreg_tfidf = precision_score(y_test, y_pred_logreg_tfidf, average='macro')\n",
        "print(f\"Precision: {precision_logreg_tfidf}\")\n",
        "\n",
        "# Calculate and print the recall score\n",
        "recall_logreg_tfidf = recall_score(y_test, y_pred_logreg_tfidf, average='macro')\n",
        "print(f\"Recall: {recall_logreg_tfidf}\")\n",
        "\n",
        "print(f\"---------------------------------------------\")\n",
        "\n",
        "print(f\"Random Forest Evaluation:\")\n",
        "#Random Forest Evaluation\n",
        "# Calculate and print the accuracy score\n",
        "accuracy_forest_tfidf = accuracy_score(y_test, y_pred_forest_tfidf)\n",
        "print(f\"Accuracy: {accuracy_forest_tfidf}\")\n",
        "\n",
        "# Calculate and print the F1 score\n",
        "f1_forest_tfidf = f1_score(y_test, y_pred_forest_tfidf, average='macro')\n",
        "print(f\"F1 Score: {f1_forest_tfidf}\")\n",
        "\n",
        "# Calculate and print the precision score\n",
        "precision_forest_tfidf = precision_score(y_test, y_pred_forest_tfidf, average='macro')\n",
        "print(f\"Precision: {precision_forest_tfidf}\")\n",
        "\n",
        "# Calculate and print the recall score\n",
        "recall_forest_tfidf = recall_score(y_test, y_pred_forest_tfidf, average='macro')\n",
        "print(f\"Recall: {recall_forest_tfidf}\")\n",
        "\n",
        "print(f\"---------------------------------------------\")\n",
        "\n",
        "print(f\"Naive Bayes Classifier Evaluation:\")\n",
        "#Logistic Regression Evaluation\n",
        "# Calculate and print the accuracy score\n",
        "accuracy_nb_tfidf = accuracy_score(y_test, y_pred_nb_tfidf)\n",
        "print(f\"Accuracy: {accuracy_nb_tfidf}\")\n",
        "\n",
        "# Calculate and print the F1 score\n",
        "f1_nb_tfidf = f1_score(y_test, y_pred_nb_tfidf, average='macro')\n",
        "print(f\"F1 Score: {f1_nb_tfidf}\")\n",
        "\n",
        "# Calculate and print the precision score\n",
        "precision_nb_tfidf = precision_score(y_test, y_pred_nb_tfidf, average='macro', zero_division=1)\n",
        "print(f\"Precision: {precision_nb_tfidf}\")\n",
        "\n",
        "# Calculate and print the recall score\n",
        "recall_nb_tfidf = recall_score(y_test, y_pred_nb_tfidf, average='macro', zero_division=1)\n",
        "print(f\"Recall: {recall_nb_tfidf}\")\n",
        "\n",
        "print(f\"---------------------------------------------\")"
      ],
      "metadata": {
        "id": "PEYomfwnSpnd"
      },
      "execution_count": null,
      "outputs": []
    },
    {
      "cell_type": "markdown",
      "source": [
        "#Train Models with Count Vectorizer"
      ],
      "metadata": {
        "id": "nEf17228Jrkf"
      }
    },
    {
      "cell_type": "code",
      "source": [
        "# Initialize a Support Vector Classifier (SVC) with a linear kernel\n",
        "# svm_linear_count = SVC(kernel='linear', C=1)\n",
        "\n",
        "# Train the classifier using the tfidf training data and training labels\n",
        "# svm_linear_count.fit(count_train, y_train)"
      ],
      "metadata": {
        "id": "M-TL_ovPJ6Iv"
      },
      "execution_count": null,
      "outputs": []
    },
    {
      "cell_type": "code",
      "source": [
        "# Initialize a Logistic Regression Model\n",
        "log_reg_count = LogisticRegression(C=1, solver='lbfgs', max_iter=1000)\n",
        "\n",
        "#Train the Logistiv Regression Model using the tfidf data\n",
        "log_reg_count.fit(count_train, y_train)"
      ],
      "metadata": {
        "id": "ACtLyIlXKS4-"
      },
      "execution_count": null,
      "outputs": []
    },
    {
      "cell_type": "code",
      "source": [
        "# Initialize a Random Forest Classifier\n",
        "random_forest_count = RandomForestClassifier(max_depth=None, n_estimators=100, random_state=42)\n",
        "\n",
        "# Fit the Random Forest Classifier on the training data\n",
        "random_forest_count.fit(count_train, y_train)"
      ],
      "metadata": {
        "id": "Cqd1BNtTKfwd"
      },
      "execution_count": null,
      "outputs": []
    },
    {
      "cell_type": "code",
      "source": [
        "# Initialize Naive Bayes Classifier\n",
        "nb_classifier_count = MultinomialNB()\n",
        "\n",
        "# Fit the Naive Bayes Classifier with the tfidf data\n",
        "nb_classifier_count.fit(count_train, y_train)"
      ],
      "metadata": {
        "id": "UOokv82WKkrW"
      },
      "execution_count": null,
      "outputs": []
    },
    {
      "cell_type": "markdown",
      "source": [
        "Make predictions with Count vectorized data"
      ],
      "metadata": {
        "id": "6Rjr3rWULXeO"
      }
    },
    {
      "cell_type": "code",
      "source": [
        "# Predict the labels for the count vectorized data using a linear SVM model\n",
        "# y_pred_svm_count = svm_linear_count.predict(count_test)\n",
        "\n",
        "# Predict the labels for the count vectorized data using a logistic regression model\n",
        "y_pred_logreg_count = log_reg_count.predict(count_test)\n",
        "\n",
        "# Predict the labels for the count vectorized data using a Random Forest Classifier\n",
        "y_pred_forest_count = random_forest_count.predict(count_test)\n",
        "\n",
        "# Predict the labels for the count vectorized data using a Naive Bayes Classifier\n",
        "y_pred_nb_count = nb_classifier_count.predict(count_test)"
      ],
      "metadata": {
        "id": "C1GJV5BRLcTF"
      },
      "execution_count": null,
      "outputs": []
    },
    {
      "cell_type": "markdown",
      "source": [
        "Evaluate our Models with the Count vectorized data"
      ],
      "metadata": {
        "id": "K3iHTK_DL7pE"
      }
    },
    {
      "cell_type": "code",
      "source": [
        "#SVM Evaluation\n",
        "# print(f\"SVM Evaluation:\")\n",
        "# Calculate and print the accuracy score\n",
        "# accuracy_svm_count = accuracy_score(y_test, y_pred_svm_count)\n",
        "# print(f\"Accuracy: {accuracy_svm_count}\")\n",
        "\n",
        "# Calculate and print the F1 score\n",
        "# f1_svm_count = f1_score(y_test, y_pred_svm_count, average='macro')\n",
        "# print(f\"F1 Score: {f1_svm_count}\")\n",
        "\n",
        "# Calculate and print the precision score\n",
        "# precision_svm_count = precision_score(y_test, y_pred_svm_count, average='macro')\n",
        "# print(f\"Precision: {precision_svm_count}\")\n",
        "\n",
        "# Calculate and print the recall score\n",
        "# recall_svm_count = recall_score(y_test, y_pred_svm_count, average='macro')\n",
        "# print(f\"Recall: {recall_svm_count}\")\n",
        "\n",
        "# print(f\"---------------------------------------------\")\n",
        "\n",
        "print(f\"Logistic Regression Evaluation:\")\n",
        "#Logistic Regression Evaluation\n",
        "# Calculate and print the accuracy score\n",
        "accuracy_logreg_count = accuracy_score(y_test, y_pred_logreg_count)\n",
        "print(f\"Accuracy: {accuracy_logreg_count}\")\n",
        "\n",
        "# Calculate and print the F1 score\n",
        "f1_logreg_count = f1_score(y_test, y_pred_logreg_count, average='macro')\n",
        "print(f\"F1 Score: {f1_logreg_count}\")\n",
        "\n",
        "# Calculate and print the precision score\n",
        "precision_logreg_count = precision_score(y_test, y_pred_logreg_count, average='macro')\n",
        "print(f\"Precision: {precision_logreg_count}\")\n",
        "\n",
        "# Calculate and print the recall score\n",
        "recall_logreg_count = recall_score(y_test, y_pred_logreg_count, average='macro')\n",
        "print(f\"Recall: {recall_logreg_count}\")\n",
        "\n",
        "print(f\"---------------------------------------------\")\n",
        "\n",
        "print(f\"Random Forest Evaluation:\")\n",
        "#Random Forest Evaluation\n",
        "# Calculate and print the accuracy score\n",
        "accuracy_forest_count = accuracy_score(y_test, y_pred_forest_count)\n",
        "print(f\"Accuracy: {accuracy_forest_count}\")\n",
        "\n",
        "# Calculate and print the F1 score\n",
        "f1_forest_count = f1_score(y_test, y_pred_forest_count, average='macro')\n",
        "print(f\"F1 Score: {f1_forest_count}\")\n",
        "\n",
        "# Calculate and print the precision score\n",
        "precision_forest_count = precision_score(y_test, y_pred_forest_count, average='macro')\n",
        "print(f\"Precision: {precision_forest_count}\")\n",
        "\n",
        "# Calculate and print the recall score\n",
        "recall_forest_count = recall_score(y_test, y_pred_forest_count, average='macro')\n",
        "print(f\"Recall: {recall_forest_count}\")\n",
        "\n",
        "print(f\"---------------------------------------------\")\n",
        "\n",
        "print(f\"Naive Bayes Classifier Evaluation:\")\n",
        "#Logistic Regression Evaluation\n",
        "# Calculate and print the accuracy score\n",
        "accuracy_nb_count = accuracy_score(y_test, y_pred_nb_count)\n",
        "print(f\"Accuracy: {accuracy_nb_count}\")\n",
        "\n",
        "# Calculate and print the F1 score\n",
        "f1_nb_count = f1_score(y_test, y_pred_nb_count, average='macro')\n",
        "print(f\"F1 Score: {f1_nb_count}\")\n",
        "\n",
        "# Calculate and print the precision score\n",
        "precision_nb_count = precision_score(y_test, y_pred_nb_count, average='macro', zero_division=1)\n",
        "print(f\"Precision: {precision_nb_count}\")\n",
        "\n",
        "# Calculate and print the recall score\n",
        "recall_nb_count = recall_score(y_test, y_pred_nb_count, average='macro', zero_division=1)\n",
        "print(f\"Recall: {recall_nb_count}\")\n",
        "\n",
        "print(f\"---------------------------------------------\")"
      ],
      "metadata": {
        "id": "iEE2lnQ2L_1t"
      },
      "execution_count": null,
      "outputs": []
    },
    {
      "cell_type": "code",
      "source": [
        "# parameters_log = {'C': [0.1, 1, 10, 100]}\n",
        "\n",
        "# # Initialize a Logistic Regression Classifier\n",
        "# log_reg_count = LogisticRegression(C=1, solver='lbfgs', max_iter=3000)\n",
        "\n",
        "# # Set up GridSearchCV with the SVC, parameter grid, 5-fold cross-validation, and F1 scoring\n",
        "# grid_log_reg_count = GridSearchCV(log_reg_count, parameters_log, cv=5, scoring=\"f1_macro\")\n",
        "\n",
        "# # Train the GridSearchCV on the scaled training data\n",
        "# grid_log_reg_count.fit(count_train, y_train)"
      ],
      "metadata": {
        "id": "b3MkS7zBX07T"
      },
      "execution_count": null,
      "outputs": []
    },
    {
      "cell_type": "code",
      "source": [
        "# print(f\"Best Parameters: {grid_log_reg_count.best_params_}\")\n",
        "# print(f\"Best F1 - Score: {grid_log_reg_count.best_score_}\")"
      ],
      "metadata": {
        "id": "4D2nn7CLX3ZM"
      },
      "execution_count": null,
      "outputs": []
    },
    {
      "cell_type": "markdown",
      "source": [
        "# Data Visualization"
      ],
      "metadata": {
        "id": "XLyliSxuT90b"
      }
    },
    {
      "cell_type": "markdown",
      "source": [
        "## Confusion Matrix"
      ],
      "metadata": {
        "id": "hM9MkMnpUCrt"
      }
    },
    {
      "cell_type": "code",
      "source": [
        "def plot_conf_matrix_multiclass(conf_mat, classifier_name, original_label):\n",
        "    #Normalize to get percentages\n",
        "    conf_mat_normalized = conf_mat.astype('float') / conf_mat.sum(axis=1)[:, np.newaxis]\n",
        "\n",
        "    # Set the size of the figure\n",
        "    plt.figure(figsize=(10,7))\n",
        "\n",
        "    # seaborn to create a heatmap of the confusion matrix\n",
        "    sns.heatmap(conf_mat_normalized, annot=True, fmt='.2%', cmap='Blues',\n",
        "                xticklabels=original_label, yticklabels=original_label)\n",
        "\n",
        "    # Label the x-axis as 'Predicted'\n",
        "    plt.xlabel('Predicted')\n",
        "\n",
        "    # Label the y-axis as 'Actual'\n",
        "    plt.ylabel('Actual')\n",
        "\n",
        "    # Set the title of the plot\n",
        "    plt.title(f'Confusion Matrix for {classifier_name}')\n",
        "\n",
        "    # Display the plot\n",
        "    plt.show()"
      ],
      "metadata": {
        "id": "pqaILAY9m20H"
      },
      "execution_count": null,
      "outputs": []
    },
    {
      "cell_type": "code",
      "source": [
        "conf_matrix_logreg_count_multiclass = confusion_matrix(y_test, y_pred_logreg_count)"
      ],
      "metadata": {
        "id": "PwhoFp9rn37a"
      },
      "execution_count": null,
      "outputs": []
    },
    {
      "cell_type": "code",
      "source": [
        "original_label = [\"Negative\", \"Neutral\", \"Not Rated\", \"Positive\"]\n",
        "plot_conf_matrix_multiclass(conf_matrix_logreg_count_multiclass, \"Logistic Regression with Count Vectorizer\", original_label)"
      ],
      "metadata": {
        "id": "wjfvBoyCn4yB"
      },
      "execution_count": null,
      "outputs": []
    },
    {
      "cell_type": "markdown",
      "source": [
        "## Total counts of sentiments"
      ],
      "metadata": {
        "id": "RML1ZKNrUIZi"
      }
    },
    {
      "cell_type": "code",
      "source": [
        "#Counting the labels for each sentiment in y_test\n",
        "neg_y_test = 0\n",
        "neu_y_test = 0\n",
        "not_rated_y_test = 0\n",
        "pos_y_test = 0\n",
        "\n",
        "for item in y_test:\n",
        "    if item == 0:\n",
        "        neg_y_test += 1\n",
        "    elif item == 1:\n",
        "        neu_y_test += 1\n",
        "    elif item == 2:\n",
        "        not_rated_y_test += 1\n",
        "    elif item == 3:\n",
        "        pos_y_test += 1\n",
        "\n",
        "print(\"Negative:\", neg_y_test)\n",
        "print(\"Neutral:\", neu_y_test)\n",
        "print(\"Not Rated:\", not_rated_y_test)\n",
        "print(\"Positive:\", pos_y_test)\n",
        "\n",
        "print(f\"---------------------------------------------\")\n",
        "#Counting the labels for each sentiment in y_pred_logreg_count\n",
        "neg_y_pred_logreg_count = 0\n",
        "neu_y_pred_logreg_count = 0\n",
        "not_rated_y_pred_logreg_count = 0\n",
        "pos_y_pred_logreg_count = 0\n",
        "\n",
        "for item in y_pred_logreg_count:\n",
        "    if item == 0:\n",
        "        neg_y_pred_logreg_count += 1\n",
        "    elif item == 1:\n",
        "        neu_y_pred_logreg_count += 1\n",
        "    elif item == 2:\n",
        "        not_rated_y_pred_logreg_count += 1\n",
        "    elif item == 3:\n",
        "        pos_y_pred_logreg_count += 1\n",
        "\n",
        "print(\"Negative:\", neg_y_pred_logreg_count)\n",
        "print(\"Neutral:\", neu_y_pred_logreg_count)\n",
        "print(\"Not Rated:\", not_rated_y_pred_logreg_count)\n",
        "print(\"Positive:\", pos_y_pred_logreg_count)"
      ],
      "metadata": {
        "id": "-2rTysrxehSS"
      },
      "execution_count": null,
      "outputs": []
    },
    {
      "cell_type": "code",
      "source": [
        "#Data from y_test\n",
        "y_test_counts = [neg_y_test, neu_y_test, not_rated_y_test, pos_y_test]\n",
        "\n",
        "#Data from y_pred_logreg_count\n",
        "y_pred_counts = [neg_y_pred_logreg_count, neu_y_pred_logreg_count, not_rated_y_pred_logreg_count, pos_y_pred_logreg_count]\n",
        "\n",
        "#Bar chart settings\n",
        "bar_width = 0.35\n",
        "index = range(len(y_test_counts))\n",
        "\n",
        "#Creating the bar chart\n",
        "plt.bar(index, y_test_counts, bar_width, label='y_test')\n",
        "plt.bar([i + bar_width for i in index], y_pred_counts, bar_width, label='y_pred_logreg_count')\n",
        "\n",
        "#Labels, title, and legend\n",
        "plt.xlabel('Sentiments')\n",
        "plt.ylabel('Counts')\n",
        "plt.title('Comparison of Total Sentiment Counts')\n",
        "plt.xticks([i + bar_width/2 for i in index], ['Negative', 'Neutral', 'Not Rated', 'Positive'])\n",
        "plt.legend()\n",
        "\n",
        "#Displaying the plot\n",
        "plt.tight_layout()\n",
        "plt.show()"
      ],
      "metadata": {
        "id": "gNX_EX6IiY5q"
      },
      "execution_count": null,
      "outputs": []
    },
    {
      "cell_type": "markdown",
      "source": [
        "## Split into Pro and Anti Brexit"
      ],
      "metadata": {
        "id": "B3q1zIrpUOZj"
      }
    },
    {
      "cell_type": "code",
      "source": [
        "#Splitting the dataframe into Pro and Anti Brexit\n",
        "pro_brexit_df_no_qt = df_no_qt[df_no_qt['Position'] == 1]\n",
        "anti_brexit_df_no_qt = df_no_qt[df_no_qt['Position'] == 0]\n",
        "\n",
        "#Creating Dataframes out of that data\n",
        "df_proBrexit = pd.DataFrame(pro_brexit_df_no_qt)\n",
        "df_antiBrexit = pd.DataFrame(anti_brexit_df_no_qt)\n",
        "\n",
        "#Displaying the resulting DataFrame\n",
        "df_proBrexit.info()\n",
        "df_antiBrexit.info()"
      ],
      "metadata": {
        "id": "Yd0PTXJcj-2a"
      },
      "execution_count": null,
      "outputs": []
    },
    {
      "cell_type": "code",
      "source": [
        "#Creating a new dataframe with the testing data and the predictions\n",
        "data = {'X_test': X_test, 'y_test': y_test, 'y_pred_logreg_count': y_pred_logreg_count}\n",
        "df_new = pd.DataFrame(data)\n",
        "\n",
        "#Displaying the content\n",
        "df_new.head()\n",
        "df_new.info()\n"
      ],
      "metadata": {
        "id": "d07Hz34OjMXC"
      },
      "execution_count": null,
      "outputs": []
    },
    {
      "cell_type": "code",
      "source": [
        "#Merging df_new with pro_brexit_df_no_qt based on common values in 'X_test' and 'tweet_clean'\n",
        "merged_pro_brexit = pd.merge(df_new, pro_brexit_df_no_qt,how = 'inner', left_on='X_test', right_on='tweet_clean')\n",
        "df_merged_pro_brexit = pd.DataFrame(merged_pro_brexit)\n",
        "\n",
        "\n",
        "#Merging df_new with anti_brexit_df_no_qt based on common values in 'X_test' and 'tweet_clean'\n",
        "merged_anti_brexit = pd.merge(df_new, anti_brexit_df_no_qt, how = 'inner',left_on='X_test', right_on='tweet_clean')\n",
        "df_merged_anti_brexit = pd.DataFrame(merged_anti_brexit)\n",
        "\n",
        "\n",
        "#Displaying the duplicated entries\n",
        "print(df_merged_pro_brexit['X_test'].duplicated().sum())\n",
        "print(df_merged_pro_brexit['tweet_clean'].duplicated().sum())\n",
        "\n",
        "print(df_merged_anti_brexit['X_test'].duplicated().sum())\n",
        "print(df_merged_anti_brexit['tweet_clean'].duplicated().sum())\n",
        "\n",
        "\n",
        "#Dropping the duplicates\n",
        "df_merged_pro_brexit = df_merged_pro_brexit.drop_duplicates()\n",
        "df_merged_anti_brexit = df_merged_anti_brexit.drop_duplicates()\n",
        "\n",
        "#Displaying the resulting merged DataFrames\n",
        "print(\"Merged Pro-Brexit DataFrame:\")\n",
        "df_merged_pro_brexit.info()\n",
        "\n",
        "print(\"\\nMerged Anti-Brexit DataFrame:\")\n",
        "df_merged_anti_brexit.info()\n"
      ],
      "metadata": {
        "id": "oyO9Dcq0oMDy"
      },
      "execution_count": null,
      "outputs": []
    },
    {
      "cell_type": "markdown",
      "source": [
        "### Pro Brexit"
      ],
      "metadata": {
        "id": "UESdeVUUUiq8"
      }
    },
    {
      "cell_type": "code",
      "source": [
        "#Getting the data we need from the merged pro-brexit dataframe\n",
        "pro_brexit_y_pred = df_merged_pro_brexit['y_pred_logreg_count']\n",
        "pro_brexit_y_test = df_merged_pro_brexit['Sentiment']\n",
        "\n",
        "#Counting the real sentiment for pro Brexit\n",
        "pro_brexit_neg_y_test = 0\n",
        "pro_brexit_neu_y_test = 0\n",
        "pro_brexit_not_rated_y_test = 0\n",
        "pro_brexit_pos_y_test = 0\n",
        "\n",
        "for item in pro_brexit_y_test:\n",
        "    if item == \"Negative\":\n",
        "        pro_brexit_neg_y_test += 1\n",
        "    elif item == \"Neutral\":\n",
        "        pro_brexit_neu_y_test += 1\n",
        "    elif item == \"Not Rated\":\n",
        "        pro_brexit_not_rated_y_test += 1\n",
        "    elif item == \"Positive\":\n",
        "        pro_brexit_pos_y_test += 1\n",
        "\n",
        "#Displaying the results\n",
        "print(\"Negative:\", pro_brexit_neg_y_test)\n",
        "print(\"Neutral:\", pro_brexit_neu_y_test)\n",
        "print(\"Not Rated:\", pro_brexit_not_rated_y_test)\n",
        "print(\"Positive:\", pro_brexit_pos_y_test)\n",
        "print(f\"---------------------------------------------\")\n",
        "\n",
        "#Counting the predicted sentiment for pro Brexit\n",
        "pro_brexit_neg_y_pred_logreg_count = 0\n",
        "pro_brexit_neu_y_pred_logreg_count = 0\n",
        "pro_brexit_not_rated_y_pred_logreg_count = 0\n",
        "pro_brexit_pos_y_pred_logreg_count = 0\n",
        "\n",
        "for item in pro_brexit_y_pred:\n",
        "    if item == 0:\n",
        "        pro_brexit_neg_y_pred_logreg_count += 1\n",
        "    elif item == 1:\n",
        "        pro_brexit_neu_y_pred_logreg_count += 1\n",
        "    elif item == 2:\n",
        "        pro_brexit_not_rated_y_pred_logreg_count += 1\n",
        "    elif item == 3:\n",
        "        pro_brexit_pos_y_pred_logreg_count += 1\n",
        "\n",
        "#Displaying the results\n",
        "print(\"Negative:\", pro_brexit_neg_y_pred_logreg_count)\n",
        "print(\"Neutral:\", pro_brexit_neu_y_pred_logreg_count)\n",
        "print(\"Not Rated:\", pro_brexit_not_rated_y_pred_logreg_count)\n",
        "print(\"Positive:\", pro_brexit_pos_y_pred_logreg_count)"
      ],
      "metadata": {
        "id": "YcmhkZPxqQB5"
      },
      "execution_count": null,
      "outputs": []
    },
    {
      "cell_type": "code",
      "source": [
        "# Data from real sentiment\n",
        "y_test_counts = [pro_brexit_neg_y_test, pro_brexit_neu_y_test, pro_brexit_not_rated_y_test, pro_brexit_pos_y_test]\n",
        "\n",
        "# Data from y_pred_logreg_count\n",
        "y_pred_counts = [pro_brexit_neg_y_pred_logreg_count, pro_brexit_neu_y_pred_logreg_count, pro_brexit_not_rated_y_pred_logreg_count, pro_brexit_pos_y_pred_logreg_count]\n",
        "\n",
        "# Bar chart settings\n",
        "bar_width = 0.35\n",
        "index = range(len(y_test_counts))\n",
        "\n",
        "# Creating the bar chart\n",
        "plt.bar(index, y_test_counts, bar_width, label='y_test')\n",
        "plt.bar([i + bar_width for i in index], y_pred_counts, bar_width, label='y_pred_logreg_count')\n",
        "\n",
        "# Labels, title, and legend\n",
        "plt.xlabel('Sentiments')\n",
        "plt.ylabel('Counts')\n",
        "plt.title('Comparison of Sentiment Counts for Pro-Brexit accounts')\n",
        "plt.xticks([i + bar_width/2 for i in index], ['Negative', 'Neutral', 'Not Rated', 'Positive'])\n",
        "plt.legend()\n",
        "\n",
        "# Displaying the plot\n",
        "plt.tight_layout()\n",
        "plt.show()"
      ],
      "metadata": {
        "id": "cA5o9t4_IiKq"
      },
      "execution_count": null,
      "outputs": []
    },
    {
      "cell_type": "markdown",
      "source": [
        "### Anti Brexit"
      ],
      "metadata": {
        "id": "4bhbgne2UnPL"
      }
    },
    {
      "cell_type": "code",
      "source": [
        "anti_brexit_y_pred = df_merged_anti_brexit['y_pred_logreg_count']\n",
        "anti_brexit_y_test = df_merged_anti_brexit['Sentiment']\n",
        "\n",
        "#Counting the real sentiment for pro Brexit\n",
        "anti_brexit_neg_y_test = 0\n",
        "anti_brexit_neu_y_test = 0\n",
        "anti_brexit_not_rated_y_test = 0\n",
        "anti_brexit_pos_y_test = 0\n",
        "\n",
        "for item in anti_brexit_y_test:\n",
        "    if item == \"Negative\":\n",
        "        anti_brexit_neg_y_test += 1\n",
        "    elif item == \"Neutral\":\n",
        "        anti_brexit_neu_y_test += 1\n",
        "    elif item == \"Not Rated\":\n",
        "        anti_brexit_not_rated_y_test += 1\n",
        "    elif item == \"Positive\":\n",
        "        anti_brexit_pos_y_test += 1\n",
        "\n",
        "print(\"REAL SENTIMENT\")\n",
        "print(\"Negative:\", anti_brexit_neg_y_test)\n",
        "print(\"Neutral:\", anti_brexit_neu_y_test)\n",
        "print(\"Not Rated:\", anti_brexit_not_rated_y_test)\n",
        "print(\"Positive:\", anti_brexit_pos_y_test)\n",
        "print(f\"---------------------------------------------\")\n",
        "\n",
        "\n",
        "#Counting the labels for each sentiment in y_pred_logreg_count\n",
        "anti_brexit_neg_y_pred_logreg_count = 0\n",
        "anti_brexit_neu_y_pred_logreg_count = 0\n",
        "anti_brexit_not_rated_y_pred_logreg_count = 0\n",
        "anti_brexit_pos_y_pred_logreg_count = 0\n",
        "\n",
        "for item in anti_brexit_y_pred:\n",
        "    if item == 0:\n",
        "        anti_brexit_neg_y_pred_logreg_count += 1\n",
        "    elif item == 1:\n",
        "        anti_brexit_neu_y_pred_logreg_count += 1\n",
        "    elif item == 2:\n",
        "        anti_brexit_not_rated_y_pred_logreg_count += 1\n",
        "    elif item == 3:\n",
        "        anti_brexit_pos_y_pred_logreg_count += 1\n",
        "\n",
        "print(\"PREDICTED SENTIMENT\")\n",
        "print(\"Negative:\", anti_brexit_neg_y_pred_logreg_count)\n",
        "print(\"Neutral:\", anti_brexit_neu_y_pred_logreg_count)\n",
        "print(\"Not Rated:\", anti_brexit_not_rated_y_pred_logreg_count)\n",
        "print(\"Positive:\", anti_brexit_pos_y_pred_logreg_count)"
      ],
      "metadata": {
        "id": "FALk5UNVq3ip"
      },
      "execution_count": null,
      "outputs": []
    },
    {
      "cell_type": "code",
      "source": [
        "# Data from\n",
        "y_test_counts = [anti_brexit_neg_y_test, anti_brexit_neu_y_test, anti_brexit_not_rated_y_test, anti_brexit_pos_y_test]\n",
        "\n",
        "# Data from y_pred_logreg_count\n",
        "y_pred_counts = [anti_brexit_neg_y_pred_logreg_count, anti_brexit_neu_y_pred_logreg_count, anti_brexit_not_rated_y_pred_logreg_count, anti_brexit_pos_y_pred_logreg_count]\n",
        "\n",
        "# Bar chart settings\n",
        "bar_width = 0.35\n",
        "index = range(len(y_test_counts))\n",
        "\n",
        "# Creating the bar chart\n",
        "plt.bar(index, y_test_counts, bar_width, label='y_test')\n",
        "plt.bar([i + bar_width for i in index], y_pred_counts, bar_width, label='y_pred_logreg_count')\n",
        "\n",
        "# Labels, title, and legend\n",
        "plt.xlabel('Sentiments')\n",
        "plt.ylabel('Counts')\n",
        "plt.title('Comparison of Sentiment Counts for Anti-Brexit accounts')\n",
        "plt.xticks([i + bar_width/2 for i in index], ['Negative', 'Neutral', 'Not Rated', 'Positive'])\n",
        "plt.legend()\n",
        "\n",
        "# Displaying the plot\n",
        "plt.tight_layout()\n",
        "plt.show()"
      ],
      "metadata": {
        "id": "KPqQclGRIdUY"
      },
      "execution_count": null,
      "outputs": []
    },
    {
      "cell_type": "markdown",
      "source": [
        "# Comparing Results in Percentages"
      ],
      "metadata": {
        "id": "nfD2JVsgCMD0"
      }
    },
    {
      "cell_type": "code",
      "source": [
        "#Total sum of Pro Brexit labels\n",
        "total_real_pro_sentiments = pro_brexit_neg_y_test + pro_brexit_neu_y_test + pro_brexit_not_rated_y_test + pro_brexit_pos_y_test\n",
        "print(total_real_pro_sentiments)\n",
        "\n",
        "\n",
        "#Total sum of Pro Brexit labels\n",
        "total_pred_pro_sentiments = pro_brexit_neg_y_pred_logreg_count +pro_brexit_neu_y_pred_logreg_count+ pro_brexit_not_rated_y_pred_logreg_count+ pro_brexit_pos_y_pred_logreg_count\n",
        "print(total_pred_pro_sentiments)\n",
        "\n",
        "print(f\"---------------------------------------------\")\n",
        "\n",
        "#Total sum of Anti Brexit labels\n",
        "total_real_anti_sentiments = anti_brexit_neg_y_test + anti_brexit_neu_y_test + anti_brexit_not_rated_y_test + anti_brexit_pos_y_test\n",
        "print(total_real_anti_sentiments)\n",
        "\n",
        "#Total sum of Anti Brexit labels\n",
        "total_pred_anti_sentiments = anti_brexit_neg_y_pred_logreg_count +anti_brexit_neu_y_pred_logreg_count+ anti_brexit_not_rated_y_pred_logreg_count+ anti_brexit_pos_y_pred_logreg_count\n",
        "print(total_pred_anti_sentiments)"
      ],
      "metadata": {
        "id": "kMqehpKyDr3Z"
      },
      "execution_count": null,
      "outputs": []
    },
    {
      "cell_type": "code",
      "source": [
        "#Calculate the percentages of each Sentiment\n",
        "\n",
        "#PRO real\n",
        "print(\"PERCENTAGE OF EACH REAL SENTIMENT IN PRO BREXIT\")\n",
        "#Negative\n",
        "pro_real_percent_of_negative = pro_brexit_neg_y_test / total_real_pro_sentiments * 100\n",
        "print(\"Negative\")\n",
        "print(pro_real_percent_of_negative)\n",
        "\n",
        "#Neutral\n",
        "pro_real_percent_of_neutral = pro_brexit_neu_y_test / total_real_pro_sentiments * 100\n",
        "print(\"Neutral\")\n",
        "print(pro_real_percent_of_neutral)\n",
        "\n",
        "#Not Rated\n",
        "pro_real_percent_of_not_rated = pro_brexit_not_rated_y_test / total_real_pro_sentiments * 100\n",
        "print(\"Not Rated\")\n",
        "print(pro_real_percent_of_not_rated)\n",
        "\n",
        "#Positive\n",
        "pro_real_percent_of_positive = pro_brexit_pos_y_test/ total_real_pro_sentiments * 100\n",
        "print(\"Positive\")\n",
        "print(pro_real_percent_of_positive)\n",
        "\n",
        "\n",
        "print(f\"---------------------------------------------\")\n",
        "\n",
        "#PRO predicted\n",
        "\n",
        "print(\"PERCENTAGE OF EACH PREDICTED SENTIMENT IN PRO BREXIT\")\n",
        "#Negative\n",
        "pro_pred_percent_of_negative = pro_brexit_neg_y_pred_logreg_count / total_pred_pro_sentiments * 100\n",
        "print(\"Negative\")\n",
        "print(pro_pred_percent_of_negative)\n",
        "\n",
        "#Neutral\n",
        "pro_pred_percent_of_neutral = pro_brexit_neu_y_pred_logreg_count / total_pred_pro_sentiments * 100\n",
        "print(\"Neutral\")\n",
        "print(pro_pred_percent_of_neutral)\n",
        "\n",
        "#Not Rated\n",
        "pro_pred_percent_of_not_rated = pro_brexit_not_rated_y_pred_logreg_count / total_pred_pro_sentiments * 100\n",
        "print(\"Not Rated\")\n",
        "print(pro_pred_percent_of_not_rated)\n",
        "\n",
        "#Positive\n",
        "pro_pred_percent_of_positive = pro_brexit_pos_y_pred_logreg_count / total_pred_pro_sentiments * 100\n",
        "print(\"Positive\")\n",
        "print(pro_pred_percent_of_positive)\n"
      ],
      "metadata": {
        "id": "cHTij1w-EsLX"
      },
      "execution_count": null,
      "outputs": []
    },
    {
      "cell_type": "code",
      "source": [
        "#ANTI real\n",
        "print(\"PERCENTAGE OF EACH REAL SENTIMENT IN ANTI BREXIT\")\n",
        "#Negative\n",
        "anti_real_percent_of_negative = anti_brexit_neg_y_test / total_real_anti_sentiments * 100\n",
        "print(\"Negative\")\n",
        "print(anti_real_percent_of_negative)\n",
        "\n",
        "#Neutral\n",
        "anti_real_percent_of_neutral = anti_brexit_neu_y_test / total_real_anti_sentiments * 100\n",
        "print(\"Neutral\")\n",
        "print(anti_real_percent_of_neutral)\n",
        "\n",
        "#Not Rated\n",
        "anti_real_percent_of_not_rated = anti_brexit_not_rated_y_test / total_real_anti_sentiments * 100\n",
        "print(\"Not Rated\")\n",
        "print(anti_real_percent_of_not_rated)\n",
        "\n",
        "#Positive\n",
        "anti_real_percent_of_positive = anti_brexit_pos_y_test/ total_real_anti_sentiments * 100\n",
        "print(\"Positive\")\n",
        "print(anti_real_percent_of_positive)\n",
        "\n",
        "\n",
        "print(f\"---------------------------------------------\")\n",
        "\n",
        "\n",
        "\n",
        "#ANTI predicted\n",
        "\n",
        "print(\"PERCENTAGE OF EACH PREDICTED SENTIMENT IN ANTI BREXIT\")\n",
        "#Negative\n",
        "anti_pred_percent_of_negative = anti_brexit_neg_y_pred_logreg_count / total_pred_anti_sentiments * 100\n",
        "print(\"Negative\")\n",
        "print(anti_pred_percent_of_negative)\n",
        "\n",
        "#Neutral\n",
        "anti_pred_percent_of_neutral = anti_brexit_neu_y_pred_logreg_count / total_pred_anti_sentiments * 100\n",
        "print(\"Neutral\")\n",
        "print(anti_pred_percent_of_neutral)\n",
        "\n",
        "#Not Rated\n",
        "anti_pred_percent_of_not_rated = anti_brexit_not_rated_y_pred_logreg_count / total_pred_anti_sentiments * 100\n",
        "print(\"Not Rated\")\n",
        "print(anti_pred_percent_of_not_rated)\n",
        "\n",
        "#Positive\n",
        "anti_pred_percent_of_positive = anti_brexit_pos_y_pred_logreg_count / total_pred_anti_sentiments * 100\n",
        "print(\"Positive\")\n",
        "print(anti_pred_percent_of_positive)\n"
      ],
      "metadata": {
        "id": "55w6qKxEGnug"
      },
      "execution_count": null,
      "outputs": []
    },
    {
      "cell_type": "code",
      "source": [
        "\n",
        "# Pro Brexit Sentiments\n",
        "pro_sentiments = ['Negative', 'Neutral', 'Not Rated', 'Positive']\n",
        "pro_percentages = [pro_pred_percent_of_negative, pro_pred_percent_of_neutral, pro_pred_percent_of_not_rated, pro_pred_percent_of_positive]\n",
        "\n",
        "plt.figure(figsize=(10, 6))\n",
        "bars = plt.bar(pro_sentiments, pro_percentages, color=['red', 'orange', 'gray', 'green'])\n",
        "plt.title('Percentage of Sentiments in Pro-Brexit')\n",
        "plt.xlabel('Sentiments')\n",
        "plt.ylabel('Percentage')\n",
        "plt.ylim(0, 100)  # Set y-axis limit from 0 to 100 for percentages\n",
        "\n",
        "# Adding labels to each bar\n",
        "for bar, percentage in zip(bars, pro_percentages):\n",
        "    plt.text(bar.get_x() + bar.get_width() / 2, bar.get_height() + 1,\n",
        "             f'{percentage:.2f}%', ha='center', va='bottom')\n",
        "\n",
        "plt.show()\n",
        "\n",
        "# Anti Brexit Sentiments\n",
        "anti_sentiments = ['Negative', 'Neutral', 'Not Rated', 'Positive']\n",
        "anti_percentages = [anti_pred_percent_of_negative, anti_pred_percent_of_neutral, anti_pred_percent_of_not_rated, anti_pred_percent_of_positive]\n",
        "\n",
        "plt.figure(figsize=(10, 6))\n",
        "bars = plt.bar(anti_sentiments, anti_percentages, color=['red', 'orange', 'gray', 'green'])\n",
        "plt.title('Percentage of Sentiments in Anti-Brexit')\n",
        "plt.xlabel('Sentiments')\n",
        "plt.ylabel('Percentage')\n",
        "plt.ylim(0, 100)  # Set y-axis limit from 0 to 100 for percentages\n",
        "\n",
        "# Adding labels to each bar\n",
        "for bar, percentage in zip(bars, anti_percentages):\n",
        "    plt.text(bar.get_x() + bar.get_width() / 2, bar.get_height() + 1,\n",
        "             f'{percentage:.2f}%', ha='center', va='bottom')\n",
        "\n",
        "plt.show()\n",
        "\n"
      ],
      "metadata": {
        "id": "FpYf85-2H1zP"
      },
      "execution_count": null,
      "outputs": []
    },
    {
      "cell_type": "code",
      "source": [
        "#Plotting the data\n",
        "\n",
        "# Pro-Brexit Sentiments - Real vs Predicted\n",
        "pro_real_sentiments = ['Negative', 'Neutral', 'Not Rated', 'Positive']\n",
        "pro_real_percentages = [pro_real_percent_of_negative, pro_real_percent_of_neutral, pro_real_percent_of_not_rated, pro_real_percent_of_positive]\n",
        "pro_pred_percentages = [pro_pred_percent_of_negative, pro_pred_percent_of_neutral, pro_pred_percent_of_not_rated, pro_pred_percent_of_positive]\n",
        "\n",
        "plt.figure(figsize=(10, 6))\n",
        "bar_width = 0.35\n",
        "index = range(len(pro_real_sentiments))\n",
        "\n",
        "bars1 = plt.bar(index, pro_real_percentages, bar_width, label='Real', color='blue')\n",
        "bars2 = plt.bar([i + bar_width for i in index], pro_pred_percentages, bar_width, label='Predicted', color='orange')\n",
        "\n",
        "plt.xlabel('Sentiments')\n",
        "plt.ylabel('Percentage')\n",
        "plt.title('Comparison of Real vs Predicted Sentiments in Pro-Brexit')\n",
        "plt.xticks([i + bar_width / 2 for i in index], pro_real_sentiments)\n",
        "plt.legend()\n",
        "\n",
        "# Adding labels to each bar\n",
        "for bars in [bars1, bars2]:\n",
        "    for bar in bars:\n",
        "        plt.text(bar.get_x() + bar.get_width() / 2, bar.get_height() + 1,\n",
        "                 f'{bar.get_height():.2f}%', ha='center', va='bottom')\n",
        "\n",
        "plt.tight_layout()\n",
        "plt.show()\n",
        "\n",
        "# Anti-Brexit Sentiments - Real vs Predicted\n",
        "anti_real_sentiments = ['Negative', 'Neutral', 'Not Rated', 'Positive']\n",
        "anti_real_percentages = [anti_real_percent_of_negative, anti_real_percent_of_neutral, anti_real_percent_of_not_rated, anti_real_percent_of_positive]\n",
        "anti_pred_percentages = [anti_pred_percent_of_negative, anti_pred_percent_of_neutral, anti_pred_percent_of_not_rated, anti_pred_percent_of_positive]\n",
        "\n",
        "plt.figure(figsize=(10, 6))\n",
        "bars1 = plt.bar(index, anti_real_percentages, bar_width, label='Real', color='blue')\n",
        "bars2 = plt.bar([i + bar_width for i in index], anti_pred_percentages, bar_width, label='Predicted', color='orange')\n",
        "\n",
        "plt.xlabel('Sentiments')\n",
        "plt.ylabel('Percentage')\n",
        "plt.title('Comparison of Real vs Predicted Sentiments in Anti-Brexit')\n",
        "plt.xticks([i + bar_width / 2 for i in index], anti_real_sentiments)\n",
        "plt.legend()\n",
        "\n",
        "# Adding labels to each bar\n",
        "for bars in [bars1, bars2]:\n",
        "    for bar in bars:\n",
        "        plt.text(bar.get_x() + bar.get_width() / 2, bar.get_height() + 1,\n",
        "                 f'{bar.get_height():.2f}%', ha='center', va='bottom')\n",
        "\n",
        "plt.tight_layout()\n",
        "plt.show()\n"
      ],
      "metadata": {
        "id": "vkGVTrOHNSkg"
      },
      "execution_count": null,
      "outputs": []
    },
    {
      "cell_type": "markdown",
      "source": [
        "#Explainability Techniques"
      ],
      "metadata": {
        "id": "bhWq8xq5OHvh"
      }
    },
    {
      "cell_type": "markdown",
      "source": [
        "###LIME"
      ],
      "metadata": {
        "id": "VFtJbJXOOSEu"
      }
    },
    {
      "cell_type": "code",
      "source": [
        "# make pipeline in order to reverse vectorized data\n",
        "model = make_pipeline(CountVectorizer(), LogisticRegression(C=1, solver='lbfgs', max_iter=1000))\n",
        "model.fit(X_train, y_train)"
      ],
      "metadata": {
        "id": "PpS5hC7IOZBV"
      },
      "execution_count": null,
      "outputs": []
    },
    {
      "cell_type": "code",
      "source": [
        "# initialize explainer\n",
        "explainer = LimeTextExplainer(class_names=['Negative', 'Neutral', 'Not Rated', 'Positive'])"
      ],
      "metadata": {
        "id": "SuU58e9pOeSC"
      },
      "execution_count": null,
      "outputs": []
    },
    {
      "cell_type": "code",
      "source": [
        "#reset the index, so it starts from 0\n",
        "X_test.reset_index(drop=True, inplace=True)\n",
        "\n",
        "#set index and predict probabilities and explain why\n",
        "idx = 1\n",
        "exp = explainer.explain_instance(X_test[idx], model.predict_proba, num_features=6)\n",
        "exp.show_in_notebook()"
      ],
      "metadata": {
        "id": "rvA0CZBYOfza"
      },
      "execution_count": null,
      "outputs": []
    },
    {
      "cell_type": "code",
      "source": [
        "#Random Selection of indices\n",
        "\n",
        "# Define number of instances\n",
        "num_to_select = 10\n",
        "\n",
        "# Generate random indices\n",
        "random_indices = np.random.choice(X_test.shape[0], num_to_select, replace=False)\n",
        "\n",
        "# Iterate over each randomly selected index\n",
        "for idx in random_indices:\n",
        "    # Get the instance to explain\n",
        "    instance_to_explain = X_test.iloc[[idx]]  # double brackets bc we want to keep the DataFrame structure\n",
        "\n",
        "    # Get the model's prediction for this instance. This returns probabilities for each class.\n",
        "    model_prediction = model.predict_proba(instance_to_explain)[0]\n",
        "\n",
        "    # Get the index of the highest probability (which is the predicted class)\n",
        "    predicted_class_index = model_prediction.argmax()\n",
        "\n",
        "    # Explain the instance for the predicted class\n",
        "    exp = explainer.explain_instance(instance_to_explain.iloc[0], model.predict_proba, num_features=6, labels=[predicted_class_index])\n",
        "    exp.show_in_notebook()"
      ],
      "metadata": {
        "id": "PHtPeA2dOiXY"
      },
      "execution_count": null,
      "outputs": []
    },
    {
      "cell_type": "markdown",
      "source": [
        "##SHAP"
      ],
      "metadata": {
        "id": "tBxHCkmnXo1q"
      }
    },
    {
      "cell_type": "code",
      "source": [
        "#create Shap Explainer with reduced number of samples\n",
        "# experiment with trade-off between computational time and accuracy --> tried with 1000 (too much for my tiny laptop xD), 100\n",
        "num_background_samples = 100\n",
        "explainer = shap.KernelExplainer(log_reg_count.predict_proba, shap.sample(count_train, num_background_samples))"
      ],
      "metadata": {
        "id": "679nXvBuXrt5"
      },
      "execution_count": null,
      "outputs": []
    },
    {
      "cell_type": "code",
      "source": [
        "# Specify the number of instances to explain (adjust as needed)\n",
        "num_instances_to_explain = 5\n",
        "\n",
        "# Randomly select indices for the subset of instances (random 100 are chosen of the whole test set)\n",
        "random_indices = np.random.choice(count_test.shape[0], num_instances_to_explain, replace=False)\n",
        "\n",
        "# Generate SHAP values for the randomly selected instances\n",
        "shap_values_subset = explainer.shap_values(count_test[random_indices])"
      ],
      "metadata": {
        "id": "k4muOHi2g9jT"
      },
      "execution_count": null,
      "outputs": []
    },
    {
      "cell_type": "code",
      "source": [
        "# Create summary plot for overall feature importance\n",
        "shap.summary_plot(shap_values_subset, count_test[random_indices], feature_names=count_vectorizer.get_feature_names_out())"
      ],
      "metadata": {
        "id": "Y3JMuPxJjW_J"
      },
      "execution_count": null,
      "outputs": []
    },
    {
      "cell_type": "code",
      "source": [
        "index = 0\n",
        "count_test_instance = count_test[random_indices[index]]\n",
        "\n",
        "# Force plot to explain the prediction for a specific instance\n",
        "shap.force_plot(explainer.expected_value[1], shap_values_subset[1][index], count_test_instance, feature_names=count_vectorizer.get_feature_names_out())"
      ],
      "metadata": {
        "id": "IZh7c-w1jb00"
      },
      "execution_count": null,
      "outputs": []
    }
  ]
}