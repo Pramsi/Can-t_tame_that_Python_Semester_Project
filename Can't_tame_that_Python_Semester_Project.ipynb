{
  "nbformat": 4,
  "nbformat_minor": 0,
  "metadata": {
    "colab": {
      "provenance": [],
      "toc_visible": true,
      "include_colab_link": true
    },
    "kernelspec": {
      "name": "python3",
      "display_name": "Python 3"
    },
    "language_info": {
      "name": "python"
    }
  },
  "cells": [
    {
      "cell_type": "markdown",
      "metadata": {
        "id": "view-in-github",
        "colab_type": "text"
      },
      "source": [
        "<a href=\"https://colab.research.google.com/github/Pramsi/Can-t_tame_that_Python_Semester_Project/blob/manuel/Can't_tame_that_Python_Semester_Project.ipynb\" target=\"_parent\"><img src=\"https://colab.research.google.com/assets/colab-badge.svg\" alt=\"Open In Colab\"/></a>"
      ]
    },
    {
      "cell_type": "markdown",
      "source": [
        "#Imports"
      ],
      "metadata": {
        "id": "JfslTEBYzR_Y"
      }
    },
    {
      "cell_type": "code",
      "source": [
        "#for data manipulation\n",
        "import numpy as np\n",
        "import pandas as pd\n",
        "\n",
        "#for data visualization\n",
        "import matplotlib.pyplot as plt\n",
        "import seaborn as sns\n",
        "\n",
        "#Other tooling\n",
        "import os\n",
        "\n",
        "#NLP\n",
        "import nltk\n",
        "nltk.download('stopwords')\n",
        "nltk.download('punkt')\n",
        "from nltk.corpus import stopwords\n",
        "from nltk.tokenize import word_tokenize\n",
        "import re\n",
        "!pip install --upgrade emoji\n",
        "import emoji\n",
        "from sklearn.feature_extraction.text import CountVectorizer\n",
        "from sklearn.feature_extraction.text import TfidfVectorizer\n",
        "\n",
        "#Machine Learning\n",
        "from sklearn.model_selection import train_test_split\n",
        "from sklearn.model_selection import GridSearchCV\n",
        "from sklearn.svm import SVC\n",
        "from sklearn.linear_model import LinearRegression\n",
        "from sklearn.linear_model import LogisticRegression\n",
        "from sklearn.ensemble import RandomForestClassifier\n",
        "from sklearn.naive_bayes import MultinomialNB\n",
        "from sklearn.preprocessing import LabelEncoder\n",
        "from sklearn.metrics import classification_report, confusion_matrix\n",
        "from sklearn.metrics import accuracy_score, precision_score, recall_score, f1_score"
      ],
      "metadata": {
        "id": "vc3bgf0j7bvu",
        "colab": {
          "base_uri": "https://localhost:8080/"
        },
        "outputId": "dd412898-e861-4ce1-df93-45241f1b443c"
      },
      "execution_count": null,
      "outputs": [
        {
          "output_type": "stream",
          "name": "stderr",
          "text": [
            "[nltk_data] Downloading package stopwords to /root/nltk_data...\n",
            "[nltk_data]   Unzipping corpora/stopwords.zip.\n",
            "[nltk_data] Downloading package punkt to /root/nltk_data...\n",
            "[nltk_data]   Unzipping tokenizers/punkt.zip.\n"
          ]
        },
        {
          "output_type": "stream",
          "name": "stdout",
          "text": [
            "Collecting emoji\n",
            "  Downloading emoji-2.9.0-py2.py3-none-any.whl (397 kB)\n",
            "\u001b[?25l     \u001b[90m━━━━━━━━━━━━━━━━━━━━━━━━━━━━━━━━━━━━━━━━\u001b[0m \u001b[32m0.0/397.5 kB\u001b[0m \u001b[31m?\u001b[0m eta \u001b[36m-:--:--\u001b[0m\r\u001b[2K     \u001b[91m━━━━━━━━━━━\u001b[0m\u001b[90m╺\u001b[0m\u001b[90m━━━━━━━━━━━━━━━━━━━━━━━━━━━━\u001b[0m \u001b[32m112.6/397.5 kB\u001b[0m \u001b[31m3.1 MB/s\u001b[0m eta \u001b[36m0:00:01\u001b[0m\r\u001b[2K     \u001b[90m━━━━━━━━━━━━━━━━━━━━━━━━━━━━━━━━━━━━━━━━\u001b[0m \u001b[32m397.5/397.5 kB\u001b[0m \u001b[31m6.2 MB/s\u001b[0m eta \u001b[36m0:00:00\u001b[0m\n",
            "\u001b[?25hInstalling collected packages: emoji\n",
            "Successfully installed emoji-2.9.0\n"
          ]
        }
      ]
    },
    {
      "cell_type": "markdown",
      "source": [
        "#Import Datafiles"
      ],
      "metadata": {
        "id": "j-_VIWYJQ5Eh"
      }
    },
    {
      "cell_type": "code",
      "source": [
        "# create kaggle directory and add kaggle.json\n",
        "from google.colab import files\n",
        "files.upload()\n",
        "\n",
        "! mkdir -p ~/.kaggle #create kaggle directory\n",
        "! mv kaggle.json ~/.kaggle/ #move json file there\n",
        "! chmod 600 ~/.kaggle/kaggle.json #change permission of the file"
      ],
      "metadata": {
        "colab": {
          "base_uri": "https://localhost:8080/",
          "height": 74
        },
        "id": "c9EF35qmQ8Hp",
        "outputId": "c727bb60-cc1b-4111-fa22-9f63d12ff434"
      },
      "execution_count": null,
      "outputs": [
        {
          "output_type": "display_data",
          "data": {
            "text/plain": [
              "<IPython.core.display.HTML object>"
            ],
            "text/html": [
              "\n",
              "     <input type=\"file\" id=\"files-b57795b7-b00f-4557-984b-d125be13203b\" name=\"files[]\" multiple disabled\n",
              "        style=\"border:none\" />\n",
              "     <output id=\"result-b57795b7-b00f-4557-984b-d125be13203b\">\n",
              "      Upload widget is only available when the cell has been executed in the\n",
              "      current browser session. Please rerun this cell to enable.\n",
              "      </output>\n",
              "      <script>// Copyright 2017 Google LLC\n",
              "//\n",
              "// Licensed under the Apache License, Version 2.0 (the \"License\");\n",
              "// you may not use this file except in compliance with the License.\n",
              "// You may obtain a copy of the License at\n",
              "//\n",
              "//      http://www.apache.org/licenses/LICENSE-2.0\n",
              "//\n",
              "// Unless required by applicable law or agreed to in writing, software\n",
              "// distributed under the License is distributed on an \"AS IS\" BASIS,\n",
              "// WITHOUT WARRANTIES OR CONDITIONS OF ANY KIND, either express or implied.\n",
              "// See the License for the specific language governing permissions and\n",
              "// limitations under the License.\n",
              "\n",
              "/**\n",
              " * @fileoverview Helpers for google.colab Python module.\n",
              " */\n",
              "(function(scope) {\n",
              "function span(text, styleAttributes = {}) {\n",
              "  const element = document.createElement('span');\n",
              "  element.textContent = text;\n",
              "  for (const key of Object.keys(styleAttributes)) {\n",
              "    element.style[key] = styleAttributes[key];\n",
              "  }\n",
              "  return element;\n",
              "}\n",
              "\n",
              "// Max number of bytes which will be uploaded at a time.\n",
              "const MAX_PAYLOAD_SIZE = 100 * 1024;\n",
              "\n",
              "function _uploadFiles(inputId, outputId) {\n",
              "  const steps = uploadFilesStep(inputId, outputId);\n",
              "  const outputElement = document.getElementById(outputId);\n",
              "  // Cache steps on the outputElement to make it available for the next call\n",
              "  // to uploadFilesContinue from Python.\n",
              "  outputElement.steps = steps;\n",
              "\n",
              "  return _uploadFilesContinue(outputId);\n",
              "}\n",
              "\n",
              "// This is roughly an async generator (not supported in the browser yet),\n",
              "// where there are multiple asynchronous steps and the Python side is going\n",
              "// to poll for completion of each step.\n",
              "// This uses a Promise to block the python side on completion of each step,\n",
              "// then passes the result of the previous step as the input to the next step.\n",
              "function _uploadFilesContinue(outputId) {\n",
              "  const outputElement = document.getElementById(outputId);\n",
              "  const steps = outputElement.steps;\n",
              "\n",
              "  const next = steps.next(outputElement.lastPromiseValue);\n",
              "  return Promise.resolve(next.value.promise).then((value) => {\n",
              "    // Cache the last promise value to make it available to the next\n",
              "    // step of the generator.\n",
              "    outputElement.lastPromiseValue = value;\n",
              "    return next.value.response;\n",
              "  });\n",
              "}\n",
              "\n",
              "/**\n",
              " * Generator function which is called between each async step of the upload\n",
              " * process.\n",
              " * @param {string} inputId Element ID of the input file picker element.\n",
              " * @param {string} outputId Element ID of the output display.\n",
              " * @return {!Iterable<!Object>} Iterable of next steps.\n",
              " */\n",
              "function* uploadFilesStep(inputId, outputId) {\n",
              "  const inputElement = document.getElementById(inputId);\n",
              "  inputElement.disabled = false;\n",
              "\n",
              "  const outputElement = document.getElementById(outputId);\n",
              "  outputElement.innerHTML = '';\n",
              "\n",
              "  const pickedPromise = new Promise((resolve) => {\n",
              "    inputElement.addEventListener('change', (e) => {\n",
              "      resolve(e.target.files);\n",
              "    });\n",
              "  });\n",
              "\n",
              "  const cancel = document.createElement('button');\n",
              "  inputElement.parentElement.appendChild(cancel);\n",
              "  cancel.textContent = 'Cancel upload';\n",
              "  const cancelPromise = new Promise((resolve) => {\n",
              "    cancel.onclick = () => {\n",
              "      resolve(null);\n",
              "    };\n",
              "  });\n",
              "\n",
              "  // Wait for the user to pick the files.\n",
              "  const files = yield {\n",
              "    promise: Promise.race([pickedPromise, cancelPromise]),\n",
              "    response: {\n",
              "      action: 'starting',\n",
              "    }\n",
              "  };\n",
              "\n",
              "  cancel.remove();\n",
              "\n",
              "  // Disable the input element since further picks are not allowed.\n",
              "  inputElement.disabled = true;\n",
              "\n",
              "  if (!files) {\n",
              "    return {\n",
              "      response: {\n",
              "        action: 'complete',\n",
              "      }\n",
              "    };\n",
              "  }\n",
              "\n",
              "  for (const file of files) {\n",
              "    const li = document.createElement('li');\n",
              "    li.append(span(file.name, {fontWeight: 'bold'}));\n",
              "    li.append(span(\n",
              "        `(${file.type || 'n/a'}) - ${file.size} bytes, ` +\n",
              "        `last modified: ${\n",
              "            file.lastModifiedDate ? file.lastModifiedDate.toLocaleDateString() :\n",
              "                                    'n/a'} - `));\n",
              "    const percent = span('0% done');\n",
              "    li.appendChild(percent);\n",
              "\n",
              "    outputElement.appendChild(li);\n",
              "\n",
              "    const fileDataPromise = new Promise((resolve) => {\n",
              "      const reader = new FileReader();\n",
              "      reader.onload = (e) => {\n",
              "        resolve(e.target.result);\n",
              "      };\n",
              "      reader.readAsArrayBuffer(file);\n",
              "    });\n",
              "    // Wait for the data to be ready.\n",
              "    let fileData = yield {\n",
              "      promise: fileDataPromise,\n",
              "      response: {\n",
              "        action: 'continue',\n",
              "      }\n",
              "    };\n",
              "\n",
              "    // Use a chunked sending to avoid message size limits. See b/62115660.\n",
              "    let position = 0;\n",
              "    do {\n",
              "      const length = Math.min(fileData.byteLength - position, MAX_PAYLOAD_SIZE);\n",
              "      const chunk = new Uint8Array(fileData, position, length);\n",
              "      position += length;\n",
              "\n",
              "      const base64 = btoa(String.fromCharCode.apply(null, chunk));\n",
              "      yield {\n",
              "        response: {\n",
              "          action: 'append',\n",
              "          file: file.name,\n",
              "          data: base64,\n",
              "        },\n",
              "      };\n",
              "\n",
              "      let percentDone = fileData.byteLength === 0 ?\n",
              "          100 :\n",
              "          Math.round((position / fileData.byteLength) * 100);\n",
              "      percent.textContent = `${percentDone}% done`;\n",
              "\n",
              "    } while (position < fileData.byteLength);\n",
              "  }\n",
              "\n",
              "  // All done.\n",
              "  yield {\n",
              "    response: {\n",
              "      action: 'complete',\n",
              "    }\n",
              "  };\n",
              "}\n",
              "\n",
              "scope.google = scope.google || {};\n",
              "scope.google.colab = scope.google.colab || {};\n",
              "scope.google.colab._files = {\n",
              "  _uploadFiles,\n",
              "  _uploadFilesContinue,\n",
              "};\n",
              "})(self);\n",
              "</script> "
            ]
          },
          "metadata": {}
        },
        {
          "output_type": "stream",
          "name": "stdout",
          "text": [
            "Saving kaggle.json to kaggle.json\n"
          ]
        }
      ]
    },
    {
      "cell_type": "code",
      "source": [
        "#create gitignore and add kaggle\n",
        "%%writefile .gitignore\n",
        ".kaggle/"
      ],
      "metadata": {
        "colab": {
          "base_uri": "https://localhost:8080/"
        },
        "id": "XuqwuyhOkQAL",
        "outputId": "c225b295-2f45-4f6d-d787-7fce577069ed"
      },
      "execution_count": null,
      "outputs": [
        {
          "output_type": "stream",
          "name": "stdout",
          "text": [
            "Writing .gitignore\n"
          ]
        }
      ]
    },
    {
      "cell_type": "code",
      "source": [
        "#upload brexit dataset\n",
        "!kaggle datasets download -d visalakshiiyer/twitter-data-brexit\n",
        "! mkdir brexitTweets #create folder with files\n",
        "! unzip twitter-data-brexit.zip -d brexitTweets #unzip data and save in folder"
      ],
      "metadata": {
        "colab": {
          "base_uri": "https://localhost:8080/"
        },
        "id": "8fUep9bVSLwQ",
        "outputId": "089c8b1d-9b52-47cb-be6f-dbeb1b27ee4c"
      },
      "execution_count": null,
      "outputs": [
        {
          "output_type": "stream",
          "name": "stdout",
          "text": [
            "Downloading twitter-data-brexit.zip to /content\n",
            " 99% 70.0M/70.9M [00:04<00:00, 17.4MB/s]\n",
            "100% 70.9M/70.9M [00:04<00:00, 16.0MB/s]\n",
            "Archive:  twitter-data-brexit.zip\n",
            "  inflating: brexitTweets/TweetDataset_AntiBrexit_Jan-Mar2022.csv  \n",
            "  inflating: brexitTweets/TweetDataset_ProBrexit_Jan-Mar2022.csv  \n"
          ]
        }
      ]
    },
    {
      "cell_type": "code",
      "source": [
        "!ls -a\n"
      ],
      "metadata": {
        "id": "GyL49wx4Z4G6",
        "outputId": "89ab8ec0-b670-4c99-d4a6-a75678b615bd",
        "colab": {
          "base_uri": "https://localhost:8080/"
        }
      },
      "execution_count": null,
      "outputs": [
        {
          "output_type": "stream",
          "name": "stdout",
          "text": [
            " .    brexitTweets   .gitignore         sample_data\n",
            " ..   .config\t    'kaggle (1).json'   twitter-data-brexit.zip\n"
          ]
        }
      ]
    },
    {
      "cell_type": "code",
      "source": [
        "#Load Datasets\n",
        "dfAnti = pd.read_csv(\"brexitTweets/TweetDataset_AntiBrexit_Jan-Mar2022.csv\")\n",
        "dfPro = pd.read_csv(\"brexitTweets/TweetDataset_ProBrexit_Jan-Mar2022.csv\")"
      ],
      "metadata": {
        "id": "knFBOlimkmhU"
      },
      "execution_count": null,
      "outputs": []
    },
    {
      "cell_type": "code",
      "source": [
        "#Check Data\n",
        "dfAnti.head()"
      ],
      "metadata": {
        "id": "STMmIf3CmyxR",
        "colab": {
          "base_uri": "https://localhost:8080/",
          "height": 602
        },
        "outputId": "0d00ce11-feee-4701-f43d-2c75ac423394"
      },
      "execution_count": null,
      "outputs": [
        {
          "output_type": "execute_result",
          "data": {
            "text/plain": [
              "   Unnamed: 0                 Date  Headline  \\\n",
              "0           0  09-Jan-2022 11:58PM       NaN   \n",
              "1           1  09-Jan-2022 11:58PM       NaN   \n",
              "2           2  09-Jan-2022 11:58PM       NaN   \n",
              "3           3  09-Jan-2022 11:58PM       NaN   \n",
              "4           4  09-Jan-2022 11:57PM       NaN   \n",
              "\n",
              "                                                 URL  Opening Text  \\\n",
              "0  https://twitter.com/nickynicky77551/statuses/1...           NaN   \n",
              "1  https://twitter.com/lines12345/statuses/148032...           NaN   \n",
              "2  https://twitter.com/millymoo97/statuses/148032...           NaN   \n",
              "3  https://twitter.com/ValueSurplus/statuses/1480...           NaN   \n",
              "4  https://twitter.com/Jackcdawes/statuses/148032...           NaN   \n",
              "\n",
              "                                        Hit Sentence   Source  \\\n",
              "0  RT @cnapan: #JohnsonOut is now running at 218,...  Twitter   \n",
              "1  RT @Femi_Sorry: My point: Any Labour leader wh...  Twitter   \n",
              "2  RT @andy_murray: QT @Nigel_Farage: Please reco...  Twitter   \n",
              "3  RT @mikegalsworthy: We’re the first country in...  Twitter   \n",
              "4  RT @StevePeers: QT @andy_murray: Game, set and...  Twitter   \n",
              "\n",
              "         Influencer         Country  Subregion  ...  \\\n",
              "0  @nickynicky77551         Unknown        NaN  ...   \n",
              "1       @lines12345         Unknown        NaN  ...   \n",
              "2       @millymoo97         Unknown        NaN  ...   \n",
              "3     @valuesurplus  United Kingdom        NaN  ...   \n",
              "4       @jackcdawes  United Kingdom        NaN  ...   \n",
              "\n",
              "                             Twitter Screen Name  \\\n",
              "0                                nicky@nicky7755   \n",
              "1                                          Helen   \n",
              "2                                 seonaid mcgill   \n",
              "3  Rightwing politics is a social virus #BLM 🇵🇸🌈   \n",
              "4   Jack Dawes #FBPEGlobal #JohnsonOut #RejoinEU   \n",
              "\n",
              "                      User Profile Url  \\\n",
              "0  https://twitter.com/nickynicky77551   \n",
              "1       https://twitter.com/lines12345   \n",
              "2       https://twitter.com/millymoo97   \n",
              "3     https://twitter.com/ValueSurplus   \n",
              "4       https://twitter.com/Jackcdawes   \n",
              "\n",
              "                                         Twitter Bio  Twitter Followers  \\\n",
              "0  Ardent Remainer; Rejoiner now, Support NHS 💙 #...             1697.0   \n",
              "1                               Tory hating Remainer               11.0   \n",
              "2  Scottish, European, anti-Brexit, pro-EU, freel...             2129.0   \n",
              "3  Classical Cultural Marxist.\\nAnti Brexit estab...             2420.0   \n",
              "4  Lover of crime & horror fiction, history, & Me...            18304.0   \n",
              "\n",
              "   Twitter Following  Alternate Date Format      Time    State    City  \\\n",
              "0             2576.0            Jan 9, 2022  11:58 PM      NaN     NaN   \n",
              "1               92.0            Jan 9, 2022  11:58 PM      NaN     NaN   \n",
              "2             3880.0            Jan 9, 2022  11:58 PM      NaN     NaN   \n",
              "3             4952.0            Jan 9, 2022  11:58 PM      NaN     NaN   \n",
              "4            19889.0            Jan 9, 2022  11:57 PM  England  London   \n",
              "\n",
              "   Document Tags  \n",
              "0            NaN  \n",
              "1            NaN  \n",
              "2            NaN  \n",
              "3            NaN  \n",
              "4            NaN  \n",
              "\n",
              "[5 rows x 38 columns]"
            ],
            "text/html": [
              "\n",
              "  <div id=\"df-f02f1bf5-10ff-4676-8c90-ed29a51269d1\" class=\"colab-df-container\">\n",
              "    <div>\n",
              "<style scoped>\n",
              "    .dataframe tbody tr th:only-of-type {\n",
              "        vertical-align: middle;\n",
              "    }\n",
              "\n",
              "    .dataframe tbody tr th {\n",
              "        vertical-align: top;\n",
              "    }\n",
              "\n",
              "    .dataframe thead th {\n",
              "        text-align: right;\n",
              "    }\n",
              "</style>\n",
              "<table border=\"1\" class=\"dataframe\">\n",
              "  <thead>\n",
              "    <tr style=\"text-align: right;\">\n",
              "      <th></th>\n",
              "      <th>Unnamed: 0</th>\n",
              "      <th>Date</th>\n",
              "      <th>Headline</th>\n",
              "      <th>URL</th>\n",
              "      <th>Opening Text</th>\n",
              "      <th>Hit Sentence</th>\n",
              "      <th>Source</th>\n",
              "      <th>Influencer</th>\n",
              "      <th>Country</th>\n",
              "      <th>Subregion</th>\n",
              "      <th>...</th>\n",
              "      <th>Twitter Screen Name</th>\n",
              "      <th>User Profile Url</th>\n",
              "      <th>Twitter Bio</th>\n",
              "      <th>Twitter Followers</th>\n",
              "      <th>Twitter Following</th>\n",
              "      <th>Alternate Date Format</th>\n",
              "      <th>Time</th>\n",
              "      <th>State</th>\n",
              "      <th>City</th>\n",
              "      <th>Document Tags</th>\n",
              "    </tr>\n",
              "  </thead>\n",
              "  <tbody>\n",
              "    <tr>\n",
              "      <th>0</th>\n",
              "      <td>0</td>\n",
              "      <td>09-Jan-2022 11:58PM</td>\n",
              "      <td>NaN</td>\n",
              "      <td>https://twitter.com/nickynicky77551/statuses/1...</td>\n",
              "      <td>NaN</td>\n",
              "      <td>RT @cnapan: #JohnsonOut is now running at 218,...</td>\n",
              "      <td>Twitter</td>\n",
              "      <td>@nickynicky77551</td>\n",
              "      <td>Unknown</td>\n",
              "      <td>NaN</td>\n",
              "      <td>...</td>\n",
              "      <td>nicky@nicky7755</td>\n",
              "      <td>https://twitter.com/nickynicky77551</td>\n",
              "      <td>Ardent Remainer; Rejoiner now, Support NHS 💙 #...</td>\n",
              "      <td>1697.0</td>\n",
              "      <td>2576.0</td>\n",
              "      <td>Jan 9, 2022</td>\n",
              "      <td>11:58 PM</td>\n",
              "      <td>NaN</td>\n",
              "      <td>NaN</td>\n",
              "      <td>NaN</td>\n",
              "    </tr>\n",
              "    <tr>\n",
              "      <th>1</th>\n",
              "      <td>1</td>\n",
              "      <td>09-Jan-2022 11:58PM</td>\n",
              "      <td>NaN</td>\n",
              "      <td>https://twitter.com/lines12345/statuses/148032...</td>\n",
              "      <td>NaN</td>\n",
              "      <td>RT @Femi_Sorry: My point: Any Labour leader wh...</td>\n",
              "      <td>Twitter</td>\n",
              "      <td>@lines12345</td>\n",
              "      <td>Unknown</td>\n",
              "      <td>NaN</td>\n",
              "      <td>...</td>\n",
              "      <td>Helen</td>\n",
              "      <td>https://twitter.com/lines12345</td>\n",
              "      <td>Tory hating Remainer</td>\n",
              "      <td>11.0</td>\n",
              "      <td>92.0</td>\n",
              "      <td>Jan 9, 2022</td>\n",
              "      <td>11:58 PM</td>\n",
              "      <td>NaN</td>\n",
              "      <td>NaN</td>\n",
              "      <td>NaN</td>\n",
              "    </tr>\n",
              "    <tr>\n",
              "      <th>2</th>\n",
              "      <td>2</td>\n",
              "      <td>09-Jan-2022 11:58PM</td>\n",
              "      <td>NaN</td>\n",
              "      <td>https://twitter.com/millymoo97/statuses/148032...</td>\n",
              "      <td>NaN</td>\n",
              "      <td>RT @andy_murray: QT @Nigel_Farage: Please reco...</td>\n",
              "      <td>Twitter</td>\n",
              "      <td>@millymoo97</td>\n",
              "      <td>Unknown</td>\n",
              "      <td>NaN</td>\n",
              "      <td>...</td>\n",
              "      <td>seonaid mcgill</td>\n",
              "      <td>https://twitter.com/millymoo97</td>\n",
              "      <td>Scottish, European, anti-Brexit, pro-EU, freel...</td>\n",
              "      <td>2129.0</td>\n",
              "      <td>3880.0</td>\n",
              "      <td>Jan 9, 2022</td>\n",
              "      <td>11:58 PM</td>\n",
              "      <td>NaN</td>\n",
              "      <td>NaN</td>\n",
              "      <td>NaN</td>\n",
              "    </tr>\n",
              "    <tr>\n",
              "      <th>3</th>\n",
              "      <td>3</td>\n",
              "      <td>09-Jan-2022 11:58PM</td>\n",
              "      <td>NaN</td>\n",
              "      <td>https://twitter.com/ValueSurplus/statuses/1480...</td>\n",
              "      <td>NaN</td>\n",
              "      <td>RT @mikegalsworthy: We’re the first country in...</td>\n",
              "      <td>Twitter</td>\n",
              "      <td>@valuesurplus</td>\n",
              "      <td>United Kingdom</td>\n",
              "      <td>NaN</td>\n",
              "      <td>...</td>\n",
              "      <td>Rightwing politics is a social virus #BLM 🇵🇸🌈</td>\n",
              "      <td>https://twitter.com/ValueSurplus</td>\n",
              "      <td>Classical Cultural Marxist.\\nAnti Brexit estab...</td>\n",
              "      <td>2420.0</td>\n",
              "      <td>4952.0</td>\n",
              "      <td>Jan 9, 2022</td>\n",
              "      <td>11:58 PM</td>\n",
              "      <td>NaN</td>\n",
              "      <td>NaN</td>\n",
              "      <td>NaN</td>\n",
              "    </tr>\n",
              "    <tr>\n",
              "      <th>4</th>\n",
              "      <td>4</td>\n",
              "      <td>09-Jan-2022 11:57PM</td>\n",
              "      <td>NaN</td>\n",
              "      <td>https://twitter.com/Jackcdawes/statuses/148032...</td>\n",
              "      <td>NaN</td>\n",
              "      <td>RT @StevePeers: QT @andy_murray: Game, set and...</td>\n",
              "      <td>Twitter</td>\n",
              "      <td>@jackcdawes</td>\n",
              "      <td>United Kingdom</td>\n",
              "      <td>NaN</td>\n",
              "      <td>...</td>\n",
              "      <td>Jack Dawes #FBPEGlobal #JohnsonOut #RejoinEU</td>\n",
              "      <td>https://twitter.com/Jackcdawes</td>\n",
              "      <td>Lover of crime &amp; horror fiction, history, &amp; Me...</td>\n",
              "      <td>18304.0</td>\n",
              "      <td>19889.0</td>\n",
              "      <td>Jan 9, 2022</td>\n",
              "      <td>11:57 PM</td>\n",
              "      <td>England</td>\n",
              "      <td>London</td>\n",
              "      <td>NaN</td>\n",
              "    </tr>\n",
              "  </tbody>\n",
              "</table>\n",
              "<p>5 rows × 38 columns</p>\n",
              "</div>\n",
              "    <div class=\"colab-df-buttons\">\n",
              "\n",
              "  <div class=\"colab-df-container\">\n",
              "    <button class=\"colab-df-convert\" onclick=\"convertToInteractive('df-f02f1bf5-10ff-4676-8c90-ed29a51269d1')\"\n",
              "            title=\"Convert this dataframe to an interactive table.\"\n",
              "            style=\"display:none;\">\n",
              "\n",
              "  <svg xmlns=\"http://www.w3.org/2000/svg\" height=\"24px\" viewBox=\"0 -960 960 960\">\n",
              "    <path d=\"M120-120v-720h720v720H120Zm60-500h600v-160H180v160Zm220 220h160v-160H400v160Zm0 220h160v-160H400v160ZM180-400h160v-160H180v160Zm440 0h160v-160H620v160ZM180-180h160v-160H180v160Zm440 0h160v-160H620v160Z\"/>\n",
              "  </svg>\n",
              "    </button>\n",
              "\n",
              "  <style>\n",
              "    .colab-df-container {\n",
              "      display:flex;\n",
              "      gap: 12px;\n",
              "    }\n",
              "\n",
              "    .colab-df-convert {\n",
              "      background-color: #E8F0FE;\n",
              "      border: none;\n",
              "      border-radius: 50%;\n",
              "      cursor: pointer;\n",
              "      display: none;\n",
              "      fill: #1967D2;\n",
              "      height: 32px;\n",
              "      padding: 0 0 0 0;\n",
              "      width: 32px;\n",
              "    }\n",
              "\n",
              "    .colab-df-convert:hover {\n",
              "      background-color: #E2EBFA;\n",
              "      box-shadow: 0px 1px 2px rgba(60, 64, 67, 0.3), 0px 1px 3px 1px rgba(60, 64, 67, 0.15);\n",
              "      fill: #174EA6;\n",
              "    }\n",
              "\n",
              "    .colab-df-buttons div {\n",
              "      margin-bottom: 4px;\n",
              "    }\n",
              "\n",
              "    [theme=dark] .colab-df-convert {\n",
              "      background-color: #3B4455;\n",
              "      fill: #D2E3FC;\n",
              "    }\n",
              "\n",
              "    [theme=dark] .colab-df-convert:hover {\n",
              "      background-color: #434B5C;\n",
              "      box-shadow: 0px 1px 3px 1px rgba(0, 0, 0, 0.15);\n",
              "      filter: drop-shadow(0px 1px 2px rgba(0, 0, 0, 0.3));\n",
              "      fill: #FFFFFF;\n",
              "    }\n",
              "  </style>\n",
              "\n",
              "    <script>\n",
              "      const buttonEl =\n",
              "        document.querySelector('#df-f02f1bf5-10ff-4676-8c90-ed29a51269d1 button.colab-df-convert');\n",
              "      buttonEl.style.display =\n",
              "        google.colab.kernel.accessAllowed ? 'block' : 'none';\n",
              "\n",
              "      async function convertToInteractive(key) {\n",
              "        const element = document.querySelector('#df-f02f1bf5-10ff-4676-8c90-ed29a51269d1');\n",
              "        const dataTable =\n",
              "          await google.colab.kernel.invokeFunction('convertToInteractive',\n",
              "                                                    [key], {});\n",
              "        if (!dataTable) return;\n",
              "\n",
              "        const docLinkHtml = 'Like what you see? Visit the ' +\n",
              "          '<a target=\"_blank\" href=https://colab.research.google.com/notebooks/data_table.ipynb>data table notebook</a>'\n",
              "          + ' to learn more about interactive tables.';\n",
              "        element.innerHTML = '';\n",
              "        dataTable['output_type'] = 'display_data';\n",
              "        await google.colab.output.renderOutput(dataTable, element);\n",
              "        const docLink = document.createElement('div');\n",
              "        docLink.innerHTML = docLinkHtml;\n",
              "        element.appendChild(docLink);\n",
              "      }\n",
              "    </script>\n",
              "  </div>\n",
              "\n",
              "\n",
              "<div id=\"df-820239f5-2577-4bce-9746-c8f7504a00e5\">\n",
              "  <button class=\"colab-df-quickchart\" onclick=\"quickchart('df-820239f5-2577-4bce-9746-c8f7504a00e5')\"\n",
              "            title=\"Suggest charts\"\n",
              "            style=\"display:none;\">\n",
              "\n",
              "<svg xmlns=\"http://www.w3.org/2000/svg\" height=\"24px\"viewBox=\"0 0 24 24\"\n",
              "     width=\"24px\">\n",
              "    <g>\n",
              "        <path d=\"M19 3H5c-1.1 0-2 .9-2 2v14c0 1.1.9 2 2 2h14c1.1 0 2-.9 2-2V5c0-1.1-.9-2-2-2zM9 17H7v-7h2v7zm4 0h-2V7h2v10zm4 0h-2v-4h2v4z\"/>\n",
              "    </g>\n",
              "</svg>\n",
              "  </button>\n",
              "\n",
              "<style>\n",
              "  .colab-df-quickchart {\n",
              "      --bg-color: #E8F0FE;\n",
              "      --fill-color: #1967D2;\n",
              "      --hover-bg-color: #E2EBFA;\n",
              "      --hover-fill-color: #174EA6;\n",
              "      --disabled-fill-color: #AAA;\n",
              "      --disabled-bg-color: #DDD;\n",
              "  }\n",
              "\n",
              "  [theme=dark] .colab-df-quickchart {\n",
              "      --bg-color: #3B4455;\n",
              "      --fill-color: #D2E3FC;\n",
              "      --hover-bg-color: #434B5C;\n",
              "      --hover-fill-color: #FFFFFF;\n",
              "      --disabled-bg-color: #3B4455;\n",
              "      --disabled-fill-color: #666;\n",
              "  }\n",
              "\n",
              "  .colab-df-quickchart {\n",
              "    background-color: var(--bg-color);\n",
              "    border: none;\n",
              "    border-radius: 50%;\n",
              "    cursor: pointer;\n",
              "    display: none;\n",
              "    fill: var(--fill-color);\n",
              "    height: 32px;\n",
              "    padding: 0;\n",
              "    width: 32px;\n",
              "  }\n",
              "\n",
              "  .colab-df-quickchart:hover {\n",
              "    background-color: var(--hover-bg-color);\n",
              "    box-shadow: 0 1px 2px rgba(60, 64, 67, 0.3), 0 1px 3px 1px rgba(60, 64, 67, 0.15);\n",
              "    fill: var(--button-hover-fill-color);\n",
              "  }\n",
              "\n",
              "  .colab-df-quickchart-complete:disabled,\n",
              "  .colab-df-quickchart-complete:disabled:hover {\n",
              "    background-color: var(--disabled-bg-color);\n",
              "    fill: var(--disabled-fill-color);\n",
              "    box-shadow: none;\n",
              "  }\n",
              "\n",
              "  .colab-df-spinner {\n",
              "    border: 2px solid var(--fill-color);\n",
              "    border-color: transparent;\n",
              "    border-bottom-color: var(--fill-color);\n",
              "    animation:\n",
              "      spin 1s steps(1) infinite;\n",
              "  }\n",
              "\n",
              "  @keyframes spin {\n",
              "    0% {\n",
              "      border-color: transparent;\n",
              "      border-bottom-color: var(--fill-color);\n",
              "      border-left-color: var(--fill-color);\n",
              "    }\n",
              "    20% {\n",
              "      border-color: transparent;\n",
              "      border-left-color: var(--fill-color);\n",
              "      border-top-color: var(--fill-color);\n",
              "    }\n",
              "    30% {\n",
              "      border-color: transparent;\n",
              "      border-left-color: var(--fill-color);\n",
              "      border-top-color: var(--fill-color);\n",
              "      border-right-color: var(--fill-color);\n",
              "    }\n",
              "    40% {\n",
              "      border-color: transparent;\n",
              "      border-right-color: var(--fill-color);\n",
              "      border-top-color: var(--fill-color);\n",
              "    }\n",
              "    60% {\n",
              "      border-color: transparent;\n",
              "      border-right-color: var(--fill-color);\n",
              "    }\n",
              "    80% {\n",
              "      border-color: transparent;\n",
              "      border-right-color: var(--fill-color);\n",
              "      border-bottom-color: var(--fill-color);\n",
              "    }\n",
              "    90% {\n",
              "      border-color: transparent;\n",
              "      border-bottom-color: var(--fill-color);\n",
              "    }\n",
              "  }\n",
              "</style>\n",
              "\n",
              "  <script>\n",
              "    async function quickchart(key) {\n",
              "      const quickchartButtonEl =\n",
              "        document.querySelector('#' + key + ' button');\n",
              "      quickchartButtonEl.disabled = true;  // To prevent multiple clicks.\n",
              "      quickchartButtonEl.classList.add('colab-df-spinner');\n",
              "      try {\n",
              "        const charts = await google.colab.kernel.invokeFunction(\n",
              "            'suggestCharts', [key], {});\n",
              "      } catch (error) {\n",
              "        console.error('Error during call to suggestCharts:', error);\n",
              "      }\n",
              "      quickchartButtonEl.classList.remove('colab-df-spinner');\n",
              "      quickchartButtonEl.classList.add('colab-df-quickchart-complete');\n",
              "    }\n",
              "    (() => {\n",
              "      let quickchartButtonEl =\n",
              "        document.querySelector('#df-820239f5-2577-4bce-9746-c8f7504a00e5 button');\n",
              "      quickchartButtonEl.style.display =\n",
              "        google.colab.kernel.accessAllowed ? 'block' : 'none';\n",
              "    })();\n",
              "  </script>\n",
              "</div>\n",
              "    </div>\n",
              "  </div>\n"
            ]
          },
          "metadata": {},
          "execution_count": 6
        }
      ]
    },
    {
      "cell_type": "markdown",
      "source": [
        "#Preprocessing"
      ],
      "metadata": {
        "id": "W9rOuBxjpMID"
      }
    },
    {
      "cell_type": "code",
      "source": [
        "# label pro and anti tweets and concatenate the two files\n",
        "dfAnti['Position'] = 0\n",
        "dfPro['Position'] = 1\n",
        "\n",
        "df = pd.concat([dfAnti, dfPro])\n",
        "\n",
        "#drop unwanted data\n",
        "df.drop(['Unnamed: 0', 'Date', 'Headline', 'URL', 'Opening Text', 'Source', 'Influencer', 'Country', 'Subregion', 'Language', 'Reach', 'Desktop Reach', 'Mobile Reach', 'Twitter Social Echo', 'Facebook Social Echo', 'Reddit Social Echo', 'National Viewership', 'Engagement', 'AVE', 'Key Phrases', 'Input Name', 'Keywords', 'Twitter Authority', 'Tweet Id', 'Twitter Id', 'Twitter Client', 'Twitter Screen Name', 'User Profile Url', 'Twitter Bio', 'Twitter Followers', 'Twitter Following', 'Alternate Date Format', 'Time', 'State', 'City', 'Document Tags'], axis = 1, inplace=True)\n",
        "\n",
        "#count the data\n",
        "df.Position.value_counts()"
      ],
      "metadata": {
        "id": "lN3eLR7ApSrw",
        "colab": {
          "base_uri": "https://localhost:8080/"
        },
        "outputId": "e436148e-a168-42cf-abcf-ed5c06abffaf"
      },
      "execution_count": null,
      "outputs": [
        {
          "output_type": "execute_result",
          "data": {
            "text/plain": [
              "0    210574\n",
              "1    147631\n",
              "Name: Position, dtype: int64"
            ]
          },
          "metadata": {},
          "execution_count": 7
        }
      ]
    },
    {
      "cell_type": "code",
      "source": [
        "#Clean Hit Sentence - Remove Retweets\n",
        "df_no_rt = df[df['Hit Sentence'].str.contains(\"RT @\")==False]\n",
        "df_no_qt = df_no_rt[df_no_rt['Hit Sentence'].str.contains(\"QT @\")==False]\n",
        "\n",
        "#how many tweets were retweeted and qoted?\n",
        "print(f'Amount of retweets and quote tweets in percentage:{round(100*(1-len(df_no_qt)/len(df)),1)}%')\n",
        "print(df_no_qt)"
      ],
      "metadata": {
        "id": "avo_xXqw4wG2",
        "colab": {
          "base_uri": "https://localhost:8080/"
        },
        "outputId": "d8bd080e-9086-4f52-80d4-dfd4bf93636a"
      },
      "execution_count": null,
      "outputs": [
        {
          "output_type": "stream",
          "name": "stdout",
          "text": [
            "Amount of retweets and quote tweets in percentage:78.8%\n",
            "                                             Hit Sentence Sentiment  Position\n",
            "7       @JayneMonie1 @HowardJ91352838 @davesumnersmith...   Neutral         0\n",
            "17      @MPIainDS You have made it nigh on impossible ...   Neutral         0\n",
            "21      @TheGhos72578902 @SallyAnnC3 @AndieHalihan @Ch...   Neutral         0\n",
            "36      @snb19692 FPTP - totally discredited! Not leas...  Negative         0\n",
            "39      @pauld4dog @jarviboy1974uk @LloydHardy Superma...   Neutral         0\n",
            "...                                                   ...       ...       ...\n",
            "147604  @sandieshoes We did have a fight, for years, t...   Neutral         1\n",
            "147610  @ExpoSpurs He’s just another pathetic sneering...  Negative         1\n",
            "147613  #BorisJohnsonOut inthegardenforaparty it’s not...   Neutral         1\n",
            "147626  @JamesRobvincent @7nestingwrens He was also fi...   Neutral         1\n",
            "147628  Ludicrous to suggest Boris is insulting Ukrain...  Negative         1\n",
            "\n",
            "[76098 rows x 3 columns]\n"
          ]
        }
      ]
    },
    {
      "cell_type": "code",
      "source": [
        "#How many Pro and Anti Tweets are left\n",
        "df_no_qt.Position.value_counts()"
      ],
      "metadata": {
        "id": "zMglByNwAodV",
        "colab": {
          "base_uri": "https://localhost:8080/"
        },
        "outputId": "9095e599-8275-4f70-f416-abadfc961066"
      },
      "execution_count": null,
      "outputs": [
        {
          "output_type": "execute_result",
          "data": {
            "text/plain": [
              "1    40387\n",
              "0    35711\n",
              "Name: Position, dtype: int64"
            ]
          },
          "metadata": {},
          "execution_count": 9
        }
      ]
    },
    {
      "cell_type": "code",
      "source": [
        "#Preprocess Helper Functions\n",
        "\n",
        "#to lower case\n",
        "def lowercase(tweet: str) -> str:\n",
        "  preprocessedTweet = str.lower(tweet)\n",
        "  return preprocessedTweet\n",
        "\n",
        "#remove hashtags\n",
        "def remove_hashtags(tweet: str) -> str:\n",
        "  preprocessedTweet = re.sub('#[a-zA-Z0-9_]+','',tweet)\n",
        "  return preprocessedTweet\n",
        "\n",
        "#remove mentions\n",
        "def remove_mentions(tweet: str) -> str:\n",
        "  preprocessedTweet = re.sub('@[a-zA-Z0-9_]+','',tweet)\n",
        "  return preprocessedTweet\n",
        "\n",
        "#remove emojis\n",
        "def remove_emojis(tweet: str) -> str:\n",
        "    emoji_pattern = re.compile(\"[\"\n",
        "                               u\"\\U0001F600-\\U0001F64F\"  # emoticons\n",
        "                               u\"\\U0001F300-\\U0001F5FF\"  # symbols & pictographs\n",
        "                               u\"\\U0001F680-\\U0001F6FF\"  # transport & map symbols\n",
        "                               u\"\\U0001F700-\\U0001F77F\"  # alchemical symbols\n",
        "                               u\"\\U0001F780-\\U0001F7FF\"  # Geometric Shapes Extended\n",
        "                               u\"\\U0001F800-\\U0001F8FF\"  # Supplemental Arrows-C\n",
        "                               u\"\\U0001F900-\\U0001F9FF\"  # Supplemental Symbols and Pictographs\n",
        "                               u\"\\U0001FA00-\\U0001FA6F\"  # Chess Symbols\n",
        "                               u\"\\U0001FA70-\\U0001FAFF\"  # Symbols and Pictographs Extended-A\n",
        "                               u\"\\U00002702-\\U000027B0\"  # Dingbats\n",
        "                               u\"\\U000024C2-\\U0001F251\"\n",
        "                               \"]+\", flags=re.UNICODE)\n",
        "    return emoji_pattern.sub('', tweet)\n",
        "\n",
        "#remove stopwords\n",
        "def remove_stopwords(tweet: str) -> str:\n",
        "    word_list = tweet.split()\n",
        "    filtered_words = [word for word in word_list if word not in set(stopwords.words('english'))]\n",
        "    return ' '.join(filtered_words)\n",
        "\n",
        "# Function to combine all preprocessing steps\n",
        "def preprocess_tweet(tweet: str) -> str:\n",
        "    tweet = lowercase(tweet)\n",
        "    tweet = remove_hashtags(tweet)\n",
        "    tweet = remove_mentions(tweet)\n",
        "    tweet = remove_stopwords(tweet)\n",
        "    tweet = remove_emojis(tweet)\n",
        "    return tweet"
      ],
      "metadata": {
        "id": "hu0tTVoRFPWJ"
      },
      "execution_count": null,
      "outputs": []
    },
    {
      "cell_type": "code",
      "source": [
        "# no retweets and no quote tweets / no cleaned column yet\n",
        "df_no_qt.head()"
      ],
      "metadata": {
        "id": "sixZt0u9l-0Y",
        "colab": {
          "base_uri": "https://localhost:8080/",
          "height": 206
        },
        "outputId": "be74ff63-e484-4bc4-e271-2b225e4ca0ef"
      },
      "execution_count": null,
      "outputs": [
        {
          "output_type": "execute_result",
          "data": {
            "text/plain": [
              "                                         Hit Sentence Sentiment  Position\n",
              "7   @JayneMonie1 @HowardJ91352838 @davesumnersmith...   Neutral         0\n",
              "17  @MPIainDS You have made it nigh on impossible ...   Neutral         0\n",
              "21  @TheGhos72578902 @SallyAnnC3 @AndieHalihan @Ch...   Neutral         0\n",
              "36  @snb19692 FPTP - totally discredited! Not leas...  Negative         0\n",
              "39  @pauld4dog @jarviboy1974uk @LloydHardy Superma...   Neutral         0"
            ],
            "text/html": [
              "\n",
              "  <div id=\"df-8a680a11-011d-4993-8a69-840f1018c026\" class=\"colab-df-container\">\n",
              "    <div>\n",
              "<style scoped>\n",
              "    .dataframe tbody tr th:only-of-type {\n",
              "        vertical-align: middle;\n",
              "    }\n",
              "\n",
              "    .dataframe tbody tr th {\n",
              "        vertical-align: top;\n",
              "    }\n",
              "\n",
              "    .dataframe thead th {\n",
              "        text-align: right;\n",
              "    }\n",
              "</style>\n",
              "<table border=\"1\" class=\"dataframe\">\n",
              "  <thead>\n",
              "    <tr style=\"text-align: right;\">\n",
              "      <th></th>\n",
              "      <th>Hit Sentence</th>\n",
              "      <th>Sentiment</th>\n",
              "      <th>Position</th>\n",
              "    </tr>\n",
              "  </thead>\n",
              "  <tbody>\n",
              "    <tr>\n",
              "      <th>7</th>\n",
              "      <td>@JayneMonie1 @HowardJ91352838 @davesumnersmith...</td>\n",
              "      <td>Neutral</td>\n",
              "      <td>0</td>\n",
              "    </tr>\n",
              "    <tr>\n",
              "      <th>17</th>\n",
              "      <td>@MPIainDS You have made it nigh on impossible ...</td>\n",
              "      <td>Neutral</td>\n",
              "      <td>0</td>\n",
              "    </tr>\n",
              "    <tr>\n",
              "      <th>21</th>\n",
              "      <td>@TheGhos72578902 @SallyAnnC3 @AndieHalihan @Ch...</td>\n",
              "      <td>Neutral</td>\n",
              "      <td>0</td>\n",
              "    </tr>\n",
              "    <tr>\n",
              "      <th>36</th>\n",
              "      <td>@snb19692 FPTP - totally discredited! Not leas...</td>\n",
              "      <td>Negative</td>\n",
              "      <td>0</td>\n",
              "    </tr>\n",
              "    <tr>\n",
              "      <th>39</th>\n",
              "      <td>@pauld4dog @jarviboy1974uk @LloydHardy Superma...</td>\n",
              "      <td>Neutral</td>\n",
              "      <td>0</td>\n",
              "    </tr>\n",
              "  </tbody>\n",
              "</table>\n",
              "</div>\n",
              "    <div class=\"colab-df-buttons\">\n",
              "\n",
              "  <div class=\"colab-df-container\">\n",
              "    <button class=\"colab-df-convert\" onclick=\"convertToInteractive('df-8a680a11-011d-4993-8a69-840f1018c026')\"\n",
              "            title=\"Convert this dataframe to an interactive table.\"\n",
              "            style=\"display:none;\">\n",
              "\n",
              "  <svg xmlns=\"http://www.w3.org/2000/svg\" height=\"24px\" viewBox=\"0 -960 960 960\">\n",
              "    <path d=\"M120-120v-720h720v720H120Zm60-500h600v-160H180v160Zm220 220h160v-160H400v160Zm0 220h160v-160H400v160ZM180-400h160v-160H180v160Zm440 0h160v-160H620v160ZM180-180h160v-160H180v160Zm440 0h160v-160H620v160Z\"/>\n",
              "  </svg>\n",
              "    </button>\n",
              "\n",
              "  <style>\n",
              "    .colab-df-container {\n",
              "      display:flex;\n",
              "      gap: 12px;\n",
              "    }\n",
              "\n",
              "    .colab-df-convert {\n",
              "      background-color: #E8F0FE;\n",
              "      border: none;\n",
              "      border-radius: 50%;\n",
              "      cursor: pointer;\n",
              "      display: none;\n",
              "      fill: #1967D2;\n",
              "      height: 32px;\n",
              "      padding: 0 0 0 0;\n",
              "      width: 32px;\n",
              "    }\n",
              "\n",
              "    .colab-df-convert:hover {\n",
              "      background-color: #E2EBFA;\n",
              "      box-shadow: 0px 1px 2px rgba(60, 64, 67, 0.3), 0px 1px 3px 1px rgba(60, 64, 67, 0.15);\n",
              "      fill: #174EA6;\n",
              "    }\n",
              "\n",
              "    .colab-df-buttons div {\n",
              "      margin-bottom: 4px;\n",
              "    }\n",
              "\n",
              "    [theme=dark] .colab-df-convert {\n",
              "      background-color: #3B4455;\n",
              "      fill: #D2E3FC;\n",
              "    }\n",
              "\n",
              "    [theme=dark] .colab-df-convert:hover {\n",
              "      background-color: #434B5C;\n",
              "      box-shadow: 0px 1px 3px 1px rgba(0, 0, 0, 0.15);\n",
              "      filter: drop-shadow(0px 1px 2px rgba(0, 0, 0, 0.3));\n",
              "      fill: #FFFFFF;\n",
              "    }\n",
              "  </style>\n",
              "\n",
              "    <script>\n",
              "      const buttonEl =\n",
              "        document.querySelector('#df-8a680a11-011d-4993-8a69-840f1018c026 button.colab-df-convert');\n",
              "      buttonEl.style.display =\n",
              "        google.colab.kernel.accessAllowed ? 'block' : 'none';\n",
              "\n",
              "      async function convertToInteractive(key) {\n",
              "        const element = document.querySelector('#df-8a680a11-011d-4993-8a69-840f1018c026');\n",
              "        const dataTable =\n",
              "          await google.colab.kernel.invokeFunction('convertToInteractive',\n",
              "                                                    [key], {});\n",
              "        if (!dataTable) return;\n",
              "\n",
              "        const docLinkHtml = 'Like what you see? Visit the ' +\n",
              "          '<a target=\"_blank\" href=https://colab.research.google.com/notebooks/data_table.ipynb>data table notebook</a>'\n",
              "          + ' to learn more about interactive tables.';\n",
              "        element.innerHTML = '';\n",
              "        dataTable['output_type'] = 'display_data';\n",
              "        await google.colab.output.renderOutput(dataTable, element);\n",
              "        const docLink = document.createElement('div');\n",
              "        docLink.innerHTML = docLinkHtml;\n",
              "        element.appendChild(docLink);\n",
              "      }\n",
              "    </script>\n",
              "  </div>\n",
              "\n",
              "\n",
              "<div id=\"df-92dd10df-050d-42e9-b4cd-ff839b06a56c\">\n",
              "  <button class=\"colab-df-quickchart\" onclick=\"quickchart('df-92dd10df-050d-42e9-b4cd-ff839b06a56c')\"\n",
              "            title=\"Suggest charts\"\n",
              "            style=\"display:none;\">\n",
              "\n",
              "<svg xmlns=\"http://www.w3.org/2000/svg\" height=\"24px\"viewBox=\"0 0 24 24\"\n",
              "     width=\"24px\">\n",
              "    <g>\n",
              "        <path d=\"M19 3H5c-1.1 0-2 .9-2 2v14c0 1.1.9 2 2 2h14c1.1 0 2-.9 2-2V5c0-1.1-.9-2-2-2zM9 17H7v-7h2v7zm4 0h-2V7h2v10zm4 0h-2v-4h2v4z\"/>\n",
              "    </g>\n",
              "</svg>\n",
              "  </button>\n",
              "\n",
              "<style>\n",
              "  .colab-df-quickchart {\n",
              "      --bg-color: #E8F0FE;\n",
              "      --fill-color: #1967D2;\n",
              "      --hover-bg-color: #E2EBFA;\n",
              "      --hover-fill-color: #174EA6;\n",
              "      --disabled-fill-color: #AAA;\n",
              "      --disabled-bg-color: #DDD;\n",
              "  }\n",
              "\n",
              "  [theme=dark] .colab-df-quickchart {\n",
              "      --bg-color: #3B4455;\n",
              "      --fill-color: #D2E3FC;\n",
              "      --hover-bg-color: #434B5C;\n",
              "      --hover-fill-color: #FFFFFF;\n",
              "      --disabled-bg-color: #3B4455;\n",
              "      --disabled-fill-color: #666;\n",
              "  }\n",
              "\n",
              "  .colab-df-quickchart {\n",
              "    background-color: var(--bg-color);\n",
              "    border: none;\n",
              "    border-radius: 50%;\n",
              "    cursor: pointer;\n",
              "    display: none;\n",
              "    fill: var(--fill-color);\n",
              "    height: 32px;\n",
              "    padding: 0;\n",
              "    width: 32px;\n",
              "  }\n",
              "\n",
              "  .colab-df-quickchart:hover {\n",
              "    background-color: var(--hover-bg-color);\n",
              "    box-shadow: 0 1px 2px rgba(60, 64, 67, 0.3), 0 1px 3px 1px rgba(60, 64, 67, 0.15);\n",
              "    fill: var(--button-hover-fill-color);\n",
              "  }\n",
              "\n",
              "  .colab-df-quickchart-complete:disabled,\n",
              "  .colab-df-quickchart-complete:disabled:hover {\n",
              "    background-color: var(--disabled-bg-color);\n",
              "    fill: var(--disabled-fill-color);\n",
              "    box-shadow: none;\n",
              "  }\n",
              "\n",
              "  .colab-df-spinner {\n",
              "    border: 2px solid var(--fill-color);\n",
              "    border-color: transparent;\n",
              "    border-bottom-color: var(--fill-color);\n",
              "    animation:\n",
              "      spin 1s steps(1) infinite;\n",
              "  }\n",
              "\n",
              "  @keyframes spin {\n",
              "    0% {\n",
              "      border-color: transparent;\n",
              "      border-bottom-color: var(--fill-color);\n",
              "      border-left-color: var(--fill-color);\n",
              "    }\n",
              "    20% {\n",
              "      border-color: transparent;\n",
              "      border-left-color: var(--fill-color);\n",
              "      border-top-color: var(--fill-color);\n",
              "    }\n",
              "    30% {\n",
              "      border-color: transparent;\n",
              "      border-left-color: var(--fill-color);\n",
              "      border-top-color: var(--fill-color);\n",
              "      border-right-color: var(--fill-color);\n",
              "    }\n",
              "    40% {\n",
              "      border-color: transparent;\n",
              "      border-right-color: var(--fill-color);\n",
              "      border-top-color: var(--fill-color);\n",
              "    }\n",
              "    60% {\n",
              "      border-color: transparent;\n",
              "      border-right-color: var(--fill-color);\n",
              "    }\n",
              "    80% {\n",
              "      border-color: transparent;\n",
              "      border-right-color: var(--fill-color);\n",
              "      border-bottom-color: var(--fill-color);\n",
              "    }\n",
              "    90% {\n",
              "      border-color: transparent;\n",
              "      border-bottom-color: var(--fill-color);\n",
              "    }\n",
              "  }\n",
              "</style>\n",
              "\n",
              "  <script>\n",
              "    async function quickchart(key) {\n",
              "      const quickchartButtonEl =\n",
              "        document.querySelector('#' + key + ' button');\n",
              "      quickchartButtonEl.disabled = true;  // To prevent multiple clicks.\n",
              "      quickchartButtonEl.classList.add('colab-df-spinner');\n",
              "      try {\n",
              "        const charts = await google.colab.kernel.invokeFunction(\n",
              "            'suggestCharts', [key], {});\n",
              "      } catch (error) {\n",
              "        console.error('Error during call to suggestCharts:', error);\n",
              "      }\n",
              "      quickchartButtonEl.classList.remove('colab-df-spinner');\n",
              "      quickchartButtonEl.classList.add('colab-df-quickchart-complete');\n",
              "    }\n",
              "    (() => {\n",
              "      let quickchartButtonEl =\n",
              "        document.querySelector('#df-92dd10df-050d-42e9-b4cd-ff839b06a56c button');\n",
              "      quickchartButtonEl.style.display =\n",
              "        google.colab.kernel.accessAllowed ? 'block' : 'none';\n",
              "    })();\n",
              "  </script>\n",
              "</div>\n",
              "    </div>\n",
              "  </div>\n"
            ]
          },
          "metadata": {},
          "execution_count": 11
        }
      ]
    },
    {
      "cell_type": "code",
      "source": [
        "# create cleaned tweet column\n",
        "df_no_qt['tweet_clean'] = df_no_qt['Hit Sentence'].apply(preprocess_tweet)"
      ],
      "metadata": {
        "id": "SEWevIIsm3mk",
        "colab": {
          "base_uri": "https://localhost:8080/"
        },
        "outputId": "c46340f5-5b5d-4ca9-b5b4-c0f488c533c8"
      },
      "execution_count": null,
      "outputs": [
        {
          "output_type": "stream",
          "name": "stderr",
          "text": [
            "<ipython-input-12-7e9d578539c2>:2: SettingWithCopyWarning: \n",
            "A value is trying to be set on a copy of a slice from a DataFrame.\n",
            "Try using .loc[row_indexer,col_indexer] = value instead\n",
            "\n",
            "See the caveats in the documentation: https://pandas.pydata.org/pandas-docs/stable/user_guide/indexing.html#returning-a-view-versus-a-copy\n",
            "  df_no_qt['tweet_clean'] = df_no_qt['Hit Sentence'].apply(preprocess_tweet)\n"
          ]
        }
      ]
    },
    {
      "cell_type": "code",
      "source": [
        "# with cleaned tweet column\n",
        "df_no_qt.head()"
      ],
      "metadata": {
        "id": "jqbgPv2LpJvx",
        "colab": {
          "base_uri": "https://localhost:8080/",
          "height": 206
        },
        "outputId": "6b267978-c50c-4ad8-cd8a-b53222aa6024"
      },
      "execution_count": null,
      "outputs": [
        {
          "output_type": "execute_result",
          "data": {
            "text/plain": [
              "                                         Hit Sentence Sentiment  Position  \\\n",
              "7   @JayneMonie1 @HowardJ91352838 @davesumnersmith...   Neutral         0   \n",
              "17  @MPIainDS You have made it nigh on impossible ...   Neutral         0   \n",
              "21  @TheGhos72578902 @SallyAnnC3 @AndieHalihan @Ch...   Neutral         0   \n",
              "36  @snb19692 FPTP - totally discredited! Not leas...  Negative         0   \n",
              "39  @pauld4dog @jarviboy1974uk @LloydHardy Superma...   Neutral         0   \n",
              "\n",
              "                                          tweet_clean  \n",
              "7   money’s sunak, (with gove & cummings) behind p...  \n",
              "17  made nigh impossible share european funding st...  \n",
              "21  haven’t wrong yet. said would lose. did. said ...  \n",
              "36  fptp - totally discredited! least derisory 17....  \n",
              "39  supermarkets main brexit supporters quiet. bre...  "
            ],
            "text/html": [
              "\n",
              "  <div id=\"df-ef1d30f0-d5f1-44a1-9704-96f4ffa567fa\" class=\"colab-df-container\">\n",
              "    <div>\n",
              "<style scoped>\n",
              "    .dataframe tbody tr th:only-of-type {\n",
              "        vertical-align: middle;\n",
              "    }\n",
              "\n",
              "    .dataframe tbody tr th {\n",
              "        vertical-align: top;\n",
              "    }\n",
              "\n",
              "    .dataframe thead th {\n",
              "        text-align: right;\n",
              "    }\n",
              "</style>\n",
              "<table border=\"1\" class=\"dataframe\">\n",
              "  <thead>\n",
              "    <tr style=\"text-align: right;\">\n",
              "      <th></th>\n",
              "      <th>Hit Sentence</th>\n",
              "      <th>Sentiment</th>\n",
              "      <th>Position</th>\n",
              "      <th>tweet_clean</th>\n",
              "    </tr>\n",
              "  </thead>\n",
              "  <tbody>\n",
              "    <tr>\n",
              "      <th>7</th>\n",
              "      <td>@JayneMonie1 @HowardJ91352838 @davesumnersmith...</td>\n",
              "      <td>Neutral</td>\n",
              "      <td>0</td>\n",
              "      <td>money’s sunak, (with gove &amp; cummings) behind p...</td>\n",
              "    </tr>\n",
              "    <tr>\n",
              "      <th>17</th>\n",
              "      <td>@MPIainDS You have made it nigh on impossible ...</td>\n",
              "      <td>Neutral</td>\n",
              "      <td>0</td>\n",
              "      <td>made nigh impossible share european funding st...</td>\n",
              "    </tr>\n",
              "    <tr>\n",
              "      <th>21</th>\n",
              "      <td>@TheGhos72578902 @SallyAnnC3 @AndieHalihan @Ch...</td>\n",
              "      <td>Neutral</td>\n",
              "      <td>0</td>\n",
              "      <td>haven’t wrong yet. said would lose. did. said ...</td>\n",
              "    </tr>\n",
              "    <tr>\n",
              "      <th>36</th>\n",
              "      <td>@snb19692 FPTP - totally discredited! Not leas...</td>\n",
              "      <td>Negative</td>\n",
              "      <td>0</td>\n",
              "      <td>fptp - totally discredited! least derisory 17....</td>\n",
              "    </tr>\n",
              "    <tr>\n",
              "      <th>39</th>\n",
              "      <td>@pauld4dog @jarviboy1974uk @LloydHardy Superma...</td>\n",
              "      <td>Neutral</td>\n",
              "      <td>0</td>\n",
              "      <td>supermarkets main brexit supporters quiet. bre...</td>\n",
              "    </tr>\n",
              "  </tbody>\n",
              "</table>\n",
              "</div>\n",
              "    <div class=\"colab-df-buttons\">\n",
              "\n",
              "  <div class=\"colab-df-container\">\n",
              "    <button class=\"colab-df-convert\" onclick=\"convertToInteractive('df-ef1d30f0-d5f1-44a1-9704-96f4ffa567fa')\"\n",
              "            title=\"Convert this dataframe to an interactive table.\"\n",
              "            style=\"display:none;\">\n",
              "\n",
              "  <svg xmlns=\"http://www.w3.org/2000/svg\" height=\"24px\" viewBox=\"0 -960 960 960\">\n",
              "    <path d=\"M120-120v-720h720v720H120Zm60-500h600v-160H180v160Zm220 220h160v-160H400v160Zm0 220h160v-160H400v160ZM180-400h160v-160H180v160Zm440 0h160v-160H620v160ZM180-180h160v-160H180v160Zm440 0h160v-160H620v160Z\"/>\n",
              "  </svg>\n",
              "    </button>\n",
              "\n",
              "  <style>\n",
              "    .colab-df-container {\n",
              "      display:flex;\n",
              "      gap: 12px;\n",
              "    }\n",
              "\n",
              "    .colab-df-convert {\n",
              "      background-color: #E8F0FE;\n",
              "      border: none;\n",
              "      border-radius: 50%;\n",
              "      cursor: pointer;\n",
              "      display: none;\n",
              "      fill: #1967D2;\n",
              "      height: 32px;\n",
              "      padding: 0 0 0 0;\n",
              "      width: 32px;\n",
              "    }\n",
              "\n",
              "    .colab-df-convert:hover {\n",
              "      background-color: #E2EBFA;\n",
              "      box-shadow: 0px 1px 2px rgba(60, 64, 67, 0.3), 0px 1px 3px 1px rgba(60, 64, 67, 0.15);\n",
              "      fill: #174EA6;\n",
              "    }\n",
              "\n",
              "    .colab-df-buttons div {\n",
              "      margin-bottom: 4px;\n",
              "    }\n",
              "\n",
              "    [theme=dark] .colab-df-convert {\n",
              "      background-color: #3B4455;\n",
              "      fill: #D2E3FC;\n",
              "    }\n",
              "\n",
              "    [theme=dark] .colab-df-convert:hover {\n",
              "      background-color: #434B5C;\n",
              "      box-shadow: 0px 1px 3px 1px rgba(0, 0, 0, 0.15);\n",
              "      filter: drop-shadow(0px 1px 2px rgba(0, 0, 0, 0.3));\n",
              "      fill: #FFFFFF;\n",
              "    }\n",
              "  </style>\n",
              "\n",
              "    <script>\n",
              "      const buttonEl =\n",
              "        document.querySelector('#df-ef1d30f0-d5f1-44a1-9704-96f4ffa567fa button.colab-df-convert');\n",
              "      buttonEl.style.display =\n",
              "        google.colab.kernel.accessAllowed ? 'block' : 'none';\n",
              "\n",
              "      async function convertToInteractive(key) {\n",
              "        const element = document.querySelector('#df-ef1d30f0-d5f1-44a1-9704-96f4ffa567fa');\n",
              "        const dataTable =\n",
              "          await google.colab.kernel.invokeFunction('convertToInteractive',\n",
              "                                                    [key], {});\n",
              "        if (!dataTable) return;\n",
              "\n",
              "        const docLinkHtml = 'Like what you see? Visit the ' +\n",
              "          '<a target=\"_blank\" href=https://colab.research.google.com/notebooks/data_table.ipynb>data table notebook</a>'\n",
              "          + ' to learn more about interactive tables.';\n",
              "        element.innerHTML = '';\n",
              "        dataTable['output_type'] = 'display_data';\n",
              "        await google.colab.output.renderOutput(dataTable, element);\n",
              "        const docLink = document.createElement('div');\n",
              "        docLink.innerHTML = docLinkHtml;\n",
              "        element.appendChild(docLink);\n",
              "      }\n",
              "    </script>\n",
              "  </div>\n",
              "\n",
              "\n",
              "<div id=\"df-02125547-6f4f-4827-81b1-6a47e866305e\">\n",
              "  <button class=\"colab-df-quickchart\" onclick=\"quickchart('df-02125547-6f4f-4827-81b1-6a47e866305e')\"\n",
              "            title=\"Suggest charts\"\n",
              "            style=\"display:none;\">\n",
              "\n",
              "<svg xmlns=\"http://www.w3.org/2000/svg\" height=\"24px\"viewBox=\"0 0 24 24\"\n",
              "     width=\"24px\">\n",
              "    <g>\n",
              "        <path d=\"M19 3H5c-1.1 0-2 .9-2 2v14c0 1.1.9 2 2 2h14c1.1 0 2-.9 2-2V5c0-1.1-.9-2-2-2zM9 17H7v-7h2v7zm4 0h-2V7h2v10zm4 0h-2v-4h2v4z\"/>\n",
              "    </g>\n",
              "</svg>\n",
              "  </button>\n",
              "\n",
              "<style>\n",
              "  .colab-df-quickchart {\n",
              "      --bg-color: #E8F0FE;\n",
              "      --fill-color: #1967D2;\n",
              "      --hover-bg-color: #E2EBFA;\n",
              "      --hover-fill-color: #174EA6;\n",
              "      --disabled-fill-color: #AAA;\n",
              "      --disabled-bg-color: #DDD;\n",
              "  }\n",
              "\n",
              "  [theme=dark] .colab-df-quickchart {\n",
              "      --bg-color: #3B4455;\n",
              "      --fill-color: #D2E3FC;\n",
              "      --hover-bg-color: #434B5C;\n",
              "      --hover-fill-color: #FFFFFF;\n",
              "      --disabled-bg-color: #3B4455;\n",
              "      --disabled-fill-color: #666;\n",
              "  }\n",
              "\n",
              "  .colab-df-quickchart {\n",
              "    background-color: var(--bg-color);\n",
              "    border: none;\n",
              "    border-radius: 50%;\n",
              "    cursor: pointer;\n",
              "    display: none;\n",
              "    fill: var(--fill-color);\n",
              "    height: 32px;\n",
              "    padding: 0;\n",
              "    width: 32px;\n",
              "  }\n",
              "\n",
              "  .colab-df-quickchart:hover {\n",
              "    background-color: var(--hover-bg-color);\n",
              "    box-shadow: 0 1px 2px rgba(60, 64, 67, 0.3), 0 1px 3px 1px rgba(60, 64, 67, 0.15);\n",
              "    fill: var(--button-hover-fill-color);\n",
              "  }\n",
              "\n",
              "  .colab-df-quickchart-complete:disabled,\n",
              "  .colab-df-quickchart-complete:disabled:hover {\n",
              "    background-color: var(--disabled-bg-color);\n",
              "    fill: var(--disabled-fill-color);\n",
              "    box-shadow: none;\n",
              "  }\n",
              "\n",
              "  .colab-df-spinner {\n",
              "    border: 2px solid var(--fill-color);\n",
              "    border-color: transparent;\n",
              "    border-bottom-color: var(--fill-color);\n",
              "    animation:\n",
              "      spin 1s steps(1) infinite;\n",
              "  }\n",
              "\n",
              "  @keyframes spin {\n",
              "    0% {\n",
              "      border-color: transparent;\n",
              "      border-bottom-color: var(--fill-color);\n",
              "      border-left-color: var(--fill-color);\n",
              "    }\n",
              "    20% {\n",
              "      border-color: transparent;\n",
              "      border-left-color: var(--fill-color);\n",
              "      border-top-color: var(--fill-color);\n",
              "    }\n",
              "    30% {\n",
              "      border-color: transparent;\n",
              "      border-left-color: var(--fill-color);\n",
              "      border-top-color: var(--fill-color);\n",
              "      border-right-color: var(--fill-color);\n",
              "    }\n",
              "    40% {\n",
              "      border-color: transparent;\n",
              "      border-right-color: var(--fill-color);\n",
              "      border-top-color: var(--fill-color);\n",
              "    }\n",
              "    60% {\n",
              "      border-color: transparent;\n",
              "      border-right-color: var(--fill-color);\n",
              "    }\n",
              "    80% {\n",
              "      border-color: transparent;\n",
              "      border-right-color: var(--fill-color);\n",
              "      border-bottom-color: var(--fill-color);\n",
              "    }\n",
              "    90% {\n",
              "      border-color: transparent;\n",
              "      border-bottom-color: var(--fill-color);\n",
              "    }\n",
              "  }\n",
              "</style>\n",
              "\n",
              "  <script>\n",
              "    async function quickchart(key) {\n",
              "      const quickchartButtonEl =\n",
              "        document.querySelector('#' + key + ' button');\n",
              "      quickchartButtonEl.disabled = true;  // To prevent multiple clicks.\n",
              "      quickchartButtonEl.classList.add('colab-df-spinner');\n",
              "      try {\n",
              "        const charts = await google.colab.kernel.invokeFunction(\n",
              "            'suggestCharts', [key], {});\n",
              "      } catch (error) {\n",
              "        console.error('Error during call to suggestCharts:', error);\n",
              "      }\n",
              "      quickchartButtonEl.classList.remove('colab-df-spinner');\n",
              "      quickchartButtonEl.classList.add('colab-df-quickchart-complete');\n",
              "    }\n",
              "    (() => {\n",
              "      let quickchartButtonEl =\n",
              "        document.querySelector('#df-02125547-6f4f-4827-81b1-6a47e866305e button');\n",
              "      quickchartButtonEl.style.display =\n",
              "        google.colab.kernel.accessAllowed ? 'block' : 'none';\n",
              "    })();\n",
              "  </script>\n",
              "</div>\n",
              "    </div>\n",
              "  </div>\n"
            ]
          },
          "metadata": {},
          "execution_count": 13
        }
      ]
    },
    {
      "cell_type": "markdown",
      "source": [
        "#Split and Vectorize the data"
      ],
      "metadata": {
        "id": "jRZK-vWy46GK"
      }
    },
    {
      "cell_type": "code",
      "source": [
        "# Set X and y label\n",
        "X_preprocessed = df_no_qt[\"tweet_clean\"]\n",
        "y = df_no_qt[\"Sentiment\"]"
      ],
      "metadata": {
        "id": "Pk7rg9qE7SFC"
      },
      "execution_count": null,
      "outputs": []
    },
    {
      "cell_type": "code",
      "source": [
        "# Encode the y labels\n",
        "label_encoder = LabelEncoder()\n",
        "y_encoded = label_encoder.fit_transform(y)"
      ],
      "metadata": {
        "id": "XaGrwBeeV2uk"
      },
      "execution_count": null,
      "outputs": []
    },
    {
      "cell_type": "code",
      "source": [
        "#check encoded labels\n",
        "for index, original_label in enumerate(label_encoder.classes_):\n",
        "    print(f\"Encoded Label: {index} -> Original Label: {original_label}\")"
      ],
      "metadata": {
        "colab": {
          "base_uri": "https://localhost:8080/"
        },
        "id": "BCi4qDoGjz2O",
        "outputId": "ee06a3dd-0bca-4f5e-d684-f5aea9dc40e4"
      },
      "execution_count": null,
      "outputs": [
        {
          "output_type": "stream",
          "name": "stdout",
          "text": [
            "Encoded Label: 0 -> Original Label: Negative\n",
            "Encoded Label: 1 -> Original Label: Neutral\n",
            "Encoded Label: 2 -> Original Label: Not Rated\n",
            "Encoded Label: 3 -> Original Label: Positive\n"
          ]
        }
      ]
    },
    {
      "cell_type": "code",
      "source": [
        "# Split the data\n",
        "X_train, X_test, y_train, y_test = train_test_split(X_preprocessed, y_encoded, test_size=0.3, random_state=42)"
      ],
      "metadata": {
        "id": "jrZDZXE848jb"
      },
      "execution_count": null,
      "outputs": []
    },
    {
      "cell_type": "code",
      "source": [
        "print('X_train shape: ', X_train.shape)\n",
        "print('X_test shape: ', X_test.shape)\n",
        "print('y_train shape: ', y_train.shape)\n",
        "print('y_test shape: ',y_test.shape)"
      ],
      "metadata": {
        "id": "p85Yh6LOEWJp",
        "outputId": "65020e73-7d7b-4402-ce2e-aef8e18c1e6e",
        "colab": {
          "base_uri": "https://localhost:8080/"
        }
      },
      "execution_count": null,
      "outputs": [
        {
          "output_type": "stream",
          "name": "stdout",
          "text": [
            "X_train shape:  (53268,)\n",
            "X_test shape:  (22830,)\n",
            "y_train shape:  (53268,)\n",
            "y_test shape:  (22830,)\n"
          ]
        }
      ]
    },
    {
      "cell_type": "code",
      "source": [
        "#Vectorize the data\n",
        "tfidf_vectorizer = TfidfVectorizer(stop_words='english') #make sure that all stopwords are excluded, stopword list might differ\n",
        "tfidf_train = tfidf_vectorizer.fit_transform(X_train)\n",
        "tfidf_test = tfidf_vectorizer.transform(X_test)\n",
        "\n",
        "count_vectorizer = CountVectorizer(stop_words=\"english\") #make sure that all stopwords are excluded\n",
        "count_train = count_vectorizer.fit_transform(X_train)\n",
        "count_test = count_vectorizer.transform(X_test)"
      ],
      "metadata": {
        "id": "9imtn-Ph9VvM"
      },
      "execution_count": null,
      "outputs": []
    },
    {
      "cell_type": "markdown",
      "source": [
        "#Train Models with Tfidf Vectorizer"
      ],
      "metadata": {
        "id": "Xss2VgWFDWPy"
      }
    },
    {
      "cell_type": "code",
      "source": [
        "# Initialize a Support Vector Classifier (SVC) with a linear kernel\n",
        "# svm_linear_tfidf = SVC(kernel='linear', C=1)\n",
        "\n",
        "# Train the classifier using the tfidf training data and training labels\n",
        "# svm_linear_tfidf.fit(tfidf_train, y_train)"
      ],
      "metadata": {
        "id": "IKQKTioyDgT6"
      },
      "execution_count": null,
      "outputs": []
    },
    {
      "cell_type": "code",
      "source": [
        "# Initialize a Logistic Regression Model\n",
        "log_reg_tfidf = LogisticRegression(C=1, solver='lbfgs', max_iter=1000)\n",
        "\n",
        "#Train the Linear Regression Model using the tfidf data\n",
        "log_reg_tfidf.fit(tfidf_train, y_train)"
      ],
      "metadata": {
        "id": "D1T2vBlTHPfl",
        "colab": {
          "base_uri": "https://localhost:8080/",
          "height": 75
        },
        "outputId": "de3edb92-0f0f-4d79-c158-26791baa44e1"
      },
      "execution_count": null,
      "outputs": [
        {
          "output_type": "execute_result",
          "data": {
            "text/plain": [
              "LogisticRegression(C=1, max_iter=1000)"
            ],
            "text/html": [
              "<style>#sk-container-id-8 {color: black;background-color: white;}#sk-container-id-8 pre{padding: 0;}#sk-container-id-8 div.sk-toggleable {background-color: white;}#sk-container-id-8 label.sk-toggleable__label {cursor: pointer;display: block;width: 100%;margin-bottom: 0;padding: 0.3em;box-sizing: border-box;text-align: center;}#sk-container-id-8 label.sk-toggleable__label-arrow:before {content: \"▸\";float: left;margin-right: 0.25em;color: #696969;}#sk-container-id-8 label.sk-toggleable__label-arrow:hover:before {color: black;}#sk-container-id-8 div.sk-estimator:hover label.sk-toggleable__label-arrow:before {color: black;}#sk-container-id-8 div.sk-toggleable__content {max-height: 0;max-width: 0;overflow: hidden;text-align: left;background-color: #f0f8ff;}#sk-container-id-8 div.sk-toggleable__content pre {margin: 0.2em;color: black;border-radius: 0.25em;background-color: #f0f8ff;}#sk-container-id-8 input.sk-toggleable__control:checked~div.sk-toggleable__content {max-height: 200px;max-width: 100%;overflow: auto;}#sk-container-id-8 input.sk-toggleable__control:checked~label.sk-toggleable__label-arrow:before {content: \"▾\";}#sk-container-id-8 div.sk-estimator input.sk-toggleable__control:checked~label.sk-toggleable__label {background-color: #d4ebff;}#sk-container-id-8 div.sk-label input.sk-toggleable__control:checked~label.sk-toggleable__label {background-color: #d4ebff;}#sk-container-id-8 input.sk-hidden--visually {border: 0;clip: rect(1px 1px 1px 1px);clip: rect(1px, 1px, 1px, 1px);height: 1px;margin: -1px;overflow: hidden;padding: 0;position: absolute;width: 1px;}#sk-container-id-8 div.sk-estimator {font-family: monospace;background-color: #f0f8ff;border: 1px dotted black;border-radius: 0.25em;box-sizing: border-box;margin-bottom: 0.5em;}#sk-container-id-8 div.sk-estimator:hover {background-color: #d4ebff;}#sk-container-id-8 div.sk-parallel-item::after {content: \"\";width: 100%;border-bottom: 1px solid gray;flex-grow: 1;}#sk-container-id-8 div.sk-label:hover label.sk-toggleable__label {background-color: #d4ebff;}#sk-container-id-8 div.sk-serial::before {content: \"\";position: absolute;border-left: 1px solid gray;box-sizing: border-box;top: 0;bottom: 0;left: 50%;z-index: 0;}#sk-container-id-8 div.sk-serial {display: flex;flex-direction: column;align-items: center;background-color: white;padding-right: 0.2em;padding-left: 0.2em;position: relative;}#sk-container-id-8 div.sk-item {position: relative;z-index: 1;}#sk-container-id-8 div.sk-parallel {display: flex;align-items: stretch;justify-content: center;background-color: white;position: relative;}#sk-container-id-8 div.sk-item::before, #sk-container-id-8 div.sk-parallel-item::before {content: \"\";position: absolute;border-left: 1px solid gray;box-sizing: border-box;top: 0;bottom: 0;left: 50%;z-index: -1;}#sk-container-id-8 div.sk-parallel-item {display: flex;flex-direction: column;z-index: 1;position: relative;background-color: white;}#sk-container-id-8 div.sk-parallel-item:first-child::after {align-self: flex-end;width: 50%;}#sk-container-id-8 div.sk-parallel-item:last-child::after {align-self: flex-start;width: 50%;}#sk-container-id-8 div.sk-parallel-item:only-child::after {width: 0;}#sk-container-id-8 div.sk-dashed-wrapped {border: 1px dashed gray;margin: 0 0.4em 0.5em 0.4em;box-sizing: border-box;padding-bottom: 0.4em;background-color: white;}#sk-container-id-8 div.sk-label label {font-family: monospace;font-weight: bold;display: inline-block;line-height: 1.2em;}#sk-container-id-8 div.sk-label-container {text-align: center;}#sk-container-id-8 div.sk-container {/* jupyter's `normalize.less` sets `[hidden] { display: none; }` but bootstrap.min.css set `[hidden] { display: none !important; }` so we also need the `!important` here to be able to override the default hidden behavior on the sphinx rendered scikit-learn.org. See: https://github.com/scikit-learn/scikit-learn/issues/21755 */display: inline-block !important;position: relative;}#sk-container-id-8 div.sk-text-repr-fallback {display: none;}</style><div id=\"sk-container-id-8\" class=\"sk-top-container\"><div class=\"sk-text-repr-fallback\"><pre>LogisticRegression(C=1, max_iter=1000)</pre><b>In a Jupyter environment, please rerun this cell to show the HTML representation or trust the notebook. <br />On GitHub, the HTML representation is unable to render, please try loading this page with nbviewer.org.</b></div><div class=\"sk-container\" hidden><div class=\"sk-item\"><div class=\"sk-estimator sk-toggleable\"><input class=\"sk-toggleable__control sk-hidden--visually\" id=\"sk-estimator-id-10\" type=\"checkbox\" checked><label for=\"sk-estimator-id-10\" class=\"sk-toggleable__label sk-toggleable__label-arrow\">LogisticRegression</label><div class=\"sk-toggleable__content\"><pre>LogisticRegression(C=1, max_iter=1000)</pre></div></div></div></div></div>"
            ]
          },
          "metadata": {},
          "execution_count": 102
        }
      ]
    },
    {
      "cell_type": "code",
      "source": [
        "# Initialize a Random Forest Classifier\n",
        "random_forest_tfidf = RandomForestClassifier(max_depth=None, n_estimators=100, random_state=42)\n",
        "\n",
        "# Fit the Random Forest Classifier on the training data\n",
        "random_forest_tfidf.fit(tfidf_train, y_train)"
      ],
      "metadata": {
        "id": "egJC1gAkHo35",
        "colab": {
          "base_uri": "https://localhost:8080/",
          "height": 75
        },
        "outputId": "405db60a-dec5-4067-c687-280e8feace7a"
      },
      "execution_count": null,
      "outputs": [
        {
          "output_type": "execute_result",
          "data": {
            "text/plain": [
              "RandomForestClassifier(random_state=42)"
            ],
            "text/html": [
              "<style>#sk-container-id-9 {color: black;background-color: white;}#sk-container-id-9 pre{padding: 0;}#sk-container-id-9 div.sk-toggleable {background-color: white;}#sk-container-id-9 label.sk-toggleable__label {cursor: pointer;display: block;width: 100%;margin-bottom: 0;padding: 0.3em;box-sizing: border-box;text-align: center;}#sk-container-id-9 label.sk-toggleable__label-arrow:before {content: \"▸\";float: left;margin-right: 0.25em;color: #696969;}#sk-container-id-9 label.sk-toggleable__label-arrow:hover:before {color: black;}#sk-container-id-9 div.sk-estimator:hover label.sk-toggleable__label-arrow:before {color: black;}#sk-container-id-9 div.sk-toggleable__content {max-height: 0;max-width: 0;overflow: hidden;text-align: left;background-color: #f0f8ff;}#sk-container-id-9 div.sk-toggleable__content pre {margin: 0.2em;color: black;border-radius: 0.25em;background-color: #f0f8ff;}#sk-container-id-9 input.sk-toggleable__control:checked~div.sk-toggleable__content {max-height: 200px;max-width: 100%;overflow: auto;}#sk-container-id-9 input.sk-toggleable__control:checked~label.sk-toggleable__label-arrow:before {content: \"▾\";}#sk-container-id-9 div.sk-estimator input.sk-toggleable__control:checked~label.sk-toggleable__label {background-color: #d4ebff;}#sk-container-id-9 div.sk-label input.sk-toggleable__control:checked~label.sk-toggleable__label {background-color: #d4ebff;}#sk-container-id-9 input.sk-hidden--visually {border: 0;clip: rect(1px 1px 1px 1px);clip: rect(1px, 1px, 1px, 1px);height: 1px;margin: -1px;overflow: hidden;padding: 0;position: absolute;width: 1px;}#sk-container-id-9 div.sk-estimator {font-family: monospace;background-color: #f0f8ff;border: 1px dotted black;border-radius: 0.25em;box-sizing: border-box;margin-bottom: 0.5em;}#sk-container-id-9 div.sk-estimator:hover {background-color: #d4ebff;}#sk-container-id-9 div.sk-parallel-item::after {content: \"\";width: 100%;border-bottom: 1px solid gray;flex-grow: 1;}#sk-container-id-9 div.sk-label:hover label.sk-toggleable__label {background-color: #d4ebff;}#sk-container-id-9 div.sk-serial::before {content: \"\";position: absolute;border-left: 1px solid gray;box-sizing: border-box;top: 0;bottom: 0;left: 50%;z-index: 0;}#sk-container-id-9 div.sk-serial {display: flex;flex-direction: column;align-items: center;background-color: white;padding-right: 0.2em;padding-left: 0.2em;position: relative;}#sk-container-id-9 div.sk-item {position: relative;z-index: 1;}#sk-container-id-9 div.sk-parallel {display: flex;align-items: stretch;justify-content: center;background-color: white;position: relative;}#sk-container-id-9 div.sk-item::before, #sk-container-id-9 div.sk-parallel-item::before {content: \"\";position: absolute;border-left: 1px solid gray;box-sizing: border-box;top: 0;bottom: 0;left: 50%;z-index: -1;}#sk-container-id-9 div.sk-parallel-item {display: flex;flex-direction: column;z-index: 1;position: relative;background-color: white;}#sk-container-id-9 div.sk-parallel-item:first-child::after {align-self: flex-end;width: 50%;}#sk-container-id-9 div.sk-parallel-item:last-child::after {align-self: flex-start;width: 50%;}#sk-container-id-9 div.sk-parallel-item:only-child::after {width: 0;}#sk-container-id-9 div.sk-dashed-wrapped {border: 1px dashed gray;margin: 0 0.4em 0.5em 0.4em;box-sizing: border-box;padding-bottom: 0.4em;background-color: white;}#sk-container-id-9 div.sk-label label {font-family: monospace;font-weight: bold;display: inline-block;line-height: 1.2em;}#sk-container-id-9 div.sk-label-container {text-align: center;}#sk-container-id-9 div.sk-container {/* jupyter's `normalize.less` sets `[hidden] { display: none; }` but bootstrap.min.css set `[hidden] { display: none !important; }` so we also need the `!important` here to be able to override the default hidden behavior on the sphinx rendered scikit-learn.org. See: https://github.com/scikit-learn/scikit-learn/issues/21755 */display: inline-block !important;position: relative;}#sk-container-id-9 div.sk-text-repr-fallback {display: none;}</style><div id=\"sk-container-id-9\" class=\"sk-top-container\"><div class=\"sk-text-repr-fallback\"><pre>RandomForestClassifier(random_state=42)</pre><b>In a Jupyter environment, please rerun this cell to show the HTML representation or trust the notebook. <br />On GitHub, the HTML representation is unable to render, please try loading this page with nbviewer.org.</b></div><div class=\"sk-container\" hidden><div class=\"sk-item\"><div class=\"sk-estimator sk-toggleable\"><input class=\"sk-toggleable__control sk-hidden--visually\" id=\"sk-estimator-id-11\" type=\"checkbox\" checked><label for=\"sk-estimator-id-11\" class=\"sk-toggleable__label sk-toggleable__label-arrow\">RandomForestClassifier</label><div class=\"sk-toggleable__content\"><pre>RandomForestClassifier(random_state=42)</pre></div></div></div></div></div>"
            ]
          },
          "metadata": {},
          "execution_count": 103
        }
      ]
    },
    {
      "cell_type": "code",
      "source": [
        "# Initialize Naive Bayes Classifier\n",
        "nb_classifier_tfidf = MultinomialNB()\n",
        "\n",
        "# Fit the Naive Bayes Classifier with the tfidf data\n",
        "nb_classifier_tfidf.fit(tfidf_train, y_train)"
      ],
      "metadata": {
        "id": "fw8SiYSGPmrl",
        "colab": {
          "base_uri": "https://localhost:8080/",
          "height": 75
        },
        "outputId": "c2d6db24-6aba-43e2-ba09-7efa2c5635a7"
      },
      "execution_count": null,
      "outputs": [
        {
          "output_type": "execute_result",
          "data": {
            "text/plain": [
              "MultinomialNB()"
            ],
            "text/html": [
              "<style>#sk-container-id-10 {color: black;background-color: white;}#sk-container-id-10 pre{padding: 0;}#sk-container-id-10 div.sk-toggleable {background-color: white;}#sk-container-id-10 label.sk-toggleable__label {cursor: pointer;display: block;width: 100%;margin-bottom: 0;padding: 0.3em;box-sizing: border-box;text-align: center;}#sk-container-id-10 label.sk-toggleable__label-arrow:before {content: \"▸\";float: left;margin-right: 0.25em;color: #696969;}#sk-container-id-10 label.sk-toggleable__label-arrow:hover:before {color: black;}#sk-container-id-10 div.sk-estimator:hover label.sk-toggleable__label-arrow:before {color: black;}#sk-container-id-10 div.sk-toggleable__content {max-height: 0;max-width: 0;overflow: hidden;text-align: left;background-color: #f0f8ff;}#sk-container-id-10 div.sk-toggleable__content pre {margin: 0.2em;color: black;border-radius: 0.25em;background-color: #f0f8ff;}#sk-container-id-10 input.sk-toggleable__control:checked~div.sk-toggleable__content {max-height: 200px;max-width: 100%;overflow: auto;}#sk-container-id-10 input.sk-toggleable__control:checked~label.sk-toggleable__label-arrow:before {content: \"▾\";}#sk-container-id-10 div.sk-estimator input.sk-toggleable__control:checked~label.sk-toggleable__label {background-color: #d4ebff;}#sk-container-id-10 div.sk-label input.sk-toggleable__control:checked~label.sk-toggleable__label {background-color: #d4ebff;}#sk-container-id-10 input.sk-hidden--visually {border: 0;clip: rect(1px 1px 1px 1px);clip: rect(1px, 1px, 1px, 1px);height: 1px;margin: -1px;overflow: hidden;padding: 0;position: absolute;width: 1px;}#sk-container-id-10 div.sk-estimator {font-family: monospace;background-color: #f0f8ff;border: 1px dotted black;border-radius: 0.25em;box-sizing: border-box;margin-bottom: 0.5em;}#sk-container-id-10 div.sk-estimator:hover {background-color: #d4ebff;}#sk-container-id-10 div.sk-parallel-item::after {content: \"\";width: 100%;border-bottom: 1px solid gray;flex-grow: 1;}#sk-container-id-10 div.sk-label:hover label.sk-toggleable__label {background-color: #d4ebff;}#sk-container-id-10 div.sk-serial::before {content: \"\";position: absolute;border-left: 1px solid gray;box-sizing: border-box;top: 0;bottom: 0;left: 50%;z-index: 0;}#sk-container-id-10 div.sk-serial {display: flex;flex-direction: column;align-items: center;background-color: white;padding-right: 0.2em;padding-left: 0.2em;position: relative;}#sk-container-id-10 div.sk-item {position: relative;z-index: 1;}#sk-container-id-10 div.sk-parallel {display: flex;align-items: stretch;justify-content: center;background-color: white;position: relative;}#sk-container-id-10 div.sk-item::before, #sk-container-id-10 div.sk-parallel-item::before {content: \"\";position: absolute;border-left: 1px solid gray;box-sizing: border-box;top: 0;bottom: 0;left: 50%;z-index: -1;}#sk-container-id-10 div.sk-parallel-item {display: flex;flex-direction: column;z-index: 1;position: relative;background-color: white;}#sk-container-id-10 div.sk-parallel-item:first-child::after {align-self: flex-end;width: 50%;}#sk-container-id-10 div.sk-parallel-item:last-child::after {align-self: flex-start;width: 50%;}#sk-container-id-10 div.sk-parallel-item:only-child::after {width: 0;}#sk-container-id-10 div.sk-dashed-wrapped {border: 1px dashed gray;margin: 0 0.4em 0.5em 0.4em;box-sizing: border-box;padding-bottom: 0.4em;background-color: white;}#sk-container-id-10 div.sk-label label {font-family: monospace;font-weight: bold;display: inline-block;line-height: 1.2em;}#sk-container-id-10 div.sk-label-container {text-align: center;}#sk-container-id-10 div.sk-container {/* jupyter's `normalize.less` sets `[hidden] { display: none; }` but bootstrap.min.css set `[hidden] { display: none !important; }` so we also need the `!important` here to be able to override the default hidden behavior on the sphinx rendered scikit-learn.org. See: https://github.com/scikit-learn/scikit-learn/issues/21755 */display: inline-block !important;position: relative;}#sk-container-id-10 div.sk-text-repr-fallback {display: none;}</style><div id=\"sk-container-id-10\" class=\"sk-top-container\"><div class=\"sk-text-repr-fallback\"><pre>MultinomialNB()</pre><b>In a Jupyter environment, please rerun this cell to show the HTML representation or trust the notebook. <br />On GitHub, the HTML representation is unable to render, please try loading this page with nbviewer.org.</b></div><div class=\"sk-container\" hidden><div class=\"sk-item\"><div class=\"sk-estimator sk-toggleable\"><input class=\"sk-toggleable__control sk-hidden--visually\" id=\"sk-estimator-id-12\" type=\"checkbox\" checked><label for=\"sk-estimator-id-12\" class=\"sk-toggleable__label sk-toggleable__label-arrow\">MultinomialNB</label><div class=\"sk-toggleable__content\"><pre>MultinomialNB()</pre></div></div></div></div></div>"
            ]
          },
          "metadata": {},
          "execution_count": 104
        }
      ]
    },
    {
      "cell_type": "markdown",
      "source": [
        "Make predictions with Tfidf vectorized data"
      ],
      "metadata": {
        "id": "YYcwinBnQlWY"
      }
    },
    {
      "cell_type": "code",
      "source": [
        "# Predict the labels for the tfidf vectorized data using a linear SVM model\n",
        "# y_pred_svm_tfidf = svm_linear_tfidf.predict(tfidf_test)\n",
        "\n",
        "# Predict the labels for the tfidf vectorized data using a logistic regression model\n",
        "y_pred_logreg_tfidf = log_reg_tfidf.predict(tfidf_test)\n",
        "\n",
        "# Predict the labels for the tfidf vectorized data using a Random Forest Classifier\n",
        "y_pred_forest_tfidf = random_forest_tfidf.predict(tfidf_test)\n",
        "\n",
        "# Predict the labels for the tfidf vectorized data using a Naive Bayes Classifier\n",
        "y_pred_nb_tfidf = nb_classifier_tfidf.predict(tfidf_test)"
      ],
      "metadata": {
        "id": "8rj9hvifQvid"
      },
      "execution_count": null,
      "outputs": []
    },
    {
      "cell_type": "markdown",
      "source": [
        "Evaluate our Models with the Tfidf vectorized data"
      ],
      "metadata": {
        "id": "4hGqXe_xSkq7"
      }
    },
    {
      "cell_type": "code",
      "source": [
        "#SVM Evaluation\n",
        "# print(f\"SVM Evaluation:\")\n",
        "# Calculate and print the accuracy score\n",
        "# accuracy_svm_tfidf = accuracy_score(y_test, y_pred_svm_tfidf)\n",
        "# print(f\"Accuracy: {accuracy_svm_tfidf}\")\n",
        "\n",
        "#  Calculate and print the F1 score\n",
        "# f1_svm_tfidf = f1_score(y_test, y_pred_svm_tfidf, average='macro')\n",
        "# print(f\"F1 Score: {f1_svm_tfidf}\")\n",
        "\n",
        "#  Calculate and print the precision score\n",
        "# precision_svm_tfidf = precision_score(y_test, y_pred_svm_tfidf, average='macro')\n",
        "# print(f\"Precision: {precision_svm_tfidf}\")\n",
        "\n",
        "#  Calculate and print the recall score\n",
        "# recall_svm_tfidf = recall_score(y_test, y_pred_svm_tfidf, average='macro')\n",
        "# print(f\"Recall: {recall_svm_tfidf}\")\n",
        "\n",
        "# print(f\"---------------------------------------------\")\n",
        "\n",
        "print(f\"Logistic Regression Evaluation:\")\n",
        "#Logistic Regression Evaluation\n",
        "# Calculate and print the accuracy score\n",
        "accuracy_logreg_tfidf = accuracy_score(y_test, y_pred_logreg_tfidf)\n",
        "print(f\"Accuracy: {accuracy_logreg_tfidf}\")\n",
        "\n",
        "# Calculate and print the F1 score\n",
        "f1_logreg_tfidf = f1_score(y_test, y_pred_logreg_tfidf, average='macro')\n",
        "print(f\"F1 Score: {f1_logreg_tfidf}\")\n",
        "\n",
        "# Calculate and print the precision score\n",
        "precision_logreg_tfidf = precision_score(y_test, y_pred_logreg_tfidf, average='macro')\n",
        "print(f\"Precision: {precision_logreg_tfidf}\")\n",
        "\n",
        "# Calculate and print the recall score\n",
        "recall_logreg_tfidf = recall_score(y_test, y_pred_logreg_tfidf, average='macro')\n",
        "print(f\"Recall: {recall_logreg_tfidf}\")\n",
        "\n",
        "print(f\"---------------------------------------------\")\n",
        "\n",
        "print(f\"Random Forest Evaluation:\")\n",
        "#Random Forest Evaluation\n",
        "# Calculate and print the accuracy score\n",
        "accuracy_forest_tfidf = accuracy_score(y_test, y_pred_forest_tfidf)\n",
        "print(f\"Accuracy: {accuracy_forest_tfidf}\")\n",
        "\n",
        "# Calculate and print the F1 score\n",
        "f1_forest_tfidf = f1_score(y_test, y_pred_forest_tfidf, average='macro')\n",
        "print(f\"F1 Score: {f1_forest_tfidf}\")\n",
        "\n",
        "# Calculate and print the precision score\n",
        "precision_forest_tfidf = precision_score(y_test, y_pred_forest_tfidf, average='macro')\n",
        "print(f\"Precision: {precision_forest_tfidf}\")\n",
        "\n",
        "# Calculate and print the recall score\n",
        "recall_forest_tfidf = recall_score(y_test, y_pred_forest_tfidf, average='macro')\n",
        "print(f\"Recall: {recall_forest_tfidf}\")\n",
        "\n",
        "print(f\"---------------------------------------------\")\n",
        "\n",
        "print(f\"Naive Bayes Classifier Evaluation:\")\n",
        "#Logistic Regression Evaluation\n",
        "# Calculate and print the accuracy score\n",
        "accuracy_nb_tfidf = accuracy_score(y_test, y_pred_nb_tfidf)\n",
        "print(f\"Accuracy: {accuracy_nb_tfidf}\")\n",
        "\n",
        "# Calculate and print the F1 score\n",
        "f1_nb_tfidf = f1_score(y_test, y_pred_nb_tfidf, average='macro')\n",
        "print(f\"F1 Score: {f1_nb_tfidf}\")\n",
        "\n",
        "# Calculate and print the precision score\n",
        "precision_nb_tfidf = precision_score(y_test, y_pred_nb_tfidf, average='macro', zero_division=1)\n",
        "print(f\"Precision: {precision_nb_tfidf}\")\n",
        "\n",
        "# Calculate and print the recall score\n",
        "recall_nb_tfidf = recall_score(y_test, y_pred_nb_tfidf, average='macro', zero_division=1)\n",
        "print(f\"Recall: {recall_nb_tfidf}\")\n",
        "\n",
        "print(f\"---------------------------------------------\")"
      ],
      "metadata": {
        "id": "PEYomfwnSpnd",
        "colab": {
          "base_uri": "https://localhost:8080/"
        },
        "outputId": "3b4531e9-0bff-4f3f-85d9-f7b723efd91c"
      },
      "execution_count": null,
      "outputs": [
        {
          "output_type": "stream",
          "name": "stdout",
          "text": [
            "Logistic Regression Evaluation:\n",
            "Accuracy: 0.7603153745072273\n",
            "F1 Score: 0.6465275739911074\n",
            "Precision: 0.7311793139451608\n",
            "Recall: 0.6009226241166421\n",
            "---------------------------------------------\n",
            "Random Forest Evaluation:\n",
            "Accuracy: 0.7378887428821725\n",
            "F1 Score: 0.6297539477302461\n",
            "Precision: 0.6905393407190975\n",
            "Recall: 0.5946839026812307\n",
            "---------------------------------------------\n",
            "Naive Bayes Classifier Evaluation:\n",
            "Accuracy: 0.6781865965834428\n",
            "F1 Score: 0.3652524100550634\n",
            "Precision: 0.8520927703134421\n",
            "Recall: 0.36301792602098854\n",
            "---------------------------------------------\n"
          ]
        }
      ]
    },
    {
      "cell_type": "markdown",
      "source": [
        "#Train Models with Count Vectorizer"
      ],
      "metadata": {
        "id": "nEf17228Jrkf"
      }
    },
    {
      "cell_type": "code",
      "source": [
        "# Initialize a Support Vector Classifier (SVC) with a linear kernel\n",
        "# svm_linear_count = SVC(kernel='linear', C=1)\n",
        "\n",
        "# Train the classifier using the tfidf training data and training labels\n",
        "# svm_linear_count.fit(count_train, y_train)"
      ],
      "metadata": {
        "id": "M-TL_ovPJ6Iv"
      },
      "execution_count": null,
      "outputs": []
    },
    {
      "cell_type": "code",
      "source": [
        "# Initialize a Logistic Regression Model\n",
        "log_reg_count = LogisticRegression(C=1, solver='lbfgs', max_iter=1000)\n",
        "\n",
        "#Train the Linear Regression Model using the tfidf data\n",
        "log_reg_count.fit(count_train, y_train)"
      ],
      "metadata": {
        "id": "ACtLyIlXKS4-",
        "colab": {
          "base_uri": "https://localhost:8080/",
          "height": 74
        },
        "outputId": "6d159ad1-a1f7-43dc-84e3-13791fe269fd"
      },
      "execution_count": null,
      "outputs": [
        {
          "output_type": "execute_result",
          "data": {
            "text/plain": [
              "LogisticRegression(C=1, max_iter=1000)"
            ],
            "text/html": [
              "<style>#sk-container-id-1 {color: black;background-color: white;}#sk-container-id-1 pre{padding: 0;}#sk-container-id-1 div.sk-toggleable {background-color: white;}#sk-container-id-1 label.sk-toggleable__label {cursor: pointer;display: block;width: 100%;margin-bottom: 0;padding: 0.3em;box-sizing: border-box;text-align: center;}#sk-container-id-1 label.sk-toggleable__label-arrow:before {content: \"▸\";float: left;margin-right: 0.25em;color: #696969;}#sk-container-id-1 label.sk-toggleable__label-arrow:hover:before {color: black;}#sk-container-id-1 div.sk-estimator:hover label.sk-toggleable__label-arrow:before {color: black;}#sk-container-id-1 div.sk-toggleable__content {max-height: 0;max-width: 0;overflow: hidden;text-align: left;background-color: #f0f8ff;}#sk-container-id-1 div.sk-toggleable__content pre {margin: 0.2em;color: black;border-radius: 0.25em;background-color: #f0f8ff;}#sk-container-id-1 input.sk-toggleable__control:checked~div.sk-toggleable__content {max-height: 200px;max-width: 100%;overflow: auto;}#sk-container-id-1 input.sk-toggleable__control:checked~label.sk-toggleable__label-arrow:before {content: \"▾\";}#sk-container-id-1 div.sk-estimator input.sk-toggleable__control:checked~label.sk-toggleable__label {background-color: #d4ebff;}#sk-container-id-1 div.sk-label input.sk-toggleable__control:checked~label.sk-toggleable__label {background-color: #d4ebff;}#sk-container-id-1 input.sk-hidden--visually {border: 0;clip: rect(1px 1px 1px 1px);clip: rect(1px, 1px, 1px, 1px);height: 1px;margin: -1px;overflow: hidden;padding: 0;position: absolute;width: 1px;}#sk-container-id-1 div.sk-estimator {font-family: monospace;background-color: #f0f8ff;border: 1px dotted black;border-radius: 0.25em;box-sizing: border-box;margin-bottom: 0.5em;}#sk-container-id-1 div.sk-estimator:hover {background-color: #d4ebff;}#sk-container-id-1 div.sk-parallel-item::after {content: \"\";width: 100%;border-bottom: 1px solid gray;flex-grow: 1;}#sk-container-id-1 div.sk-label:hover label.sk-toggleable__label {background-color: #d4ebff;}#sk-container-id-1 div.sk-serial::before {content: \"\";position: absolute;border-left: 1px solid gray;box-sizing: border-box;top: 0;bottom: 0;left: 50%;z-index: 0;}#sk-container-id-1 div.sk-serial {display: flex;flex-direction: column;align-items: center;background-color: white;padding-right: 0.2em;padding-left: 0.2em;position: relative;}#sk-container-id-1 div.sk-item {position: relative;z-index: 1;}#sk-container-id-1 div.sk-parallel {display: flex;align-items: stretch;justify-content: center;background-color: white;position: relative;}#sk-container-id-1 div.sk-item::before, #sk-container-id-1 div.sk-parallel-item::before {content: \"\";position: absolute;border-left: 1px solid gray;box-sizing: border-box;top: 0;bottom: 0;left: 50%;z-index: -1;}#sk-container-id-1 div.sk-parallel-item {display: flex;flex-direction: column;z-index: 1;position: relative;background-color: white;}#sk-container-id-1 div.sk-parallel-item:first-child::after {align-self: flex-end;width: 50%;}#sk-container-id-1 div.sk-parallel-item:last-child::after {align-self: flex-start;width: 50%;}#sk-container-id-1 div.sk-parallel-item:only-child::after {width: 0;}#sk-container-id-1 div.sk-dashed-wrapped {border: 1px dashed gray;margin: 0 0.4em 0.5em 0.4em;box-sizing: border-box;padding-bottom: 0.4em;background-color: white;}#sk-container-id-1 div.sk-label label {font-family: monospace;font-weight: bold;display: inline-block;line-height: 1.2em;}#sk-container-id-1 div.sk-label-container {text-align: center;}#sk-container-id-1 div.sk-container {/* jupyter's `normalize.less` sets `[hidden] { display: none; }` but bootstrap.min.css set `[hidden] { display: none !important; }` so we also need the `!important` here to be able to override the default hidden behavior on the sphinx rendered scikit-learn.org. See: https://github.com/scikit-learn/scikit-learn/issues/21755 */display: inline-block !important;position: relative;}#sk-container-id-1 div.sk-text-repr-fallback {display: none;}</style><div id=\"sk-container-id-1\" class=\"sk-top-container\"><div class=\"sk-text-repr-fallback\"><pre>LogisticRegression(C=1, max_iter=1000)</pre><b>In a Jupyter environment, please rerun this cell to show the HTML representation or trust the notebook. <br />On GitHub, the HTML representation is unable to render, please try loading this page with nbviewer.org.</b></div><div class=\"sk-container\" hidden><div class=\"sk-item\"><div class=\"sk-estimator sk-toggleable\"><input class=\"sk-toggleable__control sk-hidden--visually\" id=\"sk-estimator-id-1\" type=\"checkbox\" checked><label for=\"sk-estimator-id-1\" class=\"sk-toggleable__label sk-toggleable__label-arrow\">LogisticRegression</label><div class=\"sk-toggleable__content\"><pre>LogisticRegression(C=1, max_iter=1000)</pre></div></div></div></div></div>"
            ]
          },
          "metadata": {},
          "execution_count": 20
        }
      ]
    },
    {
      "cell_type": "code",
      "source": [
        "# Initialize a Random Forest Classifier\n",
        "random_forest_count = RandomForestClassifier(max_depth=None, n_estimators=100, random_state=42)\n",
        "\n",
        "# Fit the Random Forest Classifier on the training data\n",
        "random_forest_count.fit(count_train, y_train)"
      ],
      "metadata": {
        "id": "Cqd1BNtTKfwd",
        "colab": {
          "base_uri": "https://localhost:8080/",
          "height": 74
        },
        "outputId": "6c5757e1-cf64-42a9-f9d8-ccdb030f0726"
      },
      "execution_count": null,
      "outputs": [
        {
          "output_type": "execute_result",
          "data": {
            "text/plain": [
              "RandomForestClassifier(random_state=42)"
            ],
            "text/html": [
              "<style>#sk-container-id-2 {color: black;background-color: white;}#sk-container-id-2 pre{padding: 0;}#sk-container-id-2 div.sk-toggleable {background-color: white;}#sk-container-id-2 label.sk-toggleable__label {cursor: pointer;display: block;width: 100%;margin-bottom: 0;padding: 0.3em;box-sizing: border-box;text-align: center;}#sk-container-id-2 label.sk-toggleable__label-arrow:before {content: \"▸\";float: left;margin-right: 0.25em;color: #696969;}#sk-container-id-2 label.sk-toggleable__label-arrow:hover:before {color: black;}#sk-container-id-2 div.sk-estimator:hover label.sk-toggleable__label-arrow:before {color: black;}#sk-container-id-2 div.sk-toggleable__content {max-height: 0;max-width: 0;overflow: hidden;text-align: left;background-color: #f0f8ff;}#sk-container-id-2 div.sk-toggleable__content pre {margin: 0.2em;color: black;border-radius: 0.25em;background-color: #f0f8ff;}#sk-container-id-2 input.sk-toggleable__control:checked~div.sk-toggleable__content {max-height: 200px;max-width: 100%;overflow: auto;}#sk-container-id-2 input.sk-toggleable__control:checked~label.sk-toggleable__label-arrow:before {content: \"▾\";}#sk-container-id-2 div.sk-estimator input.sk-toggleable__control:checked~label.sk-toggleable__label {background-color: #d4ebff;}#sk-container-id-2 div.sk-label input.sk-toggleable__control:checked~label.sk-toggleable__label {background-color: #d4ebff;}#sk-container-id-2 input.sk-hidden--visually {border: 0;clip: rect(1px 1px 1px 1px);clip: rect(1px, 1px, 1px, 1px);height: 1px;margin: -1px;overflow: hidden;padding: 0;position: absolute;width: 1px;}#sk-container-id-2 div.sk-estimator {font-family: monospace;background-color: #f0f8ff;border: 1px dotted black;border-radius: 0.25em;box-sizing: border-box;margin-bottom: 0.5em;}#sk-container-id-2 div.sk-estimator:hover {background-color: #d4ebff;}#sk-container-id-2 div.sk-parallel-item::after {content: \"\";width: 100%;border-bottom: 1px solid gray;flex-grow: 1;}#sk-container-id-2 div.sk-label:hover label.sk-toggleable__label {background-color: #d4ebff;}#sk-container-id-2 div.sk-serial::before {content: \"\";position: absolute;border-left: 1px solid gray;box-sizing: border-box;top: 0;bottom: 0;left: 50%;z-index: 0;}#sk-container-id-2 div.sk-serial {display: flex;flex-direction: column;align-items: center;background-color: white;padding-right: 0.2em;padding-left: 0.2em;position: relative;}#sk-container-id-2 div.sk-item {position: relative;z-index: 1;}#sk-container-id-2 div.sk-parallel {display: flex;align-items: stretch;justify-content: center;background-color: white;position: relative;}#sk-container-id-2 div.sk-item::before, #sk-container-id-2 div.sk-parallel-item::before {content: \"\";position: absolute;border-left: 1px solid gray;box-sizing: border-box;top: 0;bottom: 0;left: 50%;z-index: -1;}#sk-container-id-2 div.sk-parallel-item {display: flex;flex-direction: column;z-index: 1;position: relative;background-color: white;}#sk-container-id-2 div.sk-parallel-item:first-child::after {align-self: flex-end;width: 50%;}#sk-container-id-2 div.sk-parallel-item:last-child::after {align-self: flex-start;width: 50%;}#sk-container-id-2 div.sk-parallel-item:only-child::after {width: 0;}#sk-container-id-2 div.sk-dashed-wrapped {border: 1px dashed gray;margin: 0 0.4em 0.5em 0.4em;box-sizing: border-box;padding-bottom: 0.4em;background-color: white;}#sk-container-id-2 div.sk-label label {font-family: monospace;font-weight: bold;display: inline-block;line-height: 1.2em;}#sk-container-id-2 div.sk-label-container {text-align: center;}#sk-container-id-2 div.sk-container {/* jupyter's `normalize.less` sets `[hidden] { display: none; }` but bootstrap.min.css set `[hidden] { display: none !important; }` so we also need the `!important` here to be able to override the default hidden behavior on the sphinx rendered scikit-learn.org. See: https://github.com/scikit-learn/scikit-learn/issues/21755 */display: inline-block !important;position: relative;}#sk-container-id-2 div.sk-text-repr-fallback {display: none;}</style><div id=\"sk-container-id-2\" class=\"sk-top-container\"><div class=\"sk-text-repr-fallback\"><pre>RandomForestClassifier(random_state=42)</pre><b>In a Jupyter environment, please rerun this cell to show the HTML representation or trust the notebook. <br />On GitHub, the HTML representation is unable to render, please try loading this page with nbviewer.org.</b></div><div class=\"sk-container\" hidden><div class=\"sk-item\"><div class=\"sk-estimator sk-toggleable\"><input class=\"sk-toggleable__control sk-hidden--visually\" id=\"sk-estimator-id-2\" type=\"checkbox\" checked><label for=\"sk-estimator-id-2\" class=\"sk-toggleable__label sk-toggleable__label-arrow\">RandomForestClassifier</label><div class=\"sk-toggleable__content\"><pre>RandomForestClassifier(random_state=42)</pre></div></div></div></div></div>"
            ]
          },
          "metadata": {},
          "execution_count": 21
        }
      ]
    },
    {
      "cell_type": "code",
      "source": [
        "# Initialize Naive Bayes Classifier\n",
        "nb_classifier_count = MultinomialNB()\n",
        "\n",
        "# Fit the Naive Bayes Classifier with the tfidf data\n",
        "nb_classifier_count.fit(count_train, y_train)"
      ],
      "metadata": {
        "id": "UOokv82WKkrW",
        "colab": {
          "base_uri": "https://localhost:8080/",
          "height": 74
        },
        "outputId": "e3ea69c2-2da7-405c-f06f-6ad9e702aa96"
      },
      "execution_count": null,
      "outputs": [
        {
          "output_type": "execute_result",
          "data": {
            "text/plain": [
              "MultinomialNB()"
            ],
            "text/html": [
              "<style>#sk-container-id-3 {color: black;background-color: white;}#sk-container-id-3 pre{padding: 0;}#sk-container-id-3 div.sk-toggleable {background-color: white;}#sk-container-id-3 label.sk-toggleable__label {cursor: pointer;display: block;width: 100%;margin-bottom: 0;padding: 0.3em;box-sizing: border-box;text-align: center;}#sk-container-id-3 label.sk-toggleable__label-arrow:before {content: \"▸\";float: left;margin-right: 0.25em;color: #696969;}#sk-container-id-3 label.sk-toggleable__label-arrow:hover:before {color: black;}#sk-container-id-3 div.sk-estimator:hover label.sk-toggleable__label-arrow:before {color: black;}#sk-container-id-3 div.sk-toggleable__content {max-height: 0;max-width: 0;overflow: hidden;text-align: left;background-color: #f0f8ff;}#sk-container-id-3 div.sk-toggleable__content pre {margin: 0.2em;color: black;border-radius: 0.25em;background-color: #f0f8ff;}#sk-container-id-3 input.sk-toggleable__control:checked~div.sk-toggleable__content {max-height: 200px;max-width: 100%;overflow: auto;}#sk-container-id-3 input.sk-toggleable__control:checked~label.sk-toggleable__label-arrow:before {content: \"▾\";}#sk-container-id-3 div.sk-estimator input.sk-toggleable__control:checked~label.sk-toggleable__label {background-color: #d4ebff;}#sk-container-id-3 div.sk-label input.sk-toggleable__control:checked~label.sk-toggleable__label {background-color: #d4ebff;}#sk-container-id-3 input.sk-hidden--visually {border: 0;clip: rect(1px 1px 1px 1px);clip: rect(1px, 1px, 1px, 1px);height: 1px;margin: -1px;overflow: hidden;padding: 0;position: absolute;width: 1px;}#sk-container-id-3 div.sk-estimator {font-family: monospace;background-color: #f0f8ff;border: 1px dotted black;border-radius: 0.25em;box-sizing: border-box;margin-bottom: 0.5em;}#sk-container-id-3 div.sk-estimator:hover {background-color: #d4ebff;}#sk-container-id-3 div.sk-parallel-item::after {content: \"\";width: 100%;border-bottom: 1px solid gray;flex-grow: 1;}#sk-container-id-3 div.sk-label:hover label.sk-toggleable__label {background-color: #d4ebff;}#sk-container-id-3 div.sk-serial::before {content: \"\";position: absolute;border-left: 1px solid gray;box-sizing: border-box;top: 0;bottom: 0;left: 50%;z-index: 0;}#sk-container-id-3 div.sk-serial {display: flex;flex-direction: column;align-items: center;background-color: white;padding-right: 0.2em;padding-left: 0.2em;position: relative;}#sk-container-id-3 div.sk-item {position: relative;z-index: 1;}#sk-container-id-3 div.sk-parallel {display: flex;align-items: stretch;justify-content: center;background-color: white;position: relative;}#sk-container-id-3 div.sk-item::before, #sk-container-id-3 div.sk-parallel-item::before {content: \"\";position: absolute;border-left: 1px solid gray;box-sizing: border-box;top: 0;bottom: 0;left: 50%;z-index: -1;}#sk-container-id-3 div.sk-parallel-item {display: flex;flex-direction: column;z-index: 1;position: relative;background-color: white;}#sk-container-id-3 div.sk-parallel-item:first-child::after {align-self: flex-end;width: 50%;}#sk-container-id-3 div.sk-parallel-item:last-child::after {align-self: flex-start;width: 50%;}#sk-container-id-3 div.sk-parallel-item:only-child::after {width: 0;}#sk-container-id-3 div.sk-dashed-wrapped {border: 1px dashed gray;margin: 0 0.4em 0.5em 0.4em;box-sizing: border-box;padding-bottom: 0.4em;background-color: white;}#sk-container-id-3 div.sk-label label {font-family: monospace;font-weight: bold;display: inline-block;line-height: 1.2em;}#sk-container-id-3 div.sk-label-container {text-align: center;}#sk-container-id-3 div.sk-container {/* jupyter's `normalize.less` sets `[hidden] { display: none; }` but bootstrap.min.css set `[hidden] { display: none !important; }` so we also need the `!important` here to be able to override the default hidden behavior on the sphinx rendered scikit-learn.org. See: https://github.com/scikit-learn/scikit-learn/issues/21755 */display: inline-block !important;position: relative;}#sk-container-id-3 div.sk-text-repr-fallback {display: none;}</style><div id=\"sk-container-id-3\" class=\"sk-top-container\"><div class=\"sk-text-repr-fallback\"><pre>MultinomialNB()</pre><b>In a Jupyter environment, please rerun this cell to show the HTML representation or trust the notebook. <br />On GitHub, the HTML representation is unable to render, please try loading this page with nbviewer.org.</b></div><div class=\"sk-container\" hidden><div class=\"sk-item\"><div class=\"sk-estimator sk-toggleable\"><input class=\"sk-toggleable__control sk-hidden--visually\" id=\"sk-estimator-id-3\" type=\"checkbox\" checked><label for=\"sk-estimator-id-3\" class=\"sk-toggleable__label sk-toggleable__label-arrow\">MultinomialNB</label><div class=\"sk-toggleable__content\"><pre>MultinomialNB()</pre></div></div></div></div></div>"
            ]
          },
          "metadata": {},
          "execution_count": 22
        }
      ]
    },
    {
      "cell_type": "markdown",
      "source": [
        "Make predictions with Count vectorized data"
      ],
      "metadata": {
        "id": "6Rjr3rWULXeO"
      }
    },
    {
      "cell_type": "code",
      "source": [
        "# Predict the labels for the count vectorized data using a linear SVM model\n",
        "# y_pred_svm_count = svm_linear_count.predict(count_test)\n",
        "\n",
        "# Predict the labels for the count vectorized data using a logistic regression model\n",
        "y_pred_logreg_count = log_reg_count.predict(count_test)\n",
        "\n",
        "# Predict the labels for the count vectorized data using a Random Forest Classifier\n",
        "y_pred_forest_count = random_forest_count.predict(count_test)\n",
        "\n",
        "# Predict the labels for the count vectorized data using a Naive Bayes Classifier\n",
        "y_pred_nb_count = nb_classifier_count.predict(count_test)"
      ],
      "metadata": {
        "id": "C1GJV5BRLcTF"
      },
      "execution_count": null,
      "outputs": []
    },
    {
      "cell_type": "markdown",
      "source": [
        "Evaluate our Models with the Count vectorized data"
      ],
      "metadata": {
        "id": "K3iHTK_DL7pE"
      }
    },
    {
      "cell_type": "code",
      "source": [
        "#SVM Evaluation\n",
        "# print(f\"SVM Evaluation:\")\n",
        "# Calculate and print the accuracy score\n",
        "# accuracy_svm_count = accuracy_score(y_test, y_pred_svm_count)\n",
        "# print(f\"Accuracy: {accuracy_svm_count}\")\n",
        "\n",
        "# Calculate and print the F1 score\n",
        "# f1_svm_count = f1_score(y_test, y_pred_svm_count, average='macro')\n",
        "# print(f\"F1 Score: {f1_svm_count}\")\n",
        "\n",
        "# Calculate and print the precision score\n",
        "# precision_svm_count = precision_score(y_test, y_pred_svm_count, average='macro')\n",
        "# print(f\"Precision: {precision_svm_count}\")\n",
        "\n",
        "# Calculate and print the recall score\n",
        "# recall_svm_count = recall_score(y_test, y_pred_svm_count, average='macro')\n",
        "# print(f\"Recall: {recall_svm_count}\")\n",
        "\n",
        "# print(f\"---------------------------------------------\")\n",
        "\n",
        "print(f\"Logistic Regression Evaluation:\")\n",
        "#Logistic Regression Evaluation\n",
        "# Calculate and print the accuracy score\n",
        "accuracy_logreg_count = accuracy_score(y_test, y_pred_logreg_count)\n",
        "print(f\"Accuracy: {accuracy_logreg_count}\")\n",
        "\n",
        "# Calculate and print the F1 score\n",
        "f1_logreg_count = f1_score(y_test, y_pred_logreg_count, average='macro')\n",
        "print(f\"F1 Score: {f1_logreg_count}\")\n",
        "\n",
        "# Calculate and print the precision score\n",
        "precision_logreg_count = precision_score(y_test, y_pred_logreg_count, average='macro')\n",
        "print(f\"Precision: {precision_logreg_count}\")\n",
        "\n",
        "# Calculate and print the recall score\n",
        "recall_logreg_count = recall_score(y_test, y_pred_logreg_count, average='macro')\n",
        "print(f\"Recall: {recall_logreg_count}\")\n",
        "\n",
        "print(f\"---------------------------------------------\")\n",
        "\n",
        "print(f\"Random Forest Evaluation:\")\n",
        "#Random Forest Evaluation\n",
        "# Calculate and print the accuracy score\n",
        "accuracy_forest_count = accuracy_score(y_test, y_pred_forest_count)\n",
        "print(f\"Accuracy: {accuracy_forest_count}\")\n",
        "\n",
        "# Calculate and print the F1 score\n",
        "f1_forest_count = f1_score(y_test, y_pred_forest_count, average='macro')\n",
        "print(f\"F1 Score: {f1_forest_count}\")\n",
        "\n",
        "# Calculate and print the precision score\n",
        "precision_forest_count = precision_score(y_test, y_pred_forest_count, average='macro')\n",
        "print(f\"Precision: {precision_forest_count}\")\n",
        "\n",
        "# Calculate and print the recall score\n",
        "recall_forest_count = recall_score(y_test, y_pred_forest_count, average='macro')\n",
        "print(f\"Recall: {recall_forest_count}\")\n",
        "\n",
        "print(f\"---------------------------------------------\")\n",
        "\n",
        "print(f\"Naive Bayes Classifier Evaluation:\")\n",
        "#Logistic Regression Evaluation\n",
        "# Calculate and print the accuracy score\n",
        "accuracy_nb_count = accuracy_score(y_test, y_pred_nb_count)\n",
        "print(f\"Accuracy: {accuracy_nb_count}\")\n",
        "\n",
        "# Calculate and print the F1 score\n",
        "f1_nb_count = f1_score(y_test, y_pred_nb_count, average='macro')\n",
        "print(f\"F1 Score: {f1_nb_count}\")\n",
        "\n",
        "# Calculate and print the precision score\n",
        "precision_nb_count = precision_score(y_test, y_pred_nb_count, average='macro', zero_division=1)\n",
        "print(f\"Precision: {precision_nb_count}\")\n",
        "\n",
        "# Calculate and print the recall score\n",
        "recall_nb_count = recall_score(y_test, y_pred_nb_count, average='macro', zero_division=1)\n",
        "print(f\"Recall: {recall_nb_count}\")\n",
        "\n",
        "print(f\"---------------------------------------------\")"
      ],
      "metadata": {
        "id": "iEE2lnQ2L_1t",
        "colab": {
          "base_uri": "https://localhost:8080/"
        },
        "outputId": "1dbdd930-6da6-4f80-d87b-a95b2aac8c2a"
      },
      "execution_count": null,
      "outputs": [
        {
          "output_type": "stream",
          "name": "stdout",
          "text": [
            "Logistic Regression Evaluation:\n",
            "Accuracy: 0.7589137100306614\n",
            "F1 Score: 0.6623682821509765\n",
            "Precision: 0.7484335350679576\n",
            "Recall: 0.6141194768702642\n",
            "---------------------------------------------\n",
            "Random Forest Evaluation:\n",
            "Accuracy: 0.7317564607971967\n",
            "F1 Score: 0.619323181755461\n",
            "Precision: 0.6447101753455824\n",
            "Recall: 0.6025402230687121\n",
            "---------------------------------------------\n",
            "Naive Bayes Classifier Evaluation:\n",
            "Accuracy: 0.7131406044678055\n",
            "F1 Score: 0.4591878239996279\n",
            "Precision: 0.7297680068080467\n",
            "Recall: 0.43635694376316203\n",
            "---------------------------------------------\n"
          ]
        }
      ]
    },
    {
      "cell_type": "code",
      "source": [
        "# parameters_log = {'C': [0.1, 1, 10, 100]}\n",
        "\n",
        "# # Initialize a Logistic Regression Classifier\n",
        "# log_reg_count = LogisticRegression(C=1, solver='lbfgs', max_iter=3000)\n",
        "\n",
        "# # Set up GridSearchCV with the SVC, parameter grid, 5-fold cross-validation, and F1 scoring\n",
        "# grid_log_reg_count = GridSearchCV(log_reg_count, parameters_log, cv=5, scoring=\"f1_macro\")\n",
        "\n",
        "# # Train the GridSearchCV on the scaled training data\n",
        "# grid_log_reg_count.fit(count_train, y_train)"
      ],
      "metadata": {
        "id": "b3MkS7zBX07T"
      },
      "execution_count": null,
      "outputs": []
    },
    {
      "cell_type": "code",
      "source": [
        "# print(f\"Best Parameters: {grid_log_reg_count.best_params_}\")\n",
        "# print(f\"Best F1 - Score: {grid_log_reg_count.best_score_}\")"
      ],
      "metadata": {
        "id": "4D2nn7CLX3ZM"
      },
      "execution_count": null,
      "outputs": []
    },
    {
      "cell_type": "markdown",
      "source": [
        "# Data Visualization"
      ],
      "metadata": {
        "id": "XLyliSxuT90b"
      }
    },
    {
      "cell_type": "markdown",
      "source": [
        "## Confusion Matrix"
      ],
      "metadata": {
        "id": "hM9MkMnpUCrt"
      }
    },
    {
      "cell_type": "code",
      "source": [
        "def plot_conf_matrix_multiclass(conf_mat, classifier_name, original_label):\n",
        "    #Normalize to get percentages\n",
        "    conf_mat_normalized = conf_mat.astype('float') / conf_mat.sum(axis=1)[:, np.newaxis]\n",
        "\n",
        "    # Set the size of the figure\n",
        "    plt.figure(figsize=(10,7))\n",
        "\n",
        "    # seaborn to create a heatmap of the confusion matrix\n",
        "    sns.heatmap(conf_mat_normalized, annot=True, fmt='.2%', cmap='Blues',\n",
        "                xticklabels=original_label, yticklabels=original_label)\n",
        "\n",
        "    # Label the x-axis as 'Predicted'\n",
        "    plt.xlabel('Predicted')\n",
        "\n",
        "    # Label the y-axis as 'Actual'\n",
        "    plt.ylabel('Actual')\n",
        "\n",
        "    # Set the title of the plot\n",
        "    plt.title(f'Confusion Matrix for {classifier_name}')\n",
        "\n",
        "    # Display the plot\n",
        "    plt.show()"
      ],
      "metadata": {
        "id": "pqaILAY9m20H"
      },
      "execution_count": null,
      "outputs": []
    },
    {
      "cell_type": "code",
      "source": [
        "conf_matrix_logreg_count_multiclass = confusion_matrix(y_test, y_pred_logreg_count)"
      ],
      "metadata": {
        "id": "PwhoFp9rn37a"
      },
      "execution_count": null,
      "outputs": []
    },
    {
      "cell_type": "code",
      "source": [
        "original_label = [\"Negative\", \"Neutral\", \"Not Rated\", \"Positive\"]\n",
        "plot_conf_matrix_multiclass(conf_matrix_logreg_count_multiclass, \"Logistic Regression with Count Vectorizer\", original_label)"
      ],
      "metadata": {
        "colab": {
          "base_uri": "https://localhost:8080/",
          "height": 641
        },
        "id": "wjfvBoyCn4yB",
        "outputId": "0673015b-10ba-4d81-d82c-bfda2d14e6dd"
      },
      "execution_count": null,
      "outputs": [
        {
          "output_type": "display_data",
          "data": {
            "text/plain": [
              "<Figure size 1000x700 with 2 Axes>"
            ],
            "image/png": "[encoded data removed]"
          },
          "metadata": {}
        }
      ]
    },
    {
      "cell_type": "code",
      "source": [
        "def visualize_model_output(y_actual, y_predict, mod_name):\n",
        "    # Create DataFrame from actual and predicted values\n",
        "    results = pd.DataFrame(np.c_[y_actual, y_predict], columns=['Actual Sentiment', 'Predicted Sentiment'])\n",
        "\n",
        "    # Segment the results into Anti and Pro Brexit\n",
        "    anti_brexit = results[results['Position'] == 0]\n",
        "    pro_brexit = results[results['Position'] == 1]\n",
        "\n",
        "    # Aggregate the counts of each sentiment category for Actual and Predicted\n",
        "    anti_brexit_actual_counts = anti_brexit['Actual Sentiment'].value_counts().sort_index()\n",
        "    anti_brexit_predicted_counts = anti_brexit['Predicted Sentiment'].value_counts().sort_index()\n",
        "    pro_brexit_actual_counts = pro_brexit['Actual Sentiment'].value_counts().sort_index()\n",
        "    pro_brexit_predicted_counts = pro_brexit['Predicted Sentiment'].value_counts().sort_index()\n",
        "\n",
        "    # Display sentiment counts\n",
        "    print(\"Actual Sentiment Counts:\")\n",
        "    print(anti_brexit_actual_counts)\n",
        "    print(\"\\nPredicted Sentiment Counts:\")\n",
        "    print( anti_brexit_predicted_counts)\n",
        "\n",
        "    # Define sentiment labels for the x-axis\n",
        "    sentiment_labels = ['Negative', 'Neutral', 'Not Rated', 'Positive']\n",
        "\n",
        "    # Plotting for Anti Brexit Tweets\n",
        "    plt.figure(figsize=(12, 6))\n",
        "    plt.subplot(1, 2, 1)\n",
        "    plt.bar(np.arange(len(sentiment_labels)) - 0.2, anti_brexit_actual_counts, width=0.4, label='Actual', color='blue')\n",
        "    plt.bar(np.arange(len(sentiment_labels)) + 0.2, anti_brexit_predicted_counts, width=0.4, label='Predicted', color='orange')\n",
        "    plt.title(\"Sentiment Comparison for Anti Brexit Tweets\")\n",
        "    plt.xlabel('Sentiment')\n",
        "    plt.ylabel('Count')\n",
        "    plt.xticks(ticks=np.arange(len(sentiment_labels)), labels=sentiment_labels)\n",
        "    plt.legend()\n",
        "\n",
        "    # Plotting for Pro Brexit Tweets\n",
        "    plt.subplot(1, 2, 2)\n",
        "    plt.bar(np.arange(len(sentiment_labels)) - 0.2, pro_brexit_actual_counts, width=0.4, label='Actual', color='blue')\n",
        "    plt.bar(np.arange(len(sentiment_labels)) + 0.2, pro_brexit_predicted_counts, width=0.4, label='Predicted', color='orange')\n",
        "    plt.title(\"Sentiment Comparison for Pro Brexit Tweets\")\n",
        "    plt.xlabel('Sentiment')\n",
        "    plt.ylabel('Count')\n",
        "    plt.xticks(ticks=np.arange(len(sentiment_labels)), labels=sentiment_labels)\n",
        "    plt.legend()\n",
        "\n",
        "    plt.tight_layout()\n",
        "    plt.show()"
      ],
      "metadata": {
        "id": "5_MRFgkFzJxc"
      },
      "execution_count": null,
      "outputs": []
    },
    {
      "cell_type": "code",
      "source": [
        "visualize_model_output(y_test, y_pred_logreg_count, 'Logistic Regression Count Vectorizer')"
      ],
      "metadata": {
        "id": "FL2rSAbFJL3f"
      },
      "execution_count": null,
      "outputs": []
    },
    {
      "cell_type": "markdown",
      "source": [
        "## Total counts of sentiments"
      ],
      "metadata": {
        "id": "RML1ZKNrUIZi"
      }
    },
    {
      "cell_type": "code",
      "source": [
        "#Counting the labels for each sentiment in y_test\n",
        "neg_y_test = 0\n",
        "neu_y_test = 0\n",
        "not_rated_y_test = 0\n",
        "pos_y_test = 0\n",
        "\n",
        "for item in y_test:\n",
        "    if item == 0:\n",
        "        neg_y_test += 1\n",
        "    elif item == 1:\n",
        "        neu_y_test += 1\n",
        "    elif item == 2:\n",
        "        not_rated_y_test += 1\n",
        "    elif item == 3:\n",
        "        pos_y_test += 1\n",
        "\n",
        "print(\"Negative:\", neg_y_test)\n",
        "print(\"Neutral:\", neu_y_test)\n",
        "print(\"Not Rated:\", not_rated_y_test)\n",
        "print(\"Positive:\", pos_y_test)\n",
        "\n",
        "print(f\"---------------------------------------------\")\n",
        "#Counting the labels for each sentiment in y_pred_logreg_count\n",
        "neg_y_pred_logreg_count = 0\n",
        "neu_y_pred_logreg_count = 0\n",
        "not_rated_y_pred_logreg_count = 0\n",
        "pos_y_pred_logreg_count = 0\n",
        "\n",
        "for item in y_pred_logreg_count:\n",
        "    if item == 0:\n",
        "        neg_y_pred_logreg_count += 1\n",
        "    elif item == 1:\n",
        "        neu_y_pred_logreg_count += 1\n",
        "    elif item == 2:\n",
        "        not_rated_y_pred_logreg_count += 1\n",
        "    elif item == 3:\n",
        "        pos_y_pred_logreg_count += 1\n",
        "\n",
        "print(\"Negative:\", neg_y_pred_logreg_count)\n",
        "print(\"Neutral:\", neu_y_pred_logreg_count)\n",
        "print(\"Not Rated:\", not_rated_y_pred_logreg_count)\n",
        "print(\"Positive:\", pos_y_pred_logreg_count)"
      ],
      "metadata": {
        "id": "-2rTysrxehSS",
        "outputId": "18ed5549-2b0e-431b-8150-7fe09ffddc0d",
        "colab": {
          "base_uri": "https://localhost:8080/"
        }
      },
      "execution_count": 120,
      "outputs": [
        {
          "output_type": "stream",
          "name": "stdout",
          "text": [
            "Negative: 8046\n",
            "Neutral: 12478\n",
            "Not Rated: 261\n",
            "Positive: 2045\n",
            "---------------------------------------------\n",
            "Negative: 7193\n",
            "Neutral: 13994\n",
            "Not Rated: 137\n",
            "Positive: 1506\n"
          ]
        }
      ]
    },
    {
      "cell_type": "code",
      "source": [
        "#Data from y_test\n",
        "y_test_counts = [neg_y_test, neu_y_test, not_rated_y_test, pos_y_test]\n",
        "\n",
        "#Data from y_pred_logreg_count\n",
        "y_pred_counts = [neg_y_pred_logreg_count, neu_y_pred_logreg_count, not_rated_y_pred_logreg_count, pos_y_pred_logreg_count]\n",
        "\n",
        "#Bar chart settings\n",
        "bar_width = 0.35\n",
        "index = range(len(y_test_counts))\n",
        "\n",
        "#Creating the bar chart\n",
        "plt.bar(index, y_test_counts, bar_width, label='y_test')\n",
        "plt.bar([i + bar_width for i in index], y_pred_counts, bar_width, label='y_pred_logreg_count')\n",
        "\n",
        "#Labels, title, and legend\n",
        "plt.xlabel('Sentiments')\n",
        "plt.ylabel('Counts')\n",
        "plt.title('Comparison of Total Sentiment Counts')\n",
        "plt.xticks([i + bar_width/2 for i in index], ['Negative', 'Neutral', 'Not Rated', 'Positive'])\n",
        "plt.legend()\n",
        "\n",
        "#Displaying the plot\n",
        "plt.tight_layout()\n",
        "plt.show()"
      ],
      "metadata": {
        "id": "gNX_EX6IiY5q",
        "outputId": "87f8bfee-d98a-487d-9e6f-1d05b2709944",
        "colab": {
          "base_uri": "https://localhost:8080/",
          "height": 487
        }
      },
      "execution_count": 122,
      "outputs": [
        {
          "output_type": "display_data",
          "data": {
            "text/plain": [
              "<Figure size 640x480 with 1 Axes>"
            ],
            "image/png": "[encoded data removed]"
          },
          "metadata": {}
        }
      ]
    },
    {
      "cell_type": "markdown",
      "source": [
        "## Split into Pro and Anti Brexit"
      ],
      "metadata": {
        "id": "B3q1zIrpUOZj"
      }
    },
    {
      "cell_type": "code",
      "source": [
        "#Splitting the dataframe into Pro and Anti Brexit\n",
        "pro_brexit_df_no_qt = df_no_qt[df_no_qt['Position'] == 1]\n",
        "anti_brexit_df_no_qt = df_no_qt[df_no_qt['Position'] == 0]\n",
        "\n",
        "#Creating Dataframes out of that data\n",
        "df_proBrexit = pd.DataFrame(pro_brexit_df_no_qt)\n",
        "df_antiBrexit = pd.DataFrame(anti_brexit_df_no_qt)\n",
        "\n",
        "#Displaying the resulting DataFrame\n",
        "df_proBrexit.info()\n",
        "df_antiBrexit.info()"
      ],
      "metadata": {
        "id": "Yd0PTXJcj-2a",
        "outputId": "6d2989b4-62cf-4a13-8967-263ac92dae0a",
        "colab": {
          "base_uri": "https://localhost:8080/"
        }
      },
      "execution_count": 124,
      "outputs": [
        {
          "output_type": "stream",
          "name": "stdout",
          "text": [
            "<class 'pandas.core.frame.DataFrame'>\n",
            "Int64Index: 40387 entries, 2 to 147628\n",
            "Data columns (total 4 columns):\n",
            " #   Column        Non-Null Count  Dtype \n",
            "---  ------        --------------  ----- \n",
            " 0   Hit Sentence  40387 non-null  object\n",
            " 1   Sentiment     40387 non-null  object\n",
            " 2   Position      40387 non-null  int64 \n",
            " 3   tweet_clean   40387 non-null  object\n",
            "dtypes: int64(1), object(3)\n",
            "memory usage: 1.5+ MB\n",
            "<class 'pandas.core.frame.DataFrame'>\n",
            "Int64Index: 35711 entries, 7 to 210572\n",
            "Data columns (total 4 columns):\n",
            " #   Column        Non-Null Count  Dtype \n",
            "---  ------        --------------  ----- \n",
            " 0   Hit Sentence  35711 non-null  object\n",
            " 1   Sentiment     35711 non-null  object\n",
            " 2   Position      35711 non-null  int64 \n",
            " 3   tweet_clean   35711 non-null  object\n",
            "dtypes: int64(1), object(3)\n",
            "memory usage: 1.4+ MB\n"
          ]
        }
      ]
    },
    {
      "cell_type": "code",
      "source": [
        "#Creating a new dataframe with the testing data and the predictions\n",
        "data = {'X_test': X_test, 'y_test': y_test, 'y_pred_logreg_count': y_pred_logreg_count}\n",
        "df_new = pd.DataFrame(data)\n",
        "\n",
        "#Displaying the content\n",
        "df_new.head()\n",
        "df_new.info()\n"
      ],
      "metadata": {
        "id": "d07Hz34OjMXC",
        "outputId": "bdb20de5-5110-4de7-e480-cf1107c4632c",
        "colab": {
          "base_uri": "https://localhost:8080/"
        }
      },
      "execution_count": 83,
      "outputs": [
        {
          "output_type": "stream",
          "name": "stdout",
          "text": [
            "<class 'pandas.core.frame.DataFrame'>\n",
            "Int64Index: 22830 entries, 14931 to 117517\n",
            "Data columns (total 3 columns):\n",
            " #   Column               Non-Null Count  Dtype \n",
            "---  ------               --------------  ----- \n",
            " 0   X_test               22830 non-null  object\n",
            " 1   y_test               22830 non-null  int64 \n",
            " 2   y_pred_logreg_count  22830 non-null  int64 \n",
            "dtypes: int64(2), object(1)\n",
            "memory usage: 713.4+ KB\n"
          ]
        }
      ]
    },
    {
      "cell_type": "code",
      "source": [
        "#Merging df_new with pro_brexit_df_no_qt based on common values in 'X_test' and 'tweet_clean'\n",
        "merged_pro_brexit = pd.merge(df_new, pro_brexit_df_no_qt,how = 'inner', left_on='X_test', right_on='tweet_clean')\n",
        "df_merged_pro_brexit = pd.DataFrame(merged_pro_brexit)\n",
        "\n",
        "\n",
        "#Merging df_new with anti_brexit_df_no_qt based on common values in 'X_test' and 'tweet_clean'\n",
        "merged_anti_brexit = pd.merge(df_new, anti_brexit_df_no_qt, how = 'inner',left_on='X_test', right_on='tweet_clean')\n",
        "df_merged_anti_brexit = pd.DataFrame(merged_anti_brexit)\n",
        "\n",
        "\n",
        "#Displaying the duplicated entries\n",
        "print(df_merged_pro_brexit['X_test'].duplicated().sum())\n",
        "print(df_merged_pro_brexit['tweet_clean'].duplicated().sum())\n",
        "\n",
        "print(df_merged_anti_brexit['X_test'].duplicated().sum())\n",
        "print(df_merged_anti_brexit['tweet_clean'].duplicated().sum())\n",
        "\n",
        "\n",
        "#Dropping the duplicates\n",
        "df_merged_pro_brexit = df_merged_pro_brexit.drop_duplicates()\n",
        "df_merged_anti_brexit = df_merged_anti_brexit.drop_duplicates()\n",
        "\n",
        "#Displaying the resulting merged DataFrames\n",
        "print(\"Merged Pro-Brexit DataFrame:\")\n",
        "df_merged_pro_brexit.info()\n",
        "\n",
        "print(\"\\nMerged Anti-Brexit DataFrame:\")\n",
        "df_merged_anti_brexit.info()\n"
      ],
      "metadata": {
        "colab": {
          "base_uri": "https://localhost:8080/"
        },
        "id": "oyO9Dcq0oMDy",
        "outputId": "906c0675-5db1-41a4-f774-39901a8c540a"
      },
      "execution_count": 125,
      "outputs": [
        {
          "output_type": "stream",
          "name": "stdout",
          "text": [
            "31961\n",
            "31961\n",
            "36616\n",
            "36616\n",
            "Merged Pro-Brexit DataFrame:\n",
            "<class 'pandas.core.frame.DataFrame'>\n",
            "Int64Index: 13573 entries, 0 to 43899\n",
            "Data columns (total 7 columns):\n",
            " #   Column               Non-Null Count  Dtype \n",
            "---  ------               --------------  ----- \n",
            " 0   X_test               13573 non-null  object\n",
            " 1   y_test               13573 non-null  int64 \n",
            " 2   y_pred_logreg_count  13573 non-null  int64 \n",
            " 3   Hit Sentence         13573 non-null  object\n",
            " 4   Sentiment            13573 non-null  object\n",
            " 5   Position             13573 non-null  int64 \n",
            " 6   tweet_clean          13573 non-null  object\n",
            "dtypes: int64(3), object(4)\n",
            "memory usage: 848.3+ KB\n",
            "\n",
            "Merged Anti-Brexit DataFrame:\n",
            "<class 'pandas.core.frame.DataFrame'>\n",
            "Int64Index: 11945 entries, 0 to 47231\n",
            "Data columns (total 7 columns):\n",
            " #   Column               Non-Null Count  Dtype \n",
            "---  ------               --------------  ----- \n",
            " 0   X_test               11945 non-null  object\n",
            " 1   y_test               11945 non-null  int64 \n",
            " 2   y_pred_logreg_count  11945 non-null  int64 \n",
            " 3   Hit Sentence         11945 non-null  object\n",
            " 4   Sentiment            11945 non-null  object\n",
            " 5   Position             11945 non-null  int64 \n",
            " 6   tweet_clean          11945 non-null  object\n",
            "dtypes: int64(3), object(4)\n",
            "memory usage: 746.6+ KB\n"
          ]
        }
      ]
    },
    {
      "cell_type": "markdown",
      "source": [
        "### Pro Brexit"
      ],
      "metadata": {
        "id": "UESdeVUUUiq8"
      }
    },
    {
      "cell_type": "code",
      "source": [
        "#Getting the data we need from the merged pro-brexit dataframe\n",
        "pro_brexit_y_pred = df_merged_pro_brexit['y_pred_logreg_count']\n",
        "pro_brexit_y_test = df_merged_pro_brexit['Sentiment']\n",
        "\n",
        "#Counting the real sentiment for pro Brexit\n",
        "pro_brexit_neg_y_test = 0\n",
        "pro_brexit_neu_y_test = 0\n",
        "pro_brexit_not_rated_y_test = 0\n",
        "pro_brexit_pos_y_test = 0\n",
        "\n",
        "for item in pro_brexit_y_test:\n",
        "    if item == \"Negative\":\n",
        "        pro_brexit_neg_y_test += 1\n",
        "    elif item == \"Neutral\":\n",
        "        pro_brexit_neu_y_test += 1\n",
        "    elif item == \"Not Rated\":\n",
        "        pro_brexit_not_rated_y_test += 1\n",
        "    elif item == \"Positive\":\n",
        "        pro_brexit_pos_y_test += 1\n",
        "\n",
        "#Displaying the results\n",
        "print(\"Negative:\", pro_brexit_neg_y_test)\n",
        "print(\"Neutral:\", pro_brexit_neu_y_test)\n",
        "print(\"Not Rated:\", pro_brexit_not_rated_y_test)\n",
        "print(\"Positive:\", pro_brexit_pos_y_test)\n",
        "print(f\"---------------------------------------------\")\n",
        "\n",
        "#Counting the predicted sentiment for pro Brexit\n",
        "pro_brexit_neg_y_pred_logreg_count = 0\n",
        "pro_brexit_neu_y_pred_logreg_count = 0\n",
        "pro_brexit_not_rated_y_pred_logreg_count = 0\n",
        "pro_brexit_pos_y_pred_logreg_count = 0\n",
        "\n",
        "for item in pro_brexit_y_pred:\n",
        "    if item == 0:\n",
        "        pro_brexit_neg_y_pred_logreg_count += 1\n",
        "    elif item == 1:\n",
        "        pro_brexit_neu_y_pred_logreg_count += 1\n",
        "    elif item == 2:\n",
        "        pro_brexit_not_rated_y_pred_logreg_count += 1\n",
        "    elif item == 3:\n",
        "        pro_brexit_pos_y_pred_logreg_count += 1\n",
        "\n",
        "#Displaying the results\n",
        "print(\"Negative:\", pro_brexit_neg_y_pred_logreg_count)\n",
        "print(\"Neutral:\", pro_brexit_neu_y_pred_logreg_count)\n",
        "print(\"Not Rated:\", pro_brexit_not_rated_y_pred_logreg_count)\n",
        "print(\"Positive:\", pro_brexit_pos_y_pred_logreg_count)"
      ],
      "metadata": {
        "id": "YcmhkZPxqQB5",
        "outputId": "9124365f-d062-4d2e-8539-06b96277a76e",
        "colab": {
          "base_uri": "https://localhost:8080/"
        }
      },
      "execution_count": 126,
      "outputs": [
        {
          "output_type": "stream",
          "name": "stdout",
          "text": [
            "Negative: 4335\n",
            "Neutral: 7414\n",
            "Not Rated: 364\n",
            "Positive: 1460\n",
            "---------------------------------------------\n",
            "Negative: 3801\n",
            "Neutral: 8883\n",
            "Not Rated: 60\n",
            "Positive: 829\n"
          ]
        }
      ]
    },
    {
      "cell_type": "code",
      "source": [
        "# Data from real sentiment\n",
        "y_test_counts = [pro_brexit_neg_y_test, pro_brexit_neu_y_test, pro_brexit_not_rated_y_test, pro_brexit_pos_y_test]\n",
        "\n",
        "# Data from y_pred_logreg_count\n",
        "y_pred_counts = [pro_brexit_neg_y_pred_logreg_count, pro_brexit_neu_y_pred_logreg_count, pro_brexit_not_rated_y_pred_logreg_count, pro_brexit_pos_y_pred_logreg_count]\n",
        "\n",
        "# Bar chart settings\n",
        "bar_width = 0.35\n",
        "index = range(len(y_test_counts))\n",
        "\n",
        "# Creating the bar chart\n",
        "plt.bar(index, y_test_counts, bar_width, label='y_test')\n",
        "plt.bar([i + bar_width for i in index], y_pred_counts, bar_width, label='y_pred_logreg_count')\n",
        "\n",
        "# Labels, title, and legend\n",
        "plt.xlabel('Sentiments')\n",
        "plt.ylabel('Counts')\n",
        "plt.title('Comparison of Sentiment Counts for Pro-Brexit accounts')\n",
        "plt.xticks([i + bar_width/2 for i in index], ['Negative', 'Neutral', 'Not Rated', 'Positive'])\n",
        "plt.legend()\n",
        "\n",
        "# Displaying the plot\n",
        "plt.tight_layout()\n",
        "plt.show()"
      ],
      "metadata": {
        "id": "cA5o9t4_IiKq",
        "outputId": "476a56ff-8782-4436-d665-0924232bb6c0",
        "colab": {
          "base_uri": "https://localhost:8080/",
          "height": 487
        }
      },
      "execution_count": 104,
      "outputs": [
        {
          "output_type": "display_data",
          "data": {
            "text/plain": [
              "<Figure size 640x480 with 1 Axes>"
            ],
            "image/png": "[encoded data removed]"
          },
          "metadata": {}
        }
      ]
    },
    {
      "cell_type": "markdown",
      "source": [
        "### Anti Brexit"
      ],
      "metadata": {
        "id": "4bhbgne2UnPL"
      }
    },
    {
      "cell_type": "code",
      "source": [
        "anti_brexit_y_pred = df_merged_anti_brexit['y_pred_logreg_count']\n",
        "anti_brexit_y_test = df_merged_anti_brexit['Sentiment']\n",
        "\n",
        "#Counting the real sentiment for pro Brexit\n",
        "anti_brexit_neg_y_test = 0\n",
        "anti_brexit_neu_y_test = 0\n",
        "anti_brexit_not_rated_y_test = 0\n",
        "anti_brexit_pos_y_test = 0\n",
        "\n",
        "for item in anti_brexit_y_test:\n",
        "    if item == \"Negative\":\n",
        "        anti_brexit_neg_y_test += 1\n",
        "    elif item == \"Neutral\":\n",
        "        anti_brexit_neu_y_test += 1\n",
        "    elif item == \"Not Rated\":\n",
        "        anti_brexit_not_rated_y_test += 1\n",
        "    elif item == \"Positive\":\n",
        "        anti_brexit_pos_y_test += 1\n",
        "\n",
        "print(\"REAL SENTIMENT\")\n",
        "print(\"Negative:\", anti_brexit_neg_y_test)\n",
        "print(\"Neutral:\", anti_brexit_neu_y_test)\n",
        "print(\"Not Rated:\", anti_brexit_not_rated_y_test)\n",
        "print(\"Positive:\", anti_brexit_pos_y_test)\n",
        "print(f\"---------------------------------------------\")\n",
        "\n",
        "\n",
        "#Counting the labels for each sentiment in y_pred_logreg_count\n",
        "anti_brexit_neg_y_pred_logreg_count = 0\n",
        "anti_brexit_neu_y_pred_logreg_count = 0\n",
        "anti_brexit_not_rated_y_pred_logreg_count = 0\n",
        "anti_brexit_pos_y_pred_logreg_count = 0\n",
        "\n",
        "for item in anti_brexit_y_pred:\n",
        "    if item == 0:\n",
        "        anti_brexit_neg_y_pred_logreg_count += 1\n",
        "    elif item == 1:\n",
        "        anti_brexit_neu_y_pred_logreg_count += 1\n",
        "    elif item == 2:\n",
        "        anti_brexit_not_rated_y_pred_logreg_count += 1\n",
        "    elif item == 3:\n",
        "        anti_brexit_pos_y_pred_logreg_count += 1\n",
        "\n",
        "print(\"PREDICTED SENTIMENT\")\n",
        "print(\"Negative:\", anti_brexit_neg_y_pred_logreg_count)\n",
        "print(\"Neutral:\", anti_brexit_neu_y_pred_logreg_count)\n",
        "print(\"Not Rated:\", anti_brexit_not_rated_y_pred_logreg_count)\n",
        "print(\"Positive:\", anti_brexit_pos_y_pred_logreg_count)"
      ],
      "metadata": {
        "id": "FALk5UNVq3ip",
        "outputId": "ce1d07c0-ed78-462b-986c-449df9c033c1",
        "colab": {
          "base_uri": "https://localhost:8080/"
        }
      },
      "execution_count": 91,
      "outputs": [
        {
          "output_type": "stream",
          "name": "stdout",
          "text": [
            "REAL SENTIMENT\n",
            "Negative: 4077\n",
            "Neutral: 5980\n",
            "Not Rated: 691\n",
            "Positive: 1197\n",
            "---------------------------------------------\n",
            "PREDICTED SENTIMENT\n",
            "Negative: 3648\n",
            "Neutral: 7460\n",
            "Not Rated: 78\n",
            "Positive: 759\n"
          ]
        }
      ]
    },
    {
      "cell_type": "code",
      "source": [
        "# Data from\n",
        "y_test_counts = [anti_brexit_neg_y_test, anti_brexit_neu_y_test, anti_brexit_not_rated_y_test, anti_brexit_pos_y_test]\n",
        "\n",
        "# Data from y_pred_logreg_count\n",
        "y_pred_counts = [anti_brexit_neg_y_pred_logreg_count, anti_brexit_neu_y_pred_logreg_count, anti_brexit_not_rated_y_pred_logreg_count, anti_brexit_pos_y_pred_logreg_count]\n",
        "\n",
        "# Bar chart settings\n",
        "bar_width = 0.35\n",
        "index = range(len(y_test_counts))\n",
        "\n",
        "# Creating the bar chart\n",
        "plt.bar(index, y_test_counts, bar_width, label='y_test')\n",
        "plt.bar([i + bar_width for i in index], y_pred_counts, bar_width, label='y_pred_logreg_count')\n",
        "\n",
        "# Labels, title, and legend\n",
        "plt.xlabel('Sentiments')\n",
        "plt.ylabel('Counts')\n",
        "plt.title('Comparison of Sentiment Counts for Anti-Brexit accounts')\n",
        "plt.xticks([i + bar_width/2 for i in index], ['Negative', 'Neutral', 'Not Rated', 'Positive'])\n",
        "plt.legend()\n",
        "\n",
        "# Displaying the plot\n",
        "plt.tight_layout()\n",
        "plt.show()"
      ],
      "metadata": {
        "id": "KPqQclGRIdUY",
        "outputId": "17c1da62-e1d9-4add-cc51-c1a81afbdaa6",
        "colab": {
          "base_uri": "https://localhost:8080/",
          "height": 487
        }
      },
      "execution_count": 105,
      "outputs": [
        {
          "output_type": "display_data",
          "data": {
            "text/plain": [
              "<Figure size 640x480 with 1 Axes>"
            ],
            "image/png": "[encoded data removed]"
          },
          "metadata": {}
        }
      ]
    },
    {
      "cell_type": "markdown",
      "source": [
        "# Comparing Results in Percentages"
      ],
      "metadata": {
        "id": "nfD2JVsgCMD0"
      }
    },
    {
      "cell_type": "code",
      "source": [
        "#Total sum of Pro Brexit labels\n",
        "total_real_pro_sentiments = pro_brexit_neg_y_test + pro_brexit_neu_y_test + pro_brexit_not_rated_y_test + pro_brexit_pos_y_test\n",
        "print(total_real_pro_sentiments)\n",
        "\n",
        "\n",
        "#Total sum of Pro Brexit labels\n",
        "total_pred_pro_sentiments = pro_brexit_neg_y_pred_logreg_count +pro_brexit_neu_y_pred_logreg_count+ pro_brexit_not_rated_y_pred_logreg_count+ pro_brexit_pos_y_pred_logreg_count\n",
        "print(total_pred_pro_sentiments)\n",
        "\n",
        "print(f\"---------------------------------------------\")\n",
        "\n",
        "#Total sum of Anti Brexit labels\n",
        "total_real_anti_sentiments = anti_brexit_neg_y_test + anti_brexit_neu_y_test + anti_brexit_not_rated_y_test + anti_brexit_pos_y_test\n",
        "print(total_real_anti_sentiments)\n",
        "\n",
        "#Total sum of Anti Brexit labels\n",
        "total_pred_anti_sentiments = anti_brexit_neg_y_pred_logreg_count +anti_brexit_neu_y_pred_logreg_count+ anti_brexit_not_rated_y_pred_logreg_count+ anti_brexit_pos_y_pred_logreg_count\n",
        "print(total_pred_anti_sentiments)"
      ],
      "metadata": {
        "colab": {
          "base_uri": "https://localhost:8080/"
        },
        "id": "kMqehpKyDr3Z",
        "outputId": "96540a02-227d-4c30-a746-8f5d27652551"
      },
      "execution_count": 109,
      "outputs": [
        {
          "output_type": "stream",
          "name": "stdout",
          "text": [
            "13573\n",
            "13573\n",
            "---------------------------------------------\n",
            "11945\n",
            "11945\n"
          ]
        }
      ]
    },
    {
      "cell_type": "code",
      "source": [
        "#Calculate the percentages of each Sentiment\n",
        "\n",
        "#PRO real\n",
        "print(\"PERCENTAGE OF EACH REAL SENTIMENT IN PRO BREXIT\")\n",
        "#Negative\n",
        "pro_real_percent_of_negative = pro_brexit_neg_y_test / total_real_pro_sentiments * 100\n",
        "print(\"Negative\")\n",
        "print(pro_real_percent_of_negative)\n",
        "\n",
        "#Neutral\n",
        "pro_real_percent_of_neutral = pro_brexit_neu_y_test / total_real_pro_sentiments * 100\n",
        "print(\"Neutral\")\n",
        "print(pro_real_percent_of_neutral)\n",
        "\n",
        "#Not Rated\n",
        "pro_real_percent_of_not_rated = pro_brexit_not_rated_y_test / total_real_pro_sentiments * 100\n",
        "print(\"Not Rated\")\n",
        "print(pro_real_percent_of_not_rated)\n",
        "\n",
        "#Positive\n",
        "pro_real_percent_of_positive = pro_brexit_pos_y_test/ total_real_pro_sentiments * 100\n",
        "print(\"Positive\")\n",
        "print(pro_real_percent_of_positive)\n",
        "\n",
        "\n",
        "print(f\"---------------------------------------------\")\n",
        "\n",
        "#PRO predicted\n",
        "\n",
        "print(\"PERCENTAGE OF EACH PREDICTED SENTIMENT IN PRO BREXIT\")\n",
        "#Negative\n",
        "pro_pred_percent_of_negative = pro_brexit_neg_y_pred_logreg_count / total_pred_pro_sentiments * 100\n",
        "print(\"Negative\")\n",
        "print(pro_pred_percent_of_negative)\n",
        "\n",
        "#Neutral\n",
        "pro_pred_percent_of_neutral = pro_brexit_neu_y_pred_logreg_count / total_pred_pro_sentiments * 100\n",
        "print(\"Neutral\")\n",
        "print(pro_pred_percent_of_neutral)\n",
        "\n",
        "#Not Rated\n",
        "pro_pred_percent_of_not_rated = pro_brexit_not_rated_y_pred_logreg_count / total_pred_pro_sentiments * 100\n",
        "print(\"Not Rated\")\n",
        "print(pro_pred_percent_of_not_rated)\n",
        "\n",
        "#Positive\n",
        "pro_pred_percent_of_positive = pro_brexit_pos_y_pred_logreg_count / total_pred_pro_sentiments * 100\n",
        "print(\"Positive\")\n",
        "print(pro_pred_percent_of_positive)\n"
      ],
      "metadata": {
        "colab": {
          "base_uri": "https://localhost:8080/"
        },
        "id": "cHTij1w-EsLX",
        "outputId": "292f7977-725c-4afc-d5e4-17d7e766e961"
      },
      "execution_count": 112,
      "outputs": [
        {
          "output_type": "stream",
          "name": "stdout",
          "text": [
            "PERCENTAGE OF EACH REAL SENTIMENT IN PRO BREXIT\n",
            "Negative\n",
            "31.93840713180579\n",
            "Neutral\n",
            "54.62314889854859\n",
            "Not Rated\n",
            "2.6817947395564725\n",
            "Positive\n",
            "10.756649230089147\n",
            "---------------------------------------------\n",
            "PERCENTAGE OF EACH PREDICTED SENTIMENT IN PRO BREXIT\n",
            "Negative\n",
            "28.004125838060855\n",
            "Neutral\n",
            "65.44610624033007\n",
            "Not Rated\n",
            "0.44205407794886914\n",
            "Positive\n",
            "6.107713843660208\n"
          ]
        }
      ]
    },
    {
      "cell_type": "code",
      "source": [
        "#ANTI real\n",
        "print(\"PERCENTAGE OF EACH REAL SENTIMENT IN ANTI BREXIT\")\n",
        "#Negative\n",
        "anti_real_percent_of_negative = anti_brexit_neg_y_test / total_real_anti_sentiments * 100\n",
        "print(\"Negative\")\n",
        "print(anti_real_percent_of_negative)\n",
        "\n",
        "#Neutral\n",
        "anti_real_percent_of_neutral = anti_brexit_neu_y_test / total_real_anti_sentiments * 100\n",
        "print(\"Neutral\")\n",
        "print(anti_real_percent_of_neutral)\n",
        "\n",
        "#Not Rated\n",
        "anti_real_percent_of_not_rated = anti_brexit_not_rated_y_test / total_real_anti_sentiments * 100\n",
        "print(\"Not Rated\")\n",
        "print(anti_real_percent_of_not_rated)\n",
        "\n",
        "#Positive\n",
        "anti_real_percent_of_positive = anti_brexit_pos_y_test/ total_real_anti_sentiments * 100\n",
        "print(\"Positive\")\n",
        "print(anti_real_percent_of_positive)\n",
        "\n",
        "\n",
        "print(f\"---------------------------------------------\")\n",
        "\n",
        "\n",
        "\n",
        "#ANTI predicted\n",
        "\n",
        "print(\"PERCENTAGE OF EACH PREDICTED SENTIMENT IN ANTI BREXIT\")\n",
        "#Negative\n",
        "anti_pred_percent_of_negative = anti_brexit_neg_y_pred_logreg_count / total_pred_anti_sentiments * 100\n",
        "print(\"Negative\")\n",
        "print(anti_pred_percent_of_negative)\n",
        "\n",
        "#Neutral\n",
        "anti_pred_percent_of_neutral = anti_brexit_neu_y_pred_logreg_count / total_pred_anti_sentiments * 100\n",
        "print(\"Neutral\")\n",
        "print(anti_pred_percent_of_neutral)\n",
        "\n",
        "#Not Rated\n",
        "anti_pred_percent_of_not_rated = anti_brexit_not_rated_y_pred_logreg_count / total_pred_anti_sentiments * 100\n",
        "print(\"Not Rated\")\n",
        "print(anti_pred_percent_of_not_rated)\n",
        "\n",
        "#Positive\n",
        "anti_pred_percent_of_positive = anti_brexit_pos_y_pred_logreg_count / total_pred_anti_sentiments * 100\n",
        "print(\"Positive\")\n",
        "print(anti_pred_percent_of_positive)\n"
      ],
      "metadata": {
        "colab": {
          "base_uri": "https://localhost:8080/"
        },
        "id": "55w6qKxEGnug",
        "outputId": "3b70e750-06c1-4e27-b42c-21efd19e6eec"
      },
      "execution_count": 118,
      "outputs": [
        {
          "output_type": "stream",
          "name": "stdout",
          "text": [
            "PERCENTAGE OF EACH REAL SENTIMENT IN ANTI BREXIT\n",
            "Negative\n",
            "34.13143574717455\n",
            "Neutral\n",
            "50.06278777731268\n",
            "Not Rated\n",
            "5.784847216408539\n",
            "Positive\n",
            "10.020929259104228\n",
            "---------------------------------------------\n",
            "PERCENTAGE OF EACH PREDICTED SENTIMENT IN ANTI BREXIT\n",
            "Negative\n",
            "30.539974884889077\n",
            "Neutral\n",
            "62.45290916701549\n",
            "Not Rated\n",
            "0.6529928840519046\n",
            "Positive\n",
            "6.3541230640435336\n"
          ]
        }
      ]
    },
    {
      "cell_type": "code",
      "source": [
        "\n",
        "# Pro Brexit Sentiments\n",
        "pro_sentiments = ['Negative', 'Neutral', 'Not Rated', 'Positive']\n",
        "pro_percentages = [pro_pred_percent_of_negative, pro_pred_percent_of_neutral, pro_pred_percent_of_not_rated, pro_pred_percent_of_positive]\n",
        "\n",
        "plt.figure(figsize=(10, 6))\n",
        "bars = plt.bar(pro_sentiments, pro_percentages, color=['red', 'orange', 'gray', 'green'])\n",
        "plt.title('Percentage of Sentiments in Pro-Brexit')\n",
        "plt.xlabel('Sentiments')\n",
        "plt.ylabel('Percentage')\n",
        "plt.ylim(0, 100)  # Set y-axis limit from 0 to 100 for percentages\n",
        "\n",
        "# Adding labels to each bar\n",
        "for bar, percentage in zip(bars, pro_percentages):\n",
        "    plt.text(bar.get_x() + bar.get_width() / 2, bar.get_height() + 1,\n",
        "             f'{percentage:.2f}%', ha='center', va='bottom')\n",
        "\n",
        "plt.show()\n",
        "\n",
        "# Anti Brexit Sentiments\n",
        "anti_sentiments = ['Negative', 'Neutral', 'Not Rated', 'Positive']\n",
        "anti_percentages = [anti_pred_percent_of_negative, anti_pred_percent_of_neutral, anti_pred_percent_of_not_rated, anti_pred_percent_of_positive]\n",
        "\n",
        "plt.figure(figsize=(10, 6))\n",
        "bars = plt.bar(anti_sentiments, anti_percentages, color=['red', 'orange', 'gray', 'green'])\n",
        "plt.title('Percentage of Sentiments in Anti-Brexit')\n",
        "plt.xlabel('Sentiments')\n",
        "plt.ylabel('Percentage')\n",
        "plt.ylim(0, 100)  # Set y-axis limit from 0 to 100 for percentages\n",
        "\n",
        "# Adding labels to each bar\n",
        "for bar, percentage in zip(bars, anti_percentages):\n",
        "    plt.text(bar.get_x() + bar.get_width() / 2, bar.get_height() + 1,\n",
        "             f'{percentage:.2f}%', ha='center', va='bottom')\n",
        "\n",
        "plt.show()\n",
        "\n"
      ],
      "metadata": {
        "colab": {
          "base_uri": "https://localhost:8080/",
          "height": 1000
        },
        "id": "FpYf85-2H1zP",
        "outputId": "a88df477-62f1-4541-b608-9c0ab13fea1f"
      },
      "execution_count": 119,
      "outputs": [
        {
          "output_type": "display_data",
          "data": {
            "text/plain": [
              "<Figure size 1000x600 with 1 Axes>"
            ],
            "image/png": "[encoded data removed]"
          },
          "metadata": {}
        },
        {
          "output_type": "display_data",
          "data": {
            "text/plain": [
              "<Figure size 1000x600 with 1 Axes>"
            ],
            "image/png": "[encoded data removed]"
          },
          "metadata": {}
        }
      ]
    },
    {
      "cell_type": "code",
      "source": [
        "#Plotting the data\n",
        "\n",
        "# Pro-Brexit Sentiments - Real vs Predicted\n",
        "pro_real_sentiments = ['Negative', 'Neutral', 'Not Rated', 'Positive']\n",
        "pro_real_percentages = [pro_real_percent_of_negative, pro_real_percent_of_neutral, pro_real_percent_of_not_rated, pro_real_percent_of_positive]\n",
        "pro_pred_percentages = [pro_pred_percent_of_negative, pro_pred_percent_of_neutral, pro_pred_percent_of_not_rated, pro_pred_percent_of_positive]\n",
        "\n",
        "plt.figure(figsize=(10, 6))\n",
        "bar_width = 0.35\n",
        "index = range(len(pro_real_sentiments))\n",
        "\n",
        "bars1 = plt.bar(index, pro_real_percentages, bar_width, label='Real', color='blue')\n",
        "bars2 = plt.bar([i + bar_width for i in index], pro_pred_percentages, bar_width, label='Predicted', color='orange')\n",
        "\n",
        "plt.xlabel('Sentiments')\n",
        "plt.ylabel('Percentage')\n",
        "plt.title('Comparison of Real vs Predicted Sentiments in Pro-Brexit')\n",
        "plt.xticks([i + bar_width / 2 for i in index], pro_real_sentiments)\n",
        "plt.legend()\n",
        "\n",
        "# Adding labels to each bar\n",
        "for bars in [bars1, bars2]:\n",
        "    for bar in bars:\n",
        "        plt.text(bar.get_x() + bar.get_width() / 2, bar.get_height() + 1,\n",
        "                 f'{bar.get_height():.2f}%', ha='center', va='bottom')\n",
        "\n",
        "plt.tight_layout()\n",
        "plt.show()\n",
        "\n",
        "# Anti-Brexit Sentiments - Real vs Predicted\n",
        "anti_real_sentiments = ['Negative', 'Neutral', 'Not Rated', 'Positive']\n",
        "anti_real_percentages = [anti_real_percent_of_negative, anti_real_percent_of_neutral, anti_real_percent_of_not_rated, anti_real_percent_of_positive]\n",
        "anti_pred_percentages = [anti_percent_of_negative, anti_percent_of_neutral, anti_percent_of_not_rated, anti_percent_of_positive]\n",
        "\n",
        "plt.figure(figsize=(10, 6))\n",
        "bars1 = plt.bar(index, anti_real_percentages, bar_width, label='Real', color='blue')\n",
        "bars2 = plt.bar([i + bar_width for i in index], anti_pred_percentages, bar_width, label='Predicted', color='orange')\n",
        "\n",
        "plt.xlabel('Sentiments')\n",
        "plt.ylabel('Percentage')\n",
        "plt.title('Comparison of Real vs Predicted Sentiments in Anti-Brexit')\n",
        "plt.xticks([i + bar_width / 2 for i in index], anti_real_sentiments)\n",
        "plt.legend()\n",
        "\n",
        "# Adding labels to each bar\n",
        "for bars in [bars1, bars2]:\n",
        "    for bar in bars:\n",
        "        plt.text(bar.get_x() + bar.get_width() / 2, bar.get_height() + 1,\n",
        "                 f'{bar.get_height():.2f}%', ha='center', va='bottom')\n",
        "\n",
        "plt.tight_layout()\n",
        "plt.show()\n"
      ],
      "metadata": {
        "colab": {
          "base_uri": "https://localhost:8080/",
          "height": 1000
        },
        "id": "vkGVTrOHNSkg",
        "outputId": "4897774e-8444-429a-d85e-de408a7ab2bb"
      },
      "execution_count": 115,
      "outputs": [
        {
          "output_type": "display_data",
          "data": {
            "text/plain": [
              "<Figure size 1000x600 with 1 Axes>"
            ],
            "image/png": "[encoded data removed]"
          },
          "metadata": {}
        },
        {
          "output_type": "display_data",
          "data": {
            "text/plain": [
              "<Figure size 1000x600 with 1 Axes>"
            ],
            "image/png": "[encoded data removed]"
          },
          "metadata": {}
        }
      ]
    }
  ]
}