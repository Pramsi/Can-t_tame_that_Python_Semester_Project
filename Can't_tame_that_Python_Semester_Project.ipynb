{
  "nbformat": 4,
  "nbformat_minor": 0,
  "metadata": {
    "colab": {
      "provenance": [],
      "include_colab_link": true
    },
    "kernelspec": {
      "name": "python3",
      "display_name": "Python 3"
    },
    "language_info": {
      "name": "python"
    }
  },
  "cells": [
    {
      "cell_type": "markdown",
      "metadata": {
        "id": "view-in-github",
        "colab_type": "text"
      },
      "source": [
        "<a href=\"https://colab.research.google.com/github/Pramsi/Can-t_tame_that_Python_Semester_Project/blob/main/Can't_tame_that_Python_Semester_Project.ipynb\" target=\"_parent\"><img src=\"https://colab.research.google.com/assets/colab-badge.svg\" alt=\"Open In Colab\"/></a>"
      ]
    },
    {
      "cell_type": "markdown",
      "source": [
        "#Imports"
      ],
      "metadata": {
        "id": "JfslTEBYzR_Y"
      }
    },
    {
      "cell_type": "code",
      "source": [
        "#for data manipulation\n",
        "import numpy as np\n",
        "import pandas as pd\n",
        "\n",
        "#for data visualization\n",
        "import matplotlib.pyplot as plt\n",
        "import seaborn as sns\n",
        "\n",
        "#Other tooling\n",
        "import os\n",
        "\n",
        "#NLP\n",
        "import nltk\n",
        "nltk.download('stopwords')\n",
        "nltk.download('punkt')\n",
        "from nltk.corpus import stopwords\n",
        "from nltk.tokenize import word_tokenize\n",
        "import re\n",
        "!pip install --upgrade emoji\n",
        "import emoji\n",
        "from sklearn.feature_extraction.text import CountVectorizer\n",
        "from sklearn.feature_extraction.text import TfidfVectorizer\n",
        "\n",
        "#Machine Learning\n",
        "from sklearn.model_selection import train_test_split\n",
        "from sklearn.svm import SVC\n",
        "from sklearn.linear_model import LinearRegression\n",
        "from sklearn.linear_model import LogisticRegression\n",
        "from sklearn.ensemble import RandomForestClassifier\n",
        "from sklearn.naive_bayes import MultinomialNB\n",
        "from sklearn.preprocessing import LabelEncoder\n",
        "from sklearn.metrics import classification_report, confusion_matrix\n",
        "from sklearn.metrics import accuracy_score, precision_score, recall_score, f1_score"
      ],
      "metadata": {
        "id": "vc3bgf0j7bvu",
        "colab": {
          "base_uri": "https://localhost:8080/"
        },
        "outputId": "c5ef239d-e3c1-4cce-da0a-7e01c363400b"
      },
      "execution_count": 1,
      "outputs": [
        {
          "output_type": "stream",
          "name": "stderr",
          "text": [
            "[nltk_data] Downloading package stopwords to /root/nltk_data...\n",
            "[nltk_data]   Unzipping corpora/stopwords.zip.\n",
            "[nltk_data] Downloading package punkt to /root/nltk_data...\n",
            "[nltk_data]   Unzipping tokenizers/punkt.zip.\n"
          ]
        },
        {
          "output_type": "stream",
          "name": "stdout",
          "text": [
            "Collecting emoji\n",
            "  Downloading emoji-2.9.0-py2.py3-none-any.whl (397 kB)\n",
            "\u001b[2K     \u001b[90m━━━━━━━━━━━━━━━━━━━━━━━━━━━━━━━━━━━━━━━━\u001b[0m \u001b[32m397.5/397.5 kB\u001b[0m \u001b[31m4.7 MB/s\u001b[0m eta \u001b[36m0:00:00\u001b[0m\n",
            "\u001b[?25hInstalling collected packages: emoji\n",
            "Successfully installed emoji-2.9.0\n"
          ]
        }
      ]
    },
    {
      "cell_type": "markdown",
      "source": [
        "#Import Datafiles"
      ],
      "metadata": {
        "id": "j-_VIWYJQ5Eh"
      }
    },
    {
      "cell_type": "code",
      "source": [
        "# create kaggle directory and add kaggle.json\n",
        "from google.colab import files\n",
        "files.upload()\n",
        "\n",
        "! mkdir -p ~/.kaggle #create kaggle directory\n",
        "! mv kaggle.json ~/.kaggle/ #move json file there\n",
        "! chmod 600 ~/.kaggle/kaggle.json #change permission of the file"
      ],
      "metadata": {
        "colab": {
          "base_uri": "https://localhost:8080/",
          "height": 92
        },
        "id": "c9EF35qmQ8Hp",
        "outputId": "91c78e5a-2524-4bb8-cca7-8cc7bdee26ba"
      },
      "execution_count": 6,
      "outputs": [
        {
          "output_type": "display_data",
          "data": {
            "text/plain": [
              "<IPython.core.display.HTML object>"
            ],
            "text/html": [
              "\n",
              "     <input type=\"file\" id=\"files-fe49c640-e79c-4a04-acc7-a6312e8fd322\" name=\"files[]\" multiple disabled\n",
              "        style=\"border:none\" />\n",
              "     <output id=\"result-fe49c640-e79c-4a04-acc7-a6312e8fd322\">\n",
              "      Upload widget is only available when the cell has been executed in the\n",
              "      current browser session. Please rerun this cell to enable.\n",
              "      </output>\n",
              "      <script>// Copyright 2017 Google LLC\n",
              "//\n",
              "// Licensed under the Apache License, Version 2.0 (the \"License\");\n",
              "// you may not use this file except in compliance with the License.\n",
              "// You may obtain a copy of the License at\n",
              "//\n",
              "//      http://www.apache.org/licenses/LICENSE-2.0\n",
              "//\n",
              "// Unless required by applicable law or agreed to in writing, software\n",
              "// distributed under the License is distributed on an \"AS IS\" BASIS,\n",
              "// WITHOUT WARRANTIES OR CONDITIONS OF ANY KIND, either express or implied.\n",
              "// See the License for the specific language governing permissions and\n",
              "// limitations under the License.\n",
              "\n",
              "/**\n",
              " * @fileoverview Helpers for google.colab Python module.\n",
              " */\n",
              "(function(scope) {\n",
              "function span(text, styleAttributes = {}) {\n",
              "  const element = document.createElement('span');\n",
              "  element.textContent = text;\n",
              "  for (const key of Object.keys(styleAttributes)) {\n",
              "    element.style[key] = styleAttributes[key];\n",
              "  }\n",
              "  return element;\n",
              "}\n",
              "\n",
              "// Max number of bytes which will be uploaded at a time.\n",
              "const MAX_PAYLOAD_SIZE = 100 * 1024;\n",
              "\n",
              "function _uploadFiles(inputId, outputId) {\n",
              "  const steps = uploadFilesStep(inputId, outputId);\n",
              "  const outputElement = document.getElementById(outputId);\n",
              "  // Cache steps on the outputElement to make it available for the next call\n",
              "  // to uploadFilesContinue from Python.\n",
              "  outputElement.steps = steps;\n",
              "\n",
              "  return _uploadFilesContinue(outputId);\n",
              "}\n",
              "\n",
              "// This is roughly an async generator (not supported in the browser yet),\n",
              "// where there are multiple asynchronous steps and the Python side is going\n",
              "// to poll for completion of each step.\n",
              "// This uses a Promise to block the python side on completion of each step,\n",
              "// then passes the result of the previous step as the input to the next step.\n",
              "function _uploadFilesContinue(outputId) {\n",
              "  const outputElement = document.getElementById(outputId);\n",
              "  const steps = outputElement.steps;\n",
              "\n",
              "  const next = steps.next(outputElement.lastPromiseValue);\n",
              "  return Promise.resolve(next.value.promise).then((value) => {\n",
              "    // Cache the last promise value to make it available to the next\n",
              "    // step of the generator.\n",
              "    outputElement.lastPromiseValue = value;\n",
              "    return next.value.response;\n",
              "  });\n",
              "}\n",
              "\n",
              "/**\n",
              " * Generator function which is called between each async step of the upload\n",
              " * process.\n",
              " * @param {string} inputId Element ID of the input file picker element.\n",
              " * @param {string} outputId Element ID of the output display.\n",
              " * @return {!Iterable<!Object>} Iterable of next steps.\n",
              " */\n",
              "function* uploadFilesStep(inputId, outputId) {\n",
              "  const inputElement = document.getElementById(inputId);\n",
              "  inputElement.disabled = false;\n",
              "\n",
              "  const outputElement = document.getElementById(outputId);\n",
              "  outputElement.innerHTML = '';\n",
              "\n",
              "  const pickedPromise = new Promise((resolve) => {\n",
              "    inputElement.addEventListener('change', (e) => {\n",
              "      resolve(e.target.files);\n",
              "    });\n",
              "  });\n",
              "\n",
              "  const cancel = document.createElement('button');\n",
              "  inputElement.parentElement.appendChild(cancel);\n",
              "  cancel.textContent = 'Cancel upload';\n",
              "  const cancelPromise = new Promise((resolve) => {\n",
              "    cancel.onclick = () => {\n",
              "      resolve(null);\n",
              "    };\n",
              "  });\n",
              "\n",
              "  // Wait for the user to pick the files.\n",
              "  const files = yield {\n",
              "    promise: Promise.race([pickedPromise, cancelPromise]),\n",
              "    response: {\n",
              "      action: 'starting',\n",
              "    }\n",
              "  };\n",
              "\n",
              "  cancel.remove();\n",
              "\n",
              "  // Disable the input element since further picks are not allowed.\n",
              "  inputElement.disabled = true;\n",
              "\n",
              "  if (!files) {\n",
              "    return {\n",
              "      response: {\n",
              "        action: 'complete',\n",
              "      }\n",
              "    };\n",
              "  }\n",
              "\n",
              "  for (const file of files) {\n",
              "    const li = document.createElement('li');\n",
              "    li.append(span(file.name, {fontWeight: 'bold'}));\n",
              "    li.append(span(\n",
              "        `(${file.type || 'n/a'}) - ${file.size} bytes, ` +\n",
              "        `last modified: ${\n",
              "            file.lastModifiedDate ? file.lastModifiedDate.toLocaleDateString() :\n",
              "                                    'n/a'} - `));\n",
              "    const percent = span('0% done');\n",
              "    li.appendChild(percent);\n",
              "\n",
              "    outputElement.appendChild(li);\n",
              "\n",
              "    const fileDataPromise = new Promise((resolve) => {\n",
              "      const reader = new FileReader();\n",
              "      reader.onload = (e) => {\n",
              "        resolve(e.target.result);\n",
              "      };\n",
              "      reader.readAsArrayBuffer(file);\n",
              "    });\n",
              "    // Wait for the data to be ready.\n",
              "    let fileData = yield {\n",
              "      promise: fileDataPromise,\n",
              "      response: {\n",
              "        action: 'continue',\n",
              "      }\n",
              "    };\n",
              "\n",
              "    // Use a chunked sending to avoid message size limits. See b/62115660.\n",
              "    let position = 0;\n",
              "    do {\n",
              "      const length = Math.min(fileData.byteLength - position, MAX_PAYLOAD_SIZE);\n",
              "      const chunk = new Uint8Array(fileData, position, length);\n",
              "      position += length;\n",
              "\n",
              "      const base64 = btoa(String.fromCharCode.apply(null, chunk));\n",
              "      yield {\n",
              "        response: {\n",
              "          action: 'append',\n",
              "          file: file.name,\n",
              "          data: base64,\n",
              "        },\n",
              "      };\n",
              "\n",
              "      let percentDone = fileData.byteLength === 0 ?\n",
              "          100 :\n",
              "          Math.round((position / fileData.byteLength) * 100);\n",
              "      percent.textContent = `${percentDone}% done`;\n",
              "\n",
              "    } while (position < fileData.byteLength);\n",
              "  }\n",
              "\n",
              "  // All done.\n",
              "  yield {\n",
              "    response: {\n",
              "      action: 'complete',\n",
              "    }\n",
              "  };\n",
              "}\n",
              "\n",
              "scope.google = scope.google || {};\n",
              "scope.google.colab = scope.google.colab || {};\n",
              "scope.google.colab._files = {\n",
              "  _uploadFiles,\n",
              "  _uploadFilesContinue,\n",
              "};\n",
              "})(self);\n",
              "</script> "
            ]
          },
          "metadata": {}
        },
        {
          "output_type": "stream",
          "name": "stdout",
          "text": [
            "Saving kaggle (1).json to kaggle (1).json\n",
            "mv: cannot stat 'kaggle.json': No such file or directory\n"
          ]
        }
      ]
    },
    {
      "cell_type": "code",
      "source": [
        "#create gitignore and add kaggle\n",
        "%%writefile .gitignore\n",
        ".kaggle/"
      ],
      "metadata": {
        "colab": {
          "base_uri": "https://localhost:8080/"
        },
        "id": "XuqwuyhOkQAL",
        "outputId": "2b903b52-338c-4e83-ccb9-2c512b429fec"
      },
      "execution_count": 7,
      "outputs": [
        {
          "output_type": "stream",
          "name": "stdout",
          "text": [
            "Overwriting .gitignore\n"
          ]
        }
      ]
    },
    {
      "cell_type": "code",
      "source": [
        "#upload brexit dataset\n",
        "!kaggle datasets download -d visalakshiiyer/twitter-data-brexit\n",
        "! mkdir brexitTweets #create folder with files\n",
        "! unzip twitter-data-brexit.zip -d brexitTweets #unzip data and save in folder"
      ],
      "metadata": {
        "colab": {
          "base_uri": "https://localhost:8080/"
        },
        "id": "8fUep9bVSLwQ",
        "outputId": "8f8c1553-be67-4352-8e39-ffb0a6ffedc1"
      },
      "execution_count": 9,
      "outputs": [
        {
          "output_type": "stream",
          "name": "stdout",
          "text": [
            "Traceback (most recent call last):\n",
            "  File \"/usr/local/bin/kaggle\", line 8, in <module>\n",
            "    sys.exit(main())\n",
            "  File \"/usr/local/lib/python3.10/dist-packages/kaggle/cli.py\", line 70, in main\n",
            "    out = args.func(**command_args)\n",
            "  File \"/usr/local/lib/python3.10/dist-packages/kaggle/api/kaggle_api_extended.py\", line 1493, in dataset_download_cli\n",
            "    self.dataset_download_files(dataset,\n",
            "  File \"/usr/local/lib/python3.10/dist-packages/kaggle/api/kaggle_api_extended.py\", line 1447, in dataset_download_files\n",
            "    self.download_file(response, outfile, quiet, not force)\n",
            "  File \"/usr/local/lib/python3.10/dist-packages/kaggle/api/kaggle_api_extended.py\", line 1834, in download_file\n",
            "    size = int(response.headers['Content-Length'])\n",
            "  File \"/usr/local/lib/python3.10/dist-packages/urllib3/_collections.py\", line 258, in __getitem__\n",
            "    val = self._container[key.lower()]\n",
            "KeyError: 'content-length'\n",
            "mkdir: cannot create directory ‘brexitTweets’: File exists\n",
            "unzip:  cannot find or open twitter-data-brexit.zip, twitter-data-brexit.zip.zip or twitter-data-brexit.zip.ZIP.\n"
          ]
        }
      ]
    },
    {
      "cell_type": "code",
      "source": [
        "!ls -a\n"
      ],
      "metadata": {
        "id": "GyL49wx4Z4G6",
        "outputId": "4bdd388c-9a34-4b1c-d2d1-4a5986d6e04f",
        "colab": {
          "base_uri": "https://localhost:8080/"
        }
      },
      "execution_count": 11,
      "outputs": [
        {
          "output_type": "stream",
          "name": "stdout",
          "text": [
            " .   ..   brexitTweets\t .config   .gitignore  'kaggle (1).json'   sample_data\n"
          ]
        }
      ]
    },
    {
      "cell_type": "code",
      "source": [
        "#Load Datasets\n",
        "dfAnti = pd.read_csv(\"brexitTweets/TweetDataset_AntiBrexit_Jan-Mar2022.csv\")\n",
        "dfPro = pd.read_csv(\"brexitTweets/TweetDataset_ProBrexit_Jan-Mar2022.csv\")"
      ],
      "metadata": {
        "id": "knFBOlimkmhU",
        "outputId": "13ad3408-4acc-43a5-955c-bbcd9cdab228",
        "colab": {
          "base_uri": "https://localhost:8080/",
          "height": 368
        }
      },
      "execution_count": 10,
      "outputs": [
        {
          "output_type": "error",
          "ename": "FileNotFoundError",
          "evalue": "ignored",
          "traceback": [
            "\u001b[0;31m---------------------------------------------------------------------------\u001b[0m",
            "\u001b[0;31mFileNotFoundError\u001b[0m                         Traceback (most recent call last)",
            "\u001b[0;32m<ipython-input-10-284d0d267991>\u001b[0m in \u001b[0;36m<cell line: 2>\u001b[0;34m()\u001b[0m\n\u001b[1;32m      1\u001b[0m \u001b[0;31m#Load Datasets\u001b[0m\u001b[0;34m\u001b[0m\u001b[0;34m\u001b[0m\u001b[0m\n\u001b[0;32m----> 2\u001b[0;31m \u001b[0mdfAnti\u001b[0m \u001b[0;34m=\u001b[0m \u001b[0mpd\u001b[0m\u001b[0;34m.\u001b[0m\u001b[0mread_csv\u001b[0m\u001b[0;34m(\u001b[0m\u001b[0;34m\"brexitTweets/TweetDataset_AntiBrexit_Jan-Mar2022.csv\"\u001b[0m\u001b[0;34m)\u001b[0m\u001b[0;34m\u001b[0m\u001b[0;34m\u001b[0m\u001b[0m\n\u001b[0m\u001b[1;32m      3\u001b[0m \u001b[0mdfPro\u001b[0m \u001b[0;34m=\u001b[0m \u001b[0mpd\u001b[0m\u001b[0;34m.\u001b[0m\u001b[0mread_csv\u001b[0m\u001b[0;34m(\u001b[0m\u001b[0;34m\"brexitTweets/TweetDataset_ProBrexit_Jan-Mar2022.csv\"\u001b[0m\u001b[0;34m)\u001b[0m\u001b[0;34m\u001b[0m\u001b[0;34m\u001b[0m\u001b[0m\n",
            "\u001b[0;32m/usr/local/lib/python3.10/dist-packages/pandas/util/_decorators.py\u001b[0m in \u001b[0;36mwrapper\u001b[0;34m(*args, **kwargs)\u001b[0m\n\u001b[1;32m    209\u001b[0m                 \u001b[0;32melse\u001b[0m\u001b[0;34m:\u001b[0m\u001b[0;34m\u001b[0m\u001b[0;34m\u001b[0m\u001b[0m\n\u001b[1;32m    210\u001b[0m                     \u001b[0mkwargs\u001b[0m\u001b[0;34m[\u001b[0m\u001b[0mnew_arg_name\u001b[0m\u001b[0;34m]\u001b[0m \u001b[0;34m=\u001b[0m \u001b[0mnew_arg_value\u001b[0m\u001b[0;34m\u001b[0m\u001b[0;34m\u001b[0m\u001b[0m\n\u001b[0;32m--> 211\u001b[0;31m             \u001b[0;32mreturn\u001b[0m \u001b[0mfunc\u001b[0m\u001b[0;34m(\u001b[0m\u001b[0;34m*\u001b[0m\u001b[0margs\u001b[0m\u001b[0;34m,\u001b[0m \u001b[0;34m**\u001b[0m\u001b[0mkwargs\u001b[0m\u001b[0;34m)\u001b[0m\u001b[0;34m\u001b[0m\u001b[0;34m\u001b[0m\u001b[0m\n\u001b[0m\u001b[1;32m    212\u001b[0m \u001b[0;34m\u001b[0m\u001b[0m\n\u001b[1;32m    213\u001b[0m         \u001b[0;32mreturn\u001b[0m \u001b[0mcast\u001b[0m\u001b[0;34m(\u001b[0m\u001b[0mF\u001b[0m\u001b[0;34m,\u001b[0m \u001b[0mwrapper\u001b[0m\u001b[0;34m)\u001b[0m\u001b[0;34m\u001b[0m\u001b[0;34m\u001b[0m\u001b[0m\n",
            "\u001b[0;32m/usr/local/lib/python3.10/dist-packages/pandas/util/_decorators.py\u001b[0m in \u001b[0;36mwrapper\u001b[0;34m(*args, **kwargs)\u001b[0m\n\u001b[1;32m    329\u001b[0m                     \u001b[0mstacklevel\u001b[0m\u001b[0;34m=\u001b[0m\u001b[0mfind_stack_level\u001b[0m\u001b[0;34m(\u001b[0m\u001b[0;34m)\u001b[0m\u001b[0;34m,\u001b[0m\u001b[0;34m\u001b[0m\u001b[0;34m\u001b[0m\u001b[0m\n\u001b[1;32m    330\u001b[0m                 )\n\u001b[0;32m--> 331\u001b[0;31m             \u001b[0;32mreturn\u001b[0m \u001b[0mfunc\u001b[0m\u001b[0;34m(\u001b[0m\u001b[0;34m*\u001b[0m\u001b[0margs\u001b[0m\u001b[0;34m,\u001b[0m \u001b[0;34m**\u001b[0m\u001b[0mkwargs\u001b[0m\u001b[0;34m)\u001b[0m\u001b[0;34m\u001b[0m\u001b[0;34m\u001b[0m\u001b[0m\n\u001b[0m\u001b[1;32m    332\u001b[0m \u001b[0;34m\u001b[0m\u001b[0m\n\u001b[1;32m    333\u001b[0m         \u001b[0;31m# error: \"Callable[[VarArg(Any), KwArg(Any)], Any]\" has no\u001b[0m\u001b[0;34m\u001b[0m\u001b[0;34m\u001b[0m\u001b[0m\n",
            "\u001b[0;32m/usr/local/lib/python3.10/dist-packages/pandas/io/parsers/readers.py\u001b[0m in \u001b[0;36mread_csv\u001b[0;34m(filepath_or_buffer, sep, delimiter, header, names, index_col, usecols, squeeze, prefix, mangle_dupe_cols, dtype, engine, converters, true_values, false_values, skipinitialspace, skiprows, skipfooter, nrows, na_values, keep_default_na, na_filter, verbose, skip_blank_lines, parse_dates, infer_datetime_format, keep_date_col, date_parser, dayfirst, cache_dates, iterator, chunksize, compression, thousands, decimal, lineterminator, quotechar, quoting, doublequote, escapechar, comment, encoding, encoding_errors, dialect, error_bad_lines, warn_bad_lines, on_bad_lines, delim_whitespace, low_memory, memory_map, float_precision, storage_options)\u001b[0m\n\u001b[1;32m    948\u001b[0m     \u001b[0mkwds\u001b[0m\u001b[0;34m.\u001b[0m\u001b[0mupdate\u001b[0m\u001b[0;34m(\u001b[0m\u001b[0mkwds_defaults\u001b[0m\u001b[0;34m)\u001b[0m\u001b[0;34m\u001b[0m\u001b[0;34m\u001b[0m\u001b[0m\n\u001b[1;32m    949\u001b[0m \u001b[0;34m\u001b[0m\u001b[0m\n\u001b[0;32m--> 950\u001b[0;31m     \u001b[0;32mreturn\u001b[0m \u001b[0m_read\u001b[0m\u001b[0;34m(\u001b[0m\u001b[0mfilepath_or_buffer\u001b[0m\u001b[0;34m,\u001b[0m \u001b[0mkwds\u001b[0m\u001b[0;34m)\u001b[0m\u001b[0;34m\u001b[0m\u001b[0;34m\u001b[0m\u001b[0m\n\u001b[0m\u001b[1;32m    951\u001b[0m \u001b[0;34m\u001b[0m\u001b[0m\n\u001b[1;32m    952\u001b[0m \u001b[0;34m\u001b[0m\u001b[0m\n",
            "\u001b[0;32m/usr/local/lib/python3.10/dist-packages/pandas/io/parsers/readers.py\u001b[0m in \u001b[0;36m_read\u001b[0;34m(filepath_or_buffer, kwds)\u001b[0m\n\u001b[1;32m    603\u001b[0m \u001b[0;34m\u001b[0m\u001b[0m\n\u001b[1;32m    604\u001b[0m     \u001b[0;31m# Create the parser.\u001b[0m\u001b[0;34m\u001b[0m\u001b[0;34m\u001b[0m\u001b[0m\n\u001b[0;32m--> 605\u001b[0;31m     \u001b[0mparser\u001b[0m \u001b[0;34m=\u001b[0m \u001b[0mTextFileReader\u001b[0m\u001b[0;34m(\u001b[0m\u001b[0mfilepath_or_buffer\u001b[0m\u001b[0;34m,\u001b[0m \u001b[0;34m**\u001b[0m\u001b[0mkwds\u001b[0m\u001b[0;34m)\u001b[0m\u001b[0;34m\u001b[0m\u001b[0;34m\u001b[0m\u001b[0m\n\u001b[0m\u001b[1;32m    606\u001b[0m \u001b[0;34m\u001b[0m\u001b[0m\n\u001b[1;32m    607\u001b[0m     \u001b[0;32mif\u001b[0m \u001b[0mchunksize\u001b[0m \u001b[0;32mor\u001b[0m \u001b[0miterator\u001b[0m\u001b[0;34m:\u001b[0m\u001b[0;34m\u001b[0m\u001b[0;34m\u001b[0m\u001b[0m\n",
            "\u001b[0;32m/usr/local/lib/python3.10/dist-packages/pandas/io/parsers/readers.py\u001b[0m in \u001b[0;36m__init__\u001b[0;34m(self, f, engine, **kwds)\u001b[0m\n\u001b[1;32m   1440\u001b[0m \u001b[0;34m\u001b[0m\u001b[0m\n\u001b[1;32m   1441\u001b[0m         \u001b[0mself\u001b[0m\u001b[0;34m.\u001b[0m\u001b[0mhandles\u001b[0m\u001b[0;34m:\u001b[0m \u001b[0mIOHandles\u001b[0m \u001b[0;34m|\u001b[0m \u001b[0;32mNone\u001b[0m \u001b[0;34m=\u001b[0m \u001b[0;32mNone\u001b[0m\u001b[0;34m\u001b[0m\u001b[0;34m\u001b[0m\u001b[0m\n\u001b[0;32m-> 1442\u001b[0;31m         \u001b[0mself\u001b[0m\u001b[0;34m.\u001b[0m\u001b[0m_engine\u001b[0m \u001b[0;34m=\u001b[0m \u001b[0mself\u001b[0m\u001b[0;34m.\u001b[0m\u001b[0m_make_engine\u001b[0m\u001b[0;34m(\u001b[0m\u001b[0mf\u001b[0m\u001b[0;34m,\u001b[0m \u001b[0mself\u001b[0m\u001b[0;34m.\u001b[0m\u001b[0mengine\u001b[0m\u001b[0;34m)\u001b[0m\u001b[0;34m\u001b[0m\u001b[0;34m\u001b[0m\u001b[0m\n\u001b[0m\u001b[1;32m   1443\u001b[0m \u001b[0;34m\u001b[0m\u001b[0m\n\u001b[1;32m   1444\u001b[0m     \u001b[0;32mdef\u001b[0m \u001b[0mclose\u001b[0m\u001b[0;34m(\u001b[0m\u001b[0mself\u001b[0m\u001b[0;34m)\u001b[0m \u001b[0;34m->\u001b[0m \u001b[0;32mNone\u001b[0m\u001b[0;34m:\u001b[0m\u001b[0;34m\u001b[0m\u001b[0;34m\u001b[0m\u001b[0m\n",
            "\u001b[0;32m/usr/local/lib/python3.10/dist-packages/pandas/io/parsers/readers.py\u001b[0m in \u001b[0;36m_make_engine\u001b[0;34m(self, f, engine)\u001b[0m\n\u001b[1;32m   1733\u001b[0m                 \u001b[0;32mif\u001b[0m \u001b[0;34m\"b\"\u001b[0m \u001b[0;32mnot\u001b[0m \u001b[0;32min\u001b[0m \u001b[0mmode\u001b[0m\u001b[0;34m:\u001b[0m\u001b[0;34m\u001b[0m\u001b[0;34m\u001b[0m\u001b[0m\n\u001b[1;32m   1734\u001b[0m                     \u001b[0mmode\u001b[0m \u001b[0;34m+=\u001b[0m \u001b[0;34m\"b\"\u001b[0m\u001b[0;34m\u001b[0m\u001b[0;34m\u001b[0m\u001b[0m\n\u001b[0;32m-> 1735\u001b[0;31m             self.handles = get_handle(\n\u001b[0m\u001b[1;32m   1736\u001b[0m                 \u001b[0mf\u001b[0m\u001b[0;34m,\u001b[0m\u001b[0;34m\u001b[0m\u001b[0;34m\u001b[0m\u001b[0m\n\u001b[1;32m   1737\u001b[0m                 \u001b[0mmode\u001b[0m\u001b[0;34m,\u001b[0m\u001b[0;34m\u001b[0m\u001b[0;34m\u001b[0m\u001b[0m\n",
            "\u001b[0;32m/usr/local/lib/python3.10/dist-packages/pandas/io/common.py\u001b[0m in \u001b[0;36mget_handle\u001b[0;34m(path_or_buf, mode, encoding, compression, memory_map, is_text, errors, storage_options)\u001b[0m\n\u001b[1;32m    854\u001b[0m         \u001b[0;32mif\u001b[0m \u001b[0mioargs\u001b[0m\u001b[0;34m.\u001b[0m\u001b[0mencoding\u001b[0m \u001b[0;32mand\u001b[0m \u001b[0;34m\"b\"\u001b[0m \u001b[0;32mnot\u001b[0m \u001b[0;32min\u001b[0m \u001b[0mioargs\u001b[0m\u001b[0;34m.\u001b[0m\u001b[0mmode\u001b[0m\u001b[0;34m:\u001b[0m\u001b[0;34m\u001b[0m\u001b[0;34m\u001b[0m\u001b[0m\n\u001b[1;32m    855\u001b[0m             \u001b[0;31m# Encoding\u001b[0m\u001b[0;34m\u001b[0m\u001b[0;34m\u001b[0m\u001b[0m\n\u001b[0;32m--> 856\u001b[0;31m             handle = open(\n\u001b[0m\u001b[1;32m    857\u001b[0m                 \u001b[0mhandle\u001b[0m\u001b[0;34m,\u001b[0m\u001b[0;34m\u001b[0m\u001b[0;34m\u001b[0m\u001b[0m\n\u001b[1;32m    858\u001b[0m                 \u001b[0mioargs\u001b[0m\u001b[0;34m.\u001b[0m\u001b[0mmode\u001b[0m\u001b[0;34m,\u001b[0m\u001b[0;34m\u001b[0m\u001b[0;34m\u001b[0m\u001b[0m\n",
            "\u001b[0;31mFileNotFoundError\u001b[0m: [Errno 2] No such file or directory: 'brexitTweets/TweetDataset_AntiBrexit_Jan-Mar2022.csv'"
          ]
        }
      ]
    },
    {
      "cell_type": "code",
      "source": [
        "#Check Data\n",
        "dfAnti.head()"
      ],
      "metadata": {
        "id": "STMmIf3CmyxR"
      },
      "execution_count": null,
      "outputs": []
    },
    {
      "cell_type": "markdown",
      "source": [
        "#Preprocessing"
      ],
      "metadata": {
        "id": "W9rOuBxjpMID"
      }
    },
    {
      "cell_type": "code",
      "source": [
        "# label pro and anti tweets and concatenate the two files\n",
        "dfAnti['Position'] = 0\n",
        "dfPro['Position'] = 1\n",
        "\n",
        "df = pd.concat([dfAnti, dfPro])\n",
        "\n",
        "#drop unwanted data\n",
        "df.drop(['Unnamed: 0', 'Date', 'Headline', 'URL', 'Opening Text', 'Source', 'Influencer', 'Country', 'Subregion', 'Language', 'Reach', 'Desktop Reach', 'Mobile Reach', 'Twitter Social Echo', 'Facebook Social Echo', 'Reddit Social Echo', 'National Viewership', 'Engagement', 'AVE', 'Key Phrases', 'Input Name', 'Keywords', 'Twitter Authority', 'Tweet Id', 'Twitter Id', 'Twitter Client', 'Twitter Screen Name', 'User Profile Url', 'Twitter Bio', 'Twitter Followers', 'Twitter Following', 'Alternate Date Format', 'Time', 'State', 'City', 'Document Tags'], axis = 1, inplace=True)\n",
        "\n",
        "#count the data\n",
        "df.Position.value_counts()"
      ],
      "metadata": {
        "id": "lN3eLR7ApSrw"
      },
      "execution_count": null,
      "outputs": []
    },
    {
      "cell_type": "code",
      "source": [
        "#Clean Hit Sentence - Remove Retweets\n",
        "df_no_rt = df[df['Hit Sentence'].str.contains(\"RT @\")==False]\n",
        "df_no_qt = df_no_rt[df_no_rt['Hit Sentence'].str.contains(\"QT @\")==False]\n",
        "\n",
        "#how many tweets were retweeted and qoted?\n",
        "print(f'Amount of retweets and quote tweets in percentage:{round(100*(1-len(df_no_qt)/len(df)),1)}%')\n",
        "print(df_no_qt)"
      ],
      "metadata": {
        "id": "avo_xXqw4wG2"
      },
      "execution_count": null,
      "outputs": []
    },
    {
      "cell_type": "code",
      "source": [
        "#How many Pro and Anti Tweets are left\n",
        "df_no_qt.Position.value_counts()"
      ],
      "metadata": {
        "id": "zMglByNwAodV"
      },
      "execution_count": null,
      "outputs": []
    },
    {
      "cell_type": "code",
      "source": [
        "#Preprocess Helper Functions\n",
        "\n",
        "#to lower case\n",
        "def lowercase(tweet: str) -> str:\n",
        "  preprocessedTweet = str.lower(tweet)\n",
        "  return preprocessedTweet\n",
        "\n",
        "#remove hashtags\n",
        "def remove_hashtags(tweet: str) -> str:\n",
        "  preprocessedTweet = re.sub('#[a-zA-Z0-9_]+','',tweet)\n",
        "  return preprocessedTweet\n",
        "\n",
        "#remove mentions\n",
        "def remove_mentions(tweet: str) -> str:\n",
        "  preprocessedTweet = re.sub('@[a-zA-Z0-9_]+','',tweet)\n",
        "  return preprocessedTweet\n",
        "\n",
        "#remove emojis\n",
        "def remove_emojis(tweet: str) -> str:\n",
        "    emoji_pattern = re.compile(\"[\"\n",
        "                               u\"\\U0001F600-\\U0001F64F\"  # emoticons\n",
        "                               u\"\\U0001F300-\\U0001F5FF\"  # symbols & pictographs\n",
        "                               u\"\\U0001F680-\\U0001F6FF\"  # transport & map symbols\n",
        "                               u\"\\U0001F700-\\U0001F77F\"  # alchemical symbols\n",
        "                               u\"\\U0001F780-\\U0001F7FF\"  # Geometric Shapes Extended\n",
        "                               u\"\\U0001F800-\\U0001F8FF\"  # Supplemental Arrows-C\n",
        "                               u\"\\U0001F900-\\U0001F9FF\"  # Supplemental Symbols and Pictographs\n",
        "                               u\"\\U0001FA00-\\U0001FA6F\"  # Chess Symbols\n",
        "                               u\"\\U0001FA70-\\U0001FAFF\"  # Symbols and Pictographs Extended-A\n",
        "                               u\"\\U00002702-\\U000027B0\"  # Dingbats\n",
        "                               u\"\\U000024C2-\\U0001F251\"\n",
        "                               \"]+\", flags=re.UNICODE)\n",
        "    return emoji_pattern.sub('', tweet)\n",
        "\n",
        "#remove stopwords\n",
        "def remove_stopwords(tweet: str) -> str:\n",
        "    word_list = tweet.split()\n",
        "    filtered_words = [word for word in word_list if word not in set(stopwords.words('english'))]\n",
        "    return ' '.join(filtered_words)\n",
        "\n",
        "# Function to combine all preprocessing steps\n",
        "def preprocess_tweet(tweet: str) -> str:\n",
        "    tweet = lowercase(tweet)\n",
        "    tweet = remove_hashtags(tweet)\n",
        "    tweet = remove_mentions(tweet)\n",
        "    tweet = remove_stopwords(tweet)\n",
        "    tweet = remove_emojis(tweet)\n",
        "    return tweet"
      ],
      "metadata": {
        "id": "hu0tTVoRFPWJ"
      },
      "execution_count": null,
      "outputs": []
    },
    {
      "cell_type": "code",
      "source": [
        "# no retweets and no quote tweets / no cleaned column yet\n",
        "df_no_qt.head()"
      ],
      "metadata": {
        "id": "sixZt0u9l-0Y"
      },
      "execution_count": null,
      "outputs": []
    },
    {
      "cell_type": "code",
      "source": [
        "# create cleaned tweet column\n",
        "df_no_qt['tweet_clean'] = df_no_qt['Hit Sentence'].apply(preprocess_tweet)"
      ],
      "metadata": {
        "id": "SEWevIIsm3mk"
      },
      "execution_count": null,
      "outputs": []
    },
    {
      "cell_type": "code",
      "source": [
        "# with cleaned tweet column\n",
        "df_no_qt.head()"
      ],
      "metadata": {
        "id": "jqbgPv2LpJvx"
      },
      "execution_count": null,
      "outputs": []
    },
    {
      "cell_type": "markdown",
      "source": [
        "#Split and Vectorize the data"
      ],
      "metadata": {
        "id": "jRZK-vWy46GK"
      }
    },
    {
      "cell_type": "code",
      "source": [
        "# Set X and y label\n",
        "X_preprocessed = df_no_qt[\"tweet_clean\"]\n",
        "y = df_no_qt[\"Sentiment\"]"
      ],
      "metadata": {
        "id": "Pk7rg9qE7SFC"
      },
      "execution_count": null,
      "outputs": []
    },
    {
      "cell_type": "code",
      "source": [
        "# Encode the y labels\n",
        "label_encoder = LabelEncoder()\n",
        "y_encoded = label_encoder.fit_transform(y)"
      ],
      "metadata": {
        "id": "XaGrwBeeV2uk"
      },
      "execution_count": null,
      "outputs": []
    },
    {
      "cell_type": "code",
      "source": [
        "# Split the data\n",
        "X_train, X_test, y_train, y_test = train_test_split(X_preprocessed, y_encoded, test_size=0.3, random_state=42)"
      ],
      "metadata": {
        "id": "jrZDZXE848jb"
      },
      "execution_count": null,
      "outputs": []
    },
    {
      "cell_type": "code",
      "source": [
        "#Vectorize the data\n",
        "tfidf_vectorizer = TfidfVectorizer(stop_words='english') #make sure that all stopwords are excluded, stopword list might differ\n",
        "tfidf_train = tfidf_vectorizer.fit_transform(X_train)\n",
        "tfidf_test = tfidf_vectorizer.transform(X_test)\n",
        "\n",
        "count_vectorizer = CountVectorizer(stop_words=\"english\") #make sure that all stopwords are excluded\n",
        "count_train = count_vectorizer.fit_transform(X_train)\n",
        "count_test = count_vectorizer.transform(X_test)"
      ],
      "metadata": {
        "id": "9imtn-Ph9VvM"
      },
      "execution_count": null,
      "outputs": []
    },
    {
      "cell_type": "markdown",
      "source": [
        "#Train Models with Tfidf Vectorizer"
      ],
      "metadata": {
        "id": "Xss2VgWFDWPy"
      }
    },
    {
      "cell_type": "code",
      "source": [
        "# Initialize a Support Vector Classifier (SVC) with a linear kernel\n",
        "# svm_linear_tfidf = SVC(kernel='linear', C=1)\n",
        "\n",
        "# Train the classifier using the tfidf training data and training labels\n",
        "# svm_linear_tfidf.fit(tfidf_train, y_train)"
      ],
      "metadata": {
        "id": "IKQKTioyDgT6"
      },
      "execution_count": null,
      "outputs": []
    },
    {
      "cell_type": "code",
      "source": [
        "# Initialize a Logistic Regression Model\n",
        "log_reg_tfidf = LogisticRegression(C=1, solver='lbfgs', max_iter=1000)\n",
        "\n",
        "#Train the Linear Regression Model using the tfidf data\n",
        "log_reg_tfidf.fit(tfidf_train, y_train)"
      ],
      "metadata": {
        "id": "D1T2vBlTHPfl"
      },
      "execution_count": null,
      "outputs": []
    },
    {
      "cell_type": "code",
      "source": [
        "# Initialize a Random Forest Classifier\n",
        "random_forest_tfidf = RandomForestClassifier(max_depth=None, n_estimators=100, random_state=42)\n",
        "\n",
        "# Fit the Random Forest Classifier on the training data\n",
        "random_forest_tfidf.fit(tfidf_train, y_train)"
      ],
      "metadata": {
        "id": "egJC1gAkHo35"
      },
      "execution_count": null,
      "outputs": []
    },
    {
      "cell_type": "code",
      "source": [
        "# Initialize Naive Bayes Classifier\n",
        "nb_classifier_tfidf = MultinomialNB()\n",
        "\n",
        "# Fit the Naive Bayes Classifier with the tfidf data\n",
        "nb_classifier_tfidf.fit(tfidf_train, y_train)"
      ],
      "metadata": {
        "id": "fw8SiYSGPmrl"
      },
      "execution_count": null,
      "outputs": []
    },
    {
      "cell_type": "markdown",
      "source": [
        "Make predictions with Tfidf vectorized data"
      ],
      "metadata": {
        "id": "YYcwinBnQlWY"
      }
    },
    {
      "cell_type": "code",
      "source": [
        "# Predict the labels for the tfidf vectorized data using a linear SVM model\n",
        "# y_pred_svm_tfidf = svm_linear_tfidf.predict(tfidf_test)\n",
        "\n",
        "# Predict the labels for the tfidf vectorized data using a logistic regression model\n",
        "y_pred_logreg_tfidf = log_reg_tfidf.predict(tfidf_test)\n",
        "\n",
        "# Predict the labels for the tfidf vectorized data using a Random Forest Classifier\n",
        "y_pred_forest_tfidf = random_forest_tfidf.predict(tfidf_test)\n",
        "\n",
        "# Predict the labels for the tfidf vectorized data using a Naive Bayes Classifier\n",
        "y_pred_nb_tfidf = nb_classifier_tfidf.predict(tfidf_test)"
      ],
      "metadata": {
        "id": "8rj9hvifQvid"
      },
      "execution_count": null,
      "outputs": []
    },
    {
      "cell_type": "markdown",
      "source": [
        "Evaluate our Models with the Tfidf vectorized data"
      ],
      "metadata": {
        "id": "4hGqXe_xSkq7"
      }
    },
    {
      "cell_type": "code",
      "source": [
        "#SVM Evaluation\n",
        "# print(f\"SVM Evaluation:\")\n",
        "# Calculate and print the accuracy score\n",
        "# accuracy_svm_tfidf = accuracy_score(y_test, y_pred_svm_tfidf)\n",
        "# print(f\"Accuracy: {accuracy_svm_tfidf}\")\n",
        "\n",
        "#  Calculate and print the F1 score\n",
        "# f1_svm_tfidf = f1_score(y_test, y_pred_svm_tfidf, average='macro')\n",
        "# print(f\"F1 Score: {f1_svm_tfidf}\")\n",
        "\n",
        "#  Calculate and print the precision score\n",
        "# precision_svm_tfidf = precision_score(y_test, y_pred_svm_tfidf, average='macro')\n",
        "# print(f\"Precision: {precision_svm_tfidf}\")\n",
        "\n",
        "#  Calculate and print the recall score\n",
        "# recall_svm_tfidf = recall_score(y_test, y_pred_svm_tfidf, average='macro')\n",
        "# print(f\"Recall: {recall_svm_tfidf}\")\n",
        "\n",
        "# print(f\"---------------------------------------------\")\n",
        "\n",
        "print(f\"Logistic Regression Evaluation:\")\n",
        "#Logistic Regression Evaluation\n",
        "# Calculate and print the accuracy score\n",
        "accuracy_logreg_tfidf = accuracy_score(y_test, y_pred_logreg_tfidf)\n",
        "print(f\"Accuracy: {accuracy_logreg_tfidf}\")\n",
        "\n",
        "# Calculate and print the F1 score\n",
        "f1_logreg_tfidf = f1_score(y_test, y_pred_logreg_tfidf, average='macro')\n",
        "print(f\"F1 Score: {f1_logreg_tfidf}\")\n",
        "\n",
        "# Calculate and print the precision score\n",
        "precision_logreg_tfidf = precision_score(y_test, y_pred_logreg_tfidf, average='macro')\n",
        "print(f\"Precision: {precision_logreg_tfidf}\")\n",
        "\n",
        "# Calculate and print the recall score\n",
        "recall_logreg_tfidf = recall_score(y_test, y_pred_logreg_tfidf, average='macro')\n",
        "print(f\"Recall: {recall_logreg_tfidf}\")\n",
        "\n",
        "print(f\"---------------------------------------------\")\n",
        "\n",
        "print(f\"Random Forest Evaluation:\")\n",
        "#Random Forest Evaluation\n",
        "# Calculate and print the accuracy score\n",
        "accuracy_forest_tfidf = accuracy_score(y_test, y_pred_forest_tfidf)\n",
        "print(f\"Accuracy: {accuracy_forest_tfidf}\")\n",
        "\n",
        "# Calculate and print the F1 score\n",
        "f1_forest_tfidf = f1_score(y_test, y_pred_forest_tfidf, average='macro')\n",
        "print(f\"F1 Score: {f1_forest_tfidf}\")\n",
        "\n",
        "# Calculate and print the precision score\n",
        "precision_forest_tfidf = precision_score(y_test, y_pred_forest_tfidf, average='macro')\n",
        "print(f\"Precision: {precision_forest_tfidf}\")\n",
        "\n",
        "# Calculate and print the recall score\n",
        "recall_forest_tfidf = recall_score(y_test, y_pred_forest_tfidf, average='macro')\n",
        "print(f\"Recall: {recall_forest_tfidf}\")\n",
        "\n",
        "print(f\"---------------------------------------------\")\n",
        "\n",
        "print(f\"Naive Bayes Classifier Evaluation:\")\n",
        "#Logistic Regression Evaluation\n",
        "# Calculate and print the accuracy score\n",
        "accuracy_nb_tfidf = accuracy_score(y_test, y_pred_nb_tfidf)\n",
        "print(f\"Accuracy: {accuracy_nb_tfidf}\")\n",
        "\n",
        "# Calculate and print the F1 score\n",
        "f1_nb_tfidf = f1_score(y_test, y_pred_nb_tfidf, average='macro')\n",
        "print(f\"F1 Score: {f1_nb_tfidf}\")\n",
        "\n",
        "# Calculate and print the precision score\n",
        "precision_nb_tfidf = precision_score(y_test, y_pred_nb_tfidf, average='macro', zero_division=1)\n",
        "print(f\"Precision: {precision_nb_tfidf}\")\n",
        "\n",
        "# Calculate and print the recall score\n",
        "recall_nb_tfidf = recall_score(y_test, y_pred_nb_tfidf, average='macro', zero_division=1)\n",
        "print(f\"Recall: {recall_nb_tfidf}\")\n",
        "\n",
        "print(f\"---------------------------------------------\")"
      ],
      "metadata": {
        "id": "PEYomfwnSpnd"
      },
      "execution_count": null,
      "outputs": []
    },
    {
      "cell_type": "markdown",
      "source": [
        "#Train Models with Count Vectorizer"
      ],
      "metadata": {
        "id": "nEf17228Jrkf"
      }
    },
    {
      "cell_type": "code",
      "source": [
        "# Initialize a Support Vector Classifier (SVC) with a linear kernel\n",
        "# svm_linear_count = SVC(kernel='linear', C=1)\n",
        "\n",
        "# Train the classifier using the tfidf training data and training labels\n",
        "# svm_linear_count.fit(count_train, y_train)"
      ],
      "metadata": {
        "id": "M-TL_ovPJ6Iv"
      },
      "execution_count": null,
      "outputs": []
    },
    {
      "cell_type": "code",
      "source": [
        "# Initialize a Logistic Regression Model\n",
        "log_reg_count = LogisticRegression(C=1, solver='lbfgs', max_iter=1000)\n",
        "\n",
        "#Train the Linear Regression Model using the tfidf data\n",
        "log_reg_count.fit(count_train, y_train)"
      ],
      "metadata": {
        "id": "ACtLyIlXKS4-"
      },
      "execution_count": null,
      "outputs": []
    },
    {
      "cell_type": "code",
      "source": [
        "# Initialize a Random Forest Classifier\n",
        "random_forest_count = RandomForestClassifier(max_depth=None, n_estimators=100, random_state=42)\n",
        "\n",
        "# Fit the Random Forest Classifier on the training data\n",
        "random_forest_count.fit(count_train, y_train)"
      ],
      "metadata": {
        "id": "Cqd1BNtTKfwd"
      },
      "execution_count": null,
      "outputs": []
    },
    {
      "cell_type": "code",
      "source": [
        "# Initialize Naive Bayes Classifier\n",
        "nb_classifier_count = MultinomialNB()\n",
        "\n",
        "# Fit the Naive Bayes Classifier with the tfidf data\n",
        "nb_classifier_count.fit(count_train, y_train)"
      ],
      "metadata": {
        "id": "UOokv82WKkrW"
      },
      "execution_count": null,
      "outputs": []
    },
    {
      "cell_type": "markdown",
      "source": [
        "Make predictions with Count vectorized data"
      ],
      "metadata": {
        "id": "6Rjr3rWULXeO"
      }
    },
    {
      "cell_type": "code",
      "source": [
        "# Predict the labels for the count vectorized data using a linear SVM model\n",
        "# y_pred_svm_count = svm_linear_count.predict(count_test)\n",
        "\n",
        "# Predict the labels for the count vectorized data using a logistic regression model\n",
        "y_pred_logreg_count = log_reg_count.predict(count_test)\n",
        "\n",
        "# Predict the labels for the count vectorized data using a Random Forest Classifier\n",
        "y_pred_forest_count = random_forest_count.predict(count_test)\n",
        "\n",
        "# Predict the labels for the count vectorized data using a Naive Bayes Classifier\n",
        "y_pred_nb_count = nb_classifier_count.predict(count_test)"
      ],
      "metadata": {
        "id": "C1GJV5BRLcTF"
      },
      "execution_count": null,
      "outputs": []
    },
    {
      "cell_type": "markdown",
      "source": [
        "Evaluate our Models with the Count vectorized data"
      ],
      "metadata": {
        "id": "K3iHTK_DL7pE"
      }
    },
    {
      "cell_type": "code",
      "source": [
        "#SVM Evaluation\n",
        "# print(f\"SVM Evaluation:\")\n",
        "# Calculate and print the accuracy score\n",
        "# accuracy_svm_count = accuracy_score(y_test, y_pred_svm_count)\n",
        "# print(f\"Accuracy: {accuracy_svm_count}\")\n",
        "\n",
        "# Calculate and print the F1 score\n",
        "# f1_svm_count = f1_score(y_test, y_pred_svm_count, average='macro')\n",
        "# print(f\"F1 Score: {f1_svm_count}\")\n",
        "\n",
        "# Calculate and print the precision score\n",
        "# precision_svm_count = precision_score(y_test, y_pred_svm_count, average='macro')\n",
        "# print(f\"Precision: {precision_svm_count}\")\n",
        "\n",
        "# Calculate and print the recall score\n",
        "# recall_svm_count = recall_score(y_test, y_pred_svm_count, average='macro')\n",
        "# print(f\"Recall: {recall_svm_count}\")\n",
        "\n",
        "# print(f\"---------------------------------------------\")\n",
        "\n",
        "print(f\"Logistic Regression Evaluation:\")\n",
        "#Logistic Regression Evaluation\n",
        "# Calculate and print the accuracy score\n",
        "accuracy_logreg_count = accuracy_score(y_test, y_pred_logreg_count)\n",
        "print(f\"Accuracy: {accuracy_logreg_count}\")\n",
        "\n",
        "# Calculate and print the F1 score\n",
        "f1_logreg_count = f1_score(y_test, y_pred_logreg_count, average='macro')\n",
        "print(f\"F1 Score: {f1_logreg_count}\")\n",
        "\n",
        "# Calculate and print the precision score\n",
        "precision_logreg_count = precision_score(y_test, y_pred_logreg_count, average='macro')\n",
        "print(f\"Precision: {precision_logreg_count}\")\n",
        "\n",
        "# Calculate and print the recall score\n",
        "recall_logreg_count = recall_score(y_test, y_pred_logreg_count, average='macro')\n",
        "print(f\"Recall: {recall_logreg_count}\")\n",
        "\n",
        "print(f\"---------------------------------------------\")\n",
        "\n",
        "print(f\"Random Forest Evaluation:\")\n",
        "#Random Forest Evaluation\n",
        "# Calculate and print the accuracy score\n",
        "accuracy_forest_count = accuracy_score(y_test, y_pred_forest_count)\n",
        "print(f\"Accuracy: {accuracy_forest_count}\")\n",
        "\n",
        "# Calculate and print the F1 score\n",
        "f1_forest_count = f1_score(y_test, y_pred_forest_count, average='macro')\n",
        "print(f\"F1 Score: {f1_forest_count}\")\n",
        "\n",
        "# Calculate and print the precision score\n",
        "precision_forest_count = precision_score(y_test, y_pred_forest_count, average='macro')\n",
        "print(f\"Precision: {precision_forest_count}\")\n",
        "\n",
        "# Calculate and print the recall score\n",
        "recall_forest_count = recall_score(y_test, y_pred_forest_count, average='macro')\n",
        "print(f\"Recall: {recall_forest_count}\")\n",
        "\n",
        "print(f\"---------------------------------------------\")\n",
        "\n",
        "print(f\"Naive Bayes Classifier Evaluation:\")\n",
        "#Logistic Regression Evaluation\n",
        "# Calculate and print the accuracy score\n",
        "accuracy_nb_count = accuracy_score(y_test, y_pred_nb_count)\n",
        "print(f\"Accuracy: {accuracy_nb_count}\")\n",
        "\n",
        "# Calculate and print the F1 score\n",
        "f1_nb_count = f1_score(y_test, y_pred_nb_count, average='macro')\n",
        "print(f\"F1 Score: {f1_nb_count}\")\n",
        "\n",
        "# Calculate and print the precision score\n",
        "precision_nb_count = precision_score(y_test, y_pred_nb_count, average='macro', zero_division=1)\n",
        "print(f\"Precision: {precision_nb_count}\")\n",
        "\n",
        "# Calculate and print the recall score\n",
        "recall_nb_count = recall_score(y_test, y_pred_nb_count, average='macro', zero_division=1)\n",
        "print(f\"Recall: {recall_nb_count}\")\n",
        "\n",
        "print(f\"---------------------------------------------\")"
      ],
      "metadata": {
        "id": "iEE2lnQ2L_1t"
      },
      "execution_count": null,
      "outputs": []
    },
    {
      "cell_type": "code",
      "source": [
        "parameters_log = {'C': [0.1, 1, 10, 100]}\n",
        "\n",
        "# Initialize a Logistic Regression Classifier\n",
        "log_reg_count = LogisticRegression(C=1, solver='lbfgs', max_iter=1000)\n",
        "\n",
        "# Set up GridSearchCV with the SVC, parameter grid, 5-fold cross-validation, and F1 scoring\n",
        "grid_log_reg_count = GridSearchCV(log_reg_count, parameters_log, cv=5, scoring=\"f1\")\n",
        "\n",
        "# Train the GridSearchCV on the scaled training data\n",
        "grid_log_reg_count.fit(count_train, y_train)"
      ],
      "metadata": {
        "id": "b3MkS7zBX07T"
      },
      "execution_count": null,
      "outputs": []
    },
    {
      "cell_type": "code",
      "source": [
        "print(f\"Best Parameters: {grid_log_reg_count.best_params_}\")\n",
        "print(f\"Best F1 - Score: {grid_log_reg_count.best_score_}\")"
      ],
      "metadata": {
        "id": "4D2nn7CLX3ZM"
      },
      "execution_count": null,
      "outputs": []
    }
  ]
}